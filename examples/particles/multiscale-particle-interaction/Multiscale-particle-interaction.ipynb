{
 "cells": [
  {
   "cell_type": "markdown",
   "metadata": {},
   "source": [
    "# Multiscale particle-particle interaction\n",
    "\n",
    "The simple particle-particle interaction example had no support for multiscale particles where particles reside on different levels. Consequently, it also did not really support adaptive meshes. This might not have been obvious, as we started with a regular particle configuration and invariant cut-off radii, but it became a problem after a while when the particles start to cluster."
   ]
  },
  {
   "cell_type": "code",
   "execution_count": null,
   "metadata": {},
   "outputs": [],
   "source": [
    "\n",
    "import os\n",
    "\n",
    "import peano4\n",
    "import peano4.dastgen2\n",
    "import peano4.toolbox\n",
    "import peano4.toolbox.particles\n",
    "import dastgen2\n"
   ]
  },
  {
   "cell_type": "code",
   "execution_count": null,
   "metadata": {},
   "outputs": [],
   "source": [
    "project = peano4.Project( [\"examples\", \"particles\"], \"multiscale-particle-interaction\", \".\" )"
   ]
  },
  {
   "cell_type": "code",
   "execution_count": null,
   "metadata": {},
   "outputs": [],
   "source": [
    "#build_mode = peano4.output.CompileMode.Asserts\n",
    "build_mode = peano4.output.CompileMode.Release\n",
    "project.output.makefile.parse_configure_script_outcome( \"../../..\" )\n",
    "project.output.makefile.set_mode( build_mode )"
   ]
  },
  {
   "cell_type": "markdown",
   "metadata": {},
   "source": [
    "## Model the particle\n",
    "\n",
    "No changes anywhere here."
   ]
  },
  {
   "cell_type": "code",
   "execution_count": null,
   "metadata": {},
   "outputs": [],
   "source": [
    "particle  = peano4.toolbox.particles.Particle( \"Particle\" )\n",
    "particle.data.add_attribute( peano4.dastgen2.Peano4DoubleArray(\"v\",\"Dimensions\") )\n",
    "particles = peano4.toolbox.particles.ParticleSet( particle )"
   ]
  },
  {
   "cell_type": "code",
   "execution_count": null,
   "metadata": {},
   "outputs": [],
   "source": [
    "project.datamodel.add_global_object(particle)\n",
    "project.datamodel.add_vertex(particles)"
   ]
  },
  {
   "cell_type": "markdown",
   "metadata": {},
   "source": [
    "## Model the setup phases\n",
    "\n",
    "The setup remains almost unchanged. I give all particles a biased random initial velocity. This will introduce an adaptive mesh, as particles will cluster in the bottom left part of the 2d domain."
   ]
  },
  {
   "cell_type": "code",
   "execution_count": null,
   "metadata": {},
   "outputs": [],
   "source": [
    "mesh_size = 0.2\n",
    "\n",
    "particle_tree_analysis = peano4.toolbox.particles.ParticleTreeAnalysis(particles)\n",
    "project.datamodel.add_cell(particle_tree_analysis.cell_marker)   # read docu of ParticleTreeAnalysis\n",
    "\n",
    "create_grid = peano4.solversteps.Step( name=\"CreateGrid\", add_user_defined_actions=False )\n",
    "create_grid.add_action_set( peano4.toolbox.CreateRegularGrid(mesh_size) )\n",
    "create_grid.use_vertex(particles)\n",
    "create_grid.use_cell(particle_tree_analysis.cell_marker)\n",
    "project.solversteps.add_step(create_grid)"
   ]
  },
  {
   "cell_type": "code",
   "execution_count": null,
   "metadata": {},
   "outputs": [],
   "source": [
    "initialisation_snippet = \"\"\"\n",
    " // we could do something intelligent here, but we actually\n",
    " // just set the cut-off radius\n",
    " particle->setCutOffRadius(0.001);\n",
    " particle->setV(0,-((double) rand() / (RAND_MAX)));\n",
    " particle->setV(1,-((double) rand() / (RAND_MAX)));\n",
    "\"\"\"\n",
    "\n",
    "init_setup = peano4.solversteps.Step( name=\"Init\", add_user_defined_actions=False )\n",
    "init_setup.use_vertex(particles)\n",
    "init_setup.use_cell(particle_tree_analysis.cell_marker)\n",
    "init_setup.add_action_set( peano4.toolbox.particles.UpdateParticleGridAssociation(particles) )\n",
    "init_setup.add_action_set( peano4.toolbox.particles.InsertRandomParticlesIntoUnrefinedCells(\n",
    "  particle_set=particles,\n",
    "  average_distance_between_particles=mesh_size/10,\n",
    "  initialisation_call=initialisation_snippet,\n",
    "  noise=True ))\n",
    "init_setup.add_action_set( particle_tree_analysis )\n",
    "project.solversteps.add_step(init_setup)"
   ]
  },
  {
   "cell_type": "code",
   "execution_count": null,
   "metadata": {},
   "outputs": [],
   "source": [
    "print_solution = peano4.solversteps.Step( \"Plot\", add_user_defined_actions=False )\n",
    "print_solution.use_vertex(particles)\n",
    "print_solution.use_cell(particle_tree_analysis.cell_marker)\n",
    "print_solution.add_action_set( particle_tree_analysis )\n",
    "print_solution.add_action_set( peano4.toolbox.PlotGridInPeanoBlockFormat( filename=\"grid\", time_stamp_evaluation=peano4.toolbox.PlotGridInPeanoBlockFormat.CountTimeSteps ) )\n",
    "print_solution.add_action_set( peano4.toolbox.particles.PlotParticlesInVTKFormat( \"particles\", particles, time_stamp_evaluation=peano4.toolbox.particles.PlotParticlesInVTKFormat.CountTimeSteps ) )\n",
    "project.solversteps.add_step(print_solution)\n"
   ]
  },
  {
   "cell_type": "markdown",
   "metadata": {},
   "source": [
    "## Particle behaviour\n",
    "\n",
    "We stick to exactly the same particle behaviour from a code point of view. However, we use a pre-manufactured toolbox  into which we inject the actual code. The important fact here is that we now do not simply rely on the particles of the adjacent vertices of a cell. Instead, we work with active and local particle sets."
   ]
  },
  {
   "cell_type": "code",
   "execution_count": null,
   "metadata": {},
   "outputs": [],
   "source": [
    "from IPython.display import Image\n",
    "!ls ../../python/peano4/toolbox/particles\n",
    "Image(\"../../../python/peano4/toolbox/particles/dependency_sets.png\")"
   ]
  },
  {
   "cell_type": "markdown",
   "metadata": {},
   "source": [
    "To understand what the individual particles in the sketch above are supposed to mean and how they are maintained and exposed to the user, please consult the documentation of the ParticleParticleInteraction class in the Python toolbox directory. It contains a lot explanations."
   ]
  },
  {
   "cell_type": "code",
   "execution_count": null,
   "metadata": {},
   "outputs": [],
   "source": [
    "move_particles = peano4.solversteps.Step( \"Move\", add_user_defined_actions=False )\n",
    "move_particles.use_vertex(particles)\n",
    "move_particles.use_cell(particle_tree_analysis.cell_marker)\n",
    "move_particles.add_action_set( peano4.toolbox.particles.UpdateParticleGridAssociation(particles) )\n",
    "move_particles.add_action_set( peano4.toolbox.particles.ParticleParticleInteraction(\n",
    "  particle_set=particles,\n",
    "  cell_compute_kernel=\"\"\"\n",
    "if ( marker.isContained( localParticle->getX() ) ) {\n",
    "  tarch::la::Vector<Dimensions,double> dist = activeParticle->getX() - localParticle->getX();\n",
    "  if ( tarch::la::greater( tarch::la::norm2(dist),0.0 ) ) {\n",
    "    const double mass1 = localParticle->getCutOffRadius();   // made-up hack, no real physics. But illustrates principle\n",
    "    const double mass2 = activeParticle->getCutOffRadius();\n",
    "    double forceQuantity = mass1 * mass2 / tarch::la::norm2(dist) / tarch::la::norm2(dist);\n",
    "    localParticle->setV(\n",
    "      localParticle->getV() + 0.001 * forceQuantity / tarch::la::norm2(dist) * dist\n",
    "    );\n",
    "  }\n",
    "}\n",
    "\"\"\",\n",
    "  touch_vertex_first_time_compute_kernel=\"localParticle->setMoveState( globaldata::Particle::MoveState::NotMovedYet );\",\n",
    "  touch_vertex_last_time_compute_kernel=\"\"\"\n",
    "\n",
    "  const double timeStepSize = 0.0001;\n",
    "  if (\n",
    "    localParticle->getMoveState()!=globaldata::Particle::MoveState::Moved\n",
    "    and\n",
    "    localParticle->getParallelState()==globaldata::Particle::ParallelState::Local\n",
    "  ) {\n",
    "    localParticle->setX( localParticle->getX() + timeStepSize * localParticle->getV() );\n",
    "    for (int d=0; d<Dimensions; d++) {\n",
    "      if ( localParticle->getX()(d)<0.0 ) {\n",
    "        localParticle->setV(d, std::abs(localParticle->getV()(d)));\n",
    "      }\n",
    "      if ( localParticle->getX()(d)>1.0 ) {\n",
    "        localParticle->setV(d, -std::abs(localParticle->getV()(d)));\n",
    "      }\n",
    "    }\n",
    "    localParticle->setMoveState( globaldata::Particle::MoveState::Moved );\n",
    "  }\n",
    "\"\"\"\n",
    "  ))\n",
    "move_particles.add_action_set( peano4.toolbox.particles.ParticleAMR(particles,particle_tree_analysis,min_particles_per_cell=10) )\n",
    "move_particles.add_action_set( particle_tree_analysis )\n",
    "project.solversteps.add_step(move_particles)"
   ]
  },
  {
   "cell_type": "markdown",
   "metadata": {},
   "source": [
    "## Generate the actual C++ code\n",
    "\n",
    "Next, we generate the actual Peano 4 C++ code:"
   ]
  },
  {
   "cell_type": "code",
   "execution_count": null,
   "metadata": {
    "scrolled": true
   },
   "outputs": [],
   "source": [
    "project.generate()"
   ]
  },
  {
   "cell_type": "markdown",
   "metadata": {},
   "source": [
    "## Write the main\n",
    "\n",
    "This time, the main is slightly more sophisticated. We continue to set up the grid as before, but then we always run 10 iterations of the Move, i.e. we do 10 time steps, and then we plot. The whole sequence is repeated a couple of times. Have a look into the main file in the repo to see the whole snippet:\n",
    "\n",
    "    ...\n",
    "    for (int i=0; i<100; i++) {\n",
    "      for (int j=0; j<10; j++) {\n",
    "        examples::particles::observers::Move moveObserver;\n",
    "        peano4::parallel::SpacetreeSet::getInstance().traverse(moveObserver);\n",
    "      }\n",
    "      logInfo( \"main()\", \"plot\" )\n",
    "      examples::particles::observers::Plot plotTimeStepObserver;\n",
    "      peano4::parallel::SpacetreeSet::getInstance().traverse(plotTimeStepObserver);\n",
    "    }\n"
   ]
  },
  {
   "cell_type": "markdown",
   "metadata": {},
   "source": [
    "## Write the actual particle movement\n",
    "\n",
    "We will implement the actual particle movement ourselves. For this, we have asked Move to be an action set with manual user code, and indeed we get a Move class in the actions subdirectory once we have triggered the build process. This is, same as main, an empty blueprint. We can alter it, and Peano won't overwrite it anymore after that. If we delete it, the API will regenerate it however. The current example has already a pre-prepared Move, so it won't be empty, but you might want to delete it and regenerate it to see what you get in the first place.\n",
    "\n",
    "Here's what I changed in the Move class: Move is a standard class which defines an action set: There's a fixed number of callbacks that are invoked by Peano, and we can use these to inject behaviour. I only alter (or plug into) three actions: \n",
    "\n",
    "### First access to vertex\n",
    "\n",
    "Particles are associated to vertices. So when I hit a vertex the first time, I also hit the particles associated with it for the first time. I run over them, and set their status to NotMovedYet:\n",
    "\n",
    "     for (auto& p: fineGridVertexParticleSet) {\n",
    "       p->setMoveState( globaldata::Particle::MoveState::NotMovedYet );\n",
    "     }\n",
    "\n",
    "### Hit cell\n",
    "\n",
    "When I hit a cell, I actually evaluate the \"forces\" and alter the particles' velocities. I do this only for the particles that reside within the cell, as I know that a neighbouring cell will either be hit after or before the current one. If I modified all particles associated with the 2^d vertices of a cell, I'd modify particles multiple times. \n",
    "\n",
    "Please note that I only change the particles' attributes. I do not change their position. That means, the logical topology of all data, i.e. how they are assigned to vertices remains valid and intact. This means that we don't care how Peano runs through the cells. All data remains valid.\n",
    "\n",
    "Please see touchCellFirstTime() for details.\n",
    "\n",
    "\n",
    "### Last access to vertex\n",
    "\n",
    "When I hit a vertex for the last time, I know that all 2^d adjacent cells have been \"visited\". Therefore, I can now finally update the vertex position. The vertex won't be used by neighbouring cells anymore and we are fine. Again, I do this only for particles that haven't moved yet. Otherwise we might move a particle, it ends up around another vertex that we haven't processed yet and then it is moved again.\n",
    "\n",
    "    const double timeStepSize = 0.0001;\n",
    "    for (auto& p: fineGridVertexParticleSet) {\n",
    "      if (\n",
    "        p->getMoveState()!=globaldata::Particle::MoveState::Moved\n",
    "        and\n",
    "        p->getParallelState()==globaldata::Particle::ParallelState::Local\n",
    "      ) {\n",
    "        p->setX( p->getX() + timeStepSize * p->getV() );\n",
    "        for (int d=0; d<Dimensions; d++) {\n",
    "          if ( p->getX()(d)<0.0 ) {\n",
    "            p->setV(d, std::abs(p->getV()(d)));\n",
    "          }\n",
    "          if ( p->getX()(d)>1.0 ) {\n",
    "            p->setV(d, -std::abs(p->getV()(d)));\n",
    "          }\n",
    "        }\n",
    "      }\n",
    "      p->setMoveState( globaldata::Particle::MoveState::Moved );\n",
    "    }\n",
    "\n",
    "You see, we also add reflecting boundary conditions.\n"
   ]
  },
  {
   "cell_type": "markdown",
   "metadata": {},
   "source": [
    "## Build the code"
   ]
  },
  {
   "cell_type": "code",
   "execution_count": null,
   "metadata": {},
   "outputs": [],
   "source": [
    "project.build()"
   ]
  },
  {
   "cell_type": "markdown",
   "metadata": {},
   "source": [
    "## Run code"
   ]
  },
  {
   "cell_type": "code",
   "execution_count": null,
   "metadata": {},
   "outputs": [],
   "source": [
    "output_files = [ f for f in os.listdir(\".\") if f.endswith(\".peano-patch-file\") or f.endswith(\".vtu\") or f.endswith(\".pvd\") ]\n",
    "for f in output_files:\n",
    "  os.remove(f)\n"
   ]
  },
  {
   "cell_type": "code",
   "execution_count": null,
   "metadata": {},
   "outputs": [],
   "source": [
    "# success = project.run( args=[\"--threads\", \"1\"], prefix=[\"mpirun\", \"-n\", \"1\"] )\n",
    "!./peano4"
   ]
  },
  {
   "cell_type": "markdown",
   "metadata": {},
   "source": [
    "# Wrap-up\n",
    "\n",
    "Our introductions here follow a standard Peano development pattern. Very often, we write codes via the right action sets. Once these have converged and are mature, we refactor them out into the Python API as toolset. That's how the whole particle toolset emerged. This way, they can be used easily by other users. Consequently, our next example on multiscale particles won't use a hand-written action set anymore. It will be use a pre-manufactured action set from the toolset and insert code snippets into this one.\n",
    "\n",
    "If you study the code en detail (and let it run for a while), you'll recognise that something is wrong. This is where we need multiscale data ..."
   ]
  },
  {
   "cell_type": "code",
   "execution_count": null,
   "metadata": {},
   "outputs": [],
   "source": []
  }
 ],
 "metadata": {
  "finalized": {
   "timestamp": 1602621102736,
   "trusted": true
  },
  "kernelspec": {
   "display_name": "Python 3 (ipykernel)",
   "language": "python",
   "name": "python3"
  },
  "language_info": {
   "codemirror_mode": {
    "name": "ipython",
    "version": 3
   },
   "file_extension": ".py",
   "mimetype": "text/x-python",
   "name": "python",
   "nbconvert_exporter": "python",
   "pygments_lexer": "ipython3",
   "version": "3.8.12"
  },
  "latex_envs": {
   "LaTeX_envs_menu_present": true,
   "autoclose": false,
   "autocomplete": true,
   "bibliofile": "biblio.bib",
   "cite_by": "apalike",
   "current_citInitial": 1,
   "eqLabelWithNumbers": true,
   "eqNumInitial": 1,
   "hotkeys": {
    "equation": "Ctrl-E",
    "itemize": "Ctrl-I"
   },
   "labels_anchors": false,
   "latex_user_defs": false,
   "report_style_numbering": false,
   "user_envs_cfg": false
  }
 },
 "nbformat": 4,
 "nbformat_minor": 4
}

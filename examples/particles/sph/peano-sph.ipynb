{
 "cells": [
  {
   "cell_type": "markdown",
   "metadata": {},
   "source": [
    "# Sedov blast with SPH\n",
    "\n",
    "A simple demonstration how to use the pidt (particle in dual tree) scheme\n",
    "within Peano 4.\n",
    "\n",
    "We will simulate a 2D Sedov blast using SPH."
   ]
  },
  {
   "cell_type": "markdown",
   "metadata": {},
   "source": [
    "Create a project and configure it to end up in a subnamespace (and thus subdirectory). "
   ]
  },
  {
   "cell_type": "code",
   "execution_count": 1,
   "metadata": {},
   "outputs": [
    {
     "output_type": "stream",
     "name": "stdout",
     "text": [
      "DaStGen 2 (C) www.peano-framework.org\nPeano 4 (C) www.peano-framework.org\n"
     ]
    }
   ],
   "source": [
    "import os\n",
    "\n",
    "import peano4\n",
    "import peano4.dastgen2\n",
    "import peano4.toolbox\n",
    "import peano4.toolbox.particles\n",
    "import dastgen2\n",
    "\n",
    "from peano4.solversteps.ActionSet import ActionSet"
   ]
  },
  {
   "cell_type": "code",
   "execution_count": 2,
   "metadata": {},
   "outputs": [],
   "source": [
    "project = peano4.Project([\"peanosph\"], \"peanosph\", \".\")"
   ]
  },
  {
   "cell_type": "markdown",
   "metadata": {},
   "source": [
    "## Prepare code\n",
    "\n",
    "Peano's API does not know which settings to use on the present system. To make it copy/clone the settings identified by ./configure, we ask it to parse the generated configuration scripts. \n"
   ]
  },
  {
   "cell_type": "code",
   "execution_count": 3,
   "metadata": {},
   "outputs": [
    {
     "output_type": "stream",
     "name": "stdout",
     "text": [
      "parse configure outcome ../../../src/Makefile to extract compile settings\nused C++ compiler is g++\nused Fortran compiler is gfortran\n"
     ]
    }
   ],
   "source": [
    "project.output.makefile.parse_configure_script_outcome(\"../../..\")"
   ]
  },
  {
   "cell_type": "markdown",
   "metadata": {},
   "source": [
    "## Model the particle\n",
    "\n",
    "We create the particle through the toolbox. A particle by definition has a position, so we just need to add everything else for SPH:\n",
    "- Velocity array\n",
    "- Acceleration array\n",
    "- Mass\n",
    "- Density\n",
    "- Pressure\n",
    "- Internal Energy (U)\n",
    "- Time derivative of internal energy (U')\n",
    "- Kernel smoothing length\n",
    "\n",
    "We add a marker to indicate the next calculation step required for a particle so we don't perform the same step on a particle twice in a row.\n",
    "\n",
    "We also add an array to store the the new position of a particle after a timestep is completed. We will use this to move the particle at the start of the subsequent timestep."
   ]
  },
  {
   "cell_type": "code",
   "execution_count": 4,
   "metadata": {},
   "outputs": [
    {
     "output_type": "stream",
     "name": "stdout",
     "text": [
      "Warning: particle Particle is not (yet) added to project via add_global_object() and thus has invalid DoF association\n"
     ]
    }
   ],
   "source": [
    "particle = peano4.toolbox.particles.Particle(\"Particle\")\n",
    "\n",
    "v_attr = peano4.dastgen2.Peano4DoubleArray(\"v\",\"Dimensions\")\n",
    "a_attr = peano4.dastgen2.Peano4DoubleArray(\"a\",\"Dimensions\")\n",
    "mass_attr = dastgen2.attributes.Double(\"mass\")\n",
    "density_attr = dastgen2.attributes.Double(\"density\")\n",
    "pressure_attr = dastgen2.attributes.Double(\"pressure\")\n",
    "u_attr = dastgen2.attributes.Double(\"u\")\n",
    "uDash_attr = dastgen2.attributes.Double(\"uDash\")\n",
    "smoothingLength_attr = dastgen2.attributes.Double(\"smoothingLength\")\n",
    "step_attr = dastgen2.attributes.Enumeration(\"step\", [\"calcDensity\", \"calcAccel\", \"move\"])\n",
    "newX_attr = peano4.dastgen2.Peano4DoubleArray(\"newX\", \"Dimensions\")\n",
    "\n",
    "particle.data.add_attribute(v_attr)\n",
    "particle.data.add_attribute(a_attr)\n",
    "particle.data.add_attribute(mass_attr)\n",
    "particle.data.add_attribute(density_attr)\n",
    "particle.data.add_attribute(pressure_attr)\n",
    "particle.data.add_attribute(u_attr)\n",
    "particle.data.add_attribute(uDash_attr)\n",
    "particle.data.add_attribute(smoothingLength_attr)\n",
    "particle.data.add_attribute(step_attr)\n",
    "particle.data.add_attribute(newX_attr)\n",
    "\n",
    "particles = peano4.toolbox.particles.ParticleSet(particle)"
   ]
  },
  {
   "cell_type": "markdown",
   "metadata": {},
   "source": [
    "We create the plotter for the particle, providing it with the attributes we want to plot per particle."
   ]
  },
  {
   "cell_type": "code",
   "execution_count": 5,
   "metadata": {},
   "outputs": [],
   "source": [
    "particle_plotter = peano4.toolbox.particles.PlotParticlesInVTKFormat( \"particles\", particles )\n",
    "particle_plotter.add_attribute_to_plot(density_attr, 1)\n",
    "particle_plotter.add_attribute_to_plot(pressure_attr, 1)\n",
    "particle_plotter.add_attribute_to_plot(u_attr, 1)"
   ]
  },
  {
   "cell_type": "markdown",
   "metadata": {},
   "source": [
    "This particle has to be added to the project. This way the project knows that we are working with this guy. We associate the particle with the vertices, as we work with the pidt (particle in dual tree) algorithm. "
   ]
  },
  {
   "cell_type": "code",
   "execution_count": 6,
   "metadata": {},
   "outputs": [],
   "source": [
    "project.datamodel.add_global_object(particle)\n",
    "project.datamodel.add_vertex(particles)"
   ]
  },
  {
   "cell_type": "markdown",
   "metadata": {},
   "source": [
    "## Export global constants\n",
    "\n",
    "There are plenty of constant simulation paramaters to specify for our SPH simulation - we do that here. "
   ]
  },
  {
   "cell_type": "code",
   "execution_count": 7,
   "metadata": {},
   "outputs": [],
   "source": [
    "from numpy import pi\n",
    "\n",
    "GAMMA = str(5/3)\n",
    "DYNAMIC_VISCOSITY = \"0.00001\"\n",
    "CUBIC_SPLINE_SIGMA = str(10/(7*pi))\n",
    "TARGET_PARTICLE_SIZE = \"0.01\"\n",
    "ENERGY_SPIKE = \"0.1\"\n",
    "SPIKE_RADIUS = \"0.08\"\n",
    "REST_DENSITY = \"1\"\n",
    "INITIAL_H = \"0.02\"\n",
    "\n",
    "DOMAIN_OFFSET = \"{0.0, 0.0}\"\n",
    "DOMAIN_SIZE = \"{1.0, 1.0}\"\n",
    "EXPLOSION_CENTRE = \"{0.5, 0.5}\"\n",
    "\n",
    "project.constants.export_const_with_type(\"GAMMA\", GAMMA, \"double\")\n",
    "project.constants.export_const_with_type(\"DYNAMIC_VISCOSITY\", DYNAMIC_VISCOSITY, \"double\")\n",
    "project.constants.export_const_with_type(\"CUBIC_SPLINE_SIGMA\", CUBIC_SPLINE_SIGMA, \"double\")\n",
    "project.constants.export_const_with_type(\"TARGET_PARTICLE_SIZE\", TARGET_PARTICLE_SIZE, \"double\")\n",
    "project.constants.export_const_with_type(\"ENERGY_SPIKE\", ENERGY_SPIKE, \"double\")\n",
    "project.constants.export_const_with_type(\"SPIKE_RADIUS\", SPIKE_RADIUS, \"double\")\n",
    "project.constants.export_const_with_type(\"REST_DENSITY\", REST_DENSITY, \"double\")\n",
    "project.constants.export_const_with_type(\"INITIAL_H\", INITIAL_H, \"double\")\n",
    "\n",
    "project.constants.export_const_with_type(\"DOMAIN_OFFSET\", DOMAIN_OFFSET, \"auto\")\n",
    "project.constants.export_const_with_type(\"DOMAIN_SIZE\", DOMAIN_SIZE, \"auto\")\n",
    "project.constants.export_const_with_type(\"EXPLOSION_CENTRE\", EXPLOSION_CENTRE, \"auto\")"
   ]
  },
  {
   "cell_type": "markdown",
   "metadata": {},
   "source": [
    "## Model the algorithmic steps we rely on\n",
    "\n",
    "When we model the algorithmic steps we rely on, we use a number of pre-defined action sets from the particle toolbox. First and foremost, we use an analysed tree grammar, i.e. some marking mechanism for the tree nodes. This helps us to guide the AMR - which is the second ingredient that we use. Finally we use the plotting routines for particles from the toolbox."
   ]
  },
  {
   "cell_type": "code",
   "execution_count": 8,
   "metadata": {},
   "outputs": [],
   "source": [
    "particle_tree_analysis = peano4.toolbox.particles.ParticleTreeAnalysis(particles)\n",
    "project.datamodel.add_cell(particle_tree_analysis.cell_marker)   # read docu of ParticleTreeAnalysis"
   ]
  },
  {
   "cell_type": "markdown",
   "metadata": {},
   "source": [
    "### Grid/experiment setup\n",
    "\n",
    "The first thing we will do is to create a set of particles and add them to the grid."
   ]
  },
  {
   "cell_type": "code",
   "execution_count": 9,
   "metadata": {},
   "outputs": [],
   "source": [
    "create_grid = peano4.solversteps.Step(\"CreateGrid\")\n",
    "create_grid.use_vertex(particles)\n",
    "create_grid.use_cell(particle_tree_analysis.cell_marker)\n",
    "create_grid.add_action_set(peano4.toolbox.particles.UpdateParticleGridAssociation(particles))\n",
    "create_grid.add_action_set(peano4.toolbox.particles.ParticleAMR(particles,particle_tree_analysis))\n",
    "create_grid.add_action_set(peano4.toolbox.CreateRegularGrid(0.2))\n",
    "create_grid.add_action_set(particle_tree_analysis)\n",
    "project.solversteps.add_step(create_grid)"
   ]
  },
  {
   "source": [
    "## Calculate densities at particles\n",
    "\n",
    "In the first phase of a timestep we move particles to their new positions calculated in the previous timestep.\n",
    "\n",
    "For each particle we also calculate the fluid density at its position based on the positions and masses of the particles in its local neighbourhood.\n",
    "\n",
    "From the density and the internal energy we calculate the fluid pressure at the particle's position."
   ],
   "cell_type": "markdown",
   "metadata": {}
  },
  {
   "cell_type": "code",
   "execution_count": 10,
   "metadata": {},
   "outputs": [],
   "source": [
    "calc_densities = peano4.solversteps.Step(\"CalcDensities\")\n",
    "calc_densities.use_vertex(particles)\n",
    "calc_densities.use_cell(particle_tree_analysis.cell_marker)\n",
    "calc_densities.add_action_set(peano4.toolbox.particles.UpdateParticleGridAssociation(particles))\n",
    "calc_densities.add_action_set(peano4.toolbox.particles.ParticleAMR(particles,particle_tree_analysis))\n",
    "calc_densities.add_action_set(particle_tree_analysis)\n",
    "\n",
    "cell_compute_kernel = f\"\"\"\n",
    "//Run over local set\n",
    "for (auto& p: localParticles) {{\n",
    "  // Pick only those particles that reside within the current cell, otherwise\n",
    "  // we would update each particle up to 2^d times. I do not exploit the symmetry\n",
    "  // of forces here\n",
    "  if ( marker.isContained( p->getNewX() ) ) {{\n",
    "    if (p->getStep() == peanosph::globaldata::Particle::Step::calcDensity) {{\n",
    "      \n",
    "      const double h = p->getSmoothingLength();\n",
    "      double densitySum = 0.0;\n",
    "      // int numNbrs = 0;\n",
    "      for (auto& pp: activeParticles) {{\n",
    "        const double dist = tarch::la::norm2(p->getNewX() - pp->getNewX());\n",
    "        if (dist < p->getCutOffRadius()) {{\n",
    "          // if (p != pp) {{ numNbrs++; }}\n",
    "          const double q = dist / h;\n",
    "          double W = {CUBIC_SPLINE_SIGMA} / (h*h);\n",
    "          if (q >= 2) {{\n",
    "            W *= 0;\n",
    "          }} else if (q >= 1) {{\n",
    "            W *= (0.25 * (2 - q)*(2 - q)*(2 - q));\n",
    "          }} else {{\n",
    "            W *= (1 - 1.5*q*q*(1 - q/2));\n",
    "          }}\n",
    "\n",
    "          densitySum += pp->getMass() * W;\n",
    "        }}\n",
    "      }}\n",
    "\n",
    "      // p->setNumNbrs(numNbrs);\n",
    "\n",
    "      p->setDensity(densitySum);\n",
    "      double eosPressure = p->getDensity() * p->getU() * ({GAMMA} - 1);\n",
    "      p->setPressure((eosPressure < 0) ? 0 : eosPressure);\n",
    "      p->setStep(peanosph::globaldata::Particle::Step::calcAccel);\n",
    "    \n",
    "    }} else {{\n",
    "      // This means a particle is being touched for the second time\n",
    "    }}\n",
    "  }}\n",
    "}}\n",
    "\"\"\"\n",
    "\n",
    "touch_vertex_first_time_compute_kernel = \"\"\"\n",
    "\"\"\"\n",
    "\n",
    "calc_densities.add_action_set( peano4.toolbox.particles.ParticleParticleInteraction(particles,cell_compute_kernel,touch_vertex_first_time_compute_kernel))\n",
    "project.solversteps.add_step(calc_densities)"
   ]
  },
  {
   "cell_type": "markdown",
   "metadata": {},
   "source": [
    "## Calculate particle accelerations\n",
    "\n",
    "Each particle has its acceleration calculated using the densities, pressures and velocities of its neighbours.\n",
    "\n",
    "We also calculate the time derivative of the internal energy."
   ]
  },
  {
   "cell_type": "code",
   "execution_count": 11,
   "metadata": {},
   "outputs": [],
   "source": [
    "move_particles = peano4.solversteps.Step(\"CalcAccels\")\n",
    "move_particles.use_vertex(particles)\n",
    "move_particles.use_cell(particle_tree_analysis.cell_marker)\n",
    "move_particles.add_action_set(peano4.toolbox.particles.UpdateParticleGridAssociation(particles))\n",
    "move_particles.add_action_set(peano4.toolbox.particles.ParticleAMR(particles,particle_tree_analysis))\n",
    "move_particles.add_action_set(particle_tree_analysis)\n",
    "\n",
    "cell_compute_kernel = f\"\"\"\n",
    "//Run over local set\n",
    "for (auto& p: localParticles) {{\n",
    "  // Pick only those particles that reside within the current cell, otherwise\n",
    "  // we would update each particle up to 2^d times. I do not exploit the symmetry\n",
    "  // of forces here\n",
    "  if ( marker.isContained( p->getX() ) ) {{\n",
    "    if (p->getStep() == peanosph::globaldata::Particle::Step::calcAccel) {{\n",
    "      \n",
    "      const double h = p->getSmoothingLength();\n",
    "      tarch::la::Vector<Dimensions,double> accel(0.0);\n",
    "      double uDash = 0.0;\n",
    "      const double pPOverRhoSquared = p->getPressure() / (p->getDensity() * p->getDensity());\n",
    "\n",
    "      int numNbrs = 0;\n",
    "      for (auto& pp: activeParticles) {{\n",
    "        if (p!=pp) {{\n",
    "          tarch::la::Vector<Dimensions,double> distVec = p->getX() - pp->getX();\n",
    "          const double dist = tarch::la::norm2(distVec);\n",
    "          if (dist < p->getCutOffRadius()) {{\n",
    "            // numNbrs++;\n",
    "            const double mass = pp->getMass();\n",
    "            const double ppPOverRhoSquared = pp->getPressure() / (pp->getDensity() * pp->getDensity());\n",
    "\n",
    "            const double q = dist / h;\n",
    "            double delW = {CUBIC_SPLINE_SIGMA} / (h*h);\n",
    "            if (q >= 2) {{\n",
    "              delW *= 0;\n",
    "            }} else if (q >= 1) {{\n",
    "              delW *= (-0.75 * ((2 - q)*(2 - q)));\n",
    "            }} else {{\n",
    "              delW *= (0.75*q * (3*q - 4));\n",
    "            }}\n",
    "\n",
    "            tarch::la::Vector<Dimensions,double> gradW = (delW / (dist*h)) * distVec;\n",
    "            \n",
    "            // Add acceleration from pressure\n",
    "            accel -= mass * (pPOverRhoSquared + ppPOverRhoSquared) * gradW;\n",
    "            assertion2( std::isfinite(accel(0)), pp->toString(), p->toString() );\n",
    "            assertion2( std::isfinite(accel(1)), pp->toString(), p->toString() );\n",
    "\n",
    "            // Add acceleration from viscosity\n",
    "            assertion2( std::isfinite(dist), pp->toString(), p->toString() );\n",
    "            accel += (mass * 2 * tarch::la::norm2(gradW) * {DYNAMIC_VISCOSITY}) * (pp->getV() - p->getV()) / (p->getDensity() * pp->getDensity() * dist);\n",
    "\n",
    "            // Update energy per mass derivative (uDash)\n",
    "            uDash += mass * (pPOverRhoSquared + ppPOverRhoSquared) * tarch::la::dot((p->getV() - pp->getV()), gradW) / 2;\n",
    "          }}\n",
    "        }}\n",
    "      }}\n",
    "\n",
    "      // p->setNumNbrs(numNbrs);\n",
    "\n",
    "      assertion1( std::isfinite(accel(0)), p->toString() );\n",
    "      assertion1( std::isfinite(accel(1)), p->toString() );\n",
    "      p->setA(accel);\n",
    "      p->setUDash(uDash);\n",
    "      p->setStep(peanosph::globaldata::Particle::Step::move);\n",
    "\n",
    "    }} else {{\n",
    "      // This means the particle is being touched for the second time.\n",
    "    }}\n",
    "  }}\n",
    "}}\n",
    "\"\"\"\n",
    "\n",
    "touch_vertex_first_time_compute_kernel = \"\"\"\n",
    "for (auto& p: localParticles) {\n",
    " // p is a pointer to a local particle. I don't do anything with it in this example.\n",
    "}\n",
    "\"\"\"\n",
    "\n",
    "move_particles.add_action_set( peano4.toolbox.particles.ParticleParticleInteraction(particles,cell_compute_kernel,touch_vertex_first_time_compute_kernel))\n",
    "project.solversteps.add_step(move_particles)"
   ]
  },
  {
   "cell_type": "markdown",
   "metadata": {},
   "source": [
    "We finally have to update the particle velocities and internal energies as well as calculate the new particle positions. For this, I don't rely on the injected code (I could so). Instead, I wait for the Python script to run once and the implement the updates manually in the class within actionsets."
   ]
  },
  {
   "cell_type": "markdown",
   "metadata": {},
   "source": [
    "### Plots setup\n",
    "\n",
    "I will have to plot the outcome (or any snapshot). With particles, each of my dumps produces two types of files: particle data and mesh data. For the mesh, I rely on the toolbox's grid plotting. The plot is the step where we don't need the AMR criterion - the particles don't move here after all. We however run the tree analysis, so it is up-to-date for the next step."
   ]
  },
  {
   "cell_type": "code",
   "execution_count": 12,
   "metadata": {},
   "outputs": [],
   "source": [
    "print_solution = peano4.solversteps.Step( \"Plot\" )\n",
    "print_solution.use_vertex(particles)\n",
    "print_solution.use_cell(particle_tree_analysis.cell_marker)\n",
    "#print_solution.remove_all_actions()\n",
    "print_solution.add_action_set( peano4.toolbox.particles.UpdateParticleGridAssociation(particles) )\n",
    "print_solution.add_action_set( particle_tree_analysis )\n",
    "print_solution.add_action_set( peano4.toolbox.PlotGridInPeanoBlockFormat( \"grid\", None ) )\n",
    "print_solution.add_action_set( particle_plotter )\n",
    "project.solversteps.add_step(print_solution)\n"
   ]
  },
  {
   "cell_type": "markdown",
   "metadata": {},
   "source": [
    "## Generate the actual C++ code\n",
    "\n",
    "Standard triad of operations. You can skip the first two steps if you want as the script then will automatically invoke the previous steps. The other way round, it is always admissible to only generate stuff, e.g., but to build and run the project through a command line."
   ]
  },
  {
   "cell_type": "code",
   "execution_count": 13,
   "metadata": {
    "scrolled": true
   },
   "outputs": [
    {
     "output_type": "stream",
     "name": "stdout",
     "text": [
      "generate all code ...\n",
      "user has to modify class CreateGrid in actions directory manually \n",
      "user has to modify class CalcDensities in actions directory manually \n",
      "user has to modify class CalcAccels in actions directory manually \n",
      "user has to modify class Plot in actions directory manually \n",
      "generated peanosph-main.cpp\n",
      "write ./Makefile\n",
      "write ./vertexdata/ParticleSet.h (generated from template /run/media/dani/Dani_USB_SSD/Projects/MiniSPH/Peano/python/peano4/toolbox/particles/ParticleSet.template.h)\n",
      "write ./vertexdata/ParticleSet.cpp (generated from template /run/media/dani/Dani_USB_SSD/Projects/MiniSPH/Peano/python/peano4/toolbox/particles/ParticleSet.template.cpp)\n",
      "write ./repositories/DataRepository.h\n",
      "write ./repositories/DataRepository.cpp\n",
      "write ././observers/CreateGrid2peano4_toolbox_particles_UpdateParticleGridAssociation1.h\n",
      "write ././observers/CreateGrid2peano4_toolbox_particles_UpdateParticleGridAssociation1.cpp\n",
      "write ././observers/CreateGrid2peano4_toolbox_particles_ParticleAMR2.h\n",
      "write ././observers/CreateGrid2peano4_toolbox_particles_ParticleAMR2.cpp\n",
      "write ././observers/CreateGrid2peano4_toolbox_CreateRegularGrid3.h\n",
      "write ././observers/CreateGrid2peano4_toolbox_CreateRegularGrid3.cpp\n",
      "write ././observers/CreateGrid2peano4_toolbox_particles_ParticleTreeAnalysis4.h\n",
      "write ././observers/CreateGrid2peano4_toolbox_particles_ParticleTreeAnalysis4.cpp\n",
      "write ././observers/CreateGrid.h\n",
      "write ././observers/CreateGrid.cpp\n",
      "write ././observers/CalcDensities2peano4_toolbox_particles_UpdateParticleGridAssociation1.h\n",
      "write ././observers/CalcDensities2peano4_toolbox_particles_UpdateParticleGridAssociation1.cpp\n",
      "write ././observers/CalcDensities2peano4_toolbox_particles_ParticleAMR2.h\n",
      "write ././observers/CalcDensities2peano4_toolbox_particles_ParticleAMR2.cpp\n",
      "write ././observers/CalcDensities2peano4_toolbox_particles_ParticleTreeAnalysis3.h\n",
      "write ././observers/CalcDensities2peano4_toolbox_particles_ParticleTreeAnalysis3.cpp\n",
      "write ././observers/CalcDensities2peano4_toolbox_particles_ParticleParticleInteraction4.h\n",
      "write ././observers/CalcDensities2peano4_toolbox_particles_ParticleParticleInteraction4.cpp\n",
      "write ././observers/CalcDensities.h\n",
      "write ././observers/CalcDensities.cpp\n",
      "write ././observers/CalcAccels2peano4_toolbox_particles_UpdateParticleGridAssociation1.h\n",
      "write ././observers/CalcAccels2peano4_toolbox_particles_UpdateParticleGridAssociation1.cpp\n",
      "write ././observers/CalcAccels2peano4_toolbox_particles_ParticleAMR2.h\n",
      "write ././observers/CalcAccels2peano4_toolbox_particles_ParticleAMR2.cpp\n",
      "write ././observers/CalcAccels2peano4_toolbox_particles_ParticleTreeAnalysis3.h\n",
      "write ././observers/CalcAccels2peano4_toolbox_particles_ParticleTreeAnalysis3.cpp\n",
      "write ././observers/CalcAccels2peano4_toolbox_particles_ParticleParticleInteraction4.h\n",
      "write ././observers/CalcAccels2peano4_toolbox_particles_ParticleParticleInteraction4.cpp\n",
      "write ././observers/CalcAccels.h\n",
      "write ././observers/CalcAccels.cpp\n",
      "write ././observers/Plot2peano4_toolbox_particles_UpdateParticleGridAssociation1.h\n",
      "write ././observers/Plot2peano4_toolbox_particles_UpdateParticleGridAssociation1.cpp\n",
      "write ././observers/Plot2peano4_toolbox_particles_ParticleTreeAnalysis2.h\n",
      "write ././observers/Plot2peano4_toolbox_particles_ParticleTreeAnalysis2.cpp\n",
      "write ././observers/Plot2peano4_toolbox_PlotGridInPeanoBlockFormat3.h\n",
      "write ././observers/Plot2peano4_toolbox_PlotGridInPeanoBlockFormat3.cpp\n",
      "write ././observers/Plot2peano4_toolbox_particles_PlotParticlesInVTKFormat4.h\n",
      "write ././observers/Plot2peano4_toolbox_particles_PlotParticlesInVTKFormat4.cpp\n",
      "write ././observers/Plot.h\n",
      "write ././observers/Plot.cpp\n",
      "write ./repositories/StepRepository.h\n",
      "write ./repositories/StepRepository.cpp\n",
      "write ./Constants.h\n",
      "generation complete\n"
     ]
    }
   ],
   "source": [
    "project.generate()"
   ]
  },
  {
   "cell_type": "code",
   "execution_count": 14,
   "metadata": {
    "scrolled": true
   },
   "outputs": [
    {
     "output_type": "stream",
     "name": "stdout",
     "text": [
      "clean up project ...\n",
      "clean complete\n",
      "start to compile with concurrency level of 4 ...\n",
      "g++ -std=c++0x -g -O0 -DPeanoDebug=4  -g -O2 -fopenmp -DDimensions=2 -I. -I../../../src -c -o celldata/ParticleSetCellStatistics.o celldata/ParticleSetCellStatistics.cpp\n",
      "g++ -std=c++0x -g -O0 -DPeanoDebug=4  -g -O2 -fopenmp -DDimensions=2 -I. -I../../../src -c -o vertexdata/ParticleSet.o vertexdata/ParticleSet.cpp\n",
      "g++ -std=c++0x -g -O0 -DPeanoDebug=4  -g -O2 -fopenmp -DDimensions=2 -I. -I../../../src -c -o globaldata/Particle.o globaldata/Particle.cpp\n",
      "g++ -std=c++0x -g -O0 -DPeanoDebug=4  -g -O2 -fopenmp -DDimensions=2 -I. -I../../../src -c -o repositories/DataRepository.o repositories/DataRepository.cpp\n",
      "g++ -std=c++0x -g -O0 -DPeanoDebug=4  -g -O2 -fopenmp -DDimensions=2 -I. -I../../../src -c -o actions/CreateGrid.o actions/CreateGrid.cpp\n",
      "g++ -std=c++0x -g -O0 -DPeanoDebug=4  -g -O2 -fopenmp -DDimensions=2 -I. -I../../../src -c -o observers/CreateGrid2peano4_toolbox_particles_UpdateParticleGridAssociation1.o observers/CreateGrid2peano4_toolbox_particles_UpdateParticleGridAssociation1.cpp\n",
      "g++ -std=c++0x -g -O0 -DPeanoDebug=4  -g -O2 -fopenmp -DDimensions=2 -I. -I../../../src -c -o observers/CreateGrid2peano4_toolbox_particles_ParticleAMR2.o observers/CreateGrid2peano4_toolbox_particles_ParticleAMR2.cpp\n",
      "g++ -std=c++0x -g -O0 -DPeanoDebug=4  -g -O2 -fopenmp -DDimensions=2 -I. -I../../../src -c -o observers/CreateGrid2peano4_toolbox_CreateRegularGrid3.o observers/CreateGrid2peano4_toolbox_CreateRegularGrid3.cpp\n",
      "g++ -std=c++0x -g -O0 -DPeanoDebug=4  -g -O2 -fopenmp -DDimensions=2 -I. -I../../../src -c -o observers/CreateGrid2peano4_toolbox_particles_ParticleTreeAnalysis4.o observers/CreateGrid2peano4_toolbox_particles_ParticleTreeAnalysis4.cpp\n",
      "g++ -std=c++0x -g -O0 -DPeanoDebug=4  -g -O2 -fopenmp -DDimensions=2 -I. -I../../../src -c -o observers/CreateGrid.o observers/CreateGrid.cpp\n",
      "g++ -std=c++0x -g -O0 -DPeanoDebug=4  -g -O2 -fopenmp -DDimensions=2 -I. -I../../../src -c -o actions/CalcDensities.o actions/CalcDensities.cpp\n",
      "g++ -std=c++0x -g -O0 -DPeanoDebug=4  -g -O2 -fopenmp -DDimensions=2 -I. -I../../../src -c -o observers/CalcDensities2peano4_toolbox_particles_UpdateParticleGridAssociation1.o observers/CalcDensities2peano4_toolbox_particles_UpdateParticleGridAssociation1.cpp\n",
      "g++ -std=c++0x -g -O0 -DPeanoDebug=4  -g -O2 -fopenmp -DDimensions=2 -I. -I../../../src -c -o observers/CalcDensities2peano4_toolbox_particles_ParticleAMR2.o observers/CalcDensities2peano4_toolbox_particles_ParticleAMR2.cpp\n",
      "g++ -std=c++0x -g -O0 -DPeanoDebug=4  -g -O2 -fopenmp -DDimensions=2 -I. -I../../../src -c -o observers/CalcDensities2peano4_toolbox_particles_ParticleTreeAnalysis3.o observers/CalcDensities2peano4_toolbox_particles_ParticleTreeAnalysis3.cpp\n",
      "g++ -std=c++0x -g -O0 -DPeanoDebug=4  -g -O2 -fopenmp -DDimensions=2 -I. -I../../../src -c -o observers/CalcDensities2peano4_toolbox_particles_ParticleParticleInteraction4.o observers/CalcDensities2peano4_toolbox_particles_ParticleParticleInteraction4.cpp\n",
      "g++ -std=c++0x -g -O0 -DPeanoDebug=4  -g -O2 -fopenmp -DDimensions=2 -I. -I../../../src -c -o observers/CalcDensities.o observers/CalcDensities.cpp\n",
      "g++ -std=c++0x -g -O0 -DPeanoDebug=4  -g -O2 -fopenmp -DDimensions=2 -I. -I../../../src -c -o actions/CalcAccels.o actions/CalcAccels.cpp\n",
      "g++ -std=c++0x -g -O0 -DPeanoDebug=4  -g -O2 -fopenmp -DDimensions=2 -I. -I../../../src -c -o observers/CalcAccels2peano4_toolbox_particles_UpdateParticleGridAssociation1.o observers/CalcAccels2peano4_toolbox_particles_UpdateParticleGridAssociation1.cpp\n",
      "g++ -std=c++0x -g -O0 -DPeanoDebug=4  -g -O2 -fopenmp -DDimensions=2 -I. -I../../../src -c -o observers/CalcAccels2peano4_toolbox_particles_ParticleAMR2.o observers/CalcAccels2peano4_toolbox_particles_ParticleAMR2.cpp\n",
      "g++ -std=c++0x -g -O0 -DPeanoDebug=4  -g -O2 -fopenmp -DDimensions=2 -I. -I../../../src -c -o observers/CalcAccels2peano4_toolbox_particles_ParticleTreeAnalysis3.o observers/CalcAccels2peano4_toolbox_particles_ParticleTreeAnalysis3.cpp\n",
      "g++ -std=c++0x -g -O0 -DPeanoDebug=4  -g -O2 -fopenmp -DDimensions=2 -I. -I../../../src -c -o observers/CalcAccels2peano4_toolbox_particles_ParticleParticleInteraction4.o observers/CalcAccels2peano4_toolbox_particles_ParticleParticleInteraction4.cpp\n",
      "g++ -std=c++0x -g -O0 -DPeanoDebug=4  -g -O2 -fopenmp -DDimensions=2 -I. -I../../../src -c -o observers/CalcAccels.o observers/CalcAccels.cpp\n",
      "g++ -std=c++0x -g -O0 -DPeanoDebug=4  -g -O2 -fopenmp -DDimensions=2 -I. -I../../../src -c -o actions/Plot.o actions/Plot.cpp\n",
      "g++ -std=c++0x -g -O0 -DPeanoDebug=4  -g -O2 -fopenmp -DDimensions=2 -I. -I../../../src -c -o observers/Plot2peano4_toolbox_particles_UpdateParticleGridAssociation1.o observers/Plot2peano4_toolbox_particles_UpdateParticleGridAssociation1.cpp\n",
      "g++ -std=c++0x -g -O0 -DPeanoDebug=4  -g -O2 -fopenmp -DDimensions=2 -I. -I../../../src -c -o observers/Plot2peano4_toolbox_particles_ParticleTreeAnalysis2.o observers/Plot2peano4_toolbox_particles_ParticleTreeAnalysis2.cpp\n",
      "g++ -std=c++0x -g -O0 -DPeanoDebug=4  -g -O2 -fopenmp -DDimensions=2 -I. -I../../../src -c -o observers/Plot2peano4_toolbox_PlotGridInPeanoBlockFormat3.o observers/Plot2peano4_toolbox_PlotGridInPeanoBlockFormat3.cpp\n",
      "g++ -std=c++0x -g -O0 -DPeanoDebug=4  -g -O2 -fopenmp -DDimensions=2 -I. -I../../../src -c -o observers/Plot2peano4_toolbox_particles_PlotParticlesInVTKFormat4.o observers/Plot2peano4_toolbox_particles_PlotParticlesInVTKFormat4.cpp\n",
      "g++ -std=c++0x -g -O0 -DPeanoDebug=4  -g -O2 -fopenmp -DDimensions=2 -I. -I../../../src -c -o observers/Plot.o observers/Plot.cpp\n",
      "g++ -std=c++0x -g -O0 -DPeanoDebug=4  -g -O2 -fopenmp -DDimensions=2 -I. -I../../../src -c -o repositories/StepRepository.o repositories/StepRepository.cpp\n",
      "g++ -std=c++0x -g -O0 -DPeanoDebug=4  -g -O2 -fopenmp -DDimensions=2 -I. -I../../../src -c -o peanosph-main.o peanosph-main.cpp\n",
      "g++   celldata/ParticleSetCellStatistics.o vertexdata/ParticleSet.o globaldata/Particle.o repositories/DataRepository.o ./actions/CreateGrid.o ./observers/CreateGrid2peano4_toolbox_particles_UpdateParticleGridAssociation1.o ./observers/CreateGrid2peano4_toolbox_particles_ParticleAMR2.o ./observers/CreateGrid2peano4_toolbox_CreateRegularGrid3.o ./observers/CreateGrid2peano4_toolbox_particles_ParticleTreeAnalysis4.o ./observers/CreateGrid.o ./actions/CalcDensities.o ./observers/CalcDensities2peano4_toolbox_particles_UpdateParticleGridAssociation1.o ./observers/CalcDensities2peano4_toolbox_particles_ParticleAMR2.o ./observers/CalcDensities2peano4_toolbox_particles_ParticleTreeAnalysis3.o ./observers/CalcDensities2peano4_toolbox_particles_ParticleParticleInteraction4.o ./observers/CalcDensities.o ./actions/CalcAccels.o ./observers/CalcAccels2peano4_toolbox_particles_UpdateParticleGridAssociation1.o ./observers/CalcAccels2peano4_toolbox_particles_ParticleAMR2.o ./observers/CalcAccels2peano4_toolbox_particles_ParticleTreeAnalysis3.o ./observers/CalcAccels2peano4_toolbox_particles_ParticleParticleInteraction4.o ./observers/CalcAccels.o ./actions/Plot.o ./observers/Plot2peano4_toolbox_particles_UpdateParticleGridAssociation1.o ./observers/Plot2peano4_toolbox_particles_ParticleTreeAnalysis2.o ./observers/Plot2peano4_toolbox_PlotGridInPeanoBlockFormat3.o ./observers/Plot2peano4_toolbox_particles_PlotParticlesInVTKFormat4.o ./observers/Plot.o repositories/StepRepository.o peanosph-main.o   -fopenmp  -L../../../src  -lPeano4Core2d_debug -lTarch_debug  -fopenmp  -o peano4 \n",
      "\n",
      "compile completed successfully\n"
     ]
    }
   ],
   "source": [
    "project.build()"
   ]
  },
  {
   "cell_type": "markdown",
   "metadata": {},
   "source": [
    "## Implement the actual code\n",
    "\n",
    "Don't forget to insert\n",
    "\n",
    "<pre>\n",
    "#include \"../globaldata/Particle.h\"\n",
    "</pre>"
   ]
  },
  {
   "cell_type": "markdown",
   "metadata": {},
   "source": [
    "## Run code\n",
    "\n",
    "Before we run any code, we clean up, i.e. remove all old output files."
   ]
  },
  {
   "cell_type": "code",
   "execution_count": 15,
   "metadata": {},
   "outputs": [],
   "source": [
    "output_files = [ f for f in os.listdir(\".\") if f.endswith(\".peano-patch-file\") or f.endswith(\".vtu\") or f.endswith(\".pvd\") ]\n",
    "for f in output_files:\n",
    "  os.remove(f)\n"
   ]
  },
  {
   "cell_type": "markdown",
   "metadata": {},
   "source": [
    "#success = project.run( args=[], prefix=[\"mpirun\", \"-n\", \"1\"] )"
   ]
  },
  {
   "cell_type": "code",
   "execution_count": null,
   "metadata": {
    "tags": []
   },
   "outputs": [],
   "source": [
    "#success = project.run( args=[\"--threads\", \"1\"], prefix=[\"mpirun\", \"-n\", \"1\"] )\n",
    "#success = project.run(args=[\"--threads\", \"4\"], prefix=[])\n",
    "#!./peano4 --threads=1\n",
    "!./peano4"
   ]
  },
  {
   "cell_type": "markdown",
   "metadata": {},
   "source": [
    "## Visualise outcome\n",
    "\n",
    "There are different ways how to visualise the grid data, as it is written in Peano's mesh format. The particle data in contrast is plain vtu which Paraview can render directly. I do recommend to use Peano's Python scripts within Paraview to visualise the mesh. For this, ensure that your Pythonpath points to Peano's python subdirectory before you launch Paraview. Within the vis tool, open the Python terminal and type in:\n",
    "\n",
    "```\n",
    "import peano4.visualisation\n",
    "visualiser = peano4.visualisation.Visualiser( \"grid.peano-patch-file\" )\n",
    "visualiser.display()\n",
    "```\n",
    "\n",
    "By typing in \n",
    "```\n",
    "visualiser.select_dataset(x)\n",
    "visualiser.reload()\n",
    "```\n",
    "\n",
    "you can visualise snapshot x. At the moment, we have not yet integrated our Python vis with Paraview's timestepping/animation interface.\n"
   ]
  },
  {
   "cell_type": "code",
   "execution_count": null,
   "metadata": {},
   "outputs": [],
   "source": []
  }
 ],
 "metadata": {
  "finalized": {
   "timestamp": 1602621102736,
   "trusted": true
  },
  "kernelspec": {
   "display_name": "Python 3",
   "language": "python",
   "name": "python3"
  },
  "language_info": {
   "codemirror_mode": {
    "name": "ipython",
    "version": 3
   },
   "file_extension": ".py",
   "mimetype": "text/x-python",
   "name": "python",
   "nbconvert_exporter": "python",
   "pygments_lexer": "ipython3",
   "version": "3.7.8-final"
  },
  "latex_envs": {
   "LaTeX_envs_menu_present": true,
   "autoclose": false,
   "autocomplete": true,
   "bibliofile": "biblio.bib",
   "cite_by": "apalike",
   "current_citInitial": 1,
   "eqLabelWithNumbers": true,
   "eqNumInitial": 1,
   "hotkeys": {
    "equation": "Ctrl-E",
    "itemize": "Ctrl-I"
   },
   "labels_anchors": false,
   "latex_user_defs": false,
   "report_style_numbering": false,
   "user_envs_cfg": false
  }
 },
 "nbformat": 4,
 "nbformat_minor": 4
}
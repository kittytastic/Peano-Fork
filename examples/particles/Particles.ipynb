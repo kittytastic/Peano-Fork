{
 "cells": [
  {
   "cell_type": "markdown",
   "metadata": {},
   "source": [
    "# Particles in a dual tree\n",
    "\n",
    "A very simple demonstration how to use the pidt (particle in dual tree) scheme\n",
    "within Peano 4."
   ]
  },
  {
   "cell_type": "markdown",
   "metadata": {},
   "source": [
    "Create a project and configure it to end up in a subnamespace (and thus subdirectory). "
   ]
  },
  {
   "cell_type": "code",
   "execution_count": null,
   "metadata": {},
   "outputs": [],
   "source": [
    "import os\n",
    "\n",
    "import peano4\n",
    "import peano4.dastgen2\n",
    "import peano4.toolbox\n",
    "import peano4.toolbox.particles\n",
    "import dastgen2\n"
   ]
  },
  {
   "cell_type": "code",
   "execution_count": null,
   "metadata": {},
   "outputs": [],
   "source": [
    "project = peano4.Project( [\"examples\", \"particles\"], \"particles\", \".\" )"
   ]
  },
  {
   "cell_type": "markdown",
   "metadata": {},
   "source": [
    "## Prepare code\n",
    "\n",
    "Peano's API does not know which settings to use on the present system. To make it copy/clone the settings identified by ./configure, we ask it to parse the generated configuration scripts. \n"
   ]
  },
  {
   "cell_type": "code",
   "execution_count": null,
   "metadata": {},
   "outputs": [],
   "source": [
    "project.output.makefile.parse_configure_script_outcome( \"../..\" )"
   ]
  },
  {
   "cell_type": "markdown",
   "metadata": {},
   "source": [
    "## Model the particle\n",
    "\n",
    "We create the particle through the toolbox. A particle by definition has a position. So the only thing we have to add is a velocity. We use Peano's double array to have full support of Peano's vector classes, and instead of saying that this array had two or three entries, we parameterise it through the symbol Dimensions."
   ]
  },
  {
   "cell_type": "code",
   "execution_count": null,
   "metadata": {},
   "outputs": [],
   "source": [
    "particle  = peano4.toolbox.particles.Particle( \"Particle\" )\n",
    "particle.data.add_attribute( peano4.dastgen2.Peano4DoubleArray(\"v\",\"Dimensions\") )\n",
    "particles = peano4.toolbox.particles.ParticleSet( particle )"
   ]
  },
  {
   "cell_type": "markdown",
   "metadata": {},
   "source": [
    "This particle has to be added to the project. This way the project knows that we are working with this guy. We associate the particle with the vertices, as we work with the pidt (particle in dual tree) algorithm. "
   ]
  },
  {
   "cell_type": "code",
   "execution_count": null,
   "metadata": {},
   "outputs": [],
   "source": [
    "project.datamodel.add_global_object(particle)\n",
    "project.datamodel.add_vertex(particles)"
   ]
  },
  {
   "cell_type": "markdown",
   "metadata": {},
   "source": [
    "## Model the algorithmic steps we rely on\n",
    "\n",
    "When we model the algorithmic steps we rely on, we use a number of pre-defined action sets from the particle toolbox. First and foremost, we use an analysed tree grammar, i.e. some marking mechanism for the tree nodes. This helps us to guide the AMR - which is the second ingredient that we use. Finally we use the plotting routines for particles from the toolbox."
   ]
  },
  {
   "cell_type": "code",
   "execution_count": null,
   "metadata": {},
   "outputs": [],
   "source": [
    "particle_tree_analysis = peano4.toolbox.particles.ParticleTreeAnalysis(particles)\n",
    "project.datamodel.add_cell(particle_tree_analysis.cell_marker)   # read docu of ParticleTreeAnalysis"
   ]
  },
  {
   "cell_type": "markdown",
   "metadata": {},
   "source": [
    "### Grid/experiment setup\n",
    "\n",
    "The first thing we will do is to create a set of particles and add them to the grid."
   ]
  },
  {
   "cell_type": "code",
   "execution_count": null,
   "metadata": {},
   "outputs": [],
   "source": [
    "create_grid = peano4.solversteps.Step( \"CreateGrid\" )\n",
    "create_grid.use_vertex(particles)\n",
    "create_grid.use_cell(particle_tree_analysis.cell_marker)\n",
    "create_grid.add_action_set( particle_tree_analysis )\n",
    "create_grid.add_action_set( peano4.toolbox.particles.ParticleDensityAMR(particle_tree_analysis) )\n",
    "project.solversteps.add_step(create_grid)"
   ]
  },
  {
   "cell_type": "markdown",
   "metadata": {},
   "source": [
    "## Move particles around\n",
    "\n",
    "We'll just give each particle a random position and velocity and move them around following this velocity. That is, we don't make the particles interact with each other et al."
   ]
  },
  {
   "cell_type": "code",
   "execution_count": null,
   "metadata": {},
   "outputs": [],
   "source": [
    "move_particles = peano4.solversteps.Step( \"MoveParticles\" )\n",
    "move_particles.use_vertex(particles)\n",
    "move_particles.use_cell(particle_tree_analysis.cell_marker)\n",
    "move_particles.add_action_set( particle_tree_analysis )\n",
    "move_particles.add_action_set( peano4.toolbox.particles.ParticleDensityAMR(particle_tree_analysis) )\n",
    "project.solversteps.add_step(move_particles)"
   ]
  },
  {
   "cell_type": "markdown",
   "metadata": {},
   "source": [
    "### Plots setup\n",
    "\n",
    "I will have to plot the outcome (or any snapshot). With particles, each of my dumps produces two types of files: particle data and mesh data. For the mesh, I rely on the toolbox's grid plotting. The plot is the step where we don't need the AMR criterion - the particles don't move here after all. We however run the tree analysis, so it is up-to-date for the next step."
   ]
  },
  {
   "cell_type": "code",
   "execution_count": null,
   "metadata": {},
   "outputs": [],
   "source": [
    "print_solution = peano4.solversteps.Step( \"Plot\" )\n",
    "print_solution.use_vertex(particles)\n",
    "print_solution.use_cell(particle_tree_analysis.cell_marker)\n",
    "print_solution.remove_all_actions()\n",
    "print_solution.add_action_set( particle_tree_analysis )\n",
    "print_solution.add_action_set( peano4.toolbox.PlotGridInPeanoBlockFormat( \"grid\", None ) )\n",
    "print_solution.add_action_set( peano4.toolbox.particles.PlotParticlesInVTKFormat( \"particles\", particles ) )\n",
    "project.solversteps.add_step(print_solution)\n"
   ]
  },
  {
   "cell_type": "markdown",
   "metadata": {},
   "source": [
    "## Generate the actual C++ code\n",
    "\n",
    "Standard triad of operations. You can skip the first two steps if you want as the script then will automatically invoke the previous steps. The other way round, it is always admissible to only generate stuff, e.g., but to build and run the project through a command line."
   ]
  },
  {
   "cell_type": "code",
   "execution_count": null,
   "metadata": {},
   "outputs": [],
   "source": [
    "project.generate()\n",
    "project.build()"
   ]
  },
  {
   "cell_type": "markdown",
   "metadata": {},
   "source": [
    "## Implement the actual code\n",
    "\n",
    "Don't forget to insert\n",
    "\n",
    "<pre>\n",
    "#include \"../globaldata/Particle.h\"\n",
    "</pre>"
   ]
  },
  {
   "cell_type": "code",
   "execution_count": null,
   "metadata": {},
   "outputs": [],
   "source": []
  },
  {
   "cell_type": "markdown",
   "metadata": {},
   "source": [
    "## Run code"
   ]
  },
  {
   "cell_type": "code",
   "execution_count": null,
   "metadata": {},
   "outputs": [],
   "source": [
    "#success = project.run( args=[], prefix=[\"mpirun\", \"-n\", \"1\"] )"
   ]
  },
  {
   "cell_type": "code",
   "execution_count": null,
   "metadata": {},
   "outputs": [],
   "source": []
  },
  {
   "cell_type": "code",
   "execution_count": null,
   "metadata": {},
   "outputs": [],
   "source": []
  },
  {
   "cell_type": "code",
   "execution_count": null,
   "metadata": {},
   "outputs": [],
   "source": []
  }
 ],
 "metadata": {
  "finalized": {
   "timestamp": 1602621102736,
   "trusted": true
  },
  "kernelspec": {
   "display_name": "Python 3",
   "language": "python",
   "name": "python3"
  },
  "language_info": {
   "codemirror_mode": {
    "name": "ipython",
    "version": 3
   },
   "file_extension": ".py",
   "mimetype": "text/x-python",
   "name": "python",
   "nbconvert_exporter": "python",
   "pygments_lexer": "ipython3",
   "version": "3.8.5"
  },
  "latex_envs": {
   "LaTeX_envs_menu_present": true,
   "autoclose": false,
   "autocomplete": true,
   "bibliofile": "biblio.bib",
   "cite_by": "apalike",
   "current_citInitial": 1,
   "eqLabelWithNumbers": true,
   "eqNumInitial": 1,
   "hotkeys": {
    "equation": "Ctrl-E",
    "itemize": "Ctrl-I"
   },
   "labels_anchors": false,
   "latex_user_defs": false,
   "report_style_numbering": false,
   "user_envs_cfg": false
  }
 },
 "nbformat": 4,
 "nbformat_minor": 4
}

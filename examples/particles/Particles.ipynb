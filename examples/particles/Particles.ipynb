{
 "cells": [
  {
   "cell_type": "markdown",
   "metadata": {},
   "source": [
    "# Particles in a dual tree\n",
    "\n",
    "A very simple demonstration how to use the pidt (particle in dual tree) scheme\n",
    "within Peano 4."
   ]
  },
  {
   "cell_type": "markdown",
   "metadata": {},
   "source": [
    "Create a project and configure it to end up in a subnamespace (and thus subdirectory). "
   ]
  },
  {
   "cell_type": "code",
   "execution_count": null,
   "metadata": {},
   "outputs": [],
   "source": [
    "import os\n",
    "\n",
    "import peano4\n",
    "import peano4.dastgen2\n",
    "import peano4.toolbox\n",
    "import peano4.toolbox.particles\n",
    "import dastgen2\n"
   ]
  },
  {
   "cell_type": "code",
   "execution_count": null,
   "metadata": {},
   "outputs": [],
   "source": [
    "project = peano4.Project( [\"examples\", \"particles\"], \"particles\", \".\" )"
   ]
  },
  {
   "cell_type": "markdown",
   "metadata": {},
   "source": [
    "## Prepare code\n",
    "\n",
    "Peano's API does not know which settings to use on the present system. To make it copy/clone the settings identified by ./configure, we ask it to parse the generated configuration scripts. \n"
   ]
  },
  {
   "cell_type": "code",
   "execution_count": null,
   "metadata": {},
   "outputs": [],
   "source": [
    "project.output.makefile.parse_configure_script_outcome( \"../..\" )"
   ]
  },
  {
   "cell_type": "markdown",
   "metadata": {},
   "source": [
    "## Model the particle\n",
    "\n",
    "We create the particle through the toolbox. A particle by definition has a position. So the only thing we have to add is a velocity. We use Peano's double array to have full support of Peano's vector classes, and instead of saying that this array had two or three entries, we parameterise it through the symbol Dimensions."
   ]
  },
  {
   "cell_type": "code",
   "execution_count": null,
   "metadata": {},
   "outputs": [],
   "source": [
    "particle  = peano4.toolbox.particles.Particle( \"Particle\" )\n",
    "particle.data.add_attribute( peano4.dastgen2.Peano4DoubleArray(\"v\",\"Dimensions\") )\n",
    "particles = peano4.toolbox.particles.ParticleSet( particle )"
   ]
  },
  {
   "cell_type": "markdown",
   "metadata": {},
   "source": [
    "This particle has to be added to the project. This way the project knows that we are working with this guy. We associate the particle with the vertices, as we work with the pidt (particle in dual tree) algorithm. "
   ]
  },
  {
   "cell_type": "code",
   "execution_count": null,
   "metadata": {},
   "outputs": [],
   "source": [
    "project.datamodel.add_global_object(particle)\n",
    "project.datamodel.add_vertex(particles)"
   ]
  },
  {
   "cell_type": "markdown",
   "metadata": {},
   "source": [
    "## Model the algorithmic steps we rely on\n",
    "\n",
    "When we model the algorithmic steps we rely on, we use a number of pre-defined action sets from the particle toolbox. First and foremost, we use an analysed tree grammar, i.e. some marking mechanism for the tree nodes. This helps us to guide the AMR - which is the second ingredient that we use. Finally we use the plotting routines for particles from the toolbox."
   ]
  },
  {
   "cell_type": "code",
   "execution_count": null,
   "metadata": {},
   "outputs": [],
   "source": [
    "particle_tree_analysis = peano4.toolbox.particles.ParticleTreeAnalysis(particles)\n",
    "project.datamodel.add_cell(particle_tree_analysis.cell_marker)   # read docu of ParticleTreeAnalysis"
   ]
  },
  {
   "cell_type": "markdown",
   "metadata": {},
   "source": [
    "### Grid/experiment setup\n",
    "\n",
    "The first thing we will do is to create a set of particles and add them to the grid."
   ]
  },
  {
   "cell_type": "code",
   "execution_count": null,
   "metadata": {},
   "outputs": [],
   "source": [
    "create_grid = peano4.solversteps.Step( \"CreateGrid\" )\n",
    "create_grid.use_vertex(particles)\n",
    "create_grid.use_cell(particle_tree_analysis.cell_marker)\n",
    "create_grid.add_action_set( peano4.toolbox.particles.UpdateParticleGridAssociation(particles) )\n",
    "create_grid.add_action_set( peano4.toolbox.particles.ParticleAMR(particles,particle_tree_analysis) )\n",
    "create_grid.add_action_set( particle_tree_analysis )\n",
    "project.solversteps.add_step(create_grid)"
   ]
  },
  {
   "cell_type": "markdown",
   "metadata": {},
   "source": [
    "## Move particles around\n",
    "\n",
    "We'll just give each particle a random position and velocity and move them around following this velocity. That is, we don't make the particles interact with each other et al."
   ]
  },
  {
   "cell_type": "code",
   "execution_count": null,
   "metadata": {},
   "outputs": [],
   "source": [
    "move_particles = peano4.solversteps.Step( \"MoveParticles\" )\n",
    "move_particles.use_vertex(particles)\n",
    "move_particles.use_cell(particle_tree_analysis.cell_marker)\n",
    "move_particles.add_action_set( peano4.toolbox.particles.UpdateParticleGridAssociation(particles) )\n",
    "move_particles.add_action_set( peano4.toolbox.particles.ParticleAMR(particles,particle_tree_analysis) )\n",
    "move_particles.add_action_set( particle_tree_analysis )"
   ]
  },
  {
   "cell_type": "markdown",
   "metadata": {},
   "source": [
    "The acceleration of particles is done by injecting the interaction kernel into a predefined action set. You find a description of these sets in peano4.toolbox.particles.ParticleParticleInteraction.\n",
    "\n"
   ]
  },
  {
   "cell_type": "code",
   "execution_count": null,
   "metadata": {},
   "outputs": [],
   "source": [
    "from IPython.display import Image\n",
    "!ls ../../python/peano4/toolbox/particles\n",
    "Image(\"../../python/peano4/toolbox/particles/dependency_sets.png\")"
   ]
  },
  {
   "cell_type": "code",
   "execution_count": null,
   "metadata": {},
   "outputs": [],
   "source": [
    "cell_compute_kernel = \"\"\"\n",
    "// Run over local set\n",
    "for (auto& p: localParticles) {\n",
    "  // Pick only those particles that reside within the current cell, otherwise\n",
    "  // we'd update each particle up to 2^d times. I don't exploit the symmetry\n",
    "  // of forces here\n",
    "  if ( marker.isContained( p->getX() ) ) {\n",
    "    tarch::la::Vector<Dimensions,double> force(0.0);\n",
    "    for (auto& pp: activeParticles) {\n",
    "      // No interaction with particle itself\n",
    "      if (p!=pp) {\n",
    "        tarch::la::Vector<Dimensions,double> dist = pp->getX() - p->getX();\n",
    "        const double mass1 = p->getCutOffRadius();   // made-up hack, no real physics. But illustrates principle\n",
    "        const double mass2 = pp->getCutOffRadius();  \n",
    "        double forceQuantity = mass1 * mass2 / tarch::la::norm2(dist) / tarch::la::norm2(dist);\n",
    "        p->setV(\n",
    "          p->getV() + 0.0001 * forceQuantity / tarch::la::norm2(dist) * dist\n",
    "        );\n",
    "      }\n",
    "    }\n",
    "  }\n",
    "}\n",
    "\"\"\"\n",
    "touch_vertex_first_time_compute_kernel = \"\"\"\n",
    "for (auto& p: localParticles) {\n",
    " // p is a pointer to a local particle. I don't do anything with it in this example.\n",
    "}\n",
    "\"\"\"\n",
    "\n",
    "move_particles.add_action_set( peano4.toolbox.particles.ParticleParticleInteraction(particles,cell_compute_kernel,touch_vertex_first_time_compute_kernel) )\n",
    "project.solversteps.add_step(move_particles)"
   ]
  },
  {
   "cell_type": "markdown",
   "metadata": {},
   "source": [
    "We finally have to move the particles around. For this, I don't rely on the injected code (I could so). Instead, I wait for the Python script to run once and the implement the movement manually in the class within actionsets."
   ]
  },
  {
   "cell_type": "markdown",
   "metadata": {},
   "source": [
    "### Plots setup\n",
    "\n",
    "I will have to plot the outcome (or any snapshot). With particles, each of my dumps produces two types of files: particle data and mesh data. For the mesh, I rely on the toolbox's grid plotting. The plot is the step where we don't need the AMR criterion - the particles don't move here after all. We however run the tree analysis, so it is up-to-date for the next step."
   ]
  },
  {
   "cell_type": "code",
   "execution_count": null,
   "metadata": {},
   "outputs": [],
   "source": [
    "print_solution = peano4.solversteps.Step( \"Plot\" )\n",
    "print_solution.use_vertex(particles)\n",
    "print_solution.use_cell(particle_tree_analysis.cell_marker)\n",
    "print_solution.remove_all_actions()\n",
    "print_solution.add_action_set( peano4.toolbox.particles.UpdateParticleGridAssociation(particles) )\n",
    "print_solution.add_action_set( particle_tree_analysis )\n",
    "print_solution.add_action_set( peano4.toolbox.PlotGridInPeanoBlockFormat( \"grid\", None ) )\n",
    "print_solution.add_action_set( peano4.toolbox.particles.PlotParticlesInVTKFormat( \"particles\", particles ) )\n",
    "project.solversteps.add_step(print_solution)\n"
   ]
  },
  {
   "cell_type": "markdown",
   "metadata": {},
   "source": [
    "## Generate the actual C++ code\n",
    "\n",
    "Standard triad of operations. You can skip the first two steps if you want as the script then will automatically invoke the previous steps. The other way round, it is always admissible to only generate stuff, e.g., but to build and run the project through a command line."
   ]
  },
  {
   "cell_type": "code",
   "execution_count": null,
   "metadata": {
    "scrolled": true
   },
   "outputs": [],
   "source": [
    "project.generate()\n",
    "project.build()"
   ]
  },
  {
   "cell_type": "markdown",
   "metadata": {},
   "source": [
    "## Implement the actual code\n",
    "\n",
    "Don't forget to insert\n",
    "\n",
    "<pre>\n",
    "#include \"../globaldata/Particle.h\"\n",
    "</pre>"
   ]
  },
  {
   "cell_type": "markdown",
   "metadata": {},
   "source": [
    "## Run code\n",
    "\n",
    "Before we run any code, we clean up, i.e. remove all old output files."
   ]
  },
  {
   "cell_type": "code",
   "execution_count": null,
   "metadata": {},
   "outputs": [],
   "source": [
    "output_files = [ f for f in os.listdir(\".\") if f.endswith(\".peano-patch-file\") or f.endswith(\".vtu\") or f.endswith(\".pvd\") ]\n",
    "for f in output_files:\n",
    "  os.remove(f)\n"
   ]
  },
  {
   "cell_type": "markdown",
   "metadata": {},
   "source": [
    "#success = project.run( args=[], prefix=[\"mpirun\", \"-n\", \"1\"] )"
   ]
  },
  {
   "cell_type": "code",
   "execution_count": null,
   "metadata": {},
   "outputs": [],
   "source": [
    "# success = project.run( args=[\"--threads\", \"1\"], prefix=[\"mpirun\", \"-n\", \"1\"] )\n",
    "!./peano4"
   ]
  },
  {
   "cell_type": "markdown",
   "metadata": {},
   "source": [
    "## Visualise outcome\n",
    "\n",
    "There are different ways how to visualise the grid data, as it is written in Peano's mesh format. The particle data in contrast is plain vtu which Paraview can render directly. I do recommend to use Peano's Python scripts within Paraview to visualise the mesh. For this, ensure that your Pythonpath points to Peano's python subdirectory before you launch Paraview. Within the vis tool, open the Python terminal and type in:\n",
    "\n",
    "<pre>\n",
    "import peano4.visualisation\n",
    "visualiser = peano4.visualisation.Visualiser( \"grid.peano-patch-file\" )\n",
    "visualiser.display()\n",
    "</pre>\n",
    "\n",
    "By typing in \n",
    "<pre>\n",
    "visualiser.select_dataset(x)\n",
    "visualiser.reload()\n",
    "</pre>\n",
    "\n",
    "you can visualise snapshot x. At the moment, we have not yet integrated our Python vis with Paraview's timestepping/animation interface.\n"
   ]
  },
  {
   "cell_type": "code",
   "execution_count": null,
   "metadata": {},
   "outputs": [],
   "source": []
  }
 ],
 "metadata": {
  "finalized": {
   "timestamp": 1602621102736,
   "trusted": true
  },
  "kernelspec": {
   "display_name": "Python 3",
   "language": "python",
   "name": "python3"
  },
  "language_info": {
   "codemirror_mode": {
    "name": "ipython",
    "version": 3
   },
   "file_extension": ".py",
   "mimetype": "text/x-python",
   "name": "python",
   "nbconvert_exporter": "python",
   "pygments_lexer": "ipython3",
   "version": "3.8.5"
  },
  "latex_envs": {
   "LaTeX_envs_menu_present": true,
   "autoclose": false,
   "autocomplete": true,
   "bibliofile": "biblio.bib",
   "cite_by": "apalike",
   "current_citInitial": 1,
   "eqLabelWithNumbers": true,
   "eqNumInitial": 1,
   "hotkeys": {
    "equation": "Ctrl-E",
    "itemize": "Ctrl-I"
   },
   "labels_anchors": false,
   "latex_user_defs": false,
   "report_style_numbering": false,
   "user_envs_cfg": false
  }
 },
 "nbformat": 4,
 "nbformat_minor": 4
}

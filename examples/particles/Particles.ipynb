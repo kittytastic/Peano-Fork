{
 "cells": [
  {
   "cell_type": "markdown",
   "metadata": {},
   "source": [
    "# Particles in a dual tree\n",
    "\n",
    "A very simple demonstration how to use the pidt (particle in dual tree) scheme\n",
    "within Peano 4."
   ]
  },
  {
   "cell_type": "markdown",
   "metadata": {},
   "source": [
    "Create a project and configure it to end up in a subnamespace (and thus subdirectory). "
   ]
  },
  {
   "cell_type": "code",
   "execution_count": 1,
   "metadata": {},
   "outputs": [
    {
     "name": "stdout",
     "output_type": "stream",
     "text": [
      "DaStGen 2 (C) www.peano-framework.org\n",
      "Peano 4 (C) www.peano-framework.org\n"
     ]
    }
   ],
   "source": [
    "import os\n",
    "\n",
    "import peano4\n",
    "import peano4.dastgen2\n",
    "import peano4.toolbox\n",
    "import peano4.toolbox.particles\n",
    "import dastgen2\n"
   ]
  },
  {
   "cell_type": "code",
   "execution_count": 2,
   "metadata": {},
   "outputs": [],
   "source": [
    "project = peano4.Project( [\"examples\", \"particles\"], \"particles\", \".\" )"
   ]
  },
  {
   "cell_type": "markdown",
   "metadata": {},
   "source": [
    "## Prepare code\n",
    "\n",
    "Peano's API does not know which settings to use on the present system. To make it copy/clone the settings identified by ./configure, we ask it to parse the generated configuration scripts. \n"
   ]
  },
  {
   "cell_type": "code",
   "execution_count": 3,
   "metadata": {},
   "outputs": [
    {
     "name": "stdout",
     "output_type": "stream",
     "text": [
      "parse configure outcome ../../src/Makefile to extract compile settings\n",
      "used C++ compiler is mpiicpc\n",
      "used Fortran compiler is ifort\n"
     ]
    }
   ],
   "source": [
    "project.output.makefile.parse_configure_script_outcome( \"../..\" )"
   ]
  },
  {
   "cell_type": "markdown",
   "metadata": {},
   "source": [
    "## Model the particle\n",
    "\n",
    "We create the particle through the toolbox. A particle by definition has a position. So the only thing we have to add is a velocity. We use Peano's double array to have full support of Peano's vector classes, and instead of saying that this array had two or three entries, we parameterise it through the symbol Dimensions."
   ]
  },
  {
   "cell_type": "code",
   "execution_count": 4,
   "metadata": {},
   "outputs": [
    {
     "name": "stdout",
     "output_type": "stream",
     "text": [
      "Warning: particle Particle is not (yet) added to project via add_global_object() and thus has invalid DoF association\n"
     ]
    }
   ],
   "source": [
    "particle  = peano4.toolbox.particles.Particle( \"Particle\" )\n",
    "particle.data.add_attribute( peano4.dastgen2.Peano4DoubleArray(\"v\",\"Dimensions\") )\n",
    "particles = peano4.toolbox.particles.ParticleSet( particle )"
   ]
  },
  {
   "cell_type": "markdown",
   "metadata": {},
   "source": [
    "This particle has to be added to the project. This way the project knows that we are working with this guy. We associate the particle with the vertices, as we work with the pidt (particle in dual tree) algorithm. "
   ]
  },
  {
   "cell_type": "code",
   "execution_count": 5,
   "metadata": {},
   "outputs": [],
   "source": [
    "project.datamodel.add_global_object(particle)\n",
    "project.datamodel.add_vertex(particles)"
   ]
  },
  {
   "cell_type": "markdown",
   "metadata": {},
   "source": [
    "## Model the algorithmic steps we rely on\n",
    "\n",
    "When we model the algorithmic steps we rely on, we use a number of pre-defined action sets from the particle toolbox. First and foremost, we use an analysed tree grammar, i.e. some marking mechanism for the tree nodes. This helps us to guide the AMR - which is the second ingredient that we use. Finally we use the plotting routines for particles from the toolbox."
   ]
  },
  {
   "cell_type": "code",
   "execution_count": 6,
   "metadata": {},
   "outputs": [],
   "source": [
    "particle_tree_analysis = peano4.toolbox.particles.ParticleTreeAnalysis(particles)\n",
    "project.datamodel.add_cell(particle_tree_analysis.cell_marker)   # read docu of ParticleTreeAnalysis"
   ]
  },
  {
   "cell_type": "markdown",
   "metadata": {},
   "source": [
    "### Grid/experiment setup\n",
    "\n",
    "The first thing we will do is to create a set of particles and add them to the grid."
   ]
  },
  {
   "cell_type": "code",
   "execution_count": 7,
   "metadata": {},
   "outputs": [],
   "source": [
    "create_grid = peano4.solversteps.Step( \"CreateGrid\" )\n",
    "create_grid.use_vertex(particles)\n",
    "create_grid.use_cell(particle_tree_analysis.cell_marker)\n",
    "create_grid.add_action_set( peano4.toolbox.particles.ParticleDensityAMR(particle_tree_analysis) )\n",
    "create_grid.add_action_set( particle_tree_analysis )\n",
    "project.solversteps.add_step(create_grid)"
   ]
  },
  {
   "cell_type": "markdown",
   "metadata": {},
   "source": [
    "## Move particles around\n",
    "\n",
    "We'll just give each particle a random position and velocity and move them around following this velocity. That is, we don't make the particles interact with each other et al."
   ]
  },
  {
   "cell_type": "code",
   "execution_count": 8,
   "metadata": {},
   "outputs": [],
   "source": [
    "move_particles = peano4.solversteps.Step( \"MoveParticles\" )\n",
    "move_particles.use_vertex(particles)\n",
    "move_particles.use_cell(particle_tree_analysis.cell_marker)\n",
    "move_particles.add_action_set( peano4.toolbox.particles.ParticleDensityAMR(particle_tree_analysis) )\n",
    "move_particles.add_action_set( particle_tree_analysis )\n",
    "project.solversteps.add_step(move_particles)"
   ]
  },
  {
   "cell_type": "markdown",
   "metadata": {},
   "source": [
    "### Plots setup\n",
    "\n",
    "I will have to plot the outcome (or any snapshot). With particles, each of my dumps produces two types of files: particle data and mesh data. For the mesh, I rely on the toolbox's grid plotting. The plot is the step where we don't need the AMR criterion - the particles don't move here after all. We however run the tree analysis, so it is up-to-date for the next step."
   ]
  },
  {
   "cell_type": "code",
   "execution_count": 9,
   "metadata": {},
   "outputs": [],
   "source": [
    "print_solution = peano4.solversteps.Step( \"Plot\" )\n",
    "print_solution.use_vertex(particles)\n",
    "print_solution.use_cell(particle_tree_analysis.cell_marker)\n",
    "print_solution.remove_all_actions()\n",
    "print_solution.add_action_set( particle_tree_analysis )\n",
    "print_solution.add_action_set( peano4.toolbox.PlotGridInPeanoBlockFormat( \"grid\", None ) )\n",
    "print_solution.add_action_set( peano4.toolbox.particles.PlotParticlesInVTKFormat( \"particles\", particles ) )\n",
    "project.solversteps.add_step(print_solution)\n"
   ]
  },
  {
   "cell_type": "markdown",
   "metadata": {},
   "source": [
    "## Generate the actual C++ code\n",
    "\n",
    "Standard triad of operations. You can skip the first two steps if you want as the script then will automatically invoke the previous steps. The other way round, it is always admissible to only generate stuff, e.g., but to build and run the project through a command line."
   ]
  },
  {
   "cell_type": "code",
   "execution_count": 10,
   "metadata": {
    "scrolled": true
   },
   "outputs": [
    {
     "name": "stdout",
     "output_type": "stream",
     "text": [
      "generate all code ...\n",
      "user has to modify class CreateGrid in actions directory manually \n",
      "user has to modify class MoveParticles in actions directory manually \n",
      "generated particles-main.cpp\n",
      "write ./Makefile\n",
      "write ./vertexdata/ParticleSet.h (generated from template /home/tobias/git/Peano/python/peano4/toolbox/particles/ParticleSet.template.h)\n",
      "write ./vertexdata/ParticleSet.cpp (generated from template /home/tobias/git/Peano/python/peano4/toolbox/particles/ParticleSet.template.cpp)\n",
      "write ./observers/DataRepository.h\n",
      "write ./observers/DataRepository.cpp\n",
      "write ././observers/CreateGrid2Dummy1.h\n",
      "write ././observers/CreateGrid2Dummy1.cpp\n",
      "write ././observers/CreateGrid2peano4_toolbox_particles_ParticleTreeAnalysis2.h\n",
      "write ././observers/CreateGrid2peano4_toolbox_particles_ParticleTreeAnalysis2.cpp\n",
      "write ././observers/CreateGrid.h\n",
      "write ././observers/CreateGrid.cpp\n",
      "write ././observers/MoveParticles2Dummy1.h\n",
      "write ././observers/MoveParticles2Dummy1.cpp\n",
      "write ././observers/MoveParticles2peano4_toolbox_particles_ParticleTreeAnalysis2.h\n",
      "write ././observers/MoveParticles2peano4_toolbox_particles_ParticleTreeAnalysis2.cpp\n",
      "write ././observers/MoveParticles.h\n",
      "write ././observers/MoveParticles.cpp\n",
      "write ././observers/Plot2peano4_toolbox_particles_ParticleTreeAnalysis0.h\n",
      "write ././observers/Plot2peano4_toolbox_particles_ParticleTreeAnalysis0.cpp\n",
      "write ././observers/Plot2peano4_toolbox_PlotGridInPeanoBlockFormat1.h\n",
      "write ././observers/Plot2peano4_toolbox_PlotGridInPeanoBlockFormat1.cpp\n",
      "write ././observers/Plot2peano4_toolbox_particles_PlotParticlesInVTKFormat2.h\n",
      "write ././observers/Plot2peano4_toolbox_particles_PlotParticlesInVTKFormat2.cpp\n",
      "write ././observers/Plot.h\n",
      "write ././observers/Plot.cpp\n",
      "write ./observers/StepRepository.h\n",
      "write ./observers/StepRepository.cpp\n",
      "write ./Constants.h\n",
      "generation complete\n",
      "clean up project ...\n",
      "clean complete\n",
      "start to compile with concurrency level of 4 ...\n",
      "mpiicpc -std=c++0x -g -O0 -DPeanoDebug=4 -I/opt/intel/tbb/include -DTBB_USE_ASSERT -DTBB_USE_THREADING_TOOLS -I/opt/intel/itac/2020.0.015/intel64/include -fopenmp  -ip -ipo  -DDimensions=2 -I. -I../../src -c -o celldata/ParticleSetCellStatistics.o celldata/ParticleSetCellStatistics.cpp\n",
      "mpiicpc -std=c++0x -g -O0 -DPeanoDebug=4 -I/opt/intel/tbb/include -DTBB_USE_ASSERT -DTBB_USE_THREADING_TOOLS -I/opt/intel/itac/2020.0.015/intel64/include -fopenmp  -ip -ipo  -DDimensions=2 -I. -I../../src -c -o vertexdata/ParticleSet.o vertexdata/ParticleSet.cpp\n",
      "mpiicpc -std=c++0x -g -O0 -DPeanoDebug=4 -I/opt/intel/tbb/include -DTBB_USE_ASSERT -DTBB_USE_THREADING_TOOLS -I/opt/intel/itac/2020.0.015/intel64/include -fopenmp  -ip -ipo  -DDimensions=2 -I. -I../../src -c -o globaldata/Particle.o globaldata/Particle.cpp\n",
      "mpiicpc -std=c++0x -g -O0 -DPeanoDebug=4 -I/opt/intel/tbb/include -DTBB_USE_ASSERT -DTBB_USE_THREADING_TOOLS -I/opt/intel/itac/2020.0.015/intel64/include -fopenmp  -ip -ipo  -DDimensions=2 -I. -I../../src -c -o observers/DataRepository.o observers/DataRepository.cpp\n",
      "mpiicpc -std=c++0x -g -O0 -DPeanoDebug=4 -I/opt/intel/tbb/include -DTBB_USE_ASSERT -DTBB_USE_THREADING_TOOLS -I/opt/intel/itac/2020.0.015/intel64/include -fopenmp  -ip -ipo  -DDimensions=2 -I. -I../../src -c -o actions/CreateGrid.o actions/CreateGrid.cpp\n",
      "mpiicpc -std=c++0x -g -O0 -DPeanoDebug=4 -I/opt/intel/tbb/include -DTBB_USE_ASSERT -DTBB_USE_THREADING_TOOLS -I/opt/intel/itac/2020.0.015/intel64/include -fopenmp  -ip -ipo  -DDimensions=2 -I. -I../../src -c -o observers/CreateGrid2Dummy1.o observers/CreateGrid2Dummy1.cpp\n",
      "mpiicpc -std=c++0x -g -O0 -DPeanoDebug=4 -I/opt/intel/tbb/include -DTBB_USE_ASSERT -DTBB_USE_THREADING_TOOLS -I/opt/intel/itac/2020.0.015/intel64/include -fopenmp  -ip -ipo  -DDimensions=2 -I. -I../../src -c -o observers/CreateGrid2peano4_toolbox_particles_ParticleTreeAnalysis2.o observers/CreateGrid2peano4_toolbox_particles_ParticleTreeAnalysis2.cpp\n",
      "mpiicpc -std=c++0x -g -O0 -DPeanoDebug=4 -I/opt/intel/tbb/include -DTBB_USE_ASSERT -DTBB_USE_THREADING_TOOLS -I/opt/intel/itac/2020.0.015/intel64/include -fopenmp  -ip -ipo  -DDimensions=2 -I. -I../../src -c -o observers/CreateGrid.o observers/CreateGrid.cpp\n",
      "mpiicpc -std=c++0x -g -O0 -DPeanoDebug=4 -I/opt/intel/tbb/include -DTBB_USE_ASSERT -DTBB_USE_THREADING_TOOLS -I/opt/intel/itac/2020.0.015/intel64/include -fopenmp  -ip -ipo  -DDimensions=2 -I. -I../../src -c -o actions/MoveParticles.o actions/MoveParticles.cpp\n",
      "mpiicpc -std=c++0x -g -O0 -DPeanoDebug=4 -I/opt/intel/tbb/include -DTBB_USE_ASSERT -DTBB_USE_THREADING_TOOLS -I/opt/intel/itac/2020.0.015/intel64/include -fopenmp  -ip -ipo  -DDimensions=2 -I. -I../../src -c -o observers/MoveParticles2Dummy1.o observers/MoveParticles2Dummy1.cpp\n",
      "mpiicpc -std=c++0x -g -O0 -DPeanoDebug=4 -I/opt/intel/tbb/include -DTBB_USE_ASSERT -DTBB_USE_THREADING_TOOLS -I/opt/intel/itac/2020.0.015/intel64/include -fopenmp  -ip -ipo  -DDimensions=2 -I. -I../../src -c -o observers/MoveParticles2peano4_toolbox_particles_ParticleTreeAnalysis2.o observers/MoveParticles2peano4_toolbox_particles_ParticleTreeAnalysis2.cpp\n",
      "mpiicpc -std=c++0x -g -O0 -DPeanoDebug=4 -I/opt/intel/tbb/include -DTBB_USE_ASSERT -DTBB_USE_THREADING_TOOLS -I/opt/intel/itac/2020.0.015/intel64/include -fopenmp  -ip -ipo  -DDimensions=2 -I. -I../../src -c -o observers/MoveParticles.o observers/MoveParticles.cpp\n",
      "mpiicpc -std=c++0x -g -O0 -DPeanoDebug=4 -I/opt/intel/tbb/include -DTBB_USE_ASSERT -DTBB_USE_THREADING_TOOLS -I/opt/intel/itac/2020.0.015/intel64/include -fopenmp  -ip -ipo  -DDimensions=2 -I. -I../../src -c -o observers/Plot2peano4_toolbox_particles_ParticleTreeAnalysis0.o observers/Plot2peano4_toolbox_particles_ParticleTreeAnalysis0.cpp\n",
      "mpiicpc -std=c++0x -g -O0 -DPeanoDebug=4 -I/opt/intel/tbb/include -DTBB_USE_ASSERT -DTBB_USE_THREADING_TOOLS -I/opt/intel/itac/2020.0.015/intel64/include -fopenmp  -ip -ipo  -DDimensions=2 -I. -I../../src -c -o observers/Plot2peano4_toolbox_PlotGridInPeanoBlockFormat1.o observers/Plot2peano4_toolbox_PlotGridInPeanoBlockFormat1.cpp\n",
      "mpiicpc -std=c++0x -g -O0 -DPeanoDebug=4 -I/opt/intel/tbb/include -DTBB_USE_ASSERT -DTBB_USE_THREADING_TOOLS -I/opt/intel/itac/2020.0.015/intel64/include -fopenmp  -ip -ipo  -DDimensions=2 -I. -I../../src -c -o observers/Plot2peano4_toolbox_particles_PlotParticlesInVTKFormat2.o observers/Plot2peano4_toolbox_particles_PlotParticlesInVTKFormat2.cpp\n",
      "mpiicpc -std=c++0x -g -O0 -DPeanoDebug=4 -I/opt/intel/tbb/include -DTBB_USE_ASSERT -DTBB_USE_THREADING_TOOLS -I/opt/intel/itac/2020.0.015/intel64/include -fopenmp  -ip -ipo  -DDimensions=2 -I. -I../../src -c -o observers/Plot.o observers/Plot.cpp\n",
      "mpiicpc -std=c++0x -g -O0 -DPeanoDebug=4 -I/opt/intel/tbb/include -DTBB_USE_ASSERT -DTBB_USE_THREADING_TOOLS -I/opt/intel/itac/2020.0.015/intel64/include -fopenmp  -ip -ipo  -DDimensions=2 -I. -I../../src -c -o observers/StepRepository.o observers/StepRepository.cpp\n",
      "mpiicpc -std=c++0x -g -O0 -DPeanoDebug=4 -I/opt/intel/tbb/include -DTBB_USE_ASSERT -DTBB_USE_THREADING_TOOLS -I/opt/intel/itac/2020.0.015/intel64/include -fopenmp  -ip -ipo  -DDimensions=2 -I. -I../../src -c -o particles-main.o particles-main.cpp\n",
      "mpiicpc -L/usr/lib64 -fopenmp -ipo   celldata/ParticleSetCellStatistics.o vertexdata/ParticleSet.o globaldata/Particle.o observers/DataRepository.o ./actions/CreateGrid.o ./observers/CreateGrid2Dummy1.o ./observers/CreateGrid2peano4_toolbox_particles_ParticleTreeAnalysis2.o ./observers/CreateGrid.o ./actions/MoveParticles.o ./observers/MoveParticles2Dummy1.o ./observers/MoveParticles2peano4_toolbox_particles_ParticleTreeAnalysis2.o ./observers/MoveParticles.o ./observers/Plot2peano4_toolbox_particles_ParticleTreeAnalysis0.o ./observers/Plot2peano4_toolbox_PlotGridInPeanoBlockFormat1.o ./observers/Plot2peano4_toolbox_particles_PlotParticlesInVTKFormat2.o ./observers/Plot.o observers/StepRepository.o particles-main.o  -L../../src -lvtkIOCore  -lPeano4Core2d_debug -lTarch_debug  -o peano4 \n",
      "\n",
      "compile completed successfully\n"
     ]
    }
   ],
   "source": [
    "project.generate()\n",
    "project.build()"
   ]
  },
  {
   "cell_type": "markdown",
   "metadata": {},
   "source": [
    "## Implement the actual code\n",
    "\n",
    "Don't forget to insert\n",
    "\n",
    "<pre>\n",
    "#include \"../globaldata/Particle.h\"\n",
    "</pre>"
   ]
  },
  {
   "cell_type": "code",
   "execution_count": null,
   "metadata": {},
   "outputs": [],
   "source": []
  },
  {
   "cell_type": "markdown",
   "metadata": {},
   "source": [
    "## Run code"
   ]
  },
  {
   "cell_type": "code",
   "execution_count": 11,
   "metadata": {},
   "outputs": [],
   "source": [
    "#success = project.run( args=[], prefix=[\"mpirun\", \"-n\", \"1\"] )"
   ]
  },
  {
   "cell_type": "code",
   "execution_count": null,
   "metadata": {},
   "outputs": [],
   "source": []
  },
  {
   "cell_type": "code",
   "execution_count": null,
   "metadata": {},
   "outputs": [],
   "source": []
  },
  {
   "cell_type": "code",
   "execution_count": null,
   "metadata": {},
   "outputs": [],
   "source": []
  }
 ],
 "metadata": {
  "finalized": {
   "timestamp": 1602621102736,
   "trusted": true
  },
  "kernelspec": {
   "display_name": "Python 3",
   "language": "python",
   "name": "python3"
  },
  "language_info": {
   "codemirror_mode": {
    "name": "ipython",
    "version": 3
   },
   "file_extension": ".py",
   "mimetype": "text/x-python",
   "name": "python",
   "nbconvert_exporter": "python",
   "pygments_lexer": "ipython3",
   "version": "3.8.5"
  },
  "latex_envs": {
   "LaTeX_envs_menu_present": true,
   "autoclose": false,
   "autocomplete": true,
   "bibliofile": "biblio.bib",
   "cite_by": "apalike",
   "current_citInitial": 1,
   "eqLabelWithNumbers": true,
   "eqNumInitial": 1,
   "hotkeys": {
    "equation": "Ctrl-E",
    "itemize": "Ctrl-I"
   },
   "labels_anchors": false,
   "latex_user_defs": false,
   "report_style_numbering": false,
   "user_envs_cfg": false
  }
 },
 "nbformat": 4,
 "nbformat_minor": 4
}

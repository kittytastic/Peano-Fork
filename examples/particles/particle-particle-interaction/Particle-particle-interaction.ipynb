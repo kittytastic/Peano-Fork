{
 "cells": [
  {
   "cell_type": "markdown",
   "metadata": {},
   "source": [
    "# Very primitive particle-particle interaction in Peano 4\n",
    "\n",
    "A very simple demonstration how to extend the simple particle setup with an explicit Euler and some simple particle-particle interaction. We use a fake potential, so there's no physical meaning in this example. However, it demonstrates the principles behind multibody simulations with the Peano toolbox."
   ]
  },
  {
   "cell_type": "code",
   "execution_count": 1,
   "metadata": {},
   "outputs": [
    {
     "name": "stdout",
     "output_type": "stream",
     "text": [
      "DaStGen 2 (C) www.peano-framework.org\n",
      "Peano 4 (C) www.peano-framework.org\n"
     ]
    }
   ],
   "source": [
    "import os\n",
    "\n",
    "import peano4\n",
    "import peano4.dastgen2\n",
    "import peano4.toolbox\n",
    "import peano4.toolbox.particles\n",
    "import dastgen2\n"
   ]
  },
  {
   "cell_type": "code",
   "execution_count": 2,
   "metadata": {},
   "outputs": [],
   "source": [
    "project = peano4.Project( [\"examples\", \"particles\"], \"particle-particle-interaction\", \".\" )"
   ]
  },
  {
   "cell_type": "code",
   "execution_count": 3,
   "metadata": {},
   "outputs": [
    {
     "name": "stdout",
     "output_type": "stream",
     "text": [
      "parse configure outcome ../../../config.log to extract configure settings\n",
      "found the configure call info   $ ./configure CXX=icpx --enable-exahype --enable-loadbalancing --with-multithreading=omp CXXFLAGS=--std=c++17 -fopenmp -DnoMPISupportsSingleSidedCommunication LDFLAGS=-fopenmp --enable-blockstructured --enable-particles\n",
      "\n",
      "parse configure outcome ../../../src/Makefile to extract compile settings\n",
      "add CXX=icpx\n",
      "add CXXFLAGS=--std=c++17 -fopenmp -DnoMPISupportsSingleSidedCommunication\n",
      "add CXXFLAGS_PEANO_2D_ASSERTS=-DDimensions=2 -DPeanoDebug=2 -g3 -O0\n",
      "add CXXFLAGS_PEANO_2D_DEBUG=-DDimensions=2 -DPeanoDebug=4 -g3 -O0\n",
      "add CXXFLAGS_PEANO_2D_RELEASE=-DDimensions=2 -DPeanoDebug=0\n",
      "add CXXFLAGS_PEANO_2D_STATS=-DDimensions=2 -DPeanoDebug=0 -DTrackStatistics\n",
      "add CXXFLAGS_PEANO_2D_TRACE=-DDimensions=2 -DPeanoDebug=1 -g3\n",
      "add CXXFLAGS_PEANO_3D_ASSERTS=-DDimensions=3 -DPeanoDebug=2 -g3 -O0\n",
      "add CXXFLAGS_PEANO_3D_DEBUG=-DDimensions=3 -DPeanoDebug=4 -g3 -O0\n",
      "add CXXFLAGS_PEANO_3D_RELEASE=-DDimensions=3 -DPeanoDebug=0\n",
      "add CXXFLAGS_PEANO_3D_STATS=-DDimensions=3 -DPeanoDebug=0 -DTrackStatistics\n",
      "add CXXFLAGS_PEANO_3D_TRACE=-DDimensions=3 -DPeanoDebug=1 -g3\n",
      "add FC=gfortran\n",
      "add LDADD_PEANO_2D_ASSERTS=-lExaHyPE2Core2d_asserts  -lToolboxBlockstructured2d_asserts  -lToolboxLoadBalancing2d_asserts  -lPeano4Core2d_asserts -lTarch_asserts   -lToolboxParticles2d_asserts  -lToolboxBlockstructured2d_asserts  -lToolboxLoadBalancing2d_asserts  -lPeano4Core2d_asserts -lTarch_asserts\n",
      "add LDADD_PEANO_2D_DEBUG=-lExaHyPE2Core2d_debug      -lToolboxBlockstructured2d_debug      -lToolboxLoadBalancing2d_debug      -lPeano4Core2d_debug   -lTarch_debug     -lToolboxParticles2d_debug      -lToolboxBlockstructured2d_debug      -lToolboxLoadBalancing2d_debug      -lPeano4Core2d_debug   -lTarch_debug\n",
      "add LDADD_PEANO_2D_RELEASE=-lExaHyPE2Core2d          -lToolboxBlockstructured2d          -lToolboxLoadBalancing2d          -lPeano4Core2d         -lTarch   -lToolboxParticles2d          -lToolboxBlockstructured2d          -lToolboxLoadBalancing2d          -lPeano4Core2d         -lTarch\n",
      "add LDADD_PEANO_2D_STATS=-lExaHyPE2Core2d_stats      -lToolboxBlockstructured2d_stats      -lToolboxLoadBalancing2d_stats      -lPeano4Core2d_stats   -lTarch_stats     -lToolboxParticles2d_stats      -lToolboxBlockstructured2d_stats      -lToolboxLoadBalancing2d_stats      -lPeano4Core2d_stats   -lTarch_stats\n",
      "add LDADD_PEANO_2D_TRACE=-lExaHyPE2Core2d_trace      -lToolboxBlockstructured2d_trace      -lToolboxLoadBalancing2d_trace      -lPeano4Core2d_trace   -lTarch_trace     -lToolboxParticles2d_trace      -lToolboxBlockstructured2d_trace      -lToolboxLoadBalancing2d_trace      -lPeano4Core2d_trace   -lTarch_trace\n",
      "add LDADD_PEANO_3D_ASSERTS=-lExaHyPE2Core3d_asserts  -lToolboxBlockstructured3d_asserts  -lToolboxLoadBalancing3d_asserts  -lPeano4Core3d_asserts -lTarch_asserts   -lToolboxParticles3d_asserts  -lToolboxBlockstructured3d_asserts  -lToolboxLoadBalancing3d_asserts  -lPeano4Core3d_asserts -lTarch_asserts\n",
      "add LDADD_PEANO_3D_DEBUG=-lExaHyPE2Core3d_debug      -lToolboxBlockstructured3d_debug      -lToolboxLoadBalancing3d_debug      -lPeano4Core3d_debug   -lTarch_debug     -lToolboxParticles3d_debug      -lToolboxBlockstructured3d_debug      -lToolboxLoadBalancing3d_debug      -lPeano4Core3d_debug   -lTarch_debug\n",
      "add LDADD_PEANO_3D_RELEASE=-lExaHyPE2Core3d          -lToolboxBlockstructured3d          -lToolboxLoadBalancing3d          -lPeano4Core3d         -lTarch   -lToolboxParticles3d          -lToolboxBlockstructured3d          -lToolboxLoadBalancing3d          -lPeano4Core3d         -lTarch\n",
      "add LDADD_PEANO_3D_STATS=-lExaHyPE2Core3d_stats      -lToolboxBlockstructured3d_stats      -lToolboxLoadBalancing3d_stats      -lPeano4Core3d_stats   -lTarch_stats     -lToolboxParticles3d_stats      -lToolboxBlockstructured3d_stats      -lToolboxLoadBalancing3d_stats      -lPeano4Core3d_stats   -lTarch_stats\n",
      "add LDADD_PEANO_3D_TRACE=-lExaHyPE2Core3d_trace      -lToolboxBlockstructured3d_trace      -lToolboxLoadBalancing3d_trace      -lPeano4Core3d_trace   -lTarch_trace     -lToolboxParticles3d_trace      -lToolboxBlockstructured3d_trace      -lToolboxLoadBalancing3d_trace      -lPeano4Core3d_trace   -lTarch_trace\n",
      "add LDFLAGS=-fopenmp\n",
      "add LDFLAGS_PEANO_ASSERTS=-L/home/tobias/git/Peano/src -g3 -L/home/tobias/git/Peano/src/toolbox/loadbalancing  -L/home/tobias/git/Peano/src/toolbox/blockstructured  -L/home/tobias/git/Peano/src/toolbox/particles  -L/home/tobias/git/Peano/src/exahype2\n",
      "add LDFLAGS_PEANO_DEBUG=-L/home/tobias/git/Peano/src -g3   -L/home/tobias/git/Peano/src/toolbox/loadbalancing    -L/home/tobias/git/Peano/src/toolbox/blockstructured    -L/home/tobias/git/Peano/src/toolbox/particles    -L/home/tobias/git/Peano/src/exahype2\n",
      "add LDFLAGS_PEANO_RELEASE=-L/home/tobias/git/Peano/src  -L/home/tobias/git/Peano/src/toolbox/loadbalancing  -L/home/tobias/git/Peano/src/toolbox/blockstructured  -L/home/tobias/git/Peano/src/toolbox/particles  -L/home/tobias/git/Peano/src/exahype2\n",
      "add LDFLAGS_PEANO_STATS=-L/home/tobias/git/Peano/src    -L/home/tobias/git/Peano/src/toolbox/loadbalancing    -L/home/tobias/git/Peano/src/toolbox/blockstructured    -L/home/tobias/git/Peano/src/toolbox/particles    -L/home/tobias/git/Peano/src/exahype2\n",
      "add LDFLAGS_PEANO_TRACE=-L/home/tobias/git/Peano/src -g3   -L/home/tobias/git/Peano/src/toolbox/loadbalancing    -L/home/tobias/git/Peano/src/toolbox/blockstructured    -L/home/tobias/git/Peano/src/toolbox/particles    -L/home/tobias/git/Peano/src/exahype2\n",
      "used OpenMP tasking backend. Augment linker with  -fopenmp \n"
     ]
    }
   ],
   "source": [
    "#build_mode = peano4.output.CompileMode.Asserts\n",
    "build_mode = peano4.output.CompileMode.Release\n",
    "project.output.makefile.parse_configure_script_outcome( \"../../..\" )\n",
    "project.output.makefile.set_mode( build_mode )"
   ]
  },
  {
   "cell_type": "markdown",
   "metadata": {},
   "source": [
    "## Model the particle\n",
    "\n",
    "This time, we add an additional velocity field to the particle. We use Peano's double array here for the velocities to have full support of Peano's vector classes. Instead of saying that this array had two or three entries, we parameterise it through the symbol Dimensions. This way, our code will immediately run for 2d and 3d without any changes. Dimensions is a constant that Peano 4 defines. There are few of these, but Dimensions is really the important one."
   ]
  },
  {
   "cell_type": "code",
   "execution_count": 4,
   "metadata": {},
   "outputs": [
    {
     "name": "stdout",
     "output_type": "stream",
     "text": [
      "Warning: particle Particle is not (yet) added to project via add_global_object() and thus has invalid DoF association\n"
     ]
    }
   ],
   "source": [
    "particle  = peano4.toolbox.particles.Particle( \"Particle\" )\n",
    "particle.data.add_attribute( peano4.dastgen2.Peano4DoubleArray(\"v\",\"Dimensions\") )\n",
    "particles = peano4.toolbox.particles.ParticleSet( particle )"
   ]
  },
  {
   "cell_type": "code",
   "execution_count": 5,
   "metadata": {},
   "outputs": [],
   "source": [
    "project.datamodel.add_global_object(particle)\n",
    "project.datamodel.add_vertex(particles)"
   ]
  },
  {
   "cell_type": "markdown",
   "metadata": {},
   "source": [
    "## Model the setup phases\n",
    "\n",
    "The setup remains almost unchanged. The one tiny little difference is that we initialise the velocity properly when we create a particle. The generator above gives you different settings for v. We set the velocity component-wisely here."
   ]
  },
  {
   "cell_type": "code",
   "execution_count": 6,
   "metadata": {},
   "outputs": [],
   "source": [
    "mesh_size = 0.2\n",
    "\n",
    "particle_tree_analysis = peano4.toolbox.particles.ParticleTreeAnalysis(particles)\n",
    "project.datamodel.add_cell(particle_tree_analysis.cell_marker)   # read docu of ParticleTreeAnalysis\n",
    "\n",
    "create_grid = peano4.solversteps.Step( name=\"CreateGrid\", add_user_defined_actions=False )\n",
    "create_grid.add_action_set( peano4.toolbox.CreateRegularGrid(mesh_size) )\n",
    "create_grid.use_vertex(particles)\n",
    "create_grid.use_cell(particle_tree_analysis.cell_marker)\n",
    "project.solversteps.add_step(create_grid)"
   ]
  },
  {
   "cell_type": "code",
   "execution_count": 7,
   "metadata": {},
   "outputs": [],
   "source": [
    "initialisation_snippet = \"\"\"\n",
    " // we could do something intelligent here, but we actually\n",
    " // just set the cut-off radius\n",
    " particle->setCutOffRadius(0.001);\n",
    " particle->setV(0,((double) rand() / (RAND_MAX))-0.5);\n",
    " particle->setV(1,((double) rand() / (RAND_MAX))-0.5);\n",
    "\"\"\"\n",
    "\n",
    "init_setup = peano4.solversteps.Step( name=\"Init\", add_user_defined_actions=False )\n",
    "init_setup.use_vertex(particles)\n",
    "init_setup.use_cell(particle_tree_analysis.cell_marker)\n",
    "init_setup.add_action_set( peano4.toolbox.particles.UpdateParticleGridAssociation(particles) )\n",
    "init_setup.add_action_set( peano4.toolbox.particles.InsertRandomParticlesIntoUnrefinedCells(\n",
    "  particle_set=particles,\n",
    "  average_distance_between_particles=mesh_size/10,\n",
    "  initialisation_call=initialisation_snippet,\n",
    "  noise=True ))\n",
    "init_setup.add_action_set( particle_tree_analysis )\n",
    "project.solversteps.add_step(init_setup)"
   ]
  },
  {
   "cell_type": "code",
   "execution_count": 8,
   "metadata": {},
   "outputs": [],
   "source": [
    "print_solution = peano4.solversteps.Step( \"Plot\", add_user_defined_actions=False )\n",
    "print_solution.use_vertex(particles)\n",
    "print_solution.use_cell(particle_tree_analysis.cell_marker)\n",
    "print_solution.add_action_set( particle_tree_analysis )\n",
    "print_solution.add_action_set( peano4.toolbox.PlotGridInPeanoBlockFormat( filename=\"grid\", time_stamp_evaluation=peano4.toolbox.PlotGridInPeanoBlockFormat.CountTimeSteps ) )\n",
    "print_solution.add_action_set( peano4.toolbox.particles.PlotParticlesInVTKFormat( \"particles\", particles, time_stamp_evaluation=peano4.toolbox.particles.PlotParticlesInVTKFormat.CountTimeSteps ) )\n",
    "project.solversteps.add_step(print_solution)\n"
   ]
  },
  {
   "cell_type": "markdown",
   "metadata": {},
   "source": [
    "## Particle behaviour\n",
    "\n",
    "Our particle behaviour corresponds to a new algorithmic phase: the move. Compared to the other algorithmic steps, the big (technical) difference this time is that we ask Peano to give us a user-defined hook-in point for the action set. That is, not all the behaviour is realised via pre-manufactured action sets anymore."
   ]
  },
  {
   "cell_type": "code",
   "execution_count": 9,
   "metadata": {},
   "outputs": [],
   "source": [
    "move_particles = peano4.solversteps.Step( \"Move\" )\n",
    "move_particles.use_vertex(particles)\n",
    "move_particles.use_cell(particle_tree_analysis.cell_marker)\n",
    "move_particles.add_action_set( peano4.toolbox.particles.UpdateParticleGridAssociation(particles) )\n",
    "move_particles.add_action_set( peano4.toolbox.particles.ParticleAMR(particles,particle_tree_analysis,min_particles_per_cell=10) )\n",
    "move_particles.add_action_set( particle_tree_analysis )\n",
    "project.solversteps.add_step(move_particles)"
   ]
  },
  {
   "cell_type": "markdown",
   "metadata": {},
   "source": [
    "## Generate the actual C++ code\n",
    "\n",
    "Next, we generate the actual Peano 4 C++ code:"
   ]
  },
  {
   "cell_type": "code",
   "execution_count": 10,
   "metadata": {
    "scrolled": true
   },
   "outputs": [
    {
     "name": "stdout",
     "output_type": "stream",
     "text": [
      "generate all code ...\n",
      "user has to modify class Move in actions directory manually \n",
      "generated particle-particle-interaction-main.cpp\n",
      "write ./Makefile\n",
      "./vertexdata/ParticleSet.h written by Jinja2TemplatedHeaderImplementationFilePair.py (from template /home/tobias/git/Peano/python/peano4/toolbox/particles/ParticleSet.template.h)\n",
      "./vertexdata/ParticleSet.cpp written by Jinja2TemplatedHeaderImplementationFilePair.py (from template /home/tobias/git/Peano/python/peano4/toolbox/particles/ParticleSet.template.cpp)\n",
      "./repositories/DataRepository.h written by TemplatedHeaderImplementationFilePair.py\n",
      "./repositories/DataRepository.cpp written by TemplatedHeaderImplementationFilePair.py\n",
      "././observers/CreateGrid2peano4_toolbox_CreateRegularGrid0.h written by ActionSet.py\n",
      "././observers/CreateGrid2peano4_toolbox_CreateRegularGrid0.cpp written by ActionSet.py\n",
      "write ././observers/CreateGrid.h\n",
      "././observers/CreateGrid.cpp written by Observer.py\n",
      "././observers/Init2peano4_toolbox_particles_UpdateParticleGridAssociation0.h written by ActionSet.py\n",
      "././observers/Init2peano4_toolbox_particles_UpdateParticleGridAssociation0.cpp written by ActionSet.py\n",
      "././observers/Init2peano4_toolbox_particles_InsertRandomParticlesIntoUnrefinedCells1.h written by ActionSet.py\n",
      "././observers/Init2peano4_toolbox_particles_InsertRandomParticlesIntoUnrefinedCells1.cpp written by ActionSet.py\n",
      "././observers/Init2peano4_toolbox_particles_ParticleAMR2.h written by ActionSet.py\n",
      "././observers/Init2peano4_toolbox_particles_ParticleAMR2.cpp written by ActionSet.py\n",
      "././observers/Init2peano4_toolbox_particles_ParticleTreeAnalysis3.h written by ActionSet.py\n",
      "././observers/Init2peano4_toolbox_particles_ParticleTreeAnalysis3.cpp written by ActionSet.py\n",
      "write ././observers/Init.h\n",
      "././observers/Init.cpp written by Observer.py\n",
      "././observers/Plot2peano4_toolbox_PlotGridInPeanoBlockFormat0.h written by ActionSet.py\n",
      "././observers/Plot2peano4_toolbox_PlotGridInPeanoBlockFormat0.cpp written by ActionSet.py\n",
      "././observers/Plot2peano4_toolbox_particles_PlotParticlesInVTKFormat1.h written by ActionSet.py\n",
      "././observers/Plot2peano4_toolbox_particles_PlotParticlesInVTKFormat1.cpp written by ActionSet.py\n",
      "write ././observers/Plot.h\n",
      "././observers/Plot.cpp written by Observer.py\n",
      "././actions/Move.h written by ActionSet.py\n",
      "././actions/Move.cpp written by ActionSet.py\n",
      "././observers/Move2peano4_toolbox_particles_UpdateParticleGridAssociation1.h written by ActionSet.py\n",
      "././observers/Move2peano4_toolbox_particles_UpdateParticleGridAssociation1.cpp written by ActionSet.py\n",
      "././observers/Move2peano4_toolbox_particles_ParticleAMR2.h written by ActionSet.py\n",
      "././observers/Move2peano4_toolbox_particles_ParticleAMR2.cpp written by ActionSet.py\n",
      "././observers/Move2peano4_toolbox_particles_ParticleTreeAnalysis3.h written by ActionSet.py\n",
      "././observers/Move2peano4_toolbox_particles_ParticleTreeAnalysis3.cpp written by ActionSet.py\n",
      "write ././observers/Move.h\n",
      "././observers/Move.cpp written by Observer.py\n",
      "./repositories/StepRepository.h written by TemplatedHeaderImplementationFilePair.py\n",
      "./repositories/StepRepository.cpp written by TemplatedHeaderImplementationFilePair.py\n",
      "write ./Constants.h\n",
      "generation complete\n"
     ]
    }
   ],
   "source": [
    "project.generate()"
   ]
  },
  {
   "cell_type": "markdown",
   "metadata": {},
   "source": [
    "## Write the main\n",
    "\n",
    "This time, the main is slightly more sophisticated. We continue to set up the grid as before, but then we always run 10 iterations of the Move, i.e. we do 10 time steps, and then we plot. The whole sequence is repeated a couple of times. Have a look into the main file in the repo to see the whole snippet:\n",
    "\n",
    "    ...\n",
    "    for (int i=0; i<100; i++) {\n",
    "      for (int j=0; j<10; j++) {\n",
    "        examples::particles::observers::Move moveObserver;\n",
    "        peano4::parallel::SpacetreeSet::getInstance().traverse(moveObserver);\n",
    "      }\n",
    "      logInfo( \"main()\", \"plot\" )\n",
    "      examples::particles::observers::Plot plotTimeStepObserver;\n",
    "      peano4::parallel::SpacetreeSet::getInstance().traverse(plotTimeStepObserver);\n",
    "    }\n"
   ]
  },
  {
   "cell_type": "markdown",
   "metadata": {},
   "source": [
    "## Write the actual particle movement\n",
    "\n",
    "We will implement the actual particle movement ourselves. For this, we have asked Move to be an action set with manual user code, and indeed we get a Move class in the actions subdirectory once we have triggered the build process. This is, same as main, an empty blueprint. We can alter it, and Peano won't overwrite it anymore after that. If we delete it, the API will regenerate it however. The current example has already a pre-prepared Move, so it won't be empty, but you might want to delete it and regenerate it to see what you get in the first place.\n",
    "\n",
    "Here's what I changed in the Move class: Move is a standard class which defines an action set: There's a fixed number of callbacks that are invoked by Peano, and we can use these to inject behaviour. I only alter (or plug into) three actions: \n",
    "\n",
    "### First access to vertex\n",
    "\n",
    "Particles are associated to vertices. So when I hit a vertex the first time, I also hit the particles associated with it for the first time. I run over them, and set their status to NotMovedYet:\n",
    "\n",
    "     for (auto& p: fineGridVertexParticleSet) {\n",
    "       p->setMoveState( globaldata::Particle::MoveState::NotMovedYet );\n",
    "     }\n",
    "\n",
    "### Hit cell\n",
    "\n",
    "When I hit a cell, I actually evaluate the \"forces\" and alter the particles' velocities. I do this only for the particles that reside within the cell, as I know that a neighbouring cell will either be hit after or before the current one. If I modified all particles associated with the 2^d vertices of a cell, I'd modify particles multiple times. \n",
    "\n",
    "Please note that I only change the particles' attributes. I do not change their position. That means, the logical topology of all data, i.e. how they are assigned to vertices remains valid and intact. This means that we don't care how Peano runs through the cells. All data remains valid.\n",
    "\n",
    "Please see touchCellFirstTime() for details.\n",
    "\n",
    "\n",
    "### Last access to vertex\n",
    "\n",
    "When I hit a vertex for the last time, I know that all 2^d adjacent cells have been \"visited\". Therefore, I can now finally update the vertex position. The vertex won't be used by neighbouring cells anymore and we are fine. Again, I do this only for particles that haven't moved yet. Otherwise we might move a particle, it ends up around another vertex that we haven't processed yet and then it is moved again.\n",
    "\n",
    "    const double timeStepSize = 0.0001;\n",
    "    for (auto& p: fineGridVertexParticleSet) {\n",
    "      if (\n",
    "        p->getMoveState()!=globaldata::Particle::MoveState::Moved\n",
    "        and\n",
    "        p->getParallelState()==globaldata::Particle::ParallelState::Local\n",
    "      ) {\n",
    "        p->setX( p->getX() + timeStepSize * p->getV() );\n",
    "        for (int d=0; d<Dimensions; d++) {\n",
    "          if ( p->getX()(d)<0.0 ) {\n",
    "            p->setV(d, std::abs(p->getV()(d)));\n",
    "          }\n",
    "          if ( p->getX()(d)>1.0 ) {\n",
    "            p->setV(d, -std::abs(p->getV()(d)));\n",
    "          }\n",
    "        }\n",
    "      }\n",
    "      p->setMoveState( globaldata::Particle::MoveState::Moved );\n",
    "    }\n",
    "\n",
    "You see, we also add reflecting boundary conditions.\n"
   ]
  },
  {
   "cell_type": "markdown",
   "metadata": {},
   "source": [
    "## Build the code"
   ]
  },
  {
   "cell_type": "code",
   "execution_count": 11,
   "metadata": {},
   "outputs": [
    {
     "name": "stdout",
     "output_type": "stream",
     "text": [
      "clean up project ...\n",
      "rm -f celldata/ParticleSetCellStatistics.o vertexdata/ParticleSet.o globaldata/Particle.o repositories/DataRepository.o ./observers/CreateGrid2peano4_toolbox_CreateRegularGrid0.o ./observers/CreateGrid.o ./observers/Init2peano4_toolbox_particles_UpdateParticleGridAssociation0.o ./observers/Init2peano4_toolbox_particles_InsertRandomParticlesIntoUnrefinedCells1.o ./observers/Init2peano4_toolbox_particles_ParticleAMR2.o ./observers/Init2peano4_toolbox_particles_ParticleTreeAnalysis3.o ./observers/Init.o ./observers/Plot2peano4_toolbox_PlotGridInPeanoBlockFormat0.o ./observers/Plot2peano4_toolbox_particles_PlotParticlesInVTKFormat1.o ./observers/Plot.o ./actions/Move.o ./observers/Move2peano4_toolbox_particles_UpdateParticleGridAssociation1.o ./observers/Move2peano4_toolbox_particles_ParticleAMR2.o ./observers/Move2peano4_toolbox_particles_ParticleTreeAnalysis3.o ./observers/Move.o repositories/StepRepository.o particle-particle-interaction-main.o    \n",
      "rm -f *.mod\n",
      "rm -f peano4\n",
      "clean complete\n",
      "start to compile with concurrency level of 8 ...\n",
      "particle-particle-interaction-main.cpp:142:23: error: incomplete type 'tarch::logging::CommandLineLogger' named in nested name specifier\n",
      "      tarch::logging::CommandLineLogger::getInstance().closeOutputStreamAndReopenNewOne();\n",
      "      ~~~~~~~~~~~~~~~~^~~~~~~~~~~~~~~~~~~\n",
      "../../../src/tarch/logging/Log.h:28:11: note: forward declaration of 'tarch::logging::CommandLineLogger'\n",
      "    class CommandLineLogger;\n",
      "          ^\n",
      "1 error generated.\n",
      "make: *** [Makefile:53: particle-particle-interaction-main.o] Error 1\n",
      "make: *** Waiting for unfinished jobs....\n",
      "\n",
      "compile not successful\n"
     ]
    }
   ],
   "source": [
    "project.build()"
   ]
  },
  {
   "cell_type": "markdown",
   "metadata": {},
   "source": [
    "## Run code"
   ]
  },
  {
   "cell_type": "code",
   "execution_count": null,
   "metadata": {},
   "outputs": [],
   "source": [
    "output_files = [ f for f in os.listdir(\".\") if f.endswith(\".peano-patch-file\") or f.endswith(\".vtu\") or f.endswith(\".pvd\") ]\n",
    "for f in output_files:\n",
    "  os.remove(f)\n"
   ]
  },
  {
   "cell_type": "code",
   "execution_count": null,
   "metadata": {},
   "outputs": [],
   "source": [
    "# success = project.run( args=[\"--threads\", \"1\"], prefix=[\"mpirun\", \"-n\", \"1\"] )\n",
    "!./peano4"
   ]
  },
  {
   "cell_type": "markdown",
   "metadata": {},
   "source": [
    "# Wrap-up\n",
    "\n",
    "Our introductions here follow a standard Peano development pattern. Very often, we write codes via the right action sets. Once these have converged and are mature, we refactor them out into the Python API as toolset. That's how the whole particle toolset emerged. This way, they can be used easily by other users. Consequently, our next example on multiscale particles won't use a hand-written action set anymore. It will be use a pre-manufactured action set from the toolset and insert code snippets into this one.\n",
    "\n",
    "If you study the code en detail (and let it run for a while), you'll recognise that something is wrong. This is where we need multiscale data ..."
   ]
  },
  {
   "cell_type": "code",
   "execution_count": null,
   "metadata": {},
   "outputs": [],
   "source": []
  }
 ],
 "metadata": {
  "finalized": {
   "timestamp": 1602621102736,
   "trusted": true
  },
  "kernelspec": {
   "display_name": "Python 3 (ipykernel)",
   "language": "python",
   "name": "python3"
  },
  "language_info": {
   "codemirror_mode": {
    "name": "ipython",
    "version": 3
   },
   "file_extension": ".py",
   "mimetype": "text/x-python",
   "name": "python",
   "nbconvert_exporter": "python",
   "pygments_lexer": "ipython3",
   "version": "3.8.12"
  },
  "latex_envs": {
   "LaTeX_envs_menu_present": true,
   "autoclose": false,
   "autocomplete": true,
   "bibliofile": "biblio.bib",
   "cite_by": "apalike",
   "current_citInitial": 1,
   "eqLabelWithNumbers": true,
   "eqNumInitial": 1,
   "hotkeys": {
    "equation": "Ctrl-E",
    "itemize": "Ctrl-I"
   },
   "labels_anchors": false,
   "latex_user_defs": false,
   "report_style_numbering": false,
   "user_envs_cfg": false
  }
 },
 "nbformat": 4,
 "nbformat_minor": 4
}

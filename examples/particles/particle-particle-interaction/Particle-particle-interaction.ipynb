{
 "cells": [
  {
   "cell_type": "markdown",
   "metadata": {},
   "source": [
    "# Very primitive particle-particle interaction in Peano 4\n",
    "\n",
    "A very simple demonstration how to extend the simple particle setup with an explicit Euler and some simple particle-particle interaction. We use a fake potential, so there's no physical meaning in this example. However, it demonstrates the principles behind multibody simulations with the Peano toolbox."
   ]
  },
  {
   "cell_type": "code",
   "execution_count": 1,
   "metadata": {},
   "outputs": [
    {
     "name": "stdout",
     "output_type": "stream",
     "text": [
      "DaStGen 2 (C) www.peano-framework.org\n",
      "Peano 4 (C) www.peano-framework.org\n"
     ]
    }
   ],
   "source": [
    "import os\n",
    "\n",
    "import peano4\n",
    "import peano4.dastgen2\n",
    "import peano4.toolbox\n",
    "import peano4.toolbox.particles\n",
    "import dastgen2\n"
   ]
  },
  {
   "cell_type": "code",
   "execution_count": 2,
   "metadata": {},
   "outputs": [],
   "source": [
    "project = peano4.Project( [\"examples\", \"particles\"], \"particle-particle-interaction\", \".\" )"
   ]
  },
  {
   "cell_type": "code",
   "execution_count": 3,
   "metadata": {},
   "outputs": [
    {
     "name": "stdout",
     "output_type": "stream",
     "text": [
      "parse configure outcome ../../../config.log to extract configure settings\n",
      "found the configure call info   $ ./configure CXX=icpx --enable-exahype --enable-loadbalancing --with-multithreading=omp CXXFLAGS=--std=c++17 -fopenmp -DnoMPISupportsSingleSidedCommunication LDFLAGS=-fopenmp --enable-blockstructured --enable-particles\n",
      "\n",
      "parse configure outcome ../../../src/Makefile to extract compile settings\n",
      "add CXX=icpx\n",
      "add CXXFLAGS=--std=c++17 -fopenmp -DnoMPISupportsSingleSidedCommunication\n",
      "add CXXFLAGS_PEANO_2D_ASSERTS=-DDimensions=2 -DPeanoDebug=2 -g3 -O0\n",
      "add CXXFLAGS_PEANO_2D_DEBUG=-DDimensions=2 -DPeanoDebug=4 -g3 -O0\n",
      "add CXXFLAGS_PEANO_2D_RELEASE=-DDimensions=2 -DPeanoDebug=0\n",
      "add CXXFLAGS_PEANO_2D_STATS=-DDimensions=2 -DPeanoDebug=0 -DTrackStatistics\n",
      "add CXXFLAGS_PEANO_2D_TRACE=-DDimensions=2 -DPeanoDebug=1 -g3\n",
      "add CXXFLAGS_PEANO_3D_ASSERTS=-DDimensions=3 -DPeanoDebug=2 -g3 -O0\n",
      "add CXXFLAGS_PEANO_3D_DEBUG=-DDimensions=3 -DPeanoDebug=4 -g3 -O0\n",
      "add CXXFLAGS_PEANO_3D_RELEASE=-DDimensions=3 -DPeanoDebug=0\n",
      "add CXXFLAGS_PEANO_3D_STATS=-DDimensions=3 -DPeanoDebug=0 -DTrackStatistics\n",
      "add CXXFLAGS_PEANO_3D_TRACE=-DDimensions=3 -DPeanoDebug=1 -g3\n",
      "add FC=gfortran\n",
      "add LDADD_PEANO_2D_ASSERTS=-lExaHyPE2Core2d_asserts  -lToolboxBlockstructured2d_asserts  -lToolboxLoadBalancing2d_asserts  -lPeano4Core2d_asserts -lTarch_asserts   -lToolboxParticles2d_asserts  -lToolboxBlockstructured2d_asserts  -lToolboxLoadBalancing2d_asserts  -lPeano4Core2d_asserts -lTarch_asserts\n",
      "add LDADD_PEANO_2D_DEBUG=-lExaHyPE2Core2d_debug      -lToolboxBlockstructured2d_debug      -lToolboxLoadBalancing2d_debug      -lPeano4Core2d_debug   -lTarch_debug     -lToolboxParticles2d_debug      -lToolboxBlockstructured2d_debug      -lToolboxLoadBalancing2d_debug      -lPeano4Core2d_debug   -lTarch_debug\n",
      "add LDADD_PEANO_2D_RELEASE=-lExaHyPE2Core2d          -lToolboxBlockstructured2d          -lToolboxLoadBalancing2d          -lPeano4Core2d         -lTarch   -lToolboxParticles2d          -lToolboxBlockstructured2d          -lToolboxLoadBalancing2d          -lPeano4Core2d         -lTarch\n",
      "add LDADD_PEANO_2D_STATS=-lExaHyPE2Core2d_stats      -lToolboxBlockstructured2d_stats      -lToolboxLoadBalancing2d_stats      -lPeano4Core2d_stats   -lTarch_stats     -lToolboxParticles2d_stats      -lToolboxBlockstructured2d_stats      -lToolboxLoadBalancing2d_stats      -lPeano4Core2d_stats   -lTarch_stats\n",
      "add LDADD_PEANO_2D_TRACE=-lExaHyPE2Core2d_trace      -lToolboxBlockstructured2d_trace      -lToolboxLoadBalancing2d_trace      -lPeano4Core2d_trace   -lTarch_trace     -lToolboxParticles2d_trace      -lToolboxBlockstructured2d_trace      -lToolboxLoadBalancing2d_trace      -lPeano4Core2d_trace   -lTarch_trace\n",
      "add LDADD_PEANO_3D_ASSERTS=-lExaHyPE2Core3d_asserts  -lToolboxBlockstructured3d_asserts  -lToolboxLoadBalancing3d_asserts  -lPeano4Core3d_asserts -lTarch_asserts   -lToolboxParticles3d_asserts  -lToolboxBlockstructured3d_asserts  -lToolboxLoadBalancing3d_asserts  -lPeano4Core3d_asserts -lTarch_asserts\n",
      "add LDADD_PEANO_3D_DEBUG=-lExaHyPE2Core3d_debug      -lToolboxBlockstructured3d_debug      -lToolboxLoadBalancing3d_debug      -lPeano4Core3d_debug   -lTarch_debug     -lToolboxParticles3d_debug      -lToolboxBlockstructured3d_debug      -lToolboxLoadBalancing3d_debug      -lPeano4Core3d_debug   -lTarch_debug\n",
      "add LDADD_PEANO_3D_RELEASE=-lExaHyPE2Core3d          -lToolboxBlockstructured3d          -lToolboxLoadBalancing3d          -lPeano4Core3d         -lTarch   -lToolboxParticles3d          -lToolboxBlockstructured3d          -lToolboxLoadBalancing3d          -lPeano4Core3d         -lTarch\n",
      "add LDADD_PEANO_3D_STATS=-lExaHyPE2Core3d_stats      -lToolboxBlockstructured3d_stats      -lToolboxLoadBalancing3d_stats      -lPeano4Core3d_stats   -lTarch_stats     -lToolboxParticles3d_stats      -lToolboxBlockstructured3d_stats      -lToolboxLoadBalancing3d_stats      -lPeano4Core3d_stats   -lTarch_stats\n",
      "add LDADD_PEANO_3D_TRACE=-lExaHyPE2Core3d_trace      -lToolboxBlockstructured3d_trace      -lToolboxLoadBalancing3d_trace      -lPeano4Core3d_trace   -lTarch_trace     -lToolboxParticles3d_trace      -lToolboxBlockstructured3d_trace      -lToolboxLoadBalancing3d_trace      -lPeano4Core3d_trace   -lTarch_trace\n",
      "add LDFLAGS=-fopenmp\n",
      "add LDFLAGS_PEANO_ASSERTS=-L/home/tobias/git/Peano/src -g3 -L/home/tobias/git/Peano/src/toolbox/loadbalancing  -L/home/tobias/git/Peano/src/toolbox/blockstructured  -L/home/tobias/git/Peano/src/toolbox/particles  -L/home/tobias/git/Peano/src/exahype2\n",
      "add LDFLAGS_PEANO_DEBUG=-L/home/tobias/git/Peano/src -g3   -L/home/tobias/git/Peano/src/toolbox/loadbalancing    -L/home/tobias/git/Peano/src/toolbox/blockstructured    -L/home/tobias/git/Peano/src/toolbox/particles    -L/home/tobias/git/Peano/src/exahype2\n",
      "add LDFLAGS_PEANO_RELEASE=-L/home/tobias/git/Peano/src  -L/home/tobias/git/Peano/src/toolbox/loadbalancing  -L/home/tobias/git/Peano/src/toolbox/blockstructured  -L/home/tobias/git/Peano/src/toolbox/particles  -L/home/tobias/git/Peano/src/exahype2\n",
      "add LDFLAGS_PEANO_STATS=-L/home/tobias/git/Peano/src    -L/home/tobias/git/Peano/src/toolbox/loadbalancing    -L/home/tobias/git/Peano/src/toolbox/blockstructured    -L/home/tobias/git/Peano/src/toolbox/particles    -L/home/tobias/git/Peano/src/exahype2\n",
      "add LDFLAGS_PEANO_TRACE=-L/home/tobias/git/Peano/src -g3   -L/home/tobias/git/Peano/src/toolbox/loadbalancing    -L/home/tobias/git/Peano/src/toolbox/blockstructured    -L/home/tobias/git/Peano/src/toolbox/particles    -L/home/tobias/git/Peano/src/exahype2\n",
      "used OpenMP tasking backend. Augment linker with  -fopenmp \n"
     ]
    }
   ],
   "source": [
    "build_mode = peano4.output.CompileMode.Asserts\n",
    "project.output.makefile.parse_configure_script_outcome( \"../../..\" )\n",
    "project.output.makefile.set_mode( build_mode )"
   ]
  },
  {
   "cell_type": "markdown",
   "metadata": {},
   "source": [
    "## Model the particle\n",
    "\n",
    "This time, we add an additional velocity field to the particle. We use Peano's double array here for the velocities to have full support of Peano's vector classes. Instead of saying that this array had two or three entries, we parameterise it through the symbol Dimensions. This way, our code will immediately run for 2d and 3d without any changes. Dimensions is a constant that Peano 4 defines. There are few of these, but Dimensions is really the important one."
   ]
  },
  {
   "cell_type": "code",
   "execution_count": 4,
   "metadata": {},
   "outputs": [
    {
     "name": "stdout",
     "output_type": "stream",
     "text": [
      "Warning: particle Particle is not (yet) added to project via add_global_object() and thus has invalid DoF association\n"
     ]
    }
   ],
   "source": [
    "particle  = peano4.toolbox.particles.Particle( \"Particle\" )\n",
    "particle.data.add_attribute( peano4.dastgen2.Peano4DoubleArray(\"v\",\"Dimensions\") )\n",
    "particles = peano4.toolbox.particles.ParticleSet( particle )"
   ]
  },
  {
   "cell_type": "code",
   "execution_count": 5,
   "metadata": {},
   "outputs": [],
   "source": [
    "project.datamodel.add_global_object(particle)\n",
    "project.datamodel.add_vertex(particles)"
   ]
  },
  {
   "cell_type": "markdown",
   "metadata": {},
   "source": [
    "## Model the setup phases\n",
    "\n",
    "The setup remains almost unchanged. The one tiny little difference is that we initialise the velocity properly when we create a particle. The generator above gives you different settings for v. We set the velocity component-wisely here."
   ]
  },
  {
   "cell_type": "code",
   "execution_count": 6,
   "metadata": {},
   "outputs": [
    {
     "ename": "NameError",
     "evalue": "name 'particle_tree_analysis' is not defined",
     "output_type": "error",
     "traceback": [
      "\u001b[0;31m---------------------------------------------------------------------------\u001b[0m",
      "\u001b[0;31mNameError\u001b[0m                                 Traceback (most recent call last)",
      "\u001b[0;32m/tmp/ipykernel_4684/1151360523.py\u001b[0m in \u001b[0;36m<module>\u001b[0;34m\u001b[0m\n\u001b[1;32m      4\u001b[0m \u001b[0mcreate_grid\u001b[0m\u001b[0;34m.\u001b[0m\u001b[0madd_action_set\u001b[0m\u001b[0;34m(\u001b[0m \u001b[0mpeano4\u001b[0m\u001b[0;34m.\u001b[0m\u001b[0mtoolbox\u001b[0m\u001b[0;34m.\u001b[0m\u001b[0mCreateRegularGrid\u001b[0m\u001b[0;34m(\u001b[0m\u001b[0mmesh_size\u001b[0m\u001b[0;34m)\u001b[0m \u001b[0;34m)\u001b[0m\u001b[0;34m\u001b[0m\u001b[0;34m\u001b[0m\u001b[0m\n\u001b[1;32m      5\u001b[0m \u001b[0mcreate_grid\u001b[0m\u001b[0;34m.\u001b[0m\u001b[0muse_vertex\u001b[0m\u001b[0;34m(\u001b[0m\u001b[0mparticles\u001b[0m\u001b[0;34m)\u001b[0m\u001b[0;34m\u001b[0m\u001b[0;34m\u001b[0m\u001b[0m\n\u001b[0;32m----> 6\u001b[0;31m \u001b[0mcreate_grid\u001b[0m\u001b[0;34m.\u001b[0m\u001b[0muse_cell\u001b[0m\u001b[0;34m(\u001b[0m\u001b[0mparticle_tree_analysis\u001b[0m\u001b[0;34m.\u001b[0m\u001b[0mcell_marker\u001b[0m\u001b[0;34m)\u001b[0m\u001b[0;34m\u001b[0m\u001b[0;34m\u001b[0m\u001b[0m\n\u001b[0m\u001b[1;32m      7\u001b[0m \u001b[0mproject\u001b[0m\u001b[0;34m.\u001b[0m\u001b[0msolversteps\u001b[0m\u001b[0;34m.\u001b[0m\u001b[0madd_step\u001b[0m\u001b[0;34m(\u001b[0m\u001b[0mcreate_grid\u001b[0m\u001b[0;34m)\u001b[0m\u001b[0;34m\u001b[0m\u001b[0;34m\u001b[0m\u001b[0m\n",
      "\u001b[0;31mNameError\u001b[0m: name 'particle_tree_analysis' is not defined"
     ]
    }
   ],
   "source": [
    "mesh_size = 0.2\n",
    "\n",
    "create_grid = peano4.solversteps.Step( name=\"CreateGrid\", add_user_defined_actions=False )\n",
    "create_grid.add_action_set( peano4.toolbox.CreateRegularGrid(mesh_size) )\n",
    "create_grid.use_vertex(particles)\n",
    "create_grid.use_cell(particle_tree_analysis.cell_marker)\n",
    "project.solversteps.add_step(create_grid)"
   ]
  },
  {
   "cell_type": "code",
   "execution_count": 7,
   "metadata": {},
   "outputs": [],
   "source": [
    "particle_tree_analysis = peano4.toolbox.particles.ParticleTreeAnalysis(particles)\n",
    "project.datamodel.add_cell(particle_tree_analysis.cell_marker)   # read docu of ParticleTreeAnalysis\n",
    "\n",
    "initialisation_snippet = \"\"\"\n",
    " // we could do something intelligent here, but we actually\n",
    " // just set the cut-off radius\n",
    " particle->setCutOffRadius(0.001);\n",
    " particle->setV(0,0.0);\n",
    " particle->setV(1,0.0);\n",
    "\"\"\"\n",
    "\n",
    "init_setup = peano4.solversteps.Step( name=\"Init\", add_user_defined_actions=False )\n",
    "init_setup.use_vertex(particles)\n",
    "init_setup.use_cell(particle_tree_analysis.cell_marker)\n",
    "init_setup.add_action_set( peano4.toolbox.particles.UpdateParticleGridAssociation(particles) )\n",
    "init_setup.add_action_set( peano4.toolbox.particles.InsertRandomParticlesIntoUnrefinedCells(\n",
    "  particle_set=particles,\n",
    "  average_distance_between_particles=mesh_size/10,\n",
    "  initialisation_call=initialisation_snippet,\n",
    "  noise=True ))\n",
    "init_setup.add_action_set( peano4.toolbox.particles.ParticleAMR(particles,particle_tree_analysis) )\n",
    "init_setup.add_action_set( particle_tree_analysis )\n",
    "project.solversteps.add_step(init_setup)"
   ]
  },
  {
   "cell_type": "code",
   "execution_count": 8,
   "metadata": {},
   "outputs": [],
   "source": [
    "print_solution = peano4.solversteps.Step( \"Plot\", add_user_defined_actions=False )\n",
    "print_solution.use_vertex(particles)\n",
    "print_solution.use_cell(particle_tree_analysis.cell_marker)\n",
    "print_solution.add_action_set( peano4.toolbox.PlotGridInPeanoBlockFormat( filename=\"grid\", time_stamp_evaluation=peano4.toolbox.PlotGridInPeanoBlockFormat.CountTimeSteps ) )\n",
    "print_solution.add_action_set( peano4.toolbox.particles.PlotParticlesInVTKFormat( \"particles\", particles, time_stamp_evaluation=peano4.toolbox.particles.PlotParticlesInVTKFormat.CountTimeSteps ) )\n",
    "project.solversteps.add_step(print_solution)\n"
   ]
  },
  {
   "cell_type": "markdown",
   "metadata": {},
   "source": [
    "## Particle behaviour\n",
    "\n",
    "Our particle behaviour corresponds to a new algorithmic phase: the move. Compared to the other algorithmic steps, the big (technical) difference this time is that we ask Peano to give us a user-defined hook-in point for the action set. That is, not all the behaviour is realised via pre-manufactured action sets anymore."
   ]
  },
  {
   "cell_type": "code",
   "execution_count": 9,
   "metadata": {},
   "outputs": [],
   "source": [
    "move_particles = peano4.solversteps.Step( \"Move\" )\n",
    "move_particles.use_vertex(particles)\n",
    "move_particles.use_cell(particle_tree_analysis.cell_marker)\n",
    "move_particles.add_action_set( peano4.toolbox.particles.UpdateParticleGridAssociation(particles) )\n",
    "move_particles.add_action_set( peano4.toolbox.particles.ParticleAMR(particles,particle_tree_analysis) )\n",
    "move_particles.add_action_set( particle_tree_analysis )\n",
    "project.solversteps.add_step(move_particles)"
   ]
  },
  {
   "cell_type": "markdown",
   "metadata": {},
   "source": [
    "## Generate the actual C++ code\n",
    "\n",
    "Next, we generate the actual Peano 4 C++ code:"
   ]
  },
  {
   "cell_type": "code",
   "execution_count": 10,
   "metadata": {
    "scrolled": true
   },
   "outputs": [
    {
     "name": "stdout",
     "output_type": "stream",
     "text": [
      "generate all code ...\n",
      "user has to modify class Move in actions directory manually \n",
      "generated particle-particle-interaction-main.cpp\n",
      "write ./Makefile\n",
      "./vertexdata/ParticleSet.h written by Jinja2TemplatedHeaderImplementationFilePair.py (from template /home/tobias/git/Peano/python/peano4/toolbox/particles/ParticleSet.template.h)\n",
      "./vertexdata/ParticleSet.cpp written by Jinja2TemplatedHeaderImplementationFilePair.py (from template /home/tobias/git/Peano/python/peano4/toolbox/particles/ParticleSet.template.cpp)\n",
      "./repositories/DataRepository.h written by TemplatedHeaderImplementationFilePair.py\n",
      "./repositories/DataRepository.cpp written by TemplatedHeaderImplementationFilePair.py\n",
      "././observers/Init2peano4_toolbox_particles_UpdateParticleGridAssociation0.h written by ActionSet.py\n",
      "././observers/Init2peano4_toolbox_particles_UpdateParticleGridAssociation0.cpp written by ActionSet.py\n",
      "././observers/Init2peano4_toolbox_particles_InsertRandomParticlesIntoUnrefinedCells1.h written by ActionSet.py\n",
      "././observers/Init2peano4_toolbox_particles_InsertRandomParticlesIntoUnrefinedCells1.cpp written by ActionSet.py\n",
      "././observers/Init2peano4_toolbox_particles_ParticleAMR2.h written by ActionSet.py\n",
      "././observers/Init2peano4_toolbox_particles_ParticleAMR2.cpp written by ActionSet.py\n",
      "././observers/Init2peano4_toolbox_particles_ParticleTreeAnalysis3.h written by ActionSet.py\n",
      "././observers/Init2peano4_toolbox_particles_ParticleTreeAnalysis3.cpp written by ActionSet.py\n",
      "write ././observers/Init.h\n",
      "././observers/Init.cpp written by Observer.py\n",
      "././observers/Plot2peano4_toolbox_PlotGridInPeanoBlockFormat0.h written by ActionSet.py\n",
      "././observers/Plot2peano4_toolbox_PlotGridInPeanoBlockFormat0.cpp written by ActionSet.py\n",
      "././observers/Plot2peano4_toolbox_particles_PlotParticlesInVTKFormat1.h written by ActionSet.py\n",
      "././observers/Plot2peano4_toolbox_particles_PlotParticlesInVTKFormat1.cpp written by ActionSet.py\n",
      "write ././observers/Plot.h\n",
      "././observers/Plot.cpp written by Observer.py\n",
      "././actions/Move.h written by ActionSet.py\n",
      "././actions/Move.cpp written by ActionSet.py\n",
      "././observers/Move2peano4_toolbox_particles_UpdateParticleGridAssociation1.h written by ActionSet.py\n",
      "././observers/Move2peano4_toolbox_particles_UpdateParticleGridAssociation1.cpp written by ActionSet.py\n",
      "././observers/Move2peano4_toolbox_particles_ParticleAMR2.h written by ActionSet.py\n",
      "././observers/Move2peano4_toolbox_particles_ParticleAMR2.cpp written by ActionSet.py\n",
      "././observers/Move2peano4_toolbox_particles_ParticleTreeAnalysis3.h written by ActionSet.py\n",
      "././observers/Move2peano4_toolbox_particles_ParticleTreeAnalysis3.cpp written by ActionSet.py\n",
      "write ././observers/Move.h\n",
      "././observers/Move.cpp written by Observer.py\n",
      "./repositories/StepRepository.h written by TemplatedHeaderImplementationFilePair.py\n",
      "./repositories/StepRepository.cpp written by TemplatedHeaderImplementationFilePair.py\n",
      "././particle-particle-interaction-main.h written by TemplatedHeaderImplementationFilePair.py\n",
      "././particle-particle-interaction-main.cpp written by TemplatedHeaderImplementationFilePair.py\n",
      "write ./Constants.h\n",
      "generation complete\n"
     ]
    }
   ],
   "source": [
    "project.generate()"
   ]
  },
  {
   "cell_type": "markdown",
   "metadata": {},
   "source": [
    "## Write the main\n",
    "\n",
    "There is one file that the Python API cannot write for you: That's the main file. In the present case, the main file is close to trivial: \n",
    "\n",
    "\n",
    "    int gridConstructionSteps = 0;\n",
    "    while (peano4::parallel::SpacetreeSet::getInstance().getGridStatistics().getStationarySweeps()<5) {\n",
    "      logInfo( \"main()\", \"run a grid construction step and insert particles\" );\n",
    "      examples::particles::observers::CreateGrid createObserver;\n",
    "      peano4::parallel::SpacetreeSet::getInstance().traverse(createObserver);\n",
    "      gridConstructionSteps++;\n",
    "    }\n",
    "\n",
    "    logInfo( \"main()\", \"finished grid construction after \" << gridConstructionSteps << \" steps, start timestepping\" )\n",
    "\n",
    "    examples::particles::observers::Init initObserver;\n",
    "    peano4::parallel::SpacetreeSet::getInstance().traverse(initObserver);\n",
    "    logInfo( \"main()\", \"added particles\" )\n",
    "\n",
    "    examples::particles::observers::Plot plotObserver;\n",
    "    peano4::parallel::SpacetreeSet::getInstance().traverse(plotObserver);\n",
    "    logInfo( \"main()\", \"dumped initial condition\" )\n",
    "\n",
    "We don't have to write the surrounding code ourself: If we run generate() as done above, we'll get a main file which we can use as a starting point. Once we have modified this blueprint, subsequent generate() calls won't overwrite our main files anymore. So we are on the save side.\n"
   ]
  },
  {
   "cell_type": "markdown",
   "metadata": {},
   "source": [
    "## Build the code\n",
    "\n",
    "With all in place, we can invoke the build. This could be a plain command line call to make (under the hood, Peano's Python API generates makefiles), but we can also use the Python API."
   ]
  },
  {
   "cell_type": "code",
   "execution_count": null,
   "metadata": {},
   "outputs": [],
   "source": [
    "project.build()"
   ]
  },
  {
   "cell_type": "markdown",
   "metadata": {},
   "source": [
    "## Run code\n",
    "\n",
    "Before we run any code, we clean up, i.e. remove all old output files."
   ]
  },
  {
   "cell_type": "code",
   "execution_count": null,
   "metadata": {},
   "outputs": [],
   "source": [
    "output_files = [ f for f in os.listdir(\".\") if f.endswith(\".peano-patch-file\") or f.endswith(\".vtu\") or f.endswith(\".pvd\") ]\n",
    "for f in output_files:\n",
    "  os.remove(f)\n"
   ]
  },
  {
   "cell_type": "markdown",
   "metadata": {},
   "source": [
    "I could now run the code via a Python command\n",
    "\n",
    "    #success = project.run( args=[], prefix=[\"mpirun\", \"-n\", \"1\"] )\n",
    "    \n",
    "but instead I here decide to access the terminal directly via the notebook. Before you invoke the run, some remarks:\n",
    "\n",
    "- Peano can build code in different versions. By default, I use the assert mode here which is excellent to find errors in the code. For production runs, you should use the release mode (or tracing if you wanna profile).\n",
    "- Our code is not yet MPI-ready. Shared memory would work out of the box, but is not active as we have not yet provided a load balancing criterion. MPI requires slightly more work. So keep you problem smallish.\n",
    "- If you translate in release mode, you'll get a lot of output. Tweak the filters in the main (or use a filter file) to study only those output you are actually interested in."
   ]
  },
  {
   "cell_type": "code",
   "execution_count": null,
   "metadata": {},
   "outputs": [],
   "source": [
    "# success = project.run( args=[\"--threads\", \"1\"], prefix=[\"mpirun\", \"-n\", \"1\"] )\n",
    "!./peano4"
   ]
  },
  {
   "cell_type": "markdown",
   "metadata": {},
   "source": [
    "## Visualisation\n",
    "\n",
    "Peano 4 and its toolboxes provide multiple scripts to postprocess and visualise all output. You can directly visualise runtimes or load distributions with matplotlib, e.g. We don't go down this route in this simple example. We focus only on the particle and grid data.\n",
    "\n",
    "The particle data has been written in a mainstream formats (vtk) that we can load directly into Paraview. This is fine for the time being. For complex simulations, you will want to use tailored, Peano 4-specific formats instead."
   ]
  },
  {
   "cell_type": "code",
   "execution_count": null,
   "metadata": {},
   "outputs": [],
   "source": [
    "from IPython.display import Image\n",
    "!ls ../../python/peano4/toolbox/particles\n",
    "Image(\"particles.png\")"
   ]
  },
  {
   "cell_type": "markdown",
   "metadata": {},
   "source": [
    "The grid is written in Peano's block format which relatively efficient. However, this format cannot be processed by Paraview directly. You first have to convert it. The guidebook discusses various ways to do this, but the Paraview's Python command is perhaps the simplest way:"
   ]
  },
  {
   "cell_type": "code",
   "execution_count": null,
   "metadata": {},
   "outputs": [],
   "source": [
    "!pvpython ../../../python/peano4/visualisation/render.py --filter-fine-grid grid.peano-patch-file"
   ]
  },
  {
   "cell_type": "markdown",
   "metadata": {},
   "source": [
    "We can now combine the particle visualisation with the actual grid. We see exactly what we would expect: A regular grid with roughly the same number of particles (10x10) per cell."
   ]
  },
  {
   "cell_type": "code",
   "execution_count": null,
   "metadata": {},
   "outputs": [],
   "source": [
    "from IPython.display import Image\n",
    "!ls ../../python/peano4/toolbox/particles\n",
    "Image(\"particles-with-grid.png\")"
   ]
  },
  {
   "cell_type": "code",
   "execution_count": null,
   "metadata": {},
   "outputs": [],
   "source": []
  }
 ],
 "metadata": {
  "finalized": {
   "timestamp": 1602621102736,
   "trusted": true
  },
  "kernelspec": {
   "display_name": "Python 3 (ipykernel)",
   "language": "python",
   "name": "python3"
  },
  "language_info": {
   "codemirror_mode": {
    "name": "ipython",
    "version": 3
   },
   "file_extension": ".py",
   "mimetype": "text/x-python",
   "name": "python",
   "nbconvert_exporter": "python",
   "pygments_lexer": "ipython3",
   "version": "3.8.12"
  },
  "latex_envs": {
   "LaTeX_envs_menu_present": true,
   "autoclose": false,
   "autocomplete": true,
   "bibliofile": "biblio.bib",
   "cite_by": "apalike",
   "current_citInitial": 1,
   "eqLabelWithNumbers": true,
   "eqNumInitial": 1,
   "hotkeys": {
    "equation": "Ctrl-E",
    "itemize": "Ctrl-I"
   },
   "labels_anchors": false,
   "latex_user_defs": false,
   "report_style_numbering": false,
   "user_envs_cfg": false
  }
 },
 "nbformat": 4,
 "nbformat_minor": 4
}

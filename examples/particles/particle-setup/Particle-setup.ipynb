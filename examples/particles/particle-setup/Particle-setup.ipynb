{
 "cells": [
  {
   "cell_type": "markdown",
   "metadata": {},
   "source": [
    "# How to set up a particle code in Peano 4\n",
    "\n",
    "A very simple demonstration how to use the pidt (particle in dual tree) scheme\n",
    "within Peano 4. We create a bunch of particles. They are randomly distributed within the unit square. After that, we let Peano 4's particle toolbox puzzle out which particle belongs to which vertex logically, and if we have to refine adaptively if we want to have at most 4 particles in a cell. We eventually terminate. So no particle moves actually."
   ]
  },
  {
   "cell_type": "markdown",
   "metadata": {},
   "source": [
    "Create a project and configure it to end up in a subnamespace (and thus subdirectory). "
   ]
  },
  {
   "cell_type": "code",
   "execution_count": null,
   "metadata": {},
   "outputs": [],
   "source": [
    "import os\n",
    "\n",
    "import peano4\n",
    "import peano4.dastgen2\n",
    "import peano4.toolbox\n",
    "import peano4.toolbox.particles\n",
    "import dastgen2\n"
   ]
  },
  {
   "cell_type": "code",
   "execution_count": null,
   "metadata": {},
   "outputs": [],
   "source": [
    "project = peano4.Project( [\"examples\", \"particles\"], \"particle-setup\", \".\" )"
   ]
  },
  {
   "cell_type": "markdown",
   "metadata": {},
   "source": [
    "## Prepare code\n",
    "\n",
    "Peano's API does not know which settings to use on the present system. To make it copy/clone the settings identified by ./configure, we ask it to parse the generated configuration scripts. \n"
   ]
  },
  {
   "cell_type": "code",
   "execution_count": null,
   "metadata": {},
   "outputs": [],
   "source": [
    "build_mode = peano4.output.CompileMode.Asserts\n",
    "project.output.makefile.parse_configure_script_outcome( \"../../..\" )\n",
    "project.output.makefile.set_mode( build_mode )"
   ]
  },
  {
   "cell_type": "markdown",
   "metadata": {},
   "source": [
    "We now know all about your Peano installation in the Python script, i.e. the project knows where all the libraries are (implicitly, as you have handed in the path) and it knows which options to use to build further code on top of your library. If you have used certain environment variables or modules when you have built the Peano libraries, it is important that the same environment has been used before you start up the Jupyter notebook."
   ]
  },
  {
   "cell_type": "markdown",
   "metadata": {},
   "source": [
    "## Model the particle\n",
    "\n",
    "We create the particle through the toolbox. A particle by definition has a position and a cut-off radius which is all we need in this example. However, you can, in principle, add an arbitrary number of attributes to each particle. You can also have different particle types if you want. We discuss this in the next example when particles actually move."
   ]
  },
  {
   "cell_type": "code",
   "execution_count": null,
   "metadata": {},
   "outputs": [],
   "source": [
    "particle  = peano4.toolbox.particles.Particle( \"Particle\" )\n",
    "particles = peano4.toolbox.particles.ParticleSet( particle )"
   ]
  },
  {
   "cell_type": "markdown",
   "metadata": {},
   "source": [
    "This particle has to be added to the project. This way the project knows that we are working with a particular particle. Next, we associate the particle with the vertices, as we work with the pidt (particle in dual tree) algorithm. In principle, we can also associate particles with cells or faces, but then we do not have Peano's toolbox support to query which particles are around (aka in the area around a cell) or to move particles between different processes."
   ]
  },
  {
   "cell_type": "code",
   "execution_count": null,
   "metadata": {},
   "outputs": [],
   "source": [
    "project.datamodel.add_global_object(particle)\n",
    "project.datamodel.add_vertex(particles)"
   ]
  },
  {
   "cell_type": "markdown",
   "metadata": {},
   "source": [
    "Once we have completed this first setup, you will recognise that the above code snippet generates a simple C++ class with a number of additional attributes. It also creates some MPI routines. For your own project later on, you can either rely on this workflow or you write your own particle classes. In the first variant, the actual C++ particle implementations will always be generated. So the C++ class is a dump particle storage thing subject to some aspects such as MPI data transfer. In return, you can model additional fields et al all through Python. If you decide later to write your own particle C++ classes, you have all the freedom to add routines to the particle, additional fields, and so forth. You work with the whole power of C++ and its encapsulation. In return, you will have to ensure that the particle fits to some basic signature so Peano's toolbox finds all the functions it expects to have. "
   ]
  },
  {
   "cell_type": "markdown",
   "metadata": {},
   "source": [
    "## Model the algorithmic phases\n",
    "\n",
    "Our introductory example orbits around a where nothing happens. Which is not true. This first setup creates a regular grid, inserts some particles, and plots the outcome. Peano will later on intermix and parallelise various activities behind the scene, but as a user we can always think in algorithmic steps on the Python API level which run one after another. We will therefore need three algorithmic steps: CreateGrid, Init and Plot.\n",
    "\n",
    "### Create an initial mesh\n",
    "\n",
    "Creating a step always consists of three activities: create the algorithmic step with a unique name, add the actual action sets, i.e. what is done in this algorithmic step, and finally add all of it to the project. "
   ]
  },
  {
   "cell_type": "code",
   "execution_count": null,
   "metadata": {},
   "outputs": [],
   "source": [
    "mesh_size = 0.2\n",
    "\n",
    "create_grid = peano4.solversteps.Step( name=\"CreateGrid\", add_user_defined_actions=False )\n",
    "create_grid.add_action_set( peano4.toolbox.CreateRegularGrid(mesh_size) )\n",
    "project.solversteps.add_step(create_grid)"
   ]
  },
  {
   "cell_type": "markdown",
   "metadata": {},
   "source": [
    "The first line above defines a \"solver step\" CreateGrid. It also tells Peano that we will not add anything to this step manually. When we skip this flag (default is True), we'll get some C++ code with \n",
    "\n",
    "      // @todo insert your stuff here\n",
    "\n",
    "which we could simply ignore, but passing in False right from the start works, too, and it reduces the number of overall files. In the second line, we add a pre-defined action set. We could actually implement something ourselves which creates a regular grid, but Peano offers something like that already. So why bother. Finally, we add the solver step to our project.\n",
    "\n",
    "You might ask why we have to use the particles and the marker. We don't. But we want to ensure that all data are properly initialised when we create the grid, so we add them here. In general, it is a good idea to make all steps use the same data - even if they don't need it. You can tune such behaviour later.\n",
    "\n",
    "### Init setup (add the particles)\n",
    "\n",
    "Once we have created our grid, we will want to insert the particles. This is our next solver step. Different to the creation, we use some further actions this time: \n",
    "\n",
    "- We make it use the particles.\n",
    "- We rely on some further pre-defined particles which ensure that any particle that we insert is assigned to correct vertex.\n",
    "- We tell Peano that we would like to inject some user code so we can insert particles into unrefined cells.\n",
    "\n",
    "For all of these steps, Peano's particle toolbox provides pre-defined action sets. One of the pre-defined action sets relies on a marker per cell to store information about the tree. So before we start, we create this marker, add it ot the data model and then use the tree analysis over this marker."
   ]
  },
  {
   "cell_type": "code",
   "execution_count": null,
   "metadata": {},
   "outputs": [],
   "source": [
    "particle_tree_analysis = peano4.toolbox.particles.ParticleTreeAnalysis(particles)\n",
    "project.datamodel.add_cell(particle_tree_analysis.cell_marker)   # read docu of ParticleTreeAnalysis\n",
    "\n",
    "initialisation_snippet = \"\"\"\n",
    " // we could do something intelligent here, but we actually\n",
    " // just set the cut-off radius\n",
    " particle->setCutOffRadius(0.001);\n",
    "\"\"\"\n",
    "\n",
    "init_setup = peano4.solversteps.Step( name=\"Init\", add_user_defined_actions=False )\n",
    "init_setup.use_vertex(particles)\n",
    "init_setup.use_cell(particle_tree_analysis.cell_marker)\n",
    "init_setup.add_action_set( peano4.toolbox.particles.UpdateParticleGridAssociation(particles) )\n",
    "init_setup.add_action_set( peano4.toolbox.particles.InsertRandomParticlesIntoUnrefinedCells(\n",
    "  particle_set=particles,\n",
    "  average_distance_between_particles=mesh_size/10,\n",
    "  initialisation_call=initialisation_snippet,\n",
    "  noise=True ))\n",
    "init_setup.add_action_set( peano4.toolbox.particles.ParticleAMR(particles,particle_tree_analysis) )\n",
    "init_setup.add_action_set( particle_tree_analysis )\n",
    "project.solversteps.add_step(init_setup)"
   ]
  },
  {
   "cell_type": "markdown",
   "metadata": {},
   "source": [
    "The above snippet supplements the step with some AMR routines. That makes sense: After we've inserted particles, we might want to refine. As I wrote *after* we have to insert this action set after the insertion.\n",
    "\n",
    "There's a caveat with the code above: It uses the particles sets and the markers of particle_tree_analysis. However these guys are not properly initialised when we hit the initialisation. We also have to add them to the grid creation so they are properly in place when we get here:"
   ]
  },
  {
   "cell_type": "code",
   "execution_count": null,
   "metadata": {},
   "outputs": [],
   "source": [
    "create_grid.use_vertex(particles)\n",
    "create_grid.use_cell(particle_tree_analysis.cell_marker)"
   ]
  },
  {
   "cell_type": "markdown",
   "metadata": {},
   "source": [
    "### Plot outcome \n",
    "\n",
    "Finally, we will have to plot the outcome (or any snapshot). In this setup, I want each of my dumps to produce two types of files: particle data and mesh data. For the mesh, I rely on the toolbox's grid plotting."
   ]
  },
  {
   "cell_type": "code",
   "execution_count": null,
   "metadata": {},
   "outputs": [],
   "source": [
    "print_solution = peano4.solversteps.Step( \"Plot\", add_user_defined_actions=False )\n",
    "print_solution.use_vertex(particles)\n",
    "print_solution.use_cell(particle_tree_analysis.cell_marker)\n",
    "print_solution.add_action_set( peano4.toolbox.PlotGridInPeanoBlockFormat( filename=\"grid\", time_stamp_evaluation=peano4.toolbox.PlotGridInPeanoBlockFormat.CountTimeSteps ) )\n",
    "print_solution.add_action_set( peano4.toolbox.particles.PlotParticlesInVTKFormat( \"particles\", particles, time_stamp_evaluation=peano4.toolbox.particles.PlotParticlesInVTKFormat.CountTimeSteps ) )\n",
    "project.solversteps.add_step(print_solution)\n"
   ]
  },
  {
   "cell_type": "markdown",
   "metadata": {},
   "source": [
    "## Generate the actual C++ code\n",
    "\n",
    "Next, we generate the actual Peano 4 C++ code:"
   ]
  },
  {
   "cell_type": "code",
   "execution_count": null,
   "metadata": {
    "scrolled": true
   },
   "outputs": [],
   "source": [
    "project.generate()"
   ]
  },
  {
   "cell_type": "markdown",
   "metadata": {},
   "source": [
    "we run through the standard triad of instructions of any Peano Python code. You can skip the first two steps if you want as the script then will automatically invoke the previous steps. The other way round, it is always admissible to only generate stuff, e.g., but to build and run the project through a command line."
   ]
  },
  {
   "cell_type": "markdown",
   "metadata": {},
   "source": [
    "## Write the main\n",
    "\n",
    "There is one file that the Python API cannot write for you: That's the main file. In the present case, the main file is close to trivial: \n",
    "\n",
    "\n",
    "    int gridConstructionSteps = 0;\n",
    "    while (peano4::parallel::SpacetreeSet::getInstance().getGridStatistics().getStationarySweeps()<5) {\n",
    "      logInfo( \"main()\", \"run a grid construction step and insert particles\" );\n",
    "      examples::particles::observers::CreateGrid createObserver;\n",
    "      peano4::parallel::SpacetreeSet::getInstance().traverse(createObserver);\n",
    "      gridConstructionSteps++;\n",
    "    }\n",
    "\n",
    "    logInfo( \"main()\", \"finished grid construction after \" << gridConstructionSteps << \" steps, start timestepping\" )\n",
    "\n",
    "    examples::particles::observers::Init initObserver;\n",
    "    peano4::parallel::SpacetreeSet::getInstance().traverse(initObserver);\n",
    "    logInfo( \"main()\", \"added particles\" )\n",
    "\n",
    "    examples::particles::observers::Plot plotObserver;\n",
    "    peano4::parallel::SpacetreeSet::getInstance().traverse(plotObserver);\n",
    "    logInfo( \"main()\", \"dumped initial condition\" )\n",
    "\n",
    "We don't have to write the surrounding code ourself: If we run generate() as done above, we'll get a main file which we can use as a starting point. Once we have modified this blueprint, subsequent generate() calls won't overwrite our main files anymore. So we are on the save side.\n"
   ]
  },
  {
   "cell_type": "markdown",
   "metadata": {},
   "source": [
    "## Build the code\n",
    "\n",
    "With all in place, we can invoke the build. This could be a plain command line call to make (under the hood, Peano's Python API generates makefiles), but we can also use the Python API."
   ]
  },
  {
   "cell_type": "code",
   "execution_count": null,
   "metadata": {},
   "outputs": [],
   "source": [
    "project.build()"
   ]
  },
  {
   "cell_type": "markdown",
   "metadata": {},
   "source": [
    "## Run code\n",
    "\n",
    "Before we run any code, we clean up, i.e. remove all old output files."
   ]
  },
  {
   "cell_type": "code",
   "execution_count": null,
   "metadata": {},
   "outputs": [],
   "source": [
    "output_files = [ f for f in os.listdir(\".\") if f.endswith(\".peano-patch-file\") or f.endswith(\".vtu\") or f.endswith(\".pvd\") ]\n",
    "for f in output_files:\n",
    "  os.remove(f)\n"
   ]
  },
  {
   "cell_type": "markdown",
   "metadata": {},
   "source": [
    "I could now run the code via a Python command\n",
    "\n",
    "    #success = project.run( args=[], prefix=[\"mpirun\", \"-n\", \"1\"] )\n",
    "    \n",
    "but instead I here decide to access the terminal directly via the notebook. Before you invoke the run, some remarks:\n",
    "\n",
    "- Peano can build code in different versions. By default, I use the assert mode here which is excellent to find errors in the code. For production runs, you should use the release mode (or tracing if you wanna profile).\n",
    "- Our code is not yet MPI-ready. Shared memory would work out of the box, but is not active as we have not yet provided a load balancing criterion. MPI requires slightly more work. So keep you problem smallish.\n",
    "- If you translate in release mode, you'll get a lot of output. Tweak the filters in the main (or use a filter file) to study only those output you are actually interested in."
   ]
  },
  {
   "cell_type": "code",
   "execution_count": null,
   "metadata": {},
   "outputs": [],
   "source": [
    "# success = project.run( args=[\"--threads\", \"1\"], prefix=[\"mpirun\", \"-n\", \"1\"] )\n",
    "!./peano4"
   ]
  },
  {
   "cell_type": "markdown",
   "metadata": {},
   "source": [
    "## Visualisation\n",
    "\n",
    "Peano 4 and its toolboxes provide multiple scripts to postprocess and visualise all output. You can directly visualise runtimes or load distributions with matplotlib, e.g. We don't go down this route in this simple example. We focus only on the particle and grid data.\n",
    "\n",
    "The particle data has been written in a mainstream formats (vtk) that we can load directly into Paraview. This is fine for the time being. For complex simulations, you will want to use tailored, Peano 4-specific formats instead."
   ]
  },
  {
   "cell_type": "code",
   "execution_count": null,
   "metadata": {},
   "outputs": [],
   "source": [
    "from IPython.display import Image\n",
    "!ls ../../python/peano4/toolbox/particles\n",
    "Image(\"particles.png\")"
   ]
  },
  {
   "cell_type": "markdown",
   "metadata": {},
   "source": [
    "The grid is written in Peano's block format which relatively efficient. However, this format cannot be processed by Paraview directly. You first have to convert it. The guidebook discusses various ways to do this, but the Paraview's Python command is perhaps the simplest way:"
   ]
  },
  {
   "cell_type": "code",
   "execution_count": null,
   "metadata": {},
   "outputs": [],
   "source": [
    "!pvpython ../../../python/peano4/visualisation/render.py --filter-fine-grid grid.peano-patch-file"
   ]
  },
  {
   "cell_type": "markdown",
   "metadata": {},
   "source": [
    "We can now combine the particle visualisation with the actual grid. We see exactly what we would expect: A regular grid with roughly the same number of particles (10x10) per cell."
   ]
  },
  {
   "cell_type": "code",
   "execution_count": null,
   "metadata": {},
   "outputs": [],
   "source": [
    "from IPython.display import Image\n",
    "!ls ../../python/peano4/toolbox/particles\n",
    "Image(\"particles-with-grid.png\")"
   ]
  },
  {
   "cell_type": "code",
   "execution_count": null,
   "metadata": {},
   "outputs": [],
   "source": []
  }
 ],
 "metadata": {
  "finalized": {
   "timestamp": 1602621102736,
   "trusted": true
  },
  "kernelspec": {
   "display_name": "Python 3 (ipykernel)",
   "language": "python",
   "name": "python3"
  },
  "language_info": {
   "codemirror_mode": {
    "name": "ipython",
    "version": 3
   },
   "file_extension": ".py",
   "mimetype": "text/x-python",
   "name": "python",
   "nbconvert_exporter": "python",
   "pygments_lexer": "ipython3",
   "version": "3.8.12"
  },
  "latex_envs": {
   "LaTeX_envs_menu_present": true,
   "autoclose": false,
   "autocomplete": true,
   "bibliofile": "biblio.bib",
   "cite_by": "apalike",
   "current_citInitial": 1,
   "eqLabelWithNumbers": true,
   "eqNumInitial": 1,
   "hotkeys": {
    "equation": "Ctrl-E",
    "itemize": "Ctrl-I"
   },
   "labels_anchors": false,
   "latex_user_defs": false,
   "report_style_numbering": false,
   "user_envs_cfg": false
  }
 },
 "nbformat": 4,
 "nbformat_minor": 4
}

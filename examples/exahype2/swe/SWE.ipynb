{
 "cells": [
  {
   "cell_type": "markdown",
   "metadata": {},
   "source": [
    "# Shallow water equations with ExaHyPE 2 and GeoClaw\n",
    " \n",
    "A solver of the SWE equations that relies on ClawPack's point-wise SWE solver and GeoClaw."
   ]
  },
  {
   "cell_type": "markdown",
   "metadata": {},
   "source": [
    "To run this notebook, you need a working ClawPack installation with GeoClaw in addition to your Peano/ExaHyPE installation. Installation instructions are available on the [ClawPack website](http://www.clawpack.org/installing.html). "
   ]
  },
  {
   "cell_type": "code",
   "execution_count": null,
   "metadata": {},
   "outputs": [],
   "source": [
    "import os\n",
    "import peano4\n",
    "import exahype2"
   ]
  },
  {
   "cell_type": "code",
   "execution_count": null,
   "metadata": {
    "scrolled": true
   },
   "outputs": [],
   "source": [
    "output_files = [ f for f in os.listdir(\".\") if f.endswith(\".peano-patch-file\") or f.endswith(\".vtu\") or f.startswith(\"output\")]\n",
    "for f in output_files:\n",
    "  os.remove(f)\n",
    "\n",
    "!make clean"
   ]
  },
  {
   "cell_type": "markdown",
   "metadata": {},
   "source": [
    "The first thing to do in any ExaHyPE 2 application is to create an ExaHyPE project. We have to tell it exactly what namespace we want to use and we have to give it a name. There are a few more options that we omit here, i.e. we use the defaults."
   ]
  },
  {
   "cell_type": "code",
   "execution_count": null,
   "metadata": {},
   "outputs": [],
   "source": [
    "project = exahype2.Project( [\"examples\", \"exahype2\", \"swe\"], \"exaclaw\" )"
   ]
  },
  {
   "cell_type": "markdown",
   "metadata": {},
   "source": [
    "## The simplest ExaClaw Finite Volumes solver\n",
    "\n",
    "Our first step is to use a Finite Volumes solver. We refer them as ExaClaw solvers. ExaClaw is the research project, where we promised to marry ExaHyPE and ClawPack's Riemann solvers. The actual softare is still ExaHyPE + ClawPack. The ClawPack solver is similar to the Euler one. Instead of a (generic) flux and eigenvalue, it needs the name of the ClawPack Riemann solver plus the Fortran file with the implementation. The latter actually can be a set of Fortran files for more complex solvers."
   ]
  },
  {
   "cell_type": "code",
   "execution_count": null,
   "metadata": {},
   "outputs": [],
   "source": [
    "clawpack_path = \"/home/marion/workspace/Projects/ExaClaw/clawpack/src/clawpack-v5.7.1\"\n",
    "#clawpack_path = \"/home/tobias/git/clawpack\""
   ]
  },
  {
   "cell_type": "code",
   "execution_count": null,
   "metadata": {},
   "outputs": [],
   "source": [
    "from TopologyParser import TopologyParser\n",
    "import matplotlib.pyplot as plt\n",
    "\n",
    "parser = TopologyParser(\"topology/etopo10min120W60W60S0S.asc\")\n",
    "parser.parse_topo()\n",
    "\n",
    "plt.imshow(parser.data, interpolation='none')\n",
    "plt.show()"
   ]
  },
  {
   "cell_type": "code",
   "execution_count": null,
   "metadata": {},
   "outputs": [],
   "source": [
    "my_patch_size     = 40\n",
    "my_unknowns       = 3        # height and two velocities\n",
    "my_auxiliary_variables = 1   # bathymetry\n",
    "my_time_step_size = 0.00001\n",
    "my_max_h          = 1.0/9.0\n",
    "my_min_h          = 1.0/9.0\n",
    "\n",
    "my_solver = exahype2.solvers.fv.PointWiseClawPackAdaptiveTimeStepSize(\n",
    "  name=\"SWE\", patch_size=my_patch_size, unknowns=my_unknowns, \n",
    "  auxiliary_variables=my_auxiliary_variables, min_h=my_min_h, max_h=my_max_h, \n",
    "#  time_step_size=my_time_step_size,\n",
    "  clawpack_Riemann_solver=\"rpn2\", \n",
    "  Riemann_solver_implementation_files=[\"rpn2_ptwise_geoclaw.f90\"],\n",
    "  discriminate_normal=True  \n",
    ")\n",
    "project.add_solver( my_solver )\n"
   ]
  },
  {
   "cell_type": "markdown",
   "metadata": {},
   "source": [
    "The two fundamental pieces of info we still have to feed into the solver are proper boundary and initial conditions. I use some factory/symbolic mechanisms here for the boundary conditions. For the initial condition, I could just omit the parameter. I'd then get a file Acoustic.cpp with an empty function that I have to implement. As this function will be close to trivial once more, I directly inject the C++ code here. So I don't have to touch any C++ code while I run the Juptyer notebook."
   ]
  },
  {
   "cell_type": "code",
   "execution_count": null,
   "metadata": {},
   "outputs": [],
   "source": [
    "import exahype2.sympy\n",
    "\n",
    "pde = exahype2.sympy.PDE(unknowns=3,auxiliary_variables=1,dimensions=2)\n",
    "\n",
    "my_solver.set_implementation(\n",
    "  boundary_conditions=pde.implementation_of_homogeneous_Neumann_BC(),\n",
    "  initial_conditions=\"\"\"\n",
    "    static TopologyParser parser(\"topology/etopo10min120W60W60S0S.asc\", \"topology/dtopo_usgs100227.tt3\");\n",
    "    float z;\n",
    "    float d;\n",
    "\n",
    "    z = parser.sampletopology(volumeCentre(0), volumeCentre(1));\n",
    "    d = parser.sampledisplacement(volumeCentre(0), volumeCentre(1), 1.0);\n",
    "  \n",
    "   if(z < 0){\n",
    "      Q[0] = -z + d;\n",
    "     //Q[0] = volumeCentre(0) > 0.3 && volumeCentre(0) < 0.4 ? 20-z : -z;\n",
    "     //Q[0] = (volumeCentre(0)-0.5)*(volumeCentre(0)-0.5) + (volumeCentre(1)-0.5)*(volumeCentre(1)-0.5) < 0.1*0.1 ? 10-z : -z;\n",
    "   }else{\n",
    "     Q[0] = 0.0;\n",
    "   }\n",
    "   Q[1] = 0.0;\n",
    "   Q[2] = 0.0;\n",
    "   Q[3] = z; // bathymetry\n",
    "  \"\"\")\n",
    "\n",
    "my_solver.set_postprocess_updated_patch_kernel_point_wisely( \"\"\"\n",
    "\n",
    "  if(Q[3] > 0){\n",
    "      Q[0] = 0.0;\n",
    "      Q[1] = 0.0;\n",
    "      Q[2] = 0.0;\n",
    "  }\n",
    "\"\"\")\n"
   ]
  },
  {
   "cell_type": "markdown",
   "metadata": {},
   "source": [
    "## Configure the global domain\n",
    "\n",
    "We next configure our global domain, i.e. we specify the dimensions of the computational domain $\\Omega $, we specify how long the simulation shall run and how often we want it to dump its data. The dumps will later be used to produce screenshots of the data (or to extract all kinds of properties)."
   ]
  },
  {
   "cell_type": "code",
   "execution_count": null,
   "metadata": {},
   "outputs": [],
   "source": [
    "#build_mode = peano4.output.CompileMode.Trace\n",
    "#build_mode = peano4.output.CompileMode.Asserts\n",
    "build_mode = peano4.output.CompileMode.Release\n",
    "\n",
    "dimensions = 2\n",
    "\n",
    "end_time = 0.001\n",
    "    \n",
    "project.set_global_simulation_parameters(\n",
    "  2,                        # dimensions\n",
    "  [0.0,0.0],  [1.0,1.0],\n",
    "  end_time,                 # end time\n",
    "  0.0, my_time_step_size   # snapshots\n",
    ")"
   ]
  },
  {
   "cell_type": "markdown",
   "metadata": {},
   "source": [
    "## Generate a Peano 4 project\n",
    "\n",
    "This is exactly the same as for Euler: We ask the ExaHyPE 2 frontend to give us a Peano project."
   ]
  },
  {
   "cell_type": "code",
   "execution_count": null,
   "metadata": {},
   "outputs": [],
   "source": [
    "project.set_Peano4_installation(\"../../..\", build_mode)\n",
    "\n",
    "peano4_project = project.generate_Peano4_project()"
   ]
  },
  {
   "cell_type": "markdown",
   "metadata": {},
   "source": [
    "A \"big\" difference to Euler is that we now have some external Fortran files. Usually, we take the default settings when we invoke the Fortran compiler. Default is the stuff given to us by Peano's configure. There's however the opportunity to add further flags manually. I use this here to inject debug info."
   ]
  },
  {
   "cell_type": "code",
   "execution_count": null,
   "metadata": {
    "scrolled": true
   },
   "outputs": [],
   "source": [
    "peano4_project.output.makefile.add_Fortran_flag( \"-g\" )\n",
    "peano4_project.output.makefile.add_library(\"gfortran\")\n",
    "peano4_project.output.makefile.add_library(\"stdc++\")\n",
    "peano4_project.output.makefile.add_library(\"m\")\n",
    "peano4_project.output.makefile.add_Fortran_module(clawpack_path + \"/geoclaw/src/2d/shallow/utility_module.f90\")\n",
    "peano4_project.output.makefile.add_Fortran_module(clawpack_path + \"/amrclaw/src/2d/amr_module.f90\")\n",
    "peano4_project.output.makefile.add_Fortran_module(clawpack_path + \"/geoclaw/src/2d/shallow/geoclaw_module.f90\")\n",
    "peano4_project.output.makefile.add_header_search_path(clawpack_path + \"/amrclaw/src/2d/\")\n",
    "peano4_project.output.makefile.add_header_search_path(clawpack_path + \"/geoclaw/src/2d/shallow/\")\n",
    "peano4_project.output.makefile.add_Fortran_file(clawpack_path + \"/riemann/src/geoclaw_riemann_utils.f\")\n",
    "peano4_project.output.makefile.add_Fortran_file(clawpack_path + \"/amrclaw/src/2d/opendatafile.f\")\n",
    "peano4_project.output.makefile.add_cpp_file(\"TopologyParser.cpp\")\n",
    "peano4_project.generate( throw_away_data_after_generation=False )"
   ]
  },
  {
   "cell_type": "code",
   "execution_count": null,
   "metadata": {},
   "outputs": [],
   "source": [
    "\n",
    "#parallel_builds = 8   # I don't use a massively parallel build here as my laptop otherwise becomes too hot.\n",
    "                      # Without any arguments, the build process will grab all of your cores.\n",
    "#peano4_project.build( make_clean_first = True, number_of_parallel_builds = parallel_builds )\n",
    "!make"
   ]
  },
  {
   "cell_type": "markdown",
   "metadata": {},
   "source": [
    "## Run the code and postprocess results\n",
    "\n",
    "Once we have the Peano 4 project set up and built, we obtain an executable which is standalone. It comprises all the parameters we have set above. So we can either invoke this file on the command line or we can call it through the notebook. Depending on your setup you might want to call the code with a prefix. If you configured Peano with MPI, e.g., you might have to use the mpirun prefix. \n",
    "\n",
    "Please note that we pipe the terminal output into a file. This way, we can postprocess the data in the next step."
   ]
  },
  {
   "cell_type": "code",
   "execution_count": null,
   "metadata": {},
   "outputs": [],
   "source": [
    "peano4_project.run( [], prefix = [\"mpirun\", \"-n\", \"1\"], pipefile = \"output.txt\", rebuild_if_required=False )"
   ]
  },
  {
   "cell_type": "markdown",
   "metadata": {},
   "source": [
    "We first grab and postprocess the data from the output file. This is ExaHyPE 2-specific (though application-generic), so we rely on ExaHyPE's postprocessing routines.\n",
    "\n"
   ]
  },
  {
   "cell_type": "code",
   "execution_count": null,
   "metadata": {},
   "outputs": [],
   "source": [
    "import exahype2.postprocessing\n",
    "\n",
    "performance_data = exahype2.postprocessing.PerformanceData( \"output.txt\", verbose=True )"
   ]
  },
  {
   "cell_type": "markdown",
   "metadata": {},
   "source": [
    "In this worksheet, I'd like to have interactive matplotlib plots: You might need the statement\n",
    "\n",
    "<pre>\n",
    "%matplotlib widget\n",
    "</pre>\n",
    "\n",
    "but on some of my local notebook servers, this causes a crash. So you have to test this yourself."
   ]
  },
  {
   "cell_type": "code",
   "execution_count": null,
   "metadata": {},
   "outputs": [],
   "source": [
    "exahype2.postprocessing.plot_pie_chart_over_simulation_phases(performance_data)"
   ]
  },
  {
   "cell_type": "code",
   "execution_count": null,
   "metadata": {},
   "outputs": [],
   "source": [
    "exahype2.postprocessing.plot_runtime_per_time_step(performance_data, \"Runtime per step\")"
   ]
  },
  {
   "cell_type": "markdown",
   "metadata": {},
   "source": [
    "## Inspecting output files via Paraview\n",
    "\n",
    "We first do an ls on our directory and search for the root .peano-patch-file. I then convert this file manually into vtu which I can load into Paraview. This works if Peano is configured with vtk support. "
   ]
  },
  {
   "cell_type": "code",
   "execution_count": null,
   "metadata": {},
   "outputs": [],
   "source": [
    "!pvpython /home/marion/workspace/Projects/ExaClaw/Peano/python/peano4/visualisation/render.py  \\\n",
    " --filter-fine-grid solution-SWE.peano-patch-file"
   ]
  },
  {
   "cell_type": "markdown",
   "metadata": {},
   "source": [
    "If you don't have vtk support in there, then you might want to load the data directly into Paraview through Peano's Paraview plug-in, using something like this:\n",
    "\n",
    "    import peano4.visualisation\n",
    "\n",
    "    for i in range(0,100):\n",
    "      data = peano4.visualisation.render_dataset( \\\n",
    "        \"solution-SWE.peano-patch-file\", \\\n",
    "        display_as_tree=False, \\\n",
    "        filter=[peano4.visualisation.ExtractFineGridFilter()], \\\n",
    "        dataset_number=i, identifier=\"SWEQ\" \\\n",
    "    )\n",
    "    tp = TrivialProducer()\n",
    "    tp.GetClientSideObject().SetOutput(data)\n",
    "  \n",
    "    Show(tp)"
   ]
  }
 ],
 "metadata": {
  "kernelspec": {
   "display_name": "Python 3",
   "language": "python",
   "name": "python3"
  },
  "language_info": {
   "codemirror_mode": {
    "name": "ipython",
    "version": 3
   },
   "file_extension": ".py",
   "mimetype": "text/x-python",
   "name": "python",
   "nbconvert_exporter": "python",
   "pygments_lexer": "ipython3",
   "version": "3.8.10"
  },
  "latex_envs": {
   "LaTeX_envs_menu_present": true,
   "autoclose": false,
   "autocomplete": true,
   "bibliofile": "biblio.bib",
   "cite_by": "apalike",
   "current_citInitial": 1,
   "eqLabelWithNumbers": true,
   "eqNumInitial": 1,
   "hotkeys": {
    "equation": "Ctrl-E",
    "itemize": "Ctrl-I"
   },
   "labels_anchors": false,
   "latex_user_defs": false,
   "report_style_numbering": false,
   "user_envs_cfg": false
  }
 },
 "nbformat": 4,
 "nbformat_minor": 4
}

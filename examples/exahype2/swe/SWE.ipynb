{
 "cells": [
  {
   "cell_type": "markdown",
   "metadata": {},
   "source": [
    "# Shallow water equations with ExaHyPE 2 and GeoClaw\n",
    " \n",
    "A solver of the SWE equations that relies on ClawPack's point-wise SWE solver and GeoClaw."
   ]
  },
  {
   "cell_type": "code",
   "execution_count": 1,
   "metadata": {},
   "outputs": [
    {
     "name": "stdout",
     "output_type": "stream",
     "text": [
      "DaStGen 2 (C) www.peano-framework.org\n",
      "Peano 4 (C) www.peano-framework.org\n",
      "ExaHyPE 2 (C) www.peano-framework.org\n"
     ]
    }
   ],
   "source": [
    "import os\n",
    "import peano4\n",
    "import exahype2"
   ]
  },
  {
   "cell_type": "code",
   "execution_count": 2,
   "metadata": {},
   "outputs": [],
   "source": [
    "output_files = [ f for f in os.listdir(\".\") if f.endswith(\".peano-patch-file\") or f.endswith(\".vtu\") or f.startswith(\"output\")]\n",
    "for f in output_files:\n",
    "  os.remove(f)"
   ]
  },
  {
   "cell_type": "markdown",
   "metadata": {},
   "source": [
    "The first thing to do in any ExaHyPE 2 application is to create an ExaHyPE project. We have to tell it exactly what namespace we want to use and we have to give it a name. There are a few more options that we omit here, i.e. we use the defaults."
   ]
  },
  {
   "cell_type": "code",
   "execution_count": 3,
   "metadata": {},
   "outputs": [],
   "source": [
    "project = exahype2.Project( [\"examples\", \"exahype2\", \"swe\"], \"exaclaw\" )"
   ]
  },
  {
   "cell_type": "markdown",
   "metadata": {},
   "source": [
    "## The simplest ExaClaw Finite Volumes solver\n",
    "\n",
    "Our first step is to use a Finite Volumes solver. We refer them as ExaClaw solvers. ExaClaw is the research project, where we promised to marry ExaHyPE and ClawPack's Riemann solvers. The actual softare is still ExaHyPE + ClawPack. The ClawPack solver is similar to the Euler one. Instead of a (generic) flux and eigenvalue, it needs the name of the ClawPack Riemann solver plus the Fortran file with the implementation. The latter actually can be a set of Fortran files for more complex solvers."
   ]
  },
  {
   "cell_type": "code",
   "execution_count": 4,
   "metadata": {},
   "outputs": [],
   "source": [
    "my_patch_size     = 11\n",
    "my_unknowns       = 3        # height and two velocities\n",
    "my_auxiliary_variables = 1   # bathymetry\n",
    "my_time_step_size = 0.0001\n",
    "my_max_h          = 0.1\n",
    "my_min_h          = 0.1\n",
    "\n",
    "my_solver = exahype2.solvers.fv.PointWiseClawPackFixedTimeStepSize(\n",
    "  name=\"SWE\", patch_size=my_patch_size, unknowns=my_unknowns, \n",
    "  auxiliary_variables=my_auxiliary_variables, min_h=my_min_h, max_h=my_max_h, \n",
    "  time_step_size=my_time_step_size,\n",
    "  clawpack_Riemann_solver=\"rpn2\", \n",
    "  Riemann_solver_implementation_files=[\"/home/marion/workspace/Projects/ExaClaw/Peano/examples/exahype2/swe/rpn2_ptwise_geoclaw.f90\"],\n",
    "  discriminate_normal=True  \n",
    ")\n",
    "project.add_solver( my_solver )\n"
   ]
  },
  {
   "cell_type": "markdown",
   "metadata": {},
   "source": [
    "The two fundamental pieces of info we still have to feed into the solver are proper boundary and initial conditions. I use some factory/symbolic mechanisms here for the boundary conditions. For the initial condition, I could just omit the parameter. I'd then get a file Acoustic.cpp with an empty function that I have to implement. As this function will be close to trivial once more, I directly inject the C++ code here. So I don't have to touch any C++ code while I run the Juptyer notebook."
   ]
  },
  {
   "cell_type": "code",
   "execution_count": 5,
   "metadata": {},
   "outputs": [],
   "source": [
    "import exahype2.sympy\n",
    "\n",
    "pde = exahype2.sympy.PDE(unknowns=3,auxiliary_variables=1,dimensions=2)\n",
    "\n",
    "my_solver.set_implementation(\n",
    "  boundary_conditions=pde.implementation_of_homogeneous_Neumann_BC(),\n",
    "  initial_conditions=\"\"\"\n",
    "   Q[0] = (volumeCentre(0)-0.5)*(volumeCentre(0)-0.5) + (volumeCentre(1)-0.5)*(volumeCentre(1)-0.5) < 0.1*0.1 ? 0.2 : 0.1;\n",
    "   Q[1] = 0.0;\n",
    "   Q[2] = 0.0;\n",
    "   Q[3] = 1.0; // bathymetry\n",
    "  \"\"\"\n",
    ")   \n"
   ]
  },
  {
   "cell_type": "markdown",
   "metadata": {},
   "source": [
    "## Configure the global domain\n",
    "\n",
    "We next configure our global domain, i.e. we specify the dimensions of the computational domain $\\Omega $, we specify how long the simulation shall run and how often we want it to dump its data. The dumps will later be used to produce screenshots of the data (or to extract all kinds of properties)."
   ]
  },
  {
   "cell_type": "code",
   "execution_count": 6,
   "metadata": {},
   "outputs": [],
   "source": [
    "build_mode = peano4.output.CompileMode.Asserts\n",
    "#build_mode = peano4.output.CompileMode.Release\n",
    "\n",
    "dimensions = 2\n",
    "\n",
    "end_time = 0.005\n",
    "    \n",
    "project.set_global_simulation_parameters(\n",
    "  2,                        # dimensions\n",
    "  [0.0,0.0],  [1.0,1.0],\n",
    "  end_time,                 # end time\n",
    "  0.0, my_time_step_size*10    # snapshots\n",
    ")"
   ]
  },
  {
   "cell_type": "markdown",
   "metadata": {},
   "source": [
    "## Generate a Peano 4 project\n",
    "\n",
    "This is exactly the same as for Euler: We ask the ExaHyPE 2 frontend to give us a Peano project."
   ]
  },
  {
   "cell_type": "code",
   "execution_count": 7,
   "metadata": {},
   "outputs": [
    {
     "name": "stdout",
     "output_type": "stream",
     "text": [
      "parse configure outcome ../../../src/Makefile to extract compile settings\n",
      "used C++ compiler is g++\n",
      "used Fortran compiler is gfortran\n"
     ]
    }
   ],
   "source": [
    "project.set_Peano4_installation(\"../../..\", build_mode)\n",
    "\n",
    "peano4_project = project.generate_Peano4_project()"
   ]
  },
  {
   "cell_type": "markdown",
   "metadata": {},
   "source": [
    "A \"big\" difference to Euler is that we now have some external Fortran files. Usually, we take the default settings when we invoke the Fortran compiler. Default is the stuff given to us by Peano's configure. There's however the opportunity to add further flags manually. I use this here to inject debug info."
   ]
  },
  {
   "cell_type": "code",
   "execution_count": 8,
   "metadata": {
    "scrolled": true
   },
   "outputs": [
    {
     "name": "stdout",
     "output_type": "stream",
     "text": [
      "generate all code ...\n",
      "some artefacts have already been added to repository ... assume this is intentional (by higher abstraction layer, e.g.)\n",
      "generated exaclaw-main.cpp\n",
      "write ./Makefile\n",
      "write ././AbstractSWE.h (generated from template /home/marion/workspace/Projects/ExaClaw/Peano/python/exahype2/solvers/fv/PointWiseClawPackFixedTimeStepSizeAbstract.template.h)\n",
      "write ././AbstractSWE.cpp (generated from template /home/marion/workspace/Projects/ExaClaw/Peano/python/exahype2/solvers/fv/PointWiseClawPackFixedTimeStepSizeAbstract.template.cpp)\n",
      "write ./observers/SolverRepository.h (generated from template /home/marion/workspace/Projects/ExaClaw/Peano/python/exahype2/ProjectSolverRepository.template.h)\n",
      "write ./observers/SolverRepository.cpp (generated from template /home/marion/workspace/Projects/ExaClaw/Peano/python/exahype2/ProjectSolverRepository.template.cpp)\n",
      "write ./celldata/SWEQ.h (generated from template /home/marion/workspace/Projects/ExaClaw/Peano/python/peano4/datamodel/PatchToDoubleArray.template.h)\n",
      "write ./celldata/SWEQ.cpp (generated from template /home/marion/workspace/Projects/ExaClaw/Peano/python/peano4/datamodel/PatchToDoubleArray.template.cpp)\n",
      "write ./facedata/SWEQ.h (generated from template /home/marion/workspace/Projects/ExaClaw/Peano/python/peano4/datamodel/PatchToDoubleArray.template.h)\n",
      "write ./facedata/SWEQ.cpp (generated from template /home/marion/workspace/Projects/ExaClaw/Peano/python/peano4/datamodel/PatchToDoubleArray.template.cpp)\n",
      "write ./facedata/SWEQNew.h (generated from template /home/marion/workspace/Projects/ExaClaw/Peano/python/peano4/datamodel/PatchToDoubleArray.template.h)\n",
      "write ./facedata/SWEQNew.cpp (generated from template /home/marion/workspace/Projects/ExaClaw/Peano/python/peano4/datamodel/PatchToDoubleArray.template.cpp)\n",
      "write ./observers/DataRepository.h\n",
      "write ./observers/DataRepository.cpp\n",
      "write ././observers/CreateGrid2peano4_toolbox_blockstructured_ApplyFunctorOnPatch0.h\n",
      "write ././observers/CreateGrid2peano4_toolbox_blockstructured_ApplyFunctorOnPatch0.cpp\n",
      "write ././observers/CreateGrid2exahype2_grid_AMROnPatch1.h\n",
      "write ././observers/CreateGrid2exahype2_grid_AMROnPatch1.cpp\n",
      "write ././observers/CreateGrid2exahype2_grid_SetLabels2.h\n",
      "write ././observers/CreateGrid2exahype2_grid_SetLabels2.cpp\n",
      "write ././observers/CreateGrid.h\n",
      "write ././observers/CreateGrid.cpp\n",
      "write ././observers/InitGrid2peano4_toolbox_blockstructured_ApplyFunctorOnPatch0.h\n",
      "write ././observers/InitGrid2peano4_toolbox_blockstructured_ApplyFunctorOnPatch0.cpp\n",
      "write ././observers/InitGrid2peano4_toolbox_blockstructured_ProjectPatchOntoFaces1.h\n",
      "write ././observers/InitGrid2peano4_toolbox_blockstructured_ProjectPatchOntoFaces1.cpp\n",
      "write ././observers/InitGrid2peano4_toolbox_blockstructured_BackupPatchOverlap2.h\n",
      "write ././observers/InitGrid2peano4_toolbox_blockstructured_BackupPatchOverlap2.cpp\n",
      "write ././observers/InitGrid2exahype2_grid_SetLabels3.h\n",
      "write ././observers/InitGrid2exahype2_grid_SetLabels3.cpp\n",
      "write ././observers/InitGrid.h\n",
      "write ././observers/InitGrid.cpp\n",
      "write ././observers/CreateGridButPostponeRefinement2peano4_toolbox_blockstructured_ApplyFunctorOnPatch0.h\n",
      "write ././observers/CreateGridButPostponeRefinement2peano4_toolbox_blockstructured_ApplyFunctorOnPatch0.cpp\n",
      "write ././observers/CreateGridButPostponeRefinement2exahype2_grid_SetLabels1.h\n",
      "write ././observers/CreateGridButPostponeRefinement2exahype2_grid_SetLabels1.cpp\n",
      "write ././observers/CreateGridButPostponeRefinement.h\n",
      "write ././observers/CreateGridButPostponeRefinement.cpp\n",
      "write ././observers/PlotSolution2peano4_toolbox_blockstructured_PlotPatchesInPeanoBlockFormat0.h\n",
      "write ././observers/PlotSolution2peano4_toolbox_blockstructured_PlotPatchesInPeanoBlockFormat0.cpp\n",
      "write ././observers/PlotSolution2exahype2_grid_SetLabels1.h\n",
      "write ././observers/PlotSolution2exahype2_grid_SetLabels1.cpp\n",
      "write ././observers/PlotSolution.h\n",
      "write ././observers/PlotSolution.cpp\n",
      "write ././observers/TimeStep2peano4_toolbox_blockstructured_ReconstructPatchAndApplyFunctor0.h\n",
      "write ././observers/TimeStep2peano4_toolbox_blockstructured_ReconstructPatchAndApplyFunctor0.cpp\n",
      "write ././observers/TimeStep2peano4_toolbox_blockstructured_ProjectPatchOntoFaces1.h\n",
      "write ././observers/TimeStep2peano4_toolbox_blockstructured_ProjectPatchOntoFaces1.cpp\n",
      "write ././observers/TimeStep2peano4_toolbox_blockstructured_ApplyFunctorOnPatch2.h\n",
      "write ././observers/TimeStep2peano4_toolbox_blockstructured_ApplyFunctorOnPatch2.cpp\n",
      "write ././observers/TimeStep2exahype2_grid_AMROnPatch3.h\n",
      "write ././observers/TimeStep2exahype2_grid_AMROnPatch3.cpp\n",
      "write ././observers/TimeStep2peano4_toolbox_blockstructured_BackupPatchOverlap4.h\n",
      "write ././observers/TimeStep2peano4_toolbox_blockstructured_BackupPatchOverlap4.cpp\n",
      "write ././observers/TimeStep2exahype2_grid_SetLabels5.h\n",
      "write ././observers/TimeStep2exahype2_grid_SetLabels5.cpp\n",
      "write ././observers/TimeStep.h\n",
      "write ././observers/TimeStep.cpp\n",
      "write ./observers/StepRepository.h\n",
      "write ./observers/StepRepository.cpp\n",
      "write ./Constants.h\n",
      "generation complete\n"
     ]
    }
   ],
   "source": [
    "peano4_project.output.makefile.add_Fortran_flag( \"-g\" )\n",
    "peano4_project.output.makefile.add_library(\"gfortran\")\n",
    "peano4_project.output.makefile.add_Fortran_module(\"amr_module.mod\",[\"/home/marion/workspace/Projects/ExaClaw/clawpack/src/clawpack-v5.7.1/amrclaw/src/2d/amr_module.f90\"])\n",
    "peano4_project.output.makefile.add_Fortran_module(\"geoclaw_module.mod\", [\"/home/marion/workspace/Projects/ExaClaw/clawpack/src/clawpack-v5.7.1/geoclaw/src/2d/shallow/geoclaw_module.f90\"])\n",
    "peano4_project.output.makefile.add_Fortran_module(\"utility_module.mod\", [\"/home/marion/workspace/Projects/ExaClaw/clawpack/src/clawpack-v5.7.1/geoclaw/src/2d/shallow/utility_module.f90\"])\n",
    "peano4_project.output.makefile.add_header_search_path(\"/home/marion/workspace/Projects/ExaClaw/clawpack/src/clawpack-v5.7.1/amrclaw/src/2d/\")\n",
    "peano4_project.output.makefile.add_header_search_path(\"/home/marion/workspace/Projects/ExaClaw/clawpack/src/clawpack-v5.7.1/geoclaw/src/2d/shallow/\")\n",
    "peano4_project.output.makefile.add_Fortran_file(\"/home/marion/workspace/Projects/ExaClaw/clawpack/src/clawpack-v5.7.1/riemann/src/geoclaw_riemann_utils.f\")\n",
    "peano4_project.output.makefile.add_Fortran_file(\"/home/marion/workspace/Projects/ExaClaw/clawpack/src/clawpack-v5.7.1/amrclaw/src/2d/opendatafile.f\")\n",
    "peano4_project.generate( throw_away_data_after_generation=False )"
   ]
  },
  {
   "cell_type": "code",
   "execution_count": 9,
   "metadata": {},
   "outputs": [
    {
     "name": "stdout",
     "output_type": "stream",
     "text": [
      "g++ -std=c++0x -g -O2 -DPeanoDebug=2 -g -O2 -fopenmp  -I/home/marion/workspace/Projects/ExaClaw/clawpack/src/clawpack-v5.7.1/amrclaw/src/2d/ -I/home/marion/workspace/Projects/ExaClaw/clawpack/src/clawpack-v5.7.1/geoclaw/src/2d/shallow/ -DDimensions=2 -I. -I../../../src -c -o AbstractSWE.o AbstractSWE.cpp\n",
      "g++ -std=c++0x -g -O2 -DPeanoDebug=2 -g -O2 -fopenmp  -I/home/marion/workspace/Projects/ExaClaw/clawpack/src/clawpack-v5.7.1/amrclaw/src/2d/ -I/home/marion/workspace/Projects/ExaClaw/clawpack/src/clawpack-v5.7.1/geoclaw/src/2d/shallow/ -DDimensions=2 -I. -I../../../src -c -o SWE.o SWE.cpp\n",
      "g++ -std=c++0x -g -O2 -DPeanoDebug=2 -g -O2 -fopenmp  -I/home/marion/workspace/Projects/ExaClaw/clawpack/src/clawpack-v5.7.1/amrclaw/src/2d/ -I/home/marion/workspace/Projects/ExaClaw/clawpack/src/clawpack-v5.7.1/geoclaw/src/2d/shallow/ -DDimensions=2 -I. -I../../../src -c -o observers/SolverRepository.o observers/SolverRepository.cpp\n",
      "g++ -std=c++0x -g -O2 -DPeanoDebug=2 -g -O2 -fopenmp  -I/home/marion/workspace/Projects/ExaClaw/clawpack/src/clawpack-v5.7.1/amrclaw/src/2d/ -I/home/marion/workspace/Projects/ExaClaw/clawpack/src/clawpack-v5.7.1/geoclaw/src/2d/shallow/ -DDimensions=2 -I. -I../../../src -c -o celldata/SWEQ.o celldata/SWEQ.cpp\n",
      "g++ -std=c++0x -g -O2 -DPeanoDebug=2 -g -O2 -fopenmp  -I/home/marion/workspace/Projects/ExaClaw/clawpack/src/clawpack-v5.7.1/amrclaw/src/2d/ -I/home/marion/workspace/Projects/ExaClaw/clawpack/src/clawpack-v5.7.1/geoclaw/src/2d/shallow/ -DDimensions=2 -I. -I../../../src -c -o facedata/SWEQ.o facedata/SWEQ.cpp\n",
      "g++ -std=c++0x -g -O2 -DPeanoDebug=2 -g -O2 -fopenmp  -I/home/marion/workspace/Projects/ExaClaw/clawpack/src/clawpack-v5.7.1/amrclaw/src/2d/ -I/home/marion/workspace/Projects/ExaClaw/clawpack/src/clawpack-v5.7.1/geoclaw/src/2d/shallow/ -DDimensions=2 -I. -I../../../src -c -o facedata/SWEQNew.o facedata/SWEQNew.cpp\n",
      "g++ -std=c++0x -g -O2 -DPeanoDebug=2 -g -O2 -fopenmp  -I/home/marion/workspace/Projects/ExaClaw/clawpack/src/clawpack-v5.7.1/amrclaw/src/2d/ -I/home/marion/workspace/Projects/ExaClaw/clawpack/src/clawpack-v5.7.1/geoclaw/src/2d/shallow/ -DDimensions=2 -I. -I../../../src -c -o facedata/Label.o facedata/Label.cpp\n",
      "g++ -std=c++0x -g -O2 -DPeanoDebug=2 -g -O2 -fopenmp  -I/home/marion/workspace/Projects/ExaClaw/clawpack/src/clawpack-v5.7.1/amrclaw/src/2d/ -I/home/marion/workspace/Projects/ExaClaw/clawpack/src/clawpack-v5.7.1/geoclaw/src/2d/shallow/ -DDimensions=2 -I. -I../../../src -c -o observers/DataRepository.o observers/DataRepository.cpp\n",
      "g++ -std=c++0x -g -O2 -DPeanoDebug=2 -g -O2 -fopenmp  -I/home/marion/workspace/Projects/ExaClaw/clawpack/src/clawpack-v5.7.1/amrclaw/src/2d/ -I/home/marion/workspace/Projects/ExaClaw/clawpack/src/clawpack-v5.7.1/geoclaw/src/2d/shallow/ -DDimensions=2 -I. -I../../../src -c -o observers/CreateGrid2peano4_toolbox_blockstructured_ApplyFunctorOnPatch0.o observers/CreateGrid2peano4_toolbox_blockstructured_ApplyFunctorOnPatch0.cpp\n",
      "g++ -std=c++0x -g -O2 -DPeanoDebug=2 -g -O2 -fopenmp  -I/home/marion/workspace/Projects/ExaClaw/clawpack/src/clawpack-v5.7.1/amrclaw/src/2d/ -I/home/marion/workspace/Projects/ExaClaw/clawpack/src/clawpack-v5.7.1/geoclaw/src/2d/shallow/ -DDimensions=2 -I. -I../../../src -c -o observers/CreateGrid2exahype2_grid_AMROnPatch1.o observers/CreateGrid2exahype2_grid_AMROnPatch1.cpp\n",
      "g++ -std=c++0x -g -O2 -DPeanoDebug=2 -g -O2 -fopenmp  -I/home/marion/workspace/Projects/ExaClaw/clawpack/src/clawpack-v5.7.1/amrclaw/src/2d/ -I/home/marion/workspace/Projects/ExaClaw/clawpack/src/clawpack-v5.7.1/geoclaw/src/2d/shallow/ -DDimensions=2 -I. -I../../../src -c -o observers/CreateGrid2exahype2_grid_SetLabels2.o observers/CreateGrid2exahype2_grid_SetLabels2.cpp\n",
      "g++ -std=c++0x -g -O2 -DPeanoDebug=2 -g -O2 -fopenmp  -I/home/marion/workspace/Projects/ExaClaw/clawpack/src/clawpack-v5.7.1/amrclaw/src/2d/ -I/home/marion/workspace/Projects/ExaClaw/clawpack/src/clawpack-v5.7.1/geoclaw/src/2d/shallow/ -DDimensions=2 -I. -I../../../src -c -o observers/CreateGrid.o observers/CreateGrid.cpp\n",
      "^C\n",
      "make: *** [Makefile:28: observers/CreateGrid.o] Interrupt\n"
     ]
    }
   ],
   "source": [
    "\n",
    "#parallel_builds = 8   # I don't use a massively parallel build here as my laptop otherwise becomes too hot.\n",
    "                      # Without any arguments, the build process will grab all of your cores.\n",
    "#peano4_project.build( make_clean_first = True, number_of_parallel_builds = parallel_builds )\n",
    "!make"
   ]
  },
  {
   "cell_type": "markdown",
   "metadata": {},
   "source": [
    "## Run the code and postprocess results\n",
    "\n",
    "Once we have the Peano 4 project set up and built, we obtain an executable which is standalone. It comprises all the parameters we have set above. So we can either invoke this file on the command line or we can call it through the notebook. Depending on your setup you might want to call the code with a prefix. If you configured Peano with MPI, e.g., you might have to use the mpirun prefix. \n",
    "\n",
    "Please note that we pipe the terminal output into a file. This way, we can postprocess the data in the next step."
   ]
  },
  {
   "cell_type": "code",
   "execution_count": 10,
   "metadata": {},
   "outputs": [
    {
     "name": "stdout",
     "output_type": "stream",
     "text": [
      "run application ...\n",
      "--------------------------------------------------------------------------\n",
      "mpirun was unable to launch the specified application as it could not access\n",
      "or execute an executable:\n",
      "\n",
      "Executable: ./peano4\n",
      "Node: mizar\n",
      "\n",
      "while attempting to start process rank 0.\n",
      "--------------------------------------------------------------------------\n",
      "\n",
      "run failed\n"
     ]
    },
    {
     "data": {
      "text/plain": [
       "True"
      ]
     },
     "execution_count": 10,
     "metadata": {},
     "output_type": "execute_result"
    }
   ],
   "source": [
    "peano4_project.run( [], prefix = [\"mpirun\", \"-n\", \"1\"], pipefile = \"output.txt\", rebuild_if_required=False )"
   ]
  },
  {
   "cell_type": "markdown",
   "metadata": {},
   "source": [
    "We first grab and postprocess the data from the output file. This is ExaHyPE 2-specific (though application-generic), so we rely on ExaHyPE's postprocessing routines.\n",
    "\n"
   ]
  },
  {
   "cell_type": "code",
   "execution_count": 11,
   "metadata": {},
   "outputs": [
    {
     "name": "stdout",
     "output_type": "stream",
     "text": [
      "parse output.txt\n",
      "file output.txt is invalid as number of time steps equals zero\n"
     ]
    }
   ],
   "source": [
    "import exahype2.postprocessing\n",
    "\n",
    "performance_data = exahype2.postprocessing.PerformanceData( \"output.txt\", verbose=True )"
   ]
  },
  {
   "cell_type": "markdown",
   "metadata": {},
   "source": [
    "In this worksheet, I'd like to have interactive matplotlib plots: You might need the statement\n",
    "\n",
    "<pre>\n",
    "%matplotlib widget\n",
    "</pre>\n",
    "\n",
    "but on some of my local notebook servers, this causes a crash. So you have to test this yourself."
   ]
  },
  {
   "cell_type": "code",
   "execution_count": 12,
   "metadata": {},
   "outputs": [
    {
     "data": {
      "image/png": "[encoded data removed]",
      "text/plain": [
       "<Figure size 432x288 with 1 Axes>"
      ]
     },
     "metadata": {},
     "output_type": "display_data"
    }
   ],
   "source": [
    "exahype2.postprocessing.plot_pie_chart_over_simulation_phases(performance_data)"
   ]
  },
  {
   "cell_type": "code",
   "execution_count": 13,
   "metadata": {},
   "outputs": [
    {
     "data": {
      "image/png": "[encoded data removed]",
      "text/plain": [
       "<Figure size 432x288 with 1 Axes>"
      ]
     },
     "metadata": {
      "needs_background": "light"
     },
     "output_type": "display_data"
    }
   ],
   "source": [
    "exahype2.postprocessing.plot_time_per_time_step(performance_data)"
   ]
  },
  {
   "cell_type": "markdown",
   "metadata": {},
   "source": [
    "## Inspecting output files via Paraview\n",
    "\n",
    "We first do an ls on our directory and search for the root .peano-patch-file. I then convert this file manually into vtu which I can load into Paraview. This works if Peano is configured with vtk support. If you don't have vtk support in there, then you might want to load the data directly into Paraview through Peano's Paraview plug-in."
   ]
  },
  {
   "cell_type": "code",
   "execution_count": 14,
   "metadata": {},
   "outputs": [
    {
     "name": "stdout",
     "output_type": "stream",
     "text": [
      "AbstractSWE.cpp  Constants.h\t     facedata\t rpn2_ptwise_geoclaw.f90  SWE.o\r\n",
      "AbstractSWE.h\t exaclaw-main.cpp    Makefile\t SWE.cpp\r\n",
      "AbstractSWE.o\t exaclaw-main.h      observers\t SWE.h\r\n",
      "celldata\t exahype.log-filter  output.txt  SWE.ipynb\r\n"
     ]
    }
   ],
   "source": [
    "!ls"
   ]
  }
 ],
 "metadata": {
  "kernelspec": {
   "display_name": "Python 3",
   "language": "python",
   "name": "python3"
  },
  "language_info": {
   "codemirror_mode": {
    "name": "ipython",
    "version": 3
   },
   "file_extension": ".py",
   "mimetype": "text/x-python",
   "name": "python",
   "nbconvert_exporter": "python",
   "pygments_lexer": "ipython3",
   "version": "3.8.5"
  },
  "latex_envs": {
   "LaTeX_envs_menu_present": true,
   "autoclose": false,
   "autocomplete": true,
   "bibliofile": "biblio.bib",
   "cite_by": "apalike",
   "current_citInitial": 1,
   "eqLabelWithNumbers": true,
   "eqNumInitial": 1,
   "hotkeys": {
    "equation": "Ctrl-E",
    "itemize": "Ctrl-I"
   },
   "labels_anchors": false,
   "latex_user_defs": false,
   "report_style_numbering": false,
   "user_envs_cfg": false
  }
 },
 "nbformat": 4,
 "nbformat_minor": 4
}

{
 "cells": [
  {
   "cell_type": "markdown",
   "metadata": {},
   "source": [
    "# Simple CCZ4 Finite Volume code\n",
    " \n",
    "A solver of the Einstein equations that uses the original ExaHyPE FORTRAN kernels."
   ]
  },
  {
   "cell_type": "code",
   "execution_count": 1,
   "metadata": {},
   "outputs": [
    {
     "name": "stdout",
     "output_type": "stream",
     "text": [
      "DaStGen 2 (C) www.peano-framework.org\n",
      "Peano 4 (C) www.peano-framework.org\n",
      "ExaHyPE 2 (C) www.peano-framework.org\n"
     ]
    }
   ],
   "source": [
    "import os\n",
    "import peano4\n",
    "import exahype2"
   ]
  },
  {
   "cell_type": "code",
   "execution_count": 2,
   "metadata": {},
   "outputs": [],
   "source": [
    "output_files = [ f for f in os.listdir(\".\") if f.endswith(\".peano-patch-file\") or f.endswith(\".vtu\") or f.startswith(\"output\")]\n",
    "for f in output_files:\n",
    "  os.remove(f)"
   ]
  },
  {
   "cell_type": "markdown",
   "metadata": {},
   "source": [
    "The first thing to do in any ExaHyPE 2 application is to create an ExaHyPE project. We have to tell it exactly what namespace we want to use and we have to give it a name. There are a few more options that we omit here, i.e. we use the defaults."
   ]
  },
  {
   "cell_type": "code",
   "execution_count": 3,
   "metadata": {},
   "outputs": [],
   "source": [
    "project = exahype2.Project( [\"examples\", \"exahype2\", \"ccz4\"], \"ccz4\" )"
   ]
  },
  {
   "cell_type": "markdown",
   "metadata": {},
   "source": [
    "## Configuring the solver\n",
    "\n",
    "Our first step is to use a Finite Volumes solver. I write down all the unknowns first. I'll use this dictionary later to access variables symbolically. For the time being, I just define this map and then count the number of unknowns. This total count is something I really need to configure my solver."
   ]
  },
  {
   "cell_type": "code",
   "execution_count": 4,
   "metadata": {},
   "outputs": [
    {
     "name": "stdout",
     "output_type": "stream",
     "text": [
      "number of unknowns= 64\n"
     ]
    }
   ],
   "source": [
    "unknowns = {\n",
    "  \"G\":6,\n",
    "  \"K\":6,\n",
    "  \"theta\":1,\n",
    "  \"Z\":3,\n",
    "  \"lapse\":1,\n",
    "  \"shift\":3,\n",
    "  \"b\":3,\n",
    "  \"dLapse\":3,\n",
    "  \"dxShift\":3,\n",
    "  \"dyShift\":3,\n",
    "  \"dzShift\":3,\n",
    "  \"dxG\":6,\n",
    "  \"dyG\":6,\n",
    "  \"dzG\":6,\n",
    "  \"traceK\":1,\n",
    "  \"phi\":1,\n",
    "  \"P\":3,\n",
    "  \"K0\":1,\n",
    "  \"rho\":1,\n",
    "  \"u\":3,\n",
    "  \"p\":1\n",
    "}\n",
    "\n",
    "number_of_unknowns = 0\n",
    "for i in unknowns:\n",
    "  number_of_unknowns += unknowns[i]\n",
    "print( \"number of unknowns=\", number_of_unknowns )"
   ]
  },
  {
   "cell_type": "markdown",
   "metadata": {},
   "source": [
    "The solver itself is a simple Finite Volume solver with fixed time stepping. I use the enclave solver variant which is a solver nuance that is particuarly good on large shared memory architectures. Our PDE is expressed solely in a nonconservative formulation. I therefore can switch the flux term off."
   ]
  },
  {
   "cell_type": "code",
   "execution_count": 5,
   "metadata": {},
   "outputs": [],
   "source": [
    "patch_size          = 6\n",
    "auxiliary_variables = 0\n",
    "time_step_size      = 0.01\n",
    "max_h               = 0.4\n",
    "min_h               = 0.4\n",
    "\n",
    "my_solver = exahype2.solvers.fv.GenericRusanovFixedTimeStepSizeWithEnclaves(\n",
    "  \"CCZ4\", patch_size, number_of_unknowns, auxiliary_variables, min_h, max_h, time_step_size\n",
    ")\n",
    "\n",
    "\n",
    "project.add_solver(my_solver)"
   ]
  },
  {
   "cell_type": "markdown",
   "metadata": {},
   "source": [
    "I next inject homogeneous Neumann boundary conditions:"
   ]
  },
  {
   "cell_type": "code",
   "execution_count": 6,
   "metadata": {},
   "outputs": [],
   "source": [
    "import exahype2.sympy\n",
    "\n",
    "pde = exahype2.sympy.PDE(unknowns=number_of_unknowns,auxiliary_variables=0,dimensions=3)\n",
    "\n",
    "my_solver.set_implementation(\n",
    "  boundary_conditions=exahype2.solvers.fv.PDETerms.User_Defined_Implementation,\n",
    "  flux=exahype2.solvers.fv.PDETerms.None_Implementation,\n",
    "  ncp=exahype2.solvers.fv.PDETerms.User_Defined_Implementation\n",
    ")   \n"
   ]
  },
  {
   "cell_type": "markdown",
   "metadata": {},
   "source": [
    "## Configure the global domain\n",
    "\n",
    "We next configure our global domain, i.e. we specify the dimensions of the computational domain $\\Omega $, we specify how long the simulation shall run and how often we want it to dump its data. The dumps will later be used to produce screenshots of the data (or to extract all kinds of properties)."
   ]
  },
  {
   "cell_type": "code",
   "execution_count": 7,
   "metadata": {},
   "outputs": [],
   "source": [
    "#build_mode = peano4.output.CompileMode.Asserts\n",
    "build_mode = peano4.output.CompileMode.Release\n",
    "\n",
    "dimensions = 3\n",
    "end_time = 1\n",
    "snapshots = time_step_size*1\n",
    "    \n",
    "project.set_global_simulation_parameters(\n",
    "  dimensions,               # dimensions\n",
    "  [-0.5, -0.5, -0.5],  [1.0, 1.0, 1.0],\n",
    "  end_time,                 # end time\n",
    "  0.0, snapshots,   # snapshots\n",
    "  [True,True,True]          # Periodic BC\n",
    ")"
   ]
  },
  {
   "cell_type": "markdown",
   "metadata": {},
   "source": [
    "## Generate a Peano 4 project\n",
    "\n",
    "This is exactly the same as for Euler: We ask the ExaHyPE 2 front-end to give us a Peano project."
   ]
  },
  {
   "cell_type": "code",
   "execution_count": 8,
   "metadata": {},
   "outputs": [
    {
     "name": "stdout",
     "output_type": "stream",
     "text": [
      "parse configure outcome ../../../src/Makefile to extract compile settings\n",
      "used C++ compiler is icpc\n",
      "used Fortran compiler is ifort\n"
     ]
    }
   ],
   "source": [
    "project.set_Peano4_installation(\"../../..\", build_mode)\n",
    "\n",
    "peano4_project = project.generate_Peano4_project()"
   ]
  },
  {
   "cell_type": "markdown",
   "metadata": {},
   "source": [
    "A \"big\" difference to Euler is that we now have some external Fortran files. Usually, we take the default settings when we invoke the Fortran compiler. Default is the stuff given to us by Peano's configure. There's however the opportunity to add further flags manually. I use this here as the astro code requies some bespoke defines. Also, I need the -cpp flag. Otherwise the preprocessor macros are not taken into account properly and my Intel compiler terminates.\n",
    "- The option \"-DGLMROT\" can be added to enable curl cleaning, however this requires additional variables. Be sure to add these before enabling this option.\n",
    "- With GNU, I have used \n",
    "<pre>\n",
    "./configure  FC=\"gfortran\" CXX=\"g++\" LDFLAGS=\"-L/opt/vtk/lib64 -L/opt/intel/tbb/lib/intel64/gcc4.8 -ltbb_debug -lpthread\" CXXFLAGS=\"-I/opt/intel/tbb/include -DTBB_USE_ASSERT -DTBB_USE_THREADING_TOOLS -I/opt/intel/itac/2020.0.015/intel64/include\"   --enable-exahype --enable-loadbalancing-toolbox --with-multithreading=omp\n",
    "</pre>\n",
    "for this one on my system.\n",
    "- With Intel, I used\n",
    "<pre>\n",
    "./configure FC=\"ifort\" CXX=\"icpc\" LDFLAGS=\"-L/opt/vtk/lib64 -L/opt/intel/tbb/lib/intel64/gcc4.8 -ltbb_debug -lpthread -lifcore\" CXXFLAGS=\"-I/opt/intel/tbb/include -DTBB_USE_ASSERT -DTBB_USE_THREADING_TOOLS -I/opt/intel/itac/2020.0.015/intel64/include\"   --enable-exahype --enable-loadbalancing-toolbox --with-multithreading=omp\n",
    "</pre>"
   ]
  },
  {
   "cell_type": "code",
   "execution_count": 9,
   "metadata": {
    "scrolled": true
   },
   "outputs": [],
   "source": [
    "peano4_project.output.makefile.add_Fortran_flag( \"-DCCZ4EINSTEIN -DDim3\" )\n",
    "\n",
    "# This is for GNU\n",
    "#peano4_project.output.makefile.add_Fortran_flag( \"-lstdc++ -fdefault-real-8 -fdefault-double-8 -cpp -std=legacy -ffree-line-length-512 -fPIC\" )\n",
    "#peano4_project.output.makefile.add_linker_flag( \"-lstdc++ -fPIC -lgfortran\" )\n",
    "\n",
    "# This might work for Intel (not tested)\n",
    "peano4_project.output.makefile.add_Fortran_flag( \"-r8 -cpp -auto -qopenmp-simd -O2\" )\n",
    "peano4_project.output.makefile.add_linker_flag( \"-lstdc++ -fPIC\" )\n",
    "\n",
    "peano4_project.output.makefile.add_Fortran_module( \"MainVariables.f90\" )\n",
    "\n",
    "peano4_project.output.makefile.add_Fortran_files( \n",
    "  [\"PDE.f90 \", \"EinsteinConstraints.f90 \",\n",
    "    \"Metric.f90 \", \"C2P-FOCCZ4.f90 \"] \n",
    ")"
   ]
  },
  {
   "cell_type": "markdown",
   "metadata": {},
   "source": [
    "# Prepare the CCZ4 solver\n",
    "\n",
    "This means invoking the right Fortran routines at the right time. First, we have to tell the Fortran lib which scenario we want to work with. For this, we create a symbol identifier in Python and export it into the C++ code.\n",
    "We then write a standard constructor of the CCZ4 solver which pipes the constant through through the Fortran code. Seems to be quite some overhead, but it allows us to switch the scenario through Python. "
   ]
  },
  {
   "cell_type": "code",
   "execution_count": 10,
   "metadata": {},
   "outputs": [],
   "source": [
    "#peano4_project.constants.export_string( \"Scenario\", \"CCZ4GaugeWave\")\n",
    "peano4_project.constants.export_string( \"Scenario\", \"gaugewave-c++\" )"
   ]
  },
  {
   "cell_type": "markdown",
   "metadata": {},
   "source": [
    "# Create C++ code\n",
    "\n",
    "We finally generate the C++ code:"
   ]
  },
  {
   "cell_type": "code",
   "execution_count": 11,
   "metadata": {
    "scrolled": true
   },
   "outputs": [
    {
     "name": "stdout",
     "output_type": "stream",
     "text": [
      "generate all code ...\n",
      "some artefacts have already been added to repository ... assume this is intentional (by higher abstraction layer, e.g.)\n",
      "generated ccz4-main.cpp\n",
      "write ./Makefile\n",
      "write ././AbstractCCZ4.h (generated from template /home/tobias/git/Peano/python/exahype2/solvers/fv/GenericRusanovFixedTimeStepSizeWithEnclavesAbstract.template.h)\n",
      "write ././AbstractCCZ4.cpp (generated from template /home/tobias/git/Peano/python/exahype2/solvers/fv/GenericRusanovFixedTimeStepSizeWithEnclavesAbstract.template.cpp)\n",
      "write ./observers/SolverRepository.h (generated from template /home/tobias/git/Peano/python/exahype2/ProjectSolverRepository.template.h)\n",
      "write ./observers/SolverRepository.cpp (generated from template /home/tobias/git/Peano/python/exahype2/ProjectSolverRepository.template.cpp)\n",
      "write ./celldata/CCZ4Q.h (generated from template /home/tobias/git/Peano/python/peano4/datamodel/PatchToDoubleArray.template.h)\n",
      "write ./celldata/CCZ4Q.cpp (generated from template /home/tobias/git/Peano/python/peano4/datamodel/PatchToDoubleArray.template.cpp)\n",
      "write ./facedata/CCZ4Q.h (generated from template /home/tobias/git/Peano/python/peano4/datamodel/PatchToDoubleArray.template.h)\n",
      "write ./facedata/CCZ4Q.cpp (generated from template /home/tobias/git/Peano/python/peano4/datamodel/PatchToDoubleArray.template.cpp)\n",
      "write ./facedata/CCZ4QNew.h (generated from template /home/tobias/git/Peano/python/peano4/datamodel/PatchToDoubleArray.template.h)\n",
      "write ./facedata/CCZ4QNew.cpp (generated from template /home/tobias/git/Peano/python/peano4/datamodel/PatchToDoubleArray.template.cpp)\n",
      "write ./observers/DataRepository.h\n",
      "write ./observers/DataRepository.cpp\n",
      "write ././observers/CreateGrid2peano4_toolbox_blockstructured_ApplyFunctorOnPatch0.h\n",
      "write ././observers/CreateGrid2peano4_toolbox_blockstructured_ApplyFunctorOnPatch0.cpp\n",
      "write ././observers/CreateGrid2exahype2_grid_AMROnPatch1.h\n",
      "write ././observers/CreateGrid2exahype2_grid_AMROnPatch1.cpp\n",
      "write ././observers/CreateGrid2exahype2_grid_EnclaveLabels2.h\n",
      "write ././observers/CreateGrid2exahype2_grid_EnclaveLabels2.cpp\n",
      "write ././observers/CreateGrid2exahype2_grid_SetLabels3.h\n",
      "write ././observers/CreateGrid2exahype2_grid_SetLabels3.cpp\n",
      "write ././observers/CreateGrid.h\n",
      "write ././observers/CreateGrid.cpp\n",
      "write ././observers/InitGrid2peano4_toolbox_blockstructured_ApplyFunctorOnPatch0.h\n",
      "write ././observers/InitGrid2peano4_toolbox_blockstructured_ApplyFunctorOnPatch0.cpp\n",
      "write ././observers/InitGrid2peano4_toolbox_blockstructured_ProjectPatchOntoFaces1.h\n",
      "write ././observers/InitGrid2peano4_toolbox_blockstructured_ProjectPatchOntoFaces1.cpp\n",
      "write ././observers/InitGrid2peano4_toolbox_blockstructured_BackupPatchOverlap2.h\n",
      "write ././observers/InitGrid2peano4_toolbox_blockstructured_BackupPatchOverlap2.cpp\n",
      "write ././observers/InitGrid2exahype2_grid_SetLabels3.h\n",
      "write ././observers/InitGrid2exahype2_grid_SetLabels3.cpp\n",
      "write ././observers/InitGrid.h\n",
      "write ././observers/InitGrid.cpp\n",
      "write ././observers/CreateGridButPostponeRefinement2peano4_toolbox_blockstructured_ApplyFunctorOnPatch0.h\n",
      "write ././observers/CreateGridButPostponeRefinement2peano4_toolbox_blockstructured_ApplyFunctorOnPatch0.cpp\n",
      "write ././observers/CreateGridButPostponeRefinement2exahype2_grid_EnclaveLabels1.h\n",
      "write ././observers/CreateGridButPostponeRefinement2exahype2_grid_EnclaveLabels1.cpp\n",
      "write ././observers/CreateGridButPostponeRefinement2exahype2_grid_SetLabels2.h\n",
      "write ././observers/CreateGridButPostponeRefinement2exahype2_grid_SetLabels2.cpp\n",
      "write ././observers/CreateGridButPostponeRefinement.h\n",
      "write ././observers/CreateGridButPostponeRefinement.cpp\n",
      "write ././observers/PlotSolution2peano4_toolbox_blockstructured_PlotPatchesInPeanoBlockFormat0.h\n",
      "write ././observers/PlotSolution2peano4_toolbox_blockstructured_PlotPatchesInPeanoBlockFormat0.cpp\n",
      "write ././observers/PlotSolution2exahype2_grid_SetLabels1.h\n",
      "write ././observers/PlotSolution2exahype2_grid_SetLabels1.cpp\n",
      "write ././observers/PlotSolution.h\n",
      "write ././observers/PlotSolution.cpp\n",
      "write ././observers/TimeStep2peano4_toolbox_blockstructured_ReconstructPatchAndApplyFunctor0.h\n",
      "write ././observers/TimeStep2peano4_toolbox_blockstructured_ReconstructPatchAndApplyFunctor0.cpp\n",
      "write ././observers/TimeStep2peano4_toolbox_blockstructured_ProjectPatchOntoFaces1.h\n",
      "write ././observers/TimeStep2peano4_toolbox_blockstructured_ProjectPatchOntoFaces1.cpp\n",
      "write ././observers/TimeStep2peano4_toolbox_blockstructured_ApplyFunctorOnPatch2.h\n",
      "write ././observers/TimeStep2peano4_toolbox_blockstructured_ApplyFunctorOnPatch2.cpp\n",
      "write ././observers/TimeStep2exahype2_grid_AMROnPatch3.h\n",
      "write ././observers/TimeStep2exahype2_grid_AMROnPatch3.cpp\n",
      "write ././observers/TimeStep2peano4_toolbox_blockstructured_BackupPatchOverlap4.h\n",
      "write ././observers/TimeStep2peano4_toolbox_blockstructured_BackupPatchOverlap4.cpp\n",
      "write ././observers/TimeStep2exahype2_grid_EnclaveLabels5.h\n",
      "write ././observers/TimeStep2exahype2_grid_EnclaveLabels5.cpp\n",
      "write ././observers/TimeStep2peano4_toolbox_blockstructured_ApplyFunctorOnPatch6.h\n",
      "write ././observers/TimeStep2peano4_toolbox_blockstructured_ApplyFunctorOnPatch6.cpp\n",
      "write ././observers/TimeStep2exahype2_grid_SetLabels7.h\n",
      "write ././observers/TimeStep2exahype2_grid_SetLabels7.cpp\n",
      "write ././observers/TimeStep.h\n",
      "write ././observers/TimeStep.cpp\n",
      "write ./observers/StepRepository.h\n",
      "write ./observers/StepRepository.cpp\n",
      "write ././ccz4-main.h\n",
      "write ././ccz4-main.cpp\n",
      "write ./Constants.h\n",
      "generation complete\n"
     ]
    }
   ],
   "source": [
    "peano4_project.generate( throw_away_data_after_generation=False )"
   ]
  },
  {
   "cell_type": "markdown",
   "metadata": {},
   "source": [
    "The build below should fail when you first call it in an empty directory. After all, we have promised to deliver an ncp implementation, but there is none."
   ]
  },
  {
   "cell_type": "code",
   "execution_count": 12,
   "metadata": {},
   "outputs": [
    {
     "name": "stdout",
     "output_type": "stream",
     "text": [
      "icpc -std=c++0x -O2 -DPeanoDebug=0 -I/opt/intel/tbb/include -DTBB_USE_ASSERT -DTBB_USE_THREADING_TOOLS -I/opt/intel/itac/2020.0.015/intel64/include -fopenmp  -DDimensions=3 -I. -I../../../src -c -o AbstractCCZ4.o AbstractCCZ4.cpp\n",
      "icpc -std=c++0x -O2 -DPeanoDebug=0 -I/opt/intel/tbb/include -DTBB_USE_ASSERT -DTBB_USE_THREADING_TOOLS -I/opt/intel/itac/2020.0.015/intel64/include -fopenmp  -DDimensions=3 -I. -I../../../src -c -o observers/SolverRepository.o observers/SolverRepository.cpp\n",
      "icpc -std=c++0x -O2 -DPeanoDebug=0 -I/opt/intel/tbb/include -DTBB_USE_ASSERT -DTBB_USE_THREADING_TOOLS -I/opt/intel/itac/2020.0.015/intel64/include -fopenmp  -DDimensions=3 -I. -I../../../src -c -o celldata/CCZ4Q.o celldata/CCZ4Q.cpp\n",
      "icpc -std=c++0x -O2 -DPeanoDebug=0 -I/opt/intel/tbb/include -DTBB_USE_ASSERT -DTBB_USE_THREADING_TOOLS -I/opt/intel/itac/2020.0.015/intel64/include -fopenmp  -DDimensions=3 -I. -I../../../src -c -o celldata/CCZ4CellSemaphoreLabel.o celldata/CCZ4CellSemaphoreLabel.cpp\n",
      "icpc -std=c++0x -O2 -DPeanoDebug=0 -I/opt/intel/tbb/include -DTBB_USE_ASSERT -DTBB_USE_THREADING_TOOLS -I/opt/intel/itac/2020.0.015/intel64/include -fopenmp  -DDimensions=3 -I. -I../../../src -c -o facedata/CCZ4Q.o facedata/CCZ4Q.cpp\n",
      "icpc -std=c++0x -O2 -DPeanoDebug=0 -I/opt/intel/tbb/include -DTBB_USE_ASSERT -DTBB_USE_THREADING_TOOLS -I/opt/intel/itac/2020.0.015/intel64/include -fopenmp  -DDimensions=3 -I. -I../../../src -c -o facedata/CCZ4QNew.o facedata/CCZ4QNew.cpp\n",
      "icpc -std=c++0x -O2 -DPeanoDebug=0 -I/opt/intel/tbb/include -DTBB_USE_ASSERT -DTBB_USE_THREADING_TOOLS -I/opt/intel/itac/2020.0.015/intel64/include -fopenmp  -DDimensions=3 -I. -I../../../src -c -o facedata/Label.o facedata/Label.cpp\n",
      "icpc -std=c++0x -O2 -DPeanoDebug=0 -I/opt/intel/tbb/include -DTBB_USE_ASSERT -DTBB_USE_THREADING_TOOLS -I/opt/intel/itac/2020.0.015/intel64/include -fopenmp  -DDimensions=3 -I. -I../../../src -c -o observers/DataRepository.o observers/DataRepository.cpp\n",
      "icpc -std=c++0x -O2 -DPeanoDebug=0 -I/opt/intel/tbb/include -DTBB_USE_ASSERT -DTBB_USE_THREADING_TOOLS -I/opt/intel/itac/2020.0.015/intel64/include -fopenmp  -DDimensions=3 -I. -I../../../src -c -o observers/CreateGrid2peano4_toolbox_blockstructured_ApplyFunctorOnPatch0.o observers/CreateGrid2peano4_toolbox_blockstructured_ApplyFunctorOnPatch0.cpp\n",
      "icpc -std=c++0x -O2 -DPeanoDebug=0 -I/opt/intel/tbb/include -DTBB_USE_ASSERT -DTBB_USE_THREADING_TOOLS -I/opt/intel/itac/2020.0.015/intel64/include -fopenmp  -DDimensions=3 -I. -I../../../src -c -o observers/CreateGrid2exahype2_grid_AMROnPatch1.o observers/CreateGrid2exahype2_grid_AMROnPatch1.cpp\n",
      "icpc -std=c++0x -O2 -DPeanoDebug=0 -I/opt/intel/tbb/include -DTBB_USE_ASSERT -DTBB_USE_THREADING_TOOLS -I/opt/intel/itac/2020.0.015/intel64/include -fopenmp  -DDimensions=3 -I. -I../../../src -c -o observers/CreateGrid2exahype2_grid_EnclaveLabels2.o observers/CreateGrid2exahype2_grid_EnclaveLabels2.cpp\n",
      "icpc -std=c++0x -O2 -DPeanoDebug=0 -I/opt/intel/tbb/include -DTBB_USE_ASSERT -DTBB_USE_THREADING_TOOLS -I/opt/intel/itac/2020.0.015/intel64/include -fopenmp  -DDimensions=3 -I. -I../../../src -c -o observers/CreateGrid2exahype2_grid_SetLabels3.o observers/CreateGrid2exahype2_grid_SetLabels3.cpp\n",
      "icpc -std=c++0x -O2 -DPeanoDebug=0 -I/opt/intel/tbb/include -DTBB_USE_ASSERT -DTBB_USE_THREADING_TOOLS -I/opt/intel/itac/2020.0.015/intel64/include -fopenmp  -DDimensions=3 -I. -I../../../src -c -o observers/CreateGrid.o observers/CreateGrid.cpp\n",
      "icpc -std=c++0x -O2 -DPeanoDebug=0 -I/opt/intel/tbb/include -DTBB_USE_ASSERT -DTBB_USE_THREADING_TOOLS -I/opt/intel/itac/2020.0.015/intel64/include -fopenmp  -DDimensions=3 -I. -I../../../src -c -o observers/InitGrid2peano4_toolbox_blockstructured_ApplyFunctorOnPatch0.o observers/InitGrid2peano4_toolbox_blockstructured_ApplyFunctorOnPatch0.cpp\n",
      "icpc -std=c++0x -O2 -DPeanoDebug=0 -I/opt/intel/tbb/include -DTBB_USE_ASSERT -DTBB_USE_THREADING_TOOLS -I/opt/intel/itac/2020.0.015/intel64/include -fopenmp  -DDimensions=3 -I. -I../../../src -c -o observers/InitGrid2peano4_toolbox_blockstructured_ProjectPatchOntoFaces1.o observers/InitGrid2peano4_toolbox_blockstructured_ProjectPatchOntoFaces1.cpp\n",
      "icpc -std=c++0x -O2 -DPeanoDebug=0 -I/opt/intel/tbb/include -DTBB_USE_ASSERT -DTBB_USE_THREADING_TOOLS -I/opt/intel/itac/2020.0.015/intel64/include -fopenmp  -DDimensions=3 -I. -I../../../src -c -o observers/InitGrid2peano4_toolbox_blockstructured_BackupPatchOverlap2.o observers/InitGrid2peano4_toolbox_blockstructured_BackupPatchOverlap2.cpp\n",
      "icpc -std=c++0x -O2 -DPeanoDebug=0 -I/opt/intel/tbb/include -DTBB_USE_ASSERT -DTBB_USE_THREADING_TOOLS -I/opt/intel/itac/2020.0.015/intel64/include -fopenmp  -DDimensions=3 -I. -I../../../src -c -o observers/InitGrid2exahype2_grid_SetLabels3.o observers/InitGrid2exahype2_grid_SetLabels3.cpp\n",
      "icpc -std=c++0x -O2 -DPeanoDebug=0 -I/opt/intel/tbb/include -DTBB_USE_ASSERT -DTBB_USE_THREADING_TOOLS -I/opt/intel/itac/2020.0.015/intel64/include -fopenmp  -DDimensions=3 -I. -I../../../src -c -o observers/InitGrid.o observers/InitGrid.cpp\n",
      "icpc -std=c++0x -O2 -DPeanoDebug=0 -I/opt/intel/tbb/include -DTBB_USE_ASSERT -DTBB_USE_THREADING_TOOLS -I/opt/intel/itac/2020.0.015/intel64/include -fopenmp  -DDimensions=3 -I. -I../../../src -c -o observers/CreateGridButPostponeRefinement2peano4_toolbox_blockstructured_ApplyFunctorOnPatch0.o observers/CreateGridButPostponeRefinement2peano4_toolbox_blockstructured_ApplyFunctorOnPatch0.cpp\n",
      "icpc -std=c++0x -O2 -DPeanoDebug=0 -I/opt/intel/tbb/include -DTBB_USE_ASSERT -DTBB_USE_THREADING_TOOLS -I/opt/intel/itac/2020.0.015/intel64/include -fopenmp  -DDimensions=3 -I. -I../../../src -c -o observers/CreateGridButPostponeRefinement2exahype2_grid_EnclaveLabels1.o observers/CreateGridButPostponeRefinement2exahype2_grid_EnclaveLabels1.cpp\n",
      "icpc -std=c++0x -O2 -DPeanoDebug=0 -I/opt/intel/tbb/include -DTBB_USE_ASSERT -DTBB_USE_THREADING_TOOLS -I/opt/intel/itac/2020.0.015/intel64/include -fopenmp  -DDimensions=3 -I. -I../../../src -c -o observers/CreateGridButPostponeRefinement2exahype2_grid_SetLabels2.o observers/CreateGridButPostponeRefinement2exahype2_grid_SetLabels2.cpp\n",
      "icpc -std=c++0x -O2 -DPeanoDebug=0 -I/opt/intel/tbb/include -DTBB_USE_ASSERT -DTBB_USE_THREADING_TOOLS -I/opt/intel/itac/2020.0.015/intel64/include -fopenmp  -DDimensions=3 -I. -I../../../src -c -o observers/CreateGridButPostponeRefinement.o observers/CreateGridButPostponeRefinement.cpp\n",
      "icpc -std=c++0x -O2 -DPeanoDebug=0 -I/opt/intel/tbb/include -DTBB_USE_ASSERT -DTBB_USE_THREADING_TOOLS -I/opt/intel/itac/2020.0.015/intel64/include -fopenmp  -DDimensions=3 -I. -I../../../src -c -o observers/PlotSolution2peano4_toolbox_blockstructured_PlotPatchesInPeanoBlockFormat0.o observers/PlotSolution2peano4_toolbox_blockstructured_PlotPatchesInPeanoBlockFormat0.cpp\n",
      "icpc -std=c++0x -O2 -DPeanoDebug=0 -I/opt/intel/tbb/include -DTBB_USE_ASSERT -DTBB_USE_THREADING_TOOLS -I/opt/intel/itac/2020.0.015/intel64/include -fopenmp  -DDimensions=3 -I. -I../../../src -c -o observers/PlotSolution2exahype2_grid_SetLabels1.o observers/PlotSolution2exahype2_grid_SetLabels1.cpp\n",
      "icpc -std=c++0x -O2 -DPeanoDebug=0 -I/opt/intel/tbb/include -DTBB_USE_ASSERT -DTBB_USE_THREADING_TOOLS -I/opt/intel/itac/2020.0.015/intel64/include -fopenmp  -DDimensions=3 -I. -I../../../src -c -o observers/PlotSolution.o observers/PlotSolution.cpp\n",
      "icpc -std=c++0x -O2 -DPeanoDebug=0 -I/opt/intel/tbb/include -DTBB_USE_ASSERT -DTBB_USE_THREADING_TOOLS -I/opt/intel/itac/2020.0.015/intel64/include -fopenmp  -DDimensions=3 -I. -I../../../src -c -o observers/TimeStep2peano4_toolbox_blockstructured_ReconstructPatchAndApplyFunctor0.o observers/TimeStep2peano4_toolbox_blockstructured_ReconstructPatchAndApplyFunctor0.cpp\n",
      "icpc -std=c++0x -O2 -DPeanoDebug=0 -I/opt/intel/tbb/include -DTBB_USE_ASSERT -DTBB_USE_THREADING_TOOLS -I/opt/intel/itac/2020.0.015/intel64/include -fopenmp  -DDimensions=3 -I. -I../../../src -c -o observers/TimeStep2peano4_toolbox_blockstructured_ProjectPatchOntoFaces1.o observers/TimeStep2peano4_toolbox_blockstructured_ProjectPatchOntoFaces1.cpp\n",
      "icpc -std=c++0x -O2 -DPeanoDebug=0 -I/opt/intel/tbb/include -DTBB_USE_ASSERT -DTBB_USE_THREADING_TOOLS -I/opt/intel/itac/2020.0.015/intel64/include -fopenmp  -DDimensions=3 -I. -I../../../src -c -o observers/TimeStep2peano4_toolbox_blockstructured_ApplyFunctorOnPatch2.o observers/TimeStep2peano4_toolbox_blockstructured_ApplyFunctorOnPatch2.cpp\n",
      "icpc -std=c++0x -O2 -DPeanoDebug=0 -I/opt/intel/tbb/include -DTBB_USE_ASSERT -DTBB_USE_THREADING_TOOLS -I/opt/intel/itac/2020.0.015/intel64/include -fopenmp  -DDimensions=3 -I. -I../../../src -c -o observers/TimeStep2exahype2_grid_AMROnPatch3.o observers/TimeStep2exahype2_grid_AMROnPatch3.cpp\n"
     ]
    },
    {
     "name": "stdout",
     "output_type": "stream",
     "text": [
      "icpc -std=c++0x -O2 -DPeanoDebug=0 -I/opt/intel/tbb/include -DTBB_USE_ASSERT -DTBB_USE_THREADING_TOOLS -I/opt/intel/itac/2020.0.015/intel64/include -fopenmp  -DDimensions=3 -I. -I../../../src -c -o observers/TimeStep2peano4_toolbox_blockstructured_BackupPatchOverlap4.o observers/TimeStep2peano4_toolbox_blockstructured_BackupPatchOverlap4.cpp\n",
      "icpc -std=c++0x -O2 -DPeanoDebug=0 -I/opt/intel/tbb/include -DTBB_USE_ASSERT -DTBB_USE_THREADING_TOOLS -I/opt/intel/itac/2020.0.015/intel64/include -fopenmp  -DDimensions=3 -I. -I../../../src -c -o observers/TimeStep2exahype2_grid_EnclaveLabels5.o observers/TimeStep2exahype2_grid_EnclaveLabels5.cpp\n",
      "icpc -std=c++0x -O2 -DPeanoDebug=0 -I/opt/intel/tbb/include -DTBB_USE_ASSERT -DTBB_USE_THREADING_TOOLS -I/opt/intel/itac/2020.0.015/intel64/include -fopenmp  -DDimensions=3 -I. -I../../../src -c -o observers/TimeStep2peano4_toolbox_blockstructured_ApplyFunctorOnPatch6.o observers/TimeStep2peano4_toolbox_blockstructured_ApplyFunctorOnPatch6.cpp\n",
      "icpc -std=c++0x -O2 -DPeanoDebug=0 -I/opt/intel/tbb/include -DTBB_USE_ASSERT -DTBB_USE_THREADING_TOOLS -I/opt/intel/itac/2020.0.015/intel64/include -fopenmp  -DDimensions=3 -I. -I../../../src -c -o observers/TimeStep2exahype2_grid_SetLabels7.o observers/TimeStep2exahype2_grid_SetLabels7.cpp\n",
      "icpc -std=c++0x -O2 -DPeanoDebug=0 -I/opt/intel/tbb/include -DTBB_USE_ASSERT -DTBB_USE_THREADING_TOOLS -I/opt/intel/itac/2020.0.015/intel64/include -fopenmp  -DDimensions=3 -I. -I../../../src -c -o observers/TimeStep.o observers/TimeStep.cpp\n",
      "icpc -std=c++0x -O2 -DPeanoDebug=0 -I/opt/intel/tbb/include -DTBB_USE_ASSERT -DTBB_USE_THREADING_TOOLS -I/opt/intel/itac/2020.0.015/intel64/include -fopenmp  -DDimensions=3 -I. -I../../../src -c -o observers/StepRepository.o observers/StepRepository.cpp\n",
      "icpc -std=c++0x -O2 -DPeanoDebug=0 -I/opt/intel/tbb/include -DTBB_USE_ASSERT -DTBB_USE_THREADING_TOOLS -I/opt/intel/itac/2020.0.015/intel64/include -fopenmp  -DDimensions=3 -I. -I../../../src -c -o ccz4-main.o ccz4-main.cpp\n",
      "icpc MainVariables.o PDE.o  EinsteinConstraints.o  Metric.o  C2P-FOCCZ4.o   AbstractCCZ4.o CCZ4.o observers/SolverRepository.o celldata/CCZ4Q.o celldata/CCZ4CellSemaphoreLabel.o facedata/CCZ4Q.o facedata/CCZ4QNew.o facedata/Label.o observers/DataRepository.o ./observers/CreateGrid2peano4_toolbox_blockstructured_ApplyFunctorOnPatch0.o ./observers/CreateGrid2exahype2_grid_AMROnPatch1.o ./observers/CreateGrid2exahype2_grid_EnclaveLabels2.o ./observers/CreateGrid2exahype2_grid_SetLabels3.o ./observers/CreateGrid.o ./observers/InitGrid2peano4_toolbox_blockstructured_ApplyFunctorOnPatch0.o ./observers/InitGrid2peano4_toolbox_blockstructured_ProjectPatchOntoFaces1.o ./observers/InitGrid2peano4_toolbox_blockstructured_BackupPatchOverlap2.o ./observers/InitGrid2exahype2_grid_SetLabels3.o ./observers/InitGrid.o ./observers/CreateGridButPostponeRefinement2peano4_toolbox_blockstructured_ApplyFunctorOnPatch0.o ./observers/CreateGridButPostponeRefinement2exahype2_grid_EnclaveLabels1.o ./observers/CreateGridButPostponeRefinement2exahype2_grid_SetLabels2.o ./observers/CreateGridButPostponeRefinement.o ./observers/PlotSolution2peano4_toolbox_blockstructured_PlotPatchesInPeanoBlockFormat0.o ./observers/PlotSolution2exahype2_grid_SetLabels1.o ./observers/PlotSolution.o ./observers/TimeStep2peano4_toolbox_blockstructured_ReconstructPatchAndApplyFunctor0.o ./observers/TimeStep2peano4_toolbox_blockstructured_ProjectPatchOntoFaces1.o ./observers/TimeStep2peano4_toolbox_blockstructured_ApplyFunctorOnPatch2.o ./observers/TimeStep2exahype2_grid_AMROnPatch3.o ./observers/TimeStep2peano4_toolbox_blockstructured_BackupPatchOverlap4.o ./observers/TimeStep2exahype2_grid_EnclaveLabels5.o ./observers/TimeStep2peano4_toolbox_blockstructured_ApplyFunctorOnPatch6.o ./observers/TimeStep2exahype2_grid_SetLabels7.o ./observers/TimeStep.o observers/StepRepository.o ccz4-main.o   -L/opt/vtk/lib64 -L/opt/intel/tbb/lib/intel64/gcc4.8 -ltbb_debug -lpthread -lifcore -fopenmp  -lstdc++ -fPIC -L../../../src -L../../../src/toolbox/loadbalancing -L../../../src/exahype2   -lExaHyPE2Core3d  -lToolboxLoadBalancing3d  -lPeano4Core3d -lTarch  -o peano4 \n"
     ]
    }
   ],
   "source": [
    "parallel_builds = 1   # I don't use a massively parallel build here as my laptop otherwise becomes too hot.\n",
    "                      # Without any arguments, the build process will grab all of your cores.\n",
    "#peano4_project.build( make_clean_first = False, number_of_parallel_builds = parallel_builds )\n",
    "!make -j4\n"
   ]
  },
  {
   "cell_type": "markdown",
   "metadata": {},
   "source": [
    "## Run the code and postprocess results\n",
    "\n",
    "Once we have the Peano 4 project set up and built, we obtain an executable which is standalone. It comprises all the parameters we have set above. So we can either invoke this file on the command line or we can call it through the notebook. Depending on your setup you might want to call the code with a prefix. If you configured Peano with MPI, e.g., you might have to use the mpirun prefix. \n",
    "\n",
    "Please note that we pipe the terminal output into a file. This way, we can postprocess the data in the next step."
   ]
  },
  {
   "cell_type": "code",
   "execution_count": 13,
   "metadata": {},
   "outputs": [
    {
     "name": "stdout",
     "output_type": "stream",
     "text": [
      "run application ...\n",
      " 18746790172  00:00:18     rank:0       core:5       warning      tarch::logging::Statistics::writeToCSV(string)          no statistics available. Recompile with -DTrackStatistics for runtime sampling (file:tarch/logging/Statistics.cpp,line:142)\n",
      "\n",
      "run completed without error code, but check for warnings and numerical assertions/errors\n"
     ]
    },
    {
     "data": {
      "text/plain": [
       "True"
      ]
     },
     "execution_count": 13,
     "metadata": {},
     "output_type": "execute_result"
    }
   ],
   "source": [
    "peano4_project.run( [], prefix = [\"mpirun\", \"-n\", \"1\"], pipefile = \"output.txt\", rebuild_if_required=False )"
   ]
  },
  {
   "cell_type": "markdown",
   "metadata": {},
   "source": [
    "We first grab and postprocess the data from the output file. This is ExaHyPE 2-specific (though application-generic), so we rely on ExaHyPE's postprocessing routines.\n",
    "\n"
   ]
  },
  {
   "cell_type": "code",
   "execution_count": 14,
   "metadata": {},
   "outputs": [
    {
     "name": "stdout",
     "output_type": "stream",
     "text": [
      "parse output.txt\n",
      "h_min=0.333333\n",
      "triggered plot at 0.04217582s\n",
      "started new time step at 0.092743479s\n",
      "started new time step at 0.148505081s\n",
      "triggered plot at 0.15395508s\n",
      "started new time step at 0.203533758s\n",
      "started new time step at 0.27747815600000003s\n",
      "triggered plot at 0.282915459s\n",
      "started new time step at 0.33628062599999997s\n",
      "started new time step at 0.417913371s\n",
      "triggered plot at 0.42351984800000003s\n",
      "started new time step at 0.47891145400000007s\n",
      "started new time step at 0.554280572s\n",
      "triggered plot at 0.559751288s\n",
      "started new time step at 0.618520265s\n",
      "started new time step at 0.694397828s\n",
      "triggered plot at 0.700094003s\n",
      "started new time step at 0.762171393s\n",
      "started new time step at 0.8376204749999999s\n",
      "triggered plot at 0.843230788s\n",
      "started new time step at 0.910192453s\n",
      "started new time step at 0.9873121149999999s\n",
      "triggered plot at 0.9927771639999999s\n",
      "started new time step at 1.06496877s\n",
      "started new time step at 1.1407264110000002s\n",
      "triggered plot at 1.146234238s\n",
      "started new time step at 1.224211334s\n",
      "started new time step at 1.2995607s\n",
      "triggered plot at 1.3050539939999999s\n",
      "started new time step at 1.390786753s\n",
      "started new time step at 1.466132022s\n",
      "triggered plot at 1.471549958s\n",
      "started new time step at 1.563051355s\n",
      "started new time step at 1.636807648s\n",
      "triggered plot at 1.6422419359999998s\n",
      "started new time step at 1.7382183089999999s\n",
      "started new time step at 1.813772204s\n",
      "triggered plot at 1.8191508650000001s\n",
      "started new time step at 1.9211030859999998s\n",
      "started new time step at 1.998450088s\n",
      "triggered plot at 2.00402469s\n",
      "started new time step at 2.1076798670000003s\n",
      "started new time step at 2.18405688s\n",
      "triggered plot at 2.189700526s\n",
      "started new time step at 2.295612915s\n",
      "started new time step at 2.37091488s\n",
      "triggered plot at 2.376419221s\n",
      "started new time step at 2.4944091480000004s\n",
      "started new time step at 2.5699258990000002s\n",
      "triggered plot at 2.575326816s\n",
      "started new time step at 2.689517371s\n",
      "started new time step at 2.764576016s\n",
      "triggered plot at 2.7700742110000003s\n",
      "started new time step at 2.879334623s\n",
      "started new time step at 2.954252133s\n",
      "triggered plot at 2.959943772s\n",
      "started new time step at 3.080774222s\n",
      "started new time step at 3.155712164s\n",
      "triggered plot at 3.161145596s\n",
      "started new time step at 3.270392508s\n",
      "started new time step at 3.345487725s\n",
      "triggered plot at 3.3509498009999996s\n",
      "started new time step at 3.4606528470000004s\n",
      "started new time step at 3.53565414s\n",
      "triggered plot at 3.5410735499999997s\n",
      "started new time step at 3.650118509s\n",
      "started new time step at 3.725346783s\n",
      "triggered plot at 3.730728586s\n",
      "started new time step at 3.838803426s\n",
      "started new time step at 3.913556682s\n",
      "triggered plot at 3.9190143490000002s\n",
      "started new time step at 4.0295054310000005s\n",
      "started new time step at 4.104756253000001s\n",
      "triggered plot at 4.110161077s\n",
      "started new time step at 4.220850152s\n",
      "started new time step at 4.295700502999999s\n",
      "triggered plot at 4.301070155000001s\n",
      "started new time step at 4.410244027s\n",
      "started new time step at 4.4850553s\n",
      "triggered plot at 4.490414759999999s\n",
      "started new time step at 4.598376098000001s\n",
      "started new time step at 4.673317765s\n",
      "triggered plot at 4.678716942s\n",
      "started new time step at 4.787508509999999s\n",
      "started new time step at 4.862174777s\n",
      "triggered plot at 4.8675168300000005s\n",
      "started new time step at 4.9778579810000005s\n",
      "started new time step at 5.053460471s\n",
      "triggered plot at 5.059446568s\n",
      "started new time step at 5.168113582s\n",
      "started new time step at 5.243661967s\n",
      "triggered plot at 5.249179573999999s\n",
      "started new time step at 5.35771645s\n",
      "started new time step at 5.432583468000001s\n",
      "triggered plot at 5.437962606999999s\n",
      "started new time step at 5.546530654000001s\n",
      "started new time step at 5.623808325s\n",
      "triggered plot at 5.629288671s\n",
      "started new time step at 5.737722896999999s\n",
      "started new time step at 5.813291075s\n",
      "triggered plot at 5.818666269s\n",
      "started new time step at 5.928392516s\n",
      "started new time step at 6.00305385s\n",
      "triggered plot at 6.008556276999999s\n",
      "started new time step at 6.117788125s\n",
      "started new time step at 6.1934024469999995s\n",
      "triggered plot at 6.199000261s\n",
      "started new time step at 6.310190972s\n",
      "started new time step at 6.385808043999999s\n",
      "triggered plot at 6.391504779s\n",
      "started new time step at 6.502752248s\n",
      "started new time step at 6.579489991s\n",
      "triggered plot at 6.584984527s\n",
      "started new time step at 6.715886258s\n",
      "started new time step at 6.792487272000001s\n",
      "triggered plot at 6.798144389s\n",
      "started new time step at 6.908046905s\n",
      "started new time step at 6.983432433s\n",
      "triggered plot at 6.988937974000001s\n",
      "started new time step at 7.104165201000001s\n",
      "started new time step at 7.182979272s\n",
      "triggered plot at 7.188473078s\n",
      "started new time step at 7.297086487s\n",
      "started new time step at 7.371866186s\n",
      "triggered plot at 7.377176862s\n",
      "started new time step at 7.486716274s\n",
      "started new time step at 7.5627654s\n",
      "triggered plot at 7.56840005s\n",
      "started new time step at 7.679047672s\n",
      "started new time step at 7.756723083s\n",
      "triggered plot at 7.762414542s\n",
      "started new time step at 7.871908945s\n",
      "started new time step at 7.951155503s\n",
      "triggered plot at 7.956732019s\n",
      "started new time step at 8.072477325s\n",
      "started new time step at 8.147814002s\n",
      "triggered plot at 8.153382604s\n",
      "started new time step at 8.264000236s\n",
      "started new time step at 8.340401585s\n",
      "triggered plot at 8.34598001s\n",
      "started new time step at 8.456337206s\n",
      "started new time step at 8.531214092s\n",
      "triggered plot at 8.536612294000001s\n",
      "started new time step at 8.646628676999999s\n",
      "started new time step at 8.72159428s\n",
      "triggered plot at 8.727089452s\n",
      "started new time step at 8.83484685s\n",
      "started new time step at 8.909659823999998s\n",
      "triggered plot at 8.915095978s\n",
      "started new time step at 9.023689259s\n",
      "started new time step at 9.098476411s\n",
      "triggered plot at 9.104959781s\n",
      "started new time step at 9.214044507999999s\n",
      "started new time step at 9.289028119000001s\n",
      "triggered plot at 9.29452959s\n",
      "started new time step at 9.403333354s\n",
      "started new time step at 9.478306734s\n",
      "triggered plot at 9.483717488s\n",
      "started new time step at 9.592212894000001s\n",
      "started new time step at 9.667542788s\n",
      "triggered plot at 9.673016839s\n",
      "started new time step at 9.782104080000002s\n",
      "started new time step at 9.857119852s\n",
      "triggered plot at 9.862504554s\n",
      "started new time step at 9.971936356s\n",
      "started new time step at 10.046998537000002s\n",
      "triggered plot at 10.052427242s\n",
      "started new time step at 10.16271868s\n",
      "started new time step at 10.237612578s\n",
      "triggered plot at 10.243041354s\n",
      "started new time step at 10.352350505s\n",
      "started new time step at 10.429445046000001s\n",
      "triggered plot at 10.435013076999999s\n",
      "started new time step at 10.544295802999999s\n",
      "started new time step at 10.620950418s\n",
      "triggered plot at 10.626319401s\n",
      "started new time step at 10.733428725s\n",
      "started new time step at 10.808161226s\n",
      "triggered plot at 10.813650611s\n",
      "started new time step at 10.922575186s\n",
      "started new time step at 10.997531751s\n",
      "triggered plot at 11.003002496999999s\n",
      "started new time step at 11.111582357000001s\n",
      "started new time step at 11.186852971999999s\n",
      "triggered plot at 11.192275989s\n",
      "started new time step at 11.30189744s\n",
      "started new time step at 11.376780957000001s\n",
      "triggered plot at 11.382249299000001s\n",
      "started new time step at 11.491499552999999s\n",
      "started new time step at 11.567195244999999s\n",
      "triggered plot at 11.572587568000001s\n",
      "started new time step at 11.681463336999999s\n",
      "started new time step at 11.767887855000001s\n",
      "triggered plot at 11.773526127s\n",
      "started new time step at 11.884597987s\n",
      "started new time step at 11.969385104s\n",
      "triggered plot at 11.97485637s\n",
      "started new time step at 12.083722546999999s\n",
      "started new time step at 12.158758203s\n",
      "triggered plot at 12.164132223s\n",
      "started new time step at 12.273214203s\n",
      "started new time step at 12.348563210999998s\n",
      "triggered plot at 12.354079903000002s\n",
      "started new time step at 12.465209684s\n",
      "started new time step at 12.540437342999999s\n",
      "triggered plot at 12.545922341999999s\n",
      "started new time step at 12.656569506s\n",
      "started new time step at 12.732744514s\n",
      "triggered plot at 12.738107442s\n",
      "started new time step at 12.847910831000002s\n",
      "started new time step at 12.925089267999999s\n",
      "triggered plot at 12.930763464s\n",
      "started new time step at 13.039993611s\n",
      "started new time step at 13.115822035s\n",
      "triggered plot at 13.121334052999998s\n",
      "started new time step at 13.232530283000001s\n",
      "started new time step at 13.308223904999998s\n",
      "triggered plot at 13.313600653000002s\n",
      "started new time step at 13.422357778000002s\n",
      "started new time step at 13.496178496999999s\n",
      "triggered plot at 13.501517212s\n",
      "started new time step at 13.610329176999999s\n",
      "started new time step at 13.686865410000001s\n",
      "triggered plot at 13.692171105000002s\n",
      "started new time step at 13.803361656s\n",
      "started new time step at 13.878360893s\n",
      "triggered plot at 13.883738411s\n",
      "started new time step at 13.993120013s\n",
      "started new time step at 14.067769149s\n",
      "triggered plot at 14.07355465s\n",
      "started new time step at 14.182402216s\n",
      "started new time step at 14.257041043s\n",
      "triggered plot at 14.262455505999998s\n",
      "started new time step at 14.37356506s\n",
      "started new time step at 14.449083494s\n",
      "triggered plot at 14.454625117s\n",
      "started new time step at 14.56519318s\n",
      "started new time step at 14.640412016s\n",
      "triggered plot at 14.645837494000002s\n",
      "started new time step at 14.754925239s\n",
      "started new time step at 14.829892494000001s\n",
      "triggered plot at 14.835331501s\n",
      "started new time step at 14.944218283s\n",
      "started new time step at 15.018957711999999s\n",
      "triggered plot at 15.024390737s\n",
      "started new time step at 15.136608376s\n",
      "started new time step at 15.211256068s\n",
      "triggered plot at 15.216865956s\n",
      "started new time step at 15.326704320000001s\n",
      "started new time step at 15.40235735s\n",
      "triggered plot at 15.407696086s\n",
      "started new time step at 15.517511892s\n",
      "started new time step at 15.592391807s\n",
      "triggered plot at 15.597939048s\n",
      "started new time step at 15.708221903000002s\n",
      "started new time step at 15.783898082s\n",
      "triggered plot at 15.789456028999998s\n",
      "started new time step at 15.899667846s\n",
      "started new time step at 15.975439779999999s\n",
      "triggered plot at 15.980885512s\n",
      "started new time step at 16.091786172s\n",
      "started new time step at 16.166611192s\n",
      "triggered plot at 16.172012686s\n",
      "started new time step at 16.280906004000002s\n",
      "started new time step at 16.356322992000003s\n",
      "triggered plot at 16.362017765s\n",
      "started new time step at 16.470818513999998s\n",
      "started new time step at 16.545523674000002s\n",
      "triggered plot at 16.550870953999997s\n",
      "started new time step at 16.660022492s\n",
      "started new time step at 16.735202787000002s\n",
      "triggered plot at 16.741189032999998s\n",
      "started new time step at 16.851072844s\n",
      "started new time step at 16.926862085s\n",
      "triggered plot at 16.932309293000003s\n",
      "started new time step at 17.041184094000002s\n",
      "started new time step at 17.116467118s\n",
      "triggered plot at 17.121826916000003s\n",
      "started new time step at 17.230937035s\n",
      "started new time step at 17.306997428s\n",
      "triggered plot at 17.312420460000002s\n",
      "started new time step at 17.41991017s\n",
      "started new time step at 17.494772042s\n",
      "triggered plot at 17.500248364s\n",
      "started new time step at 17.608794015s\n",
      "started new time step at 17.683936929s\n",
      "triggered plot at 17.689299977999998s\n",
      "started new time step at 17.798201335999998s\n",
      "started new time step at 17.872888070000002s\n",
      "triggered plot at 17.878252055s\n",
      "started new time step at 17.985023838s\n",
      "started new time step at 18.060127227000002s\n",
      "triggered plot at 18.065695478000002s\n",
      "started new time step at 18.175632151000002s\n",
      "started new time step at 18.248972156s\n",
      "triggered plot at 18.254422986999998s\n",
      "started new time step at 18.364654736000002s\n",
      "started new time step at 18.439672019000003s\n",
      "triggered plot at 18.445234199s\n",
      "started new time step at 18.555558960000003s\n",
      "started new time step at 18.630363347s\n",
      "triggered plot at 18.635906842s\n",
      "terminated simulation at 18.74713796s\n",
      "grid construction lasts 0.0420632 over 5 steps\n",
      "plotting lasts 10.6029 over 101 steps\n",
      "time stepping lasts 8.09568 over 200 steps\n"
     ]
    }
   ],
   "source": [
    "import exahype2.postprocessing\n",
    "\n",
    "performance_data = exahype2.postprocessing.PerformanceData( \"output.txt\", verbose=True )"
   ]
  },
  {
   "cell_type": "markdown",
   "metadata": {},
   "source": [
    "In this worksheet, I'd like to have interactive matplotlib plots: You might need the statement\n",
    "\n",
    "<pre>\n",
    "%matplotlib widget\n",
    "</pre>\n",
    "\n",
    "but on some of my local notebook servers, this causes a crash. So you have to test this yourself."
   ]
  },
  {
   "cell_type": "code",
   "execution_count": 15,
   "metadata": {},
   "outputs": [
    {
     "data": {
      "image/png": "[encoded data removed]",
      "text/plain": [
       "<Figure size 432x288 with 1 Axes>"
      ]
     },
     "metadata": {},
     "output_type": "display_data"
    }
   ],
   "source": [
    "exahype2.postprocessing.plot_pie_chart_over_simulation_phases(performance_data)"
   ]
  },
  {
   "cell_type": "code",
   "execution_count": 16,
   "metadata": {},
   "outputs": [
    {
     "data": {
      "image/png": "[encoded data removed]",
      "text/plain": [
       "<Figure size 432x288 with 1 Axes>"
      ]
     },
     "metadata": {
      "needs_background": "light"
     },
     "output_type": "display_data"
    }
   ],
   "source": [
    "exahype2.postprocessing.plot_time_per_time_step(performance_data)"
   ]
  },
  {
   "cell_type": "markdown",
   "metadata": {},
   "source": [
    "## Inspecting output files via Paraview\n",
    "\n",
    "We first do an ls on our directory and search for the root .peano-patch-file. I then convert this file manually into vtu which I can load into Paraview. This works if Peano is configured with vtk support. If you don't have vtk support in there, then you might want to load the data directly into Paraview through Peano's Paraview plug-in."
   ]
  },
  {
   "cell_type": "code",
   "execution_count": 17,
   "metadata": {},
   "outputs": [
    {
     "name": "stdout",
     "output_type": "stream",
     "text": [
      "AbstractCCZ4.cpp\r\n",
      "AbstractCCZ4.h\r\n",
      "AbstractCCZ4.o\r\n",
      "C2P-FOCCZ4.f90\r\n",
      "C2P-FOCCZ4.o\r\n",
      "ccz4.avi\r\n",
      "CCZ4.cpp\r\n",
      "CCZ4.h\r\n",
      "CCZ4.ipynb\r\n",
      "ccz4-main.cpp\r\n",
      "ccz4-main.h\r\n",
      "ccz4-main.o\r\n",
      "CCZ4.o\r\n",
      "celldata\r\n",
      "Constants.h\r\n",
      "EinsteinConstraints.f90\r\n",
      "EinsteinConstraints.o\r\n",
      "exahype.log-filter\r\n",
      "facedata\r\n",
      "MainVariables.f90\r\n",
      "mainvariables.mod\r\n",
      "MainVariables.o\r\n",
      "Makefile\r\n",
      "Metric.f90\r\n",
      "Metric.o\r\n",
      "observers\r\n",
      "output.txt\r\n",
      "PDE.f90\r\n",
      "PDE.h\r\n",
      "PDE.o\r\n",
      "peano4\r\n",
      "snapshot-8.png\r\n",
      "solution-CCZ4.peano-patch-file\r\n",
      "solution-CCZ4.pvd\r\n",
      "solution-CCZ4-tree-0-0.peano-patch-file\r\n",
      "solution-CCZ4-tree-0-100.peano-patch-file\r\n",
      "solution-CCZ4-tree-0-10.peano-patch-file\r\n",
      "solution-CCZ4-tree-0-11.peano-patch-file\r\n",
      "solution-CCZ4-tree-0-12.peano-patch-file\r\n",
      "solution-CCZ4-tree-0-13.peano-patch-file\r\n",
      "solution-CCZ4-tree-0-14.peano-patch-file\r\n",
      "solution-CCZ4-tree-0-15.peano-patch-file\r\n",
      "solution-CCZ4-tree-0-16.peano-patch-file\r\n",
      "solution-CCZ4-tree-0-17.peano-patch-file\r\n",
      "solution-CCZ4-tree-0-18.peano-patch-file\r\n",
      "solution-CCZ4-tree-0-19.peano-patch-file\r\n",
      "solution-CCZ4-tree-0-1.peano-patch-file\r\n",
      "solution-CCZ4-tree-0-20.peano-patch-file\r\n",
      "solution-CCZ4-tree-0-21.peano-patch-file\r\n",
      "solution-CCZ4-tree-0-22.peano-patch-file\r\n",
      "solution-CCZ4-tree-0-23.peano-patch-file\r\n",
      "solution-CCZ4-tree-0-24.peano-patch-file\r\n",
      "solution-CCZ4-tree-0-25.peano-patch-file\r\n",
      "solution-CCZ4-tree-0-26.peano-patch-file\r\n",
      "solution-CCZ4-tree-0-27.peano-patch-file\r\n",
      "solution-CCZ4-tree-0-28.peano-patch-file\r\n",
      "solution-CCZ4-tree-0-29.peano-patch-file\r\n",
      "solution-CCZ4-tree-0-2.peano-patch-file\r\n",
      "solution-CCZ4-tree-0-30.peano-patch-file\r\n",
      "solution-CCZ4-tree-0-31.peano-patch-file\r\n",
      "solution-CCZ4-tree-0-32.peano-patch-file\r\n",
      "solution-CCZ4-tree-0-33.peano-patch-file\r\n",
      "solution-CCZ4-tree-0-34.peano-patch-file\r\n",
      "solution-CCZ4-tree-0-35.peano-patch-file\r\n",
      "solution-CCZ4-tree-0-36.peano-patch-file\r\n",
      "solution-CCZ4-tree-0-37.peano-patch-file\r\n",
      "solution-CCZ4-tree-0-38.peano-patch-file\r\n",
      "solution-CCZ4-tree-0-39.peano-patch-file\r\n",
      "solution-CCZ4-tree-0-3.peano-patch-file\r\n",
      "solution-CCZ4-tree-0-40.peano-patch-file\r\n",
      "solution-CCZ4-tree-0-41.peano-patch-file\r\n",
      "solution-CCZ4-tree-0-42.peano-patch-file\r\n",
      "solution-CCZ4-tree-0-43.peano-patch-file\r\n",
      "solution-CCZ4-tree-0-44.peano-patch-file\r\n",
      "solution-CCZ4-tree-0-45.peano-patch-file\r\n",
      "solution-CCZ4-tree-0-46.peano-patch-file\r\n",
      "solution-CCZ4-tree-0-47.peano-patch-file\r\n",
      "solution-CCZ4-tree-0-48.peano-patch-file\r\n",
      "solution-CCZ4-tree-0-49.peano-patch-file\r\n",
      "solution-CCZ4-tree-0-4.peano-patch-file\r\n",
      "solution-CCZ4-tree-0-50.peano-patch-file\r\n",
      "solution-CCZ4-tree-0-51.peano-patch-file\r\n",
      "solution-CCZ4-tree-0-52.peano-patch-file\r\n",
      "solution-CCZ4-tree-0-53.peano-patch-file\r\n",
      "solution-CCZ4-tree-0-54.peano-patch-file\r\n",
      "solution-CCZ4-tree-0-55.peano-patch-file\r\n",
      "solution-CCZ4-tree-0-56.peano-patch-file\r\n",
      "solution-CCZ4-tree-0-57.peano-patch-file\r\n",
      "solution-CCZ4-tree-0-58.peano-patch-file\r\n",
      "solution-CCZ4-tree-0-59.peano-patch-file\r\n",
      "solution-CCZ4-tree-0-5.peano-patch-file\r\n",
      "solution-CCZ4-tree-0-60.peano-patch-file\r\n",
      "solution-CCZ4-tree-0-61.peano-patch-file\r\n",
      "solution-CCZ4-tree-0-62.peano-patch-file\r\n",
      "solution-CCZ4-tree-0-63.peano-patch-file\r\n",
      "solution-CCZ4-tree-0-64.peano-patch-file\r\n",
      "solution-CCZ4-tree-0-65.peano-patch-file\r\n",
      "solution-CCZ4-tree-0-66.peano-patch-file\r\n",
      "solution-CCZ4-tree-0-67.peano-patch-file\r\n",
      "solution-CCZ4-tree-0-68.peano-patch-file\r\n",
      "solution-CCZ4-tree-0-69.peano-patch-file\r\n",
      "solution-CCZ4-tree-0-6.peano-patch-file\r\n",
      "solution-CCZ4-tree-0-70.peano-patch-file\r\n",
      "solution-CCZ4-tree-0-71.peano-patch-file\r\n",
      "solution-CCZ4-tree-0-72.peano-patch-file\r\n",
      "solution-CCZ4-tree-0-73.peano-patch-file\r\n",
      "solution-CCZ4-tree-0-74.peano-patch-file\r\n",
      "solution-CCZ4-tree-0-75.peano-patch-file\r\n",
      "solution-CCZ4-tree-0-76.peano-patch-file\r\n",
      "solution-CCZ4-tree-0-77.peano-patch-file\r\n",
      "solution-CCZ4-tree-0-78.peano-patch-file\r\n",
      "solution-CCZ4-tree-0-79.peano-patch-file\r\n",
      "solution-CCZ4-tree-0-7.peano-patch-file\r\n",
      "solution-CCZ4-tree-0-80.peano-patch-file\r\n",
      "solution-CCZ4-tree-0-81.peano-patch-file\r\n",
      "solution-CCZ4-tree-0-82.peano-patch-file\r\n",
      "solution-CCZ4-tree-0-83.peano-patch-file\r\n",
      "solution-CCZ4-tree-0-84.peano-patch-file\r\n",
      "solution-CCZ4-tree-0-85.peano-patch-file\r\n",
      "solution-CCZ4-tree-0-86.peano-patch-file\r\n",
      "solution-CCZ4-tree-0-87.peano-patch-file\r\n",
      "solution-CCZ4-tree-0-88.peano-patch-file\r\n",
      "solution-CCZ4-tree-0-89.peano-patch-file\r\n",
      "solution-CCZ4-tree-0-8.peano-patch-file\r\n",
      "solution-CCZ4-tree-0-90.peano-patch-file\r\n",
      "solution-CCZ4-tree-0-91.peano-patch-file\r\n",
      "solution-CCZ4-tree-0-92.peano-patch-file\r\n",
      "solution-CCZ4-tree-0-93.peano-patch-file\r\n",
      "solution-CCZ4-tree-0-94.peano-patch-file\r\n",
      "solution-CCZ4-tree-0-95.peano-patch-file\r\n",
      "solution-CCZ4-tree-0-96.peano-patch-file\r\n",
      "solution-CCZ4-tree-0-97.peano-patch-file\r\n",
      "solution-CCZ4-tree-0-98.peano-patch-file\r\n",
      "solution-CCZ4-tree-0-99.peano-patch-file\r\n",
      "solution-CCZ4-tree-0-9.peano-patch-file\r\n",
      "trace.out\r\n"
     ]
    }
   ],
   "source": [
    "!ls"
   ]
  },
  {
   "cell_type": "markdown",
   "metadata": {},
   "source": [
    "# Visualisation\n",
    "\n",
    "We have different ways how to visualise the outcome. If you have VTK support in your configure call, then Peano has built a vtk command line converter. You can just type in:\n"
   ]
  },
  {
   "cell_type": "code",
   "execution_count": 18,
   "metadata": {},
   "outputs": [
    {
     "name": "stdout",
     "output_type": "stream",
     "text": [
      "Error: Cannot import vtkPVServerManagerDefault\n",
      "Error: Cannot import vtkPVServerManagerRendering\n",
      "inspect file solution-CCZ4 ... \n",
      "invoke ['../../../src/visualisation/convert', 'inspect', 'solution-CCZ4.peano-patch-file']\n",
      "failed to inspect ([Errno 2] No such file or directory: '../../../src/visualisation/convert') with ['../../../src/visualisation/convert', 'inspect', 'solution-CCZ4.peano-patch-file']\n",
      "extract fine grid from solution-CCZ4 ... \n",
      "inspect file solution-CCZ4 ... \n",
      "invoke ['../../../src/visualisation/convert', 'inspect', 'solution-CCZ4.peano-patch-file']\n",
      "failed to inspect ([Errno 2] No such file or directory: '../../../src/visualisation/convert') with ['../../../src/visualisation/convert', 'inspect', 'solution-CCZ4.peano-patch-file']\n",
      "convert file solution-CCZ4 into vtk (vtu binary format) ... \n"
     ]
    }
   ],
   "source": [
    "import peano4.visualisation\n",
    "convert = peano4.visualisation.Convert( \"solution-CCZ4\", True )\n",
    "convert.set_visualisation_tools_path( \"../../../src/visualisation\" )\n",
    "convert.extract_fine_grid()\n",
    "convert.convert_to_vtk()"
   ]
  },
  {
   "cell_type": "markdown",
   "metadata": {},
   "source": [
    "Alternatively, start up Paraview\n",
    "\n",
    "<pre>\n",
    "export PYTHONPATH=../../../python\n",
    "paraview\n",
    "</pre>\n",
    "\n",
    "and use Peano's visualisation routines through the Paraview Python terminal:"
   ]
  },
  {
   "cell_type": "markdown",
   "metadata": {},
   "source": [
    "\n",
    "<pre>\n",
    "import peano4.visualisation\n",
    "\n",
    "output_files = \"solution-CCZ4.peano-patch-file\"\n",
    "visualiser = peano4.visualisation.Visualiser( output_files )\n",
    "visualiser.append_filter(peano4.visualisation.ExtractFineGridFilter())\n",
    "visualiser.display()\n",
    "</pre>"
   ]
  },
  {
   "cell_type": "markdown",
   "metadata": {},
   "source": [
    "With !ls I see how many snapshots we've written:"
   ]
  },
  {
   "cell_type": "code",
   "execution_count": 19,
   "metadata": {},
   "outputs": [
    {
     "name": "stdout",
     "output_type": "stream",
     "text": [
      "AbstractCCZ4.cpp\r\n",
      "AbstractCCZ4.h\r\n",
      "AbstractCCZ4.o\r\n",
      "C2P-FOCCZ4.f90\r\n",
      "C2P-FOCCZ4.o\r\n",
      "ccz4.avi\r\n",
      "CCZ4.cpp\r\n",
      "CCZ4.h\r\n",
      "CCZ4.ipynb\r\n",
      "ccz4-main.cpp\r\n",
      "ccz4-main.h\r\n",
      "ccz4-main.o\r\n",
      "CCZ4.o\r\n",
      "celldata\r\n",
      "Constants.h\r\n",
      "EinsteinConstraints.f90\r\n",
      "EinsteinConstraints.o\r\n",
      "exahype.log-filter\r\n",
      "facedata\r\n",
      "MainVariables.f90\r\n",
      "mainvariables.mod\r\n",
      "MainVariables.o\r\n",
      "Makefile\r\n",
      "Metric.f90\r\n",
      "Metric.o\r\n",
      "observers\r\n",
      "output.txt\r\n",
      "PDE.f90\r\n",
      "PDE.h\r\n",
      "PDE.o\r\n",
      "peano4\r\n",
      "snapshot-8.png\r\n",
      "solution-CCZ4.peano-patch-file\r\n",
      "solution-CCZ4.pvd\r\n",
      "solution-CCZ4-tree-0-0.peano-patch-file\r\n",
      "solution-CCZ4-tree-0-100.peano-patch-file\r\n",
      "solution-CCZ4-tree-0-10.peano-patch-file\r\n",
      "solution-CCZ4-tree-0-11.peano-patch-file\r\n",
      "solution-CCZ4-tree-0-12.peano-patch-file\r\n",
      "solution-CCZ4-tree-0-13.peano-patch-file\r\n",
      "solution-CCZ4-tree-0-14.peano-patch-file\r\n",
      "solution-CCZ4-tree-0-15.peano-patch-file\r\n",
      "solution-CCZ4-tree-0-16.peano-patch-file\r\n",
      "solution-CCZ4-tree-0-17.peano-patch-file\r\n",
      "solution-CCZ4-tree-0-18.peano-patch-file\r\n",
      "solution-CCZ4-tree-0-19.peano-patch-file\r\n",
      "solution-CCZ4-tree-0-1.peano-patch-file\r\n",
      "solution-CCZ4-tree-0-20.peano-patch-file\r\n",
      "solution-CCZ4-tree-0-21.peano-patch-file\r\n",
      "solution-CCZ4-tree-0-22.peano-patch-file\r\n",
      "solution-CCZ4-tree-0-23.peano-patch-file\r\n",
      "solution-CCZ4-tree-0-24.peano-patch-file\r\n",
      "solution-CCZ4-tree-0-25.peano-patch-file\r\n",
      "solution-CCZ4-tree-0-26.peano-patch-file\r\n",
      "solution-CCZ4-tree-0-27.peano-patch-file\r\n",
      "solution-CCZ4-tree-0-28.peano-patch-file\r\n",
      "solution-CCZ4-tree-0-29.peano-patch-file\r\n",
      "solution-CCZ4-tree-0-2.peano-patch-file\r\n",
      "solution-CCZ4-tree-0-30.peano-patch-file\r\n",
      "solution-CCZ4-tree-0-31.peano-patch-file\r\n",
      "solution-CCZ4-tree-0-32.peano-patch-file\r\n",
      "solution-CCZ4-tree-0-33.peano-patch-file\r\n",
      "solution-CCZ4-tree-0-34.peano-patch-file\r\n",
      "solution-CCZ4-tree-0-35.peano-patch-file\r\n",
      "solution-CCZ4-tree-0-36.peano-patch-file\r\n",
      "solution-CCZ4-tree-0-37.peano-patch-file\r\n",
      "solution-CCZ4-tree-0-38.peano-patch-file\r\n",
      "solution-CCZ4-tree-0-39.peano-patch-file\r\n",
      "solution-CCZ4-tree-0-3.peano-patch-file\r\n",
      "solution-CCZ4-tree-0-40.peano-patch-file\r\n",
      "solution-CCZ4-tree-0-41.peano-patch-file\r\n",
      "solution-CCZ4-tree-0-42.peano-patch-file\r\n",
      "solution-CCZ4-tree-0-43.peano-patch-file\r\n",
      "solution-CCZ4-tree-0-44.peano-patch-file\r\n",
      "solution-CCZ4-tree-0-45.peano-patch-file\r\n",
      "solution-CCZ4-tree-0-46.peano-patch-file\r\n",
      "solution-CCZ4-tree-0-47.peano-patch-file\r\n",
      "solution-CCZ4-tree-0-48.peano-patch-file\r\n",
      "solution-CCZ4-tree-0-49.peano-patch-file\r\n",
      "solution-CCZ4-tree-0-4.peano-patch-file\r\n",
      "solution-CCZ4-tree-0-50.peano-patch-file\r\n",
      "solution-CCZ4-tree-0-51.peano-patch-file\r\n",
      "solution-CCZ4-tree-0-52.peano-patch-file\r\n",
      "solution-CCZ4-tree-0-53.peano-patch-file\r\n",
      "solution-CCZ4-tree-0-54.peano-patch-file\r\n",
      "solution-CCZ4-tree-0-55.peano-patch-file\r\n",
      "solution-CCZ4-tree-0-56.peano-patch-file\r\n",
      "solution-CCZ4-tree-0-57.peano-patch-file\r\n",
      "solution-CCZ4-tree-0-58.peano-patch-file\r\n",
      "solution-CCZ4-tree-0-59.peano-patch-file\r\n",
      "solution-CCZ4-tree-0-5.peano-patch-file\r\n",
      "solution-CCZ4-tree-0-60.peano-patch-file\r\n",
      "solution-CCZ4-tree-0-61.peano-patch-file\r\n",
      "solution-CCZ4-tree-0-62.peano-patch-file\r\n",
      "solution-CCZ4-tree-0-63.peano-patch-file\r\n",
      "solution-CCZ4-tree-0-64.peano-patch-file\r\n",
      "solution-CCZ4-tree-0-65.peano-patch-file\r\n",
      "solution-CCZ4-tree-0-66.peano-patch-file\r\n",
      "solution-CCZ4-tree-0-67.peano-patch-file\r\n",
      "solution-CCZ4-tree-0-68.peano-patch-file\r\n",
      "solution-CCZ4-tree-0-69.peano-patch-file\r\n",
      "solution-CCZ4-tree-0-6.peano-patch-file\r\n",
      "solution-CCZ4-tree-0-70.peano-patch-file\r\n",
      "solution-CCZ4-tree-0-71.peano-patch-file\r\n",
      "solution-CCZ4-tree-0-72.peano-patch-file\r\n",
      "solution-CCZ4-tree-0-73.peano-patch-file\r\n",
      "solution-CCZ4-tree-0-74.peano-patch-file\r\n",
      "solution-CCZ4-tree-0-75.peano-patch-file\r\n",
      "solution-CCZ4-tree-0-76.peano-patch-file\r\n",
      "solution-CCZ4-tree-0-77.peano-patch-file\r\n",
      "solution-CCZ4-tree-0-78.peano-patch-file\r\n",
      "solution-CCZ4-tree-0-79.peano-patch-file\r\n",
      "solution-CCZ4-tree-0-7.peano-patch-file\r\n",
      "solution-CCZ4-tree-0-80.peano-patch-file\r\n",
      "solution-CCZ4-tree-0-81.peano-patch-file\r\n",
      "solution-CCZ4-tree-0-82.peano-patch-file\r\n",
      "solution-CCZ4-tree-0-83.peano-patch-file\r\n",
      "solution-CCZ4-tree-0-84.peano-patch-file\r\n",
      "solution-CCZ4-tree-0-85.peano-patch-file\r\n",
      "solution-CCZ4-tree-0-86.peano-patch-file\r\n",
      "solution-CCZ4-tree-0-87.peano-patch-file\r\n",
      "solution-CCZ4-tree-0-88.peano-patch-file\r\n",
      "solution-CCZ4-tree-0-89.peano-patch-file\r\n",
      "solution-CCZ4-tree-0-8.peano-patch-file\r\n",
      "solution-CCZ4-tree-0-90.peano-patch-file\r\n",
      "solution-CCZ4-tree-0-91.peano-patch-file\r\n",
      "solution-CCZ4-tree-0-92.peano-patch-file\r\n",
      "solution-CCZ4-tree-0-93.peano-patch-file\r\n",
      "solution-CCZ4-tree-0-94.peano-patch-file\r\n",
      "solution-CCZ4-tree-0-95.peano-patch-file\r\n",
      "solution-CCZ4-tree-0-96.peano-patch-file\r\n",
      "solution-CCZ4-tree-0-97.peano-patch-file\r\n",
      "solution-CCZ4-tree-0-98.peano-patch-file\r\n",
      "solution-CCZ4-tree-0-99.peano-patch-file\r\n",
      "solution-CCZ4-tree-0-9.peano-patch-file\r\n",
      "trace.out\r\n"
     ]
    }
   ],
   "source": [
    "!ls"
   ]
  },
  {
   "cell_type": "markdown",
   "metadata": {},
   "source": [
    "The Paraview script class then allows me to switch to one of these snapshots:\n",
    "\n",
    "<pre>\n",
    "visualiser.select_dataset(9)\n",
    "</pre>\n",
    "\n",
    "Alternatively, I can ask the visualiser to convert the whole data series into a video and then open this output file. Invoke the call below and then load the resulting pvd file manually:\n",
    "\n",
    "<pre>\n",
    "visualiser.write_vtu_time_series()\n",
    "</pre>"
   ]
  },
  {
   "cell_type": "code",
   "execution_count": null,
   "metadata": {},
   "outputs": [],
   "source": []
  }
 ],
 "metadata": {
  "kernelspec": {
   "display_name": "Python 3",
   "language": "python",
   "name": "python3"
  },
  "language_info": {
   "codemirror_mode": {
    "name": "ipython",
    "version": 3
   },
   "file_extension": ".py",
   "mimetype": "text/x-python",
   "name": "python",
   "nbconvert_exporter": "python",
   "pygments_lexer": "ipython3",
   "version": "3.8.5"
  },
  "latex_envs": {
   "LaTeX_envs_menu_present": true,
   "autoclose": false,
   "autocomplete": true,
   "bibliofile": "biblio.bib",
   "cite_by": "apalike",
   "current_citInitial": 1,
   "eqLabelWithNumbers": true,
   "eqNumInitial": 1,
   "hotkeys": {
    "equation": "Ctrl-E",
    "itemize": "Ctrl-I"
   },
   "labels_anchors": false,
   "latex_user_defs": false,
   "report_style_numbering": false,
   "user_envs_cfg": false
  }
 },
 "nbformat": 4,
 "nbformat_minor": 4
}

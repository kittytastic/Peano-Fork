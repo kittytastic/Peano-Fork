{
 "cells": [
  {
   "cell_type": "markdown",
   "metadata": {},
   "source": [
    "# Simple CCZ4 Finite Volume code\n",
    " \n",
    "A solver of the Einstein equations that uses the original ExaHyPE FORTRAN kernels."
   ]
  },
  {
   "cell_type": "code",
   "execution_count": 1,
   "metadata": {},
   "outputs": [
    {
     "name": "stdout",
     "output_type": "stream",
     "text": [
      "DaStGen 2 (C) www.peano-framework.org\n",
      "Peano 4 (C) www.peano-framework.org\n",
      "ExaHyPE 2 (C) www.peano-framework.org\n"
     ]
    }
   ],
   "source": [
    "import os\n",
    "import peano4\n",
    "import exahype2"
   ]
  },
  {
   "cell_type": "code",
   "execution_count": 2,
   "metadata": {},
   "outputs": [],
   "source": [
    "output_files = [ f for f in os.listdir(\".\") if f.endswith(\".peano-patch-file\") or f.endswith(\".vtu\") or f.startswith(\"output\")]\n",
    "for f in output_files:\n",
    "  os.remove(f)"
   ]
  },
  {
   "cell_type": "markdown",
   "metadata": {},
   "source": [
    "The first thing to do in any ExaHyPE 2 application is to create an ExaHyPE project. We have to tell it exactly what namespace we want to use and we have to give it a name. There are a few more options that we omit here, i.e. we use the defaults."
   ]
  },
  {
   "cell_type": "code",
   "execution_count": 3,
   "metadata": {},
   "outputs": [],
   "source": [
    "project = exahype2.Project( [\"examples\", \"exahype2\", \"ccz4\"], \"ccz4\" )"
   ]
  },
  {
   "cell_type": "markdown",
   "metadata": {},
   "source": [
    "## Configuring the solver\n",
    "\n",
    "Our first step is to use a Finite Volumes solver. I write down all the unknowns first. I'll use this dictionary later to access variables symbolically. For the time being, I just define this map and then count the number of unknowns. This total count is something I really need to configure my solver."
   ]
  },
  {
   "cell_type": "code",
   "execution_count": 4,
   "metadata": {},
   "outputs": [
    {
     "name": "stdout",
     "output_type": "stream",
     "text": [
      "number of unknowns= 64\n"
     ]
    }
   ],
   "source": [
    "unknowns = {\n",
    "  \"G\":6,\n",
    "  \"K\":6,\n",
    "  \"theta\":1,\n",
    "  \"Z\":3,\n",
    "  \"lapse\":1,\n",
    "  \"shift\":3,\n",
    "  \"b\":3,\n",
    "  \"dLapse\":3,\n",
    "  \"dxShift\":3,\n",
    "  \"dyShift\":3,\n",
    "  \"dzShift\":3,\n",
    "  \"dxG\":6,\n",
    "  \"dyG\":6,\n",
    "  \"dzG\":6,\n",
    "  \"traceK\":1,\n",
    "  \"phi\":1,\n",
    "  \"P\":3,\n",
    "  \"K0\":1,\n",
    "  \"rho\":1,\n",
    "  \"u\":3,\n",
    "  \"p\":1\n",
    "}\n",
    "\n",
    "number_of_unknowns = 0\n",
    "for i in unknowns:\n",
    "  number_of_unknowns += unknowns[i]\n",
    "print( \"number of unknowns=\", number_of_unknowns )"
   ]
  },
  {
   "cell_type": "markdown",
   "metadata": {},
   "source": [
    "The solver itself is a simple Finite Volume solver with fixed time stepping. I use the enclave solver variant which is a solver nuance that is particuarly good on large shared memory architectures. Our PDE is expressed solely in a nonconservative formulation. I therefore can switch the flux term off."
   ]
  },
  {
   "cell_type": "code",
   "execution_count": 5,
   "metadata": {},
   "outputs": [],
   "source": [
    "patch_size          = 6\n",
    "auxiliary_variables = 0\n",
    "time_step_size      = 0.01\n",
    "max_h               = 0.4\n",
    "min_h               = 0.4\n",
    "\n",
    "my_solver = exahype2.solvers.fv.GenericRusanovFixedTimeStepSizeWithEnclaves(\n",
    "  \"CCZ4\", patch_size, number_of_unknowns, auxiliary_variables, min_h, max_h, time_step_size\n",
    ")\n",
    "\n",
    "\n",
    "project.add_solver(my_solver)"
   ]
  },
  {
   "cell_type": "markdown",
   "metadata": {},
   "source": [
    "I next inject homogeneous Neumann boundary conditions:"
   ]
  },
  {
   "cell_type": "code",
   "execution_count": 6,
   "metadata": {},
   "outputs": [],
   "source": [
    "import exahype2.sympy\n",
    "\n",
    "pde = exahype2.sympy.PDE(unknowns=number_of_unknowns,auxiliary_variables=0,dimensions=3)\n",
    "\n",
    "my_solver.set_implementation(\n",
    "  boundary_conditions=exahype2.solvers.fv.PDETerms.User_Defined_Implementation,\n",
    "  flux=exahype2.solvers.fv.PDETerms.None_Implementation,\n",
    "  ncp=exahype2.solvers.fv.PDETerms.User_Defined_Implementation\n",
    ")   \n"
   ]
  },
  {
   "cell_type": "markdown",
   "metadata": {},
   "source": [
    "## Configure the global domain\n",
    "\n",
    "We next configure our global domain, i.e. we specify the dimensions of the computational domain $\\Omega $, we specify how long the simulation shall run and how often we want it to dump its data. The dumps will later be used to produce screenshots of the data (or to extract all kinds of properties)."
   ]
  },
  {
   "cell_type": "code",
   "execution_count": 7,
   "metadata": {},
   "outputs": [],
   "source": [
    "#build_mode = peano4.output.CompileMode.Asserts\n",
    "build_mode = peano4.output.CompileMode.Release\n",
    "\n",
    "dimensions = 3\n",
    "\n",
    "end_time = 1\n",
    "    \n",
    "project.set_global_simulation_parameters(\n",
    "  dimensions,               # dimensions\n",
    "  [-0.5, -0.5, -0.5],  [1.0, 1.0, 1.0],\n",
    "  end_time,                 # end time\n",
    "  0.0, time_step_size*10,   # snapshots\n",
    "  [True,True,True]          # Periodic BC\n",
    ")"
   ]
  },
  {
   "cell_type": "markdown",
   "metadata": {},
   "source": [
    "## Generate a Peano 4 project\n",
    "\n",
    "This is exactly the same as for Euler: We ask the ExaHyPE 2 front-end to give us a Peano project."
   ]
  },
  {
   "cell_type": "code",
   "execution_count": 8,
   "metadata": {},
   "outputs": [
    {
     "name": "stdout",
     "output_type": "stream",
     "text": [
      "parse configure outcome ../../../src/Makefile to extract compile settings\n",
      "used C++ compiler is g++\n",
      "used Fortran compiler is gfortran\n"
     ]
    }
   ],
   "source": [
    "project.set_Peano4_installation(\"../../..\", build_mode)\n",
    "\n",
    "peano4_project = project.generate_Peano4_project()"
   ]
  },
  {
   "cell_type": "markdown",
   "metadata": {},
   "source": [
    "A \"big\" difference to Euler is that we now have some external Fortran files. Usually, we take the default settings when we invoke the Fortran compiler. Default is the stuff given to us by Peano's configure. There's however the opportunity to add further flags manually. I use this here as the astro code requies some bespoke defines. Also, I need the -cpp flag. Otherwise the preprocessor macros are not taken into account properly and my Intel compiler terminates.\n",
    "- The option \"-DGLMROT\" can be added to enable curl cleaning, however this requires additional variables. Be sure to add these before enabling this option."
   ]
  },
  {
   "cell_type": "code",
   "execution_count": 9,
   "metadata": {
    "scrolled": true
   },
   "outputs": [],
   "source": [
    "peano4_project.output.makefile.add_Fortran_flag( \"-DCCZ4EINSTEIN -DDim3\" )\n",
    "peano4_project.output.makefile.add_Fortran_flag( \"-lstdc++ -fdefault-real-8 -fdefault-double-8 -cpp -std=legacy -ffree-line-length-512 -fPIC\" )\n",
    "peano4_project.output.makefile.add_linker_flag( \"-fPIC\" )\n",
    "peano4_project.output.makefile.add_Fortran_module( \n",
    "  \"MainVariables.mod \", \n",
    "  [\"MainVariables.f90 \" ] \n",
    ")\n",
    "\n",
    "peano4_project.output.makefile.add_Fortran_files( \n",
    "  [\"PDE.f90 \", \"EinsteinConstraints.f90 \",\n",
    "    \"Metric.f90 \", \"C2P-FOCCZ4.f90 \"] \n",
    ")"
   ]
  },
  {
   "cell_type": "markdown",
   "metadata": {},
   "source": [
    "# Prepare the CCZ4 solver\n",
    "\n",
    "This means invoking the right Fortran routines at the right time. First, we have to tell the Fortran lib which scenario we want to work with. For this, we create a symbol identifier in Python and export it into the C++ code.\n",
    "We then write a standard constructor of the CCZ4 solver which pipes the constant through through the Fortran code. Seems to be quite some overhead, but it allows us to switch the scenario through Python. "
   ]
  },
  {
   "cell_type": "code",
   "execution_count": 10,
   "metadata": {},
   "outputs": [],
   "source": [
    "#peano4_project.constants.export_string( \"Scenario\", \"CCZ4GaugeWave\")\n",
    "peano4_project.constants.export_string( \"Scenario\", \"gaugewave-c++\" )"
   ]
  },
  {
   "cell_type": "markdown",
   "metadata": {},
   "source": [
    "# Create C++ code\n",
    "\n",
    "We finally generate the C++ code:"
   ]
  },
  {
   "cell_type": "code",
   "execution_count": 11,
   "metadata": {
    "scrolled": true
   },
   "outputs": [
    {
     "name": "stdout",
     "output_type": "stream",
     "text": [
      "generate all code ...\n",
      "some artefacts have already been added to repository ... assume this is intentional (by higher abstraction layer, e.g.)\n",
      "generated ccz4-main.cpp\n",
      "write ./Makefile\n",
      "write ././AbstractCCZ4.h (generated from template /home/tobias/git/Peano/python/exahype2/solvers/fv/GenericRusanovFixedTimeStepSizeWithEnclavesAbstract.template.h)\n",
      "write ././AbstractCCZ4.cpp (generated from template /home/tobias/git/Peano/python/exahype2/solvers/fv/GenericRusanovFixedTimeStepSizeWithEnclavesAbstract.template.cpp)\n",
      "write ./observers/SolverRepository.h (generated from template /home/tobias/git/Peano/python/exahype2/ProjectSolverRepository.template.h)\n",
      "write ./observers/SolverRepository.cpp (generated from template /home/tobias/git/Peano/python/exahype2/ProjectSolverRepository.template.cpp)\n",
      "write ./celldata/CCZ4Q.h (generated from template /home/tobias/git/Peano/python/peano4/datamodel/PatchToDoubleArray.template.h)\n",
      "write ./celldata/CCZ4Q.cpp (generated from template /home/tobias/git/Peano/python/peano4/datamodel/PatchToDoubleArray.template.cpp)\n",
      "write ./facedata/CCZ4Q.h (generated from template /home/tobias/git/Peano/python/peano4/datamodel/PatchToDoubleArray.template.h)\n",
      "write ./facedata/CCZ4Q.cpp (generated from template /home/tobias/git/Peano/python/peano4/datamodel/PatchToDoubleArray.template.cpp)\n",
      "write ./facedata/CCZ4QNew.h (generated from template /home/tobias/git/Peano/python/peano4/datamodel/PatchToDoubleArray.template.h)\n",
      "write ./facedata/CCZ4QNew.cpp (generated from template /home/tobias/git/Peano/python/peano4/datamodel/PatchToDoubleArray.template.cpp)\n",
      "write ./observers/DataRepository.h\n",
      "write ./observers/DataRepository.cpp\n",
      "write ././observers/CreateGrid2peano4_toolbox_blockstructured_ApplyFunctorOnPatch0.h\n",
      "write ././observers/CreateGrid2peano4_toolbox_blockstructured_ApplyFunctorOnPatch0.cpp\n",
      "write ././observers/CreateGrid2exahype2_grid_AMROnPatch1.h\n",
      "write ././observers/CreateGrid2exahype2_grid_AMROnPatch1.cpp\n",
      "write ././observers/CreateGrid2exahype2_grid_EnclaveLabels2.h\n",
      "write ././observers/CreateGrid2exahype2_grid_EnclaveLabels2.cpp\n",
      "write ././observers/CreateGrid2exahype2_grid_SetLabels3.h\n",
      "write ././observers/CreateGrid2exahype2_grid_SetLabels3.cpp\n",
      "write ././observers/CreateGrid.h\n",
      "write ././observers/CreateGrid.cpp\n",
      "write ././observers/InitGrid2peano4_toolbox_blockstructured_ApplyFunctorOnPatch0.h\n",
      "write ././observers/InitGrid2peano4_toolbox_blockstructured_ApplyFunctorOnPatch0.cpp\n",
      "write ././observers/InitGrid2peano4_toolbox_blockstructured_ProjectPatchOntoFaces1.h\n",
      "write ././observers/InitGrid2peano4_toolbox_blockstructured_ProjectPatchOntoFaces1.cpp\n",
      "write ././observers/InitGrid2peano4_toolbox_blockstructured_BackupPatchOverlap2.h\n",
      "write ././observers/InitGrid2peano4_toolbox_blockstructured_BackupPatchOverlap2.cpp\n",
      "write ././observers/InitGrid2exahype2_grid_SetLabels3.h\n",
      "write ././observers/InitGrid2exahype2_grid_SetLabels3.cpp\n",
      "write ././observers/InitGrid.h\n",
      "write ././observers/InitGrid.cpp\n",
      "write ././observers/CreateGridButPostponeRefinement2peano4_toolbox_blockstructured_ApplyFunctorOnPatch0.h\n",
      "write ././observers/CreateGridButPostponeRefinement2peano4_toolbox_blockstructured_ApplyFunctorOnPatch0.cpp\n",
      "write ././observers/CreateGridButPostponeRefinement2exahype2_grid_EnclaveLabels1.h\n",
      "write ././observers/CreateGridButPostponeRefinement2exahype2_grid_EnclaveLabels1.cpp\n",
      "write ././observers/CreateGridButPostponeRefinement2exahype2_grid_SetLabels2.h\n",
      "write ././observers/CreateGridButPostponeRefinement2exahype2_grid_SetLabels2.cpp\n",
      "write ././observers/CreateGridButPostponeRefinement.h\n",
      "write ././observers/CreateGridButPostponeRefinement.cpp\n",
      "write ././observers/PlotSolution2peano4_toolbox_blockstructured_PlotPatchesInPeanoBlockFormat0.h\n",
      "write ././observers/PlotSolution2peano4_toolbox_blockstructured_PlotPatchesInPeanoBlockFormat0.cpp\n",
      "write ././observers/PlotSolution2exahype2_grid_SetLabels1.h\n",
      "write ././observers/PlotSolution2exahype2_grid_SetLabels1.cpp\n",
      "write ././observers/PlotSolution.h\n",
      "write ././observers/PlotSolution.cpp\n",
      "write ././observers/TimeStep2peano4_toolbox_blockstructured_ReconstructPatchAndApplyFunctor0.h\n",
      "write ././observers/TimeStep2peano4_toolbox_blockstructured_ReconstructPatchAndApplyFunctor0.cpp\n",
      "write ././observers/TimeStep2peano4_toolbox_blockstructured_ProjectPatchOntoFaces1.h\n",
      "write ././observers/TimeStep2peano4_toolbox_blockstructured_ProjectPatchOntoFaces1.cpp\n",
      "write ././observers/TimeStep2peano4_toolbox_blockstructured_ApplyFunctorOnPatch2.h\n",
      "write ././observers/TimeStep2peano4_toolbox_blockstructured_ApplyFunctorOnPatch2.cpp\n",
      "write ././observers/TimeStep2exahype2_grid_AMROnPatch3.h\n",
      "write ././observers/TimeStep2exahype2_grid_AMROnPatch3.cpp\n",
      "write ././observers/TimeStep2peano4_toolbox_blockstructured_BackupPatchOverlap4.h\n",
      "write ././observers/TimeStep2peano4_toolbox_blockstructured_BackupPatchOverlap4.cpp\n",
      "write ././observers/TimeStep2exahype2_grid_EnclaveLabels5.h\n",
      "write ././observers/TimeStep2exahype2_grid_EnclaveLabels5.cpp\n",
      "write ././observers/TimeStep2peano4_toolbox_blockstructured_ApplyFunctorOnPatch6.h\n",
      "write ././observers/TimeStep2peano4_toolbox_blockstructured_ApplyFunctorOnPatch6.cpp\n",
      "write ././observers/TimeStep2exahype2_grid_SetLabels7.h\n",
      "write ././observers/TimeStep2exahype2_grid_SetLabels7.cpp\n",
      "write ././observers/TimeStep.h\n",
      "write ././observers/TimeStep.cpp\n",
      "write ./observers/StepRepository.h\n",
      "write ./observers/StepRepository.cpp\n",
      "write ././ccz4-main.h\n",
      "write ././ccz4-main.cpp\n",
      "write ./Constants.h\n",
      "generation complete\n"
     ]
    }
   ],
   "source": [
    "peano4_project.generate( throw_away_data_after_generation=False )"
   ]
  },
  {
   "cell_type": "markdown",
   "metadata": {},
   "source": [
    "The build below should fail when you first call it in an empty directory. After all, we have promised to deliver an ncp implementation, but there is none."
   ]
  },
  {
   "cell_type": "code",
   "execution_count": 12,
   "metadata": {},
   "outputs": [
    {
     "name": "stdout",
     "output_type": "stream",
     "text": [
      "g++ -std=c++0x -O2 -DPeanoDebug=0 -I/opt/intel/tbb/include -DTBB_USE_ASSERT -DTBB_USE_THREADING_TOOLS -I/opt/intel/itac/2020.0.015/intel64/include -fopenmp  -DDimensions=3 -I. -I../../../src -c -o AbstractCCZ4.o AbstractCCZ4.cpp\n",
      "g++ -std=c++0x -O2 -DPeanoDebug=0 -I/opt/intel/tbb/include -DTBB_USE_ASSERT -DTBB_USE_THREADING_TOOLS -I/opt/intel/itac/2020.0.015/intel64/include -fopenmp  -DDimensions=3 -I. -I../../../src -c -o observers/SolverRepository.o observers/SolverRepository.cpp\n",
      "g++ -std=c++0x -O2 -DPeanoDebug=0 -I/opt/intel/tbb/include -DTBB_USE_ASSERT -DTBB_USE_THREADING_TOOLS -I/opt/intel/itac/2020.0.015/intel64/include -fopenmp  -DDimensions=3 -I. -I../../../src -c -o celldata/CCZ4Q.o celldata/CCZ4Q.cpp\n",
      "g++ -std=c++0x -O2 -DPeanoDebug=0 -I/opt/intel/tbb/include -DTBB_USE_ASSERT -DTBB_USE_THREADING_TOOLS -I/opt/intel/itac/2020.0.015/intel64/include -fopenmp  -DDimensions=3 -I. -I../../../src -c -o celldata/CCZ4CellSemaphoreLabel.o celldata/CCZ4CellSemaphoreLabel.cpp\n",
      "g++ -std=c++0x -O2 -DPeanoDebug=0 -I/opt/intel/tbb/include -DTBB_USE_ASSERT -DTBB_USE_THREADING_TOOLS -I/opt/intel/itac/2020.0.015/intel64/include -fopenmp  -DDimensions=3 -I. -I../../../src -c -o facedata/CCZ4Q.o facedata/CCZ4Q.cpp\n",
      "g++ -std=c++0x -O2 -DPeanoDebug=0 -I/opt/intel/tbb/include -DTBB_USE_ASSERT -DTBB_USE_THREADING_TOOLS -I/opt/intel/itac/2020.0.015/intel64/include -fopenmp  -DDimensions=3 -I. -I../../../src -c -o facedata/CCZ4QNew.o facedata/CCZ4QNew.cpp\n",
      "g++ -std=c++0x -O2 -DPeanoDebug=0 -I/opt/intel/tbb/include -DTBB_USE_ASSERT -DTBB_USE_THREADING_TOOLS -I/opt/intel/itac/2020.0.015/intel64/include -fopenmp  -DDimensions=3 -I. -I../../../src -c -o facedata/Label.o facedata/Label.cpp\n",
      "g++ -std=c++0x -O2 -DPeanoDebug=0 -I/opt/intel/tbb/include -DTBB_USE_ASSERT -DTBB_USE_THREADING_TOOLS -I/opt/intel/itac/2020.0.015/intel64/include -fopenmp  -DDimensions=3 -I. -I../../../src -c -o observers/DataRepository.o observers/DataRepository.cpp\n",
      "g++ -std=c++0x -O2 -DPeanoDebug=0 -I/opt/intel/tbb/include -DTBB_USE_ASSERT -DTBB_USE_THREADING_TOOLS -I/opt/intel/itac/2020.0.015/intel64/include -fopenmp  -DDimensions=3 -I. -I../../../src -c -o observers/CreateGrid2peano4_toolbox_blockstructured_ApplyFunctorOnPatch0.o observers/CreateGrid2peano4_toolbox_blockstructured_ApplyFunctorOnPatch0.cpp\n",
      "g++ -std=c++0x -O2 -DPeanoDebug=0 -I/opt/intel/tbb/include -DTBB_USE_ASSERT -DTBB_USE_THREADING_TOOLS -I/opt/intel/itac/2020.0.015/intel64/include -fopenmp  -DDimensions=3 -I. -I../../../src -c -o observers/CreateGrid2exahype2_grid_AMROnPatch1.o observers/CreateGrid2exahype2_grid_AMROnPatch1.cpp\n",
      "g++ -std=c++0x -O2 -DPeanoDebug=0 -I/opt/intel/tbb/include -DTBB_USE_ASSERT -DTBB_USE_THREADING_TOOLS -I/opt/intel/itac/2020.0.015/intel64/include -fopenmp  -DDimensions=3 -I. -I../../../src -c -o observers/CreateGrid2exahype2_grid_EnclaveLabels2.o observers/CreateGrid2exahype2_grid_EnclaveLabels2.cpp\n",
      "g++ -std=c++0x -O2 -DPeanoDebug=0 -I/opt/intel/tbb/include -DTBB_USE_ASSERT -DTBB_USE_THREADING_TOOLS -I/opt/intel/itac/2020.0.015/intel64/include -fopenmp  -DDimensions=3 -I. -I../../../src -c -o observers/CreateGrid2exahype2_grid_SetLabels3.o observers/CreateGrid2exahype2_grid_SetLabels3.cpp\n",
      "g++ -std=c++0x -O2 -DPeanoDebug=0 -I/opt/intel/tbb/include -DTBB_USE_ASSERT -DTBB_USE_THREADING_TOOLS -I/opt/intel/itac/2020.0.015/intel64/include -fopenmp  -DDimensions=3 -I. -I../../../src -c -o observers/CreateGrid.o observers/CreateGrid.cpp\n",
      "g++ -std=c++0x -O2 -DPeanoDebug=0 -I/opt/intel/tbb/include -DTBB_USE_ASSERT -DTBB_USE_THREADING_TOOLS -I/opt/intel/itac/2020.0.015/intel64/include -fopenmp  -DDimensions=3 -I. -I../../../src -c -o observers/InitGrid2peano4_toolbox_blockstructured_ApplyFunctorOnPatch0.o observers/InitGrid2peano4_toolbox_blockstructured_ApplyFunctorOnPatch0.cpp\n",
      "g++ -std=c++0x -O2 -DPeanoDebug=0 -I/opt/intel/tbb/include -DTBB_USE_ASSERT -DTBB_USE_THREADING_TOOLS -I/opt/intel/itac/2020.0.015/intel64/include -fopenmp  -DDimensions=3 -I. -I../../../src -c -o observers/InitGrid2peano4_toolbox_blockstructured_ProjectPatchOntoFaces1.o observers/InitGrid2peano4_toolbox_blockstructured_ProjectPatchOntoFaces1.cpp\n",
      "g++ -std=c++0x -O2 -DPeanoDebug=0 -I/opt/intel/tbb/include -DTBB_USE_ASSERT -DTBB_USE_THREADING_TOOLS -I/opt/intel/itac/2020.0.015/intel64/include -fopenmp  -DDimensions=3 -I. -I../../../src -c -o observers/InitGrid2peano4_toolbox_blockstructured_BackupPatchOverlap2.o observers/InitGrid2peano4_toolbox_blockstructured_BackupPatchOverlap2.cpp\n",
      "g++ -std=c++0x -O2 -DPeanoDebug=0 -I/opt/intel/tbb/include -DTBB_USE_ASSERT -DTBB_USE_THREADING_TOOLS -I/opt/intel/itac/2020.0.015/intel64/include -fopenmp  -DDimensions=3 -I. -I../../../src -c -o observers/InitGrid2exahype2_grid_SetLabels3.o observers/InitGrid2exahype2_grid_SetLabels3.cpp\n",
      "g++ -std=c++0x -O2 -DPeanoDebug=0 -I/opt/intel/tbb/include -DTBB_USE_ASSERT -DTBB_USE_THREADING_TOOLS -I/opt/intel/itac/2020.0.015/intel64/include -fopenmp  -DDimensions=3 -I. -I../../../src -c -o observers/InitGrid.o observers/InitGrid.cpp\n",
      "g++ -std=c++0x -O2 -DPeanoDebug=0 -I/opt/intel/tbb/include -DTBB_USE_ASSERT -DTBB_USE_THREADING_TOOLS -I/opt/intel/itac/2020.0.015/intel64/include -fopenmp  -DDimensions=3 -I. -I../../../src -c -o observers/CreateGridButPostponeRefinement2peano4_toolbox_blockstructured_ApplyFunctorOnPatch0.o observers/CreateGridButPostponeRefinement2peano4_toolbox_blockstructured_ApplyFunctorOnPatch0.cpp\n",
      "g++ -std=c++0x -O2 -DPeanoDebug=0 -I/opt/intel/tbb/include -DTBB_USE_ASSERT -DTBB_USE_THREADING_TOOLS -I/opt/intel/itac/2020.0.015/intel64/include -fopenmp  -DDimensions=3 -I. -I../../../src -c -o observers/CreateGridButPostponeRefinement2exahype2_grid_EnclaveLabels1.o observers/CreateGridButPostponeRefinement2exahype2_grid_EnclaveLabels1.cpp\n",
      "g++ -std=c++0x -O2 -DPeanoDebug=0 -I/opt/intel/tbb/include -DTBB_USE_ASSERT -DTBB_USE_THREADING_TOOLS -I/opt/intel/itac/2020.0.015/intel64/include -fopenmp  -DDimensions=3 -I. -I../../../src -c -o observers/CreateGridButPostponeRefinement2exahype2_grid_SetLabels2.o observers/CreateGridButPostponeRefinement2exahype2_grid_SetLabels2.cpp\n",
      "g++ -std=c++0x -O2 -DPeanoDebug=0 -I/opt/intel/tbb/include -DTBB_USE_ASSERT -DTBB_USE_THREADING_TOOLS -I/opt/intel/itac/2020.0.015/intel64/include -fopenmp  -DDimensions=3 -I. -I../../../src -c -o observers/CreateGridButPostponeRefinement.o observers/CreateGridButPostponeRefinement.cpp\n",
      "g++ -std=c++0x -O2 -DPeanoDebug=0 -I/opt/intel/tbb/include -DTBB_USE_ASSERT -DTBB_USE_THREADING_TOOLS -I/opt/intel/itac/2020.0.015/intel64/include -fopenmp  -DDimensions=3 -I. -I../../../src -c -o observers/PlotSolution2peano4_toolbox_blockstructured_PlotPatchesInPeanoBlockFormat0.o observers/PlotSolution2peano4_toolbox_blockstructured_PlotPatchesInPeanoBlockFormat0.cpp\n",
      "g++ -std=c++0x -O2 -DPeanoDebug=0 -I/opt/intel/tbb/include -DTBB_USE_ASSERT -DTBB_USE_THREADING_TOOLS -I/opt/intel/itac/2020.0.015/intel64/include -fopenmp  -DDimensions=3 -I. -I../../../src -c -o observers/PlotSolution2exahype2_grid_SetLabels1.o observers/PlotSolution2exahype2_grid_SetLabels1.cpp\n",
      "g++ -std=c++0x -O2 -DPeanoDebug=0 -I/opt/intel/tbb/include -DTBB_USE_ASSERT -DTBB_USE_THREADING_TOOLS -I/opt/intel/itac/2020.0.015/intel64/include -fopenmp  -DDimensions=3 -I. -I../../../src -c -o observers/PlotSolution.o observers/PlotSolution.cpp\n",
      "g++ -std=c++0x -O2 -DPeanoDebug=0 -I/opt/intel/tbb/include -DTBB_USE_ASSERT -DTBB_USE_THREADING_TOOLS -I/opt/intel/itac/2020.0.015/intel64/include -fopenmp  -DDimensions=3 -I. -I../../../src -c -o observers/TimeStep2peano4_toolbox_blockstructured_ReconstructPatchAndApplyFunctor0.o observers/TimeStep2peano4_toolbox_blockstructured_ReconstructPatchAndApplyFunctor0.cpp\n",
      "g++ -std=c++0x -O2 -DPeanoDebug=0 -I/opt/intel/tbb/include -DTBB_USE_ASSERT -DTBB_USE_THREADING_TOOLS -I/opt/intel/itac/2020.0.015/intel64/include -fopenmp  -DDimensions=3 -I. -I../../../src -c -o observers/TimeStep2peano4_toolbox_blockstructured_ProjectPatchOntoFaces1.o observers/TimeStep2peano4_toolbox_blockstructured_ProjectPatchOntoFaces1.cpp\n",
      "g++ -std=c++0x -O2 -DPeanoDebug=0 -I/opt/intel/tbb/include -DTBB_USE_ASSERT -DTBB_USE_THREADING_TOOLS -I/opt/intel/itac/2020.0.015/intel64/include -fopenmp  -DDimensions=3 -I. -I../../../src -c -o observers/TimeStep2peano4_toolbox_blockstructured_ApplyFunctorOnPatch2.o observers/TimeStep2peano4_toolbox_blockstructured_ApplyFunctorOnPatch2.cpp\n"
     ]
    },
    {
     "name": "stdout",
     "output_type": "stream",
     "text": [
      "g++ -std=c++0x -O2 -DPeanoDebug=0 -I/opt/intel/tbb/include -DTBB_USE_ASSERT -DTBB_USE_THREADING_TOOLS -I/opt/intel/itac/2020.0.015/intel64/include -fopenmp  -DDimensions=3 -I. -I../../../src -c -o observers/TimeStep2exahype2_grid_AMROnPatch3.o observers/TimeStep2exahype2_grid_AMROnPatch3.cpp\n",
      "g++ -std=c++0x -O2 -DPeanoDebug=0 -I/opt/intel/tbb/include -DTBB_USE_ASSERT -DTBB_USE_THREADING_TOOLS -I/opt/intel/itac/2020.0.015/intel64/include -fopenmp  -DDimensions=3 -I. -I../../../src -c -o observers/TimeStep2peano4_toolbox_blockstructured_BackupPatchOverlap4.o observers/TimeStep2peano4_toolbox_blockstructured_BackupPatchOverlap4.cpp\n",
      "g++ -std=c++0x -O2 -DPeanoDebug=0 -I/opt/intel/tbb/include -DTBB_USE_ASSERT -DTBB_USE_THREADING_TOOLS -I/opt/intel/itac/2020.0.015/intel64/include -fopenmp  -DDimensions=3 -I. -I../../../src -c -o observers/TimeStep2exahype2_grid_EnclaveLabels5.o observers/TimeStep2exahype2_grid_EnclaveLabels5.cpp\n",
      "g++ -std=c++0x -O2 -DPeanoDebug=0 -I/opt/intel/tbb/include -DTBB_USE_ASSERT -DTBB_USE_THREADING_TOOLS -I/opt/intel/itac/2020.0.015/intel64/include -fopenmp  -DDimensions=3 -I. -I../../../src -c -o observers/TimeStep2peano4_toolbox_blockstructured_ApplyFunctorOnPatch6.o observers/TimeStep2peano4_toolbox_blockstructured_ApplyFunctorOnPatch6.cpp\n",
      "g++ -std=c++0x -O2 -DPeanoDebug=0 -I/opt/intel/tbb/include -DTBB_USE_ASSERT -DTBB_USE_THREADING_TOOLS -I/opt/intel/itac/2020.0.015/intel64/include -fopenmp  -DDimensions=3 -I. -I../../../src -c -o observers/TimeStep2exahype2_grid_SetLabels7.o observers/TimeStep2exahype2_grid_SetLabels7.cpp\n",
      "g++ -std=c++0x -O2 -DPeanoDebug=0 -I/opt/intel/tbb/include -DTBB_USE_ASSERT -DTBB_USE_THREADING_TOOLS -I/opt/intel/itac/2020.0.015/intel64/include -fopenmp  -DDimensions=3 -I. -I../../../src -c -o observers/TimeStep.o observers/TimeStep.cpp\n",
      "g++ -std=c++0x -O2 -DPeanoDebug=0 -I/opt/intel/tbb/include -DTBB_USE_ASSERT -DTBB_USE_THREADING_TOOLS -I/opt/intel/itac/2020.0.015/intel64/include -fopenmp  -DDimensions=3 -I. -I../../../src -c -o observers/StepRepository.o observers/StepRepository.cpp\n",
      "g++ -std=c++0x -O2 -DPeanoDebug=0 -I/opt/intel/tbb/include -DTBB_USE_ASSERT -DTBB_USE_THREADING_TOOLS -I/opt/intel/itac/2020.0.015/intel64/include -fopenmp  -DDimensions=3 -I. -I../../../src -c -o ccz4-main.o ccz4-main.cpp\n",
      "g++ -L/opt/vtk/lib64 -L/opt/intel/tbb/lib/intel64/gcc4.8 -ltbb_debug -lpthread -lifcore -fopenmp  -fPIC MainVariables.o  PDE.o  EinsteinConstraints.o  Metric.o  C2P-FOCCZ4.o   AbstractCCZ4.o CCZ4.o observers/SolverRepository.o celldata/CCZ4Q.o celldata/CCZ4CellSemaphoreLabel.o facedata/CCZ4Q.o facedata/CCZ4QNew.o facedata/Label.o observers/DataRepository.o ./observers/CreateGrid2peano4_toolbox_blockstructured_ApplyFunctorOnPatch0.o ./observers/CreateGrid2exahype2_grid_AMROnPatch1.o ./observers/CreateGrid2exahype2_grid_EnclaveLabels2.o ./observers/CreateGrid2exahype2_grid_SetLabels3.o ./observers/CreateGrid.o ./observers/InitGrid2peano4_toolbox_blockstructured_ApplyFunctorOnPatch0.o ./observers/InitGrid2peano4_toolbox_blockstructured_ProjectPatchOntoFaces1.o ./observers/InitGrid2peano4_toolbox_blockstructured_BackupPatchOverlap2.o ./observers/InitGrid2exahype2_grid_SetLabels3.o ./observers/InitGrid.o ./observers/CreateGridButPostponeRefinement2peano4_toolbox_blockstructured_ApplyFunctorOnPatch0.o ./observers/CreateGridButPostponeRefinement2exahype2_grid_EnclaveLabels1.o ./observers/CreateGridButPostponeRefinement2exahype2_grid_SetLabels2.o ./observers/CreateGridButPostponeRefinement.o ./observers/PlotSolution2peano4_toolbox_blockstructured_PlotPatchesInPeanoBlockFormat0.o ./observers/PlotSolution2exahype2_grid_SetLabels1.o ./observers/PlotSolution.o ./observers/TimeStep2peano4_toolbox_blockstructured_ReconstructPatchAndApplyFunctor0.o ./observers/TimeStep2peano4_toolbox_blockstructured_ProjectPatchOntoFaces1.o ./observers/TimeStep2peano4_toolbox_blockstructured_ApplyFunctorOnPatch2.o ./observers/TimeStep2exahype2_grid_AMROnPatch3.o ./observers/TimeStep2peano4_toolbox_blockstructured_BackupPatchOverlap4.o ./observers/TimeStep2exahype2_grid_EnclaveLabels5.o ./observers/TimeStep2peano4_toolbox_blockstructured_ApplyFunctorOnPatch6.o ./observers/TimeStep2exahype2_grid_SetLabels7.o ./observers/TimeStep.o observers/StepRepository.o ccz4-main.o   -L../../../src -L../../../src/toolbox/loadbalancing -L../../../src/exahype2   -lExaHyPE2Core3d  -lToolboxLoadBalancing3d  -lPeano4Core3d -lTarch  -o peano4 \n",
      "/usr/bin/ld: EinsteinConstraints.o: relocation R_X86_64_32 against `.bss' can not be used when making a PIE object; recompile with -fPIE\n",
      "/usr/bin/ld: PDE.o: in function `pdematrixb_':\n",
      "/home/tobias/git/Peano/examples/exahype2/ccz4/PDE.f90:2053: undefined reference to `_gfortran_st_write'\n",
      "/usr/bin/ld: /home/tobias/git/Peano/examples/exahype2/ccz4/PDE.f90:2053: undefined reference to `_gfortran_transfer_character_write'\n",
      "/usr/bin/ld: /home/tobias/git/Peano/examples/exahype2/ccz4/PDE.f90:2053: undefined reference to `_gfortran_st_write_done'\n",
      "/usr/bin/ld: /home/tobias/git/Peano/examples/exahype2/ccz4/PDE.f90:2055: undefined reference to `_gfortran_stop_string'\n",
      "/usr/bin/ld: PDE.o: in function `hllemfluxfv_':\n",
      "/home/tobias/git/Peano/examples/exahype2/ccz4/PDE.f90:2175: undefined reference to `_gfortran_st_write'\n",
      "/usr/bin/ld: /home/tobias/git/Peano/examples/exahype2/ccz4/PDE.f90:2175: undefined reference to `_gfortran_transfer_character_write'\n",
      "/usr/bin/ld: /home/tobias/git/Peano/examples/exahype2/ccz4/PDE.f90:2175: undefined reference to `_gfortran_st_write_done'\n",
      "/usr/bin/ld: /home/tobias/git/Peano/examples/exahype2/ccz4/PDE.f90:2176: undefined reference to `_gfortran_st_write'\n",
      "/usr/bin/ld: /home/tobias/git/Peano/examples/exahype2/ccz4/PDE.f90:2176: undefined reference to `_gfortran_transfer_character_write'\n",
      "/usr/bin/ld: /home/tobias/git/Peano/examples/exahype2/ccz4/PDE.f90:2176: undefined reference to `_gfortran_st_write_done'\n",
      "/usr/bin/ld: /home/tobias/git/Peano/examples/exahype2/ccz4/PDE.f90:2177: undefined reference to `_gfortran_st_write'\n",
      "/usr/bin/ld: /home/tobias/git/Peano/examples/exahype2/ccz4/PDE.f90:2177: undefined reference to `_gfortran_transfer_array_write'\n",
      "/usr/bin/ld: /home/tobias/git/Peano/examples/exahype2/ccz4/PDE.f90:2177: undefined reference to `_gfortran_st_write_done'\n",
      "/usr/bin/ld: /home/tobias/git/Peano/examples/exahype2/ccz4/PDE.f90:2178: undefined reference to `_gfortran_st_write'\n",
      "/usr/bin/ld: /home/tobias/git/Peano/examples/exahype2/ccz4/PDE.f90:2178: undefined reference to `_gfortran_transfer_character_write'\n",
      "/usr/bin/ld: /home/tobias/git/Peano/examples/exahype2/ccz4/PDE.f90:2178: undefined reference to `_gfortran_st_write_done'\n",
      "/usr/bin/ld: /home/tobias/git/Peano/examples/exahype2/ccz4/PDE.f90:2179: undefined reference to `_gfortran_st_write'\n",
      "/usr/bin/ld: /home/tobias/git/Peano/examples/exahype2/ccz4/PDE.f90:2179: undefined reference to `_gfortran_transfer_array_write'\n",
      "/usr/bin/ld: /home/tobias/git/Peano/examples/exahype2/ccz4/PDE.f90:2179: undefined reference to `_gfortran_st_write_done'\n",
      "/usr/bin/ld: /home/tobias/git/Peano/examples/exahype2/ccz4/PDE.f90:2180: undefined reference to `_gfortran_st_write'\n",
      "/usr/bin/ld: /home/tobias/git/Peano/examples/exahype2/ccz4/PDE.f90:2180: undefined reference to `_gfortran_transfer_character_write'\n",
      "/usr/bin/ld: /home/tobias/git/Peano/examples/exahype2/ccz4/PDE.f90:2180: undefined reference to `_gfortran_st_write_done'\n",
      "/usr/bin/ld: /home/tobias/git/Peano/examples/exahype2/ccz4/PDE.f90:2181: undefined reference to `_gfortran_st_write'\n",
      "/usr/bin/ld: /home/tobias/git/Peano/examples/exahype2/ccz4/PDE.f90:2181: undefined reference to `_gfortran_transfer_array_write'\n",
      "/usr/bin/ld: /home/tobias/git/Peano/examples/exahype2/ccz4/PDE.f90:2181: undefined reference to `_gfortran_st_write_done'\n",
      "/usr/bin/ld: /home/tobias/git/Peano/examples/exahype2/ccz4/PDE.f90:2182: undefined reference to `_gfortran_st_write'\n",
      "/usr/bin/ld: /home/tobias/git/Peano/examples/exahype2/ccz4/PDE.f90:2182: undefined reference to `_gfortran_transfer_character_write'\n",
      "/usr/bin/ld: /home/tobias/git/Peano/examples/exahype2/ccz4/PDE.f90:2182: undefined reference to `_gfortran_st_write_done'\n",
      "/usr/bin/ld: /home/tobias/git/Peano/examples/exahype2/ccz4/PDE.f90:2183: undefined reference to `_gfortran_st_write'\n",
      "/usr/bin/ld: /home/tobias/git/Peano/examples/exahype2/ccz4/PDE.f90:2183: undefined reference to `_gfortran_transfer_array_write'\n",
      "/usr/bin/ld: /home/tobias/git/Peano/examples/exahype2/ccz4/PDE.f90:2183: undefined reference to `_gfortran_st_write_done'\n",
      "/usr/bin/ld: /home/tobias/git/Peano/examples/exahype2/ccz4/PDE.f90:2184: undefined reference to `_gfortran_st_write'\n",
      "/usr/bin/ld: /home/tobias/git/Peano/examples/exahype2/ccz4/PDE.f90:2184: undefined reference to `_gfortran_transfer_character_write'\n",
      "/usr/bin/ld: /home/tobias/git/Peano/examples/exahype2/ccz4/PDE.f90:2184: undefined reference to `_gfortran_st_write_done'\n",
      "/usr/bin/ld: /home/tobias/git/Peano/examples/exahype2/ccz4/PDE.f90:2185: undefined reference to `_gfortran_st_write'\n",
      "/usr/bin/ld: /home/tobias/git/Peano/examples/exahype2/ccz4/PDE.f90:2185: undefined reference to `_gfortran_transfer_real_write'\n",
      "/usr/bin/ld: /home/tobias/git/Peano/examples/exahype2/ccz4/PDE.f90:2185: undefined reference to `_gfortran_st_write_done'\n",
      "/usr/bin/ld: /home/tobias/git/Peano/examples/exahype2/ccz4/PDE.f90:2186: undefined reference to `_gfortran_st_write'\n",
      "/usr/bin/ld: /home/tobias/git/Peano/examples/exahype2/ccz4/PDE.f90:2186: undefined reference to `_gfortran_transfer_character_write'\n",
      "/usr/bin/ld: /home/tobias/git/Peano/examples/exahype2/ccz4/PDE.f90:2186: undefined reference to `_gfortran_st_write_done'\n",
      "/usr/bin/ld: /home/tobias/git/Peano/examples/exahype2/ccz4/PDE.f90:2187: undefined reference to `_gfortran_st_write'\n",
      "/usr/bin/ld: /home/tobias/git/Peano/examples/exahype2/ccz4/PDE.f90:2187: undefined reference to `_gfortran_transfer_real_write'\n",
      "/usr/bin/ld: /home/tobias/git/Peano/examples/exahype2/ccz4/PDE.f90:2187: undefined reference to `_gfortran_st_write_done'\n",
      "/usr/bin/ld: /home/tobias/git/Peano/examples/exahype2/ccz4/PDE.f90:2188: undefined reference to `_gfortran_st_write'\n",
      "/usr/bin/ld: /home/tobias/git/Peano/examples/exahype2/ccz4/PDE.f90:2188: undefined reference to `_gfortran_transfer_character_write'\n",
      "/usr/bin/ld: /home/tobias/git/Peano/examples/exahype2/ccz4/PDE.f90:2188: undefined reference to `_gfortran_st_write_done'\n",
      "/usr/bin/ld: /home/tobias/git/Peano/examples/exahype2/ccz4/PDE.f90:2189: undefined reference to `_gfortran_st_write'\n",
      "/usr/bin/ld: /home/tobias/git/Peano/examples/exahype2/ccz4/PDE.f90:2189: undefined reference to `_gfortran_transfer_array_write'\n",
      "/usr/bin/ld: /home/tobias/git/Peano/examples/exahype2/ccz4/PDE.f90:2189: undefined reference to `_gfortran_st_write_done'\n",
      "/usr/bin/ld: /home/tobias/git/Peano/examples/exahype2/ccz4/PDE.f90:2190: undefined reference to `_gfortran_st_write'\n",
      "/usr/bin/ld: /home/tobias/git/Peano/examples/exahype2/ccz4/PDE.f90:2190: undefined reference to `_gfortran_transfer_character_write'\n",
      "/usr/bin/ld: /home/tobias/git/Peano/examples/exahype2/ccz4/PDE.f90:2190: undefined reference to `_gfortran_st_write_done'\n",
      "/usr/bin/ld: /home/tobias/git/Peano/examples/exahype2/ccz4/PDE.f90:2191: undefined reference to `_gfortran_st_write'\n",
      "/usr/bin/ld: /home/tobias/git/Peano/examples/exahype2/ccz4/PDE.f90:2191: undefined reference to `_gfortran_transfer_array_write'\n",
      "/usr/bin/ld: /home/tobias/git/Peano/examples/exahype2/ccz4/PDE.f90:2191: undefined reference to `_gfortran_st_write_done'\n",
      "/usr/bin/ld: /home/tobias/git/Peano/examples/exahype2/ccz4/PDE.f90:2192: undefined reference to `_gfortran_st_write'\n",
      "/usr/bin/ld: /home/tobias/git/Peano/examples/exahype2/ccz4/PDE.f90:2192: undefined reference to `_gfortran_transfer_character_write'\n",
      "/usr/bin/ld: /home/tobias/git/Peano/examples/exahype2/ccz4/PDE.f90:2192: undefined reference to `_gfortran_st_write_done'\n",
      "/usr/bin/ld: /home/tobias/git/Peano/examples/exahype2/ccz4/PDE.f90:2193: undefined reference to `_gfortran_st_write'\n",
      "/usr/bin/ld: /home/tobias/git/Peano/examples/exahype2/ccz4/PDE.f90:2193: undefined reference to `_gfortran_transfer_array_write'\n",
      "/usr/bin/ld: /home/tobias/git/Peano/examples/exahype2/ccz4/PDE.f90:2193: undefined reference to `_gfortran_st_write_done'\n",
      "/usr/bin/ld: /home/tobias/git/Peano/examples/exahype2/ccz4/PDE.f90:2194: undefined reference to `_gfortran_st_write'\n",
      "/usr/bin/ld: /home/tobias/git/Peano/examples/exahype2/ccz4/PDE.f90:2194: undefined reference to `_gfortran_transfer_character_write'\n",
      "/usr/bin/ld: /home/tobias/git/Peano/examples/exahype2/ccz4/PDE.f90:2194: undefined reference to `_gfortran_st_write_done'\n",
      "/usr/bin/ld: /home/tobias/git/Peano/examples/exahype2/ccz4/PDE.f90:2198: undefined reference to `_gfortran_st_write'\n",
      "/usr/bin/ld: /home/tobias/git/Peano/examples/exahype2/ccz4/PDE.f90:2198: undefined reference to `_gfortran_transfer_character_write'\n",
      "/usr/bin/ld: /home/tobias/git/Peano/examples/exahype2/ccz4/PDE.f90:2198: undefined reference to `_gfortran_st_write_done'\n",
      "/usr/bin/ld: /home/tobias/git/Peano/examples/exahype2/ccz4/PDE.f90:2199: undefined reference to `_gfortran_pause_string'\n",
      "collect2: error: ld returned 1 exit status\n",
      "make: *** [Makefile:41: solver] Error 1\n"
     ]
    }
   ],
   "source": [
    "parallel_builds = 1   # I don't use a massively parallel build here as my laptop otherwise becomes too hot.\n",
    "                      # Without any arguments, the build process will grab all of your cores.\n",
    "#peano4_project.build( make_clean_first = False, number_of_parallel_builds = parallel_builds )\n",
    "!make -j4\n"
   ]
  },
  {
   "cell_type": "markdown",
   "metadata": {},
   "source": [
    "## Run the code and postprocess results\n",
    "\n",
    "Once we have the Peano 4 project set up and built, we obtain an executable which is standalone. It comprises all the parameters we have set above. So we can either invoke this file on the command line or we can call it through the notebook. Depending on your setup you might want to call the code with a prefix. If you configured Peano with MPI, e.g., you might have to use the mpirun prefix. \n",
    "\n",
    "Please note that we pipe the terminal output into a file. This way, we can postprocess the data in the next step."
   ]
  },
  {
   "cell_type": "code",
   "execution_count": 13,
   "metadata": {},
   "outputs": [
    {
     "name": "stdout",
     "output_type": "stream",
     "text": [
      "run application ...\n",
      "[proxy:0:0@Bad] HYD_spawn (../../../../../src/pm/i_hydra/libhydra/spawn/intel/hydra_spawn.c:129): execvp error on file ./peano4 (No such file or directory)\n",
      "\n",
      "run failed\n"
     ]
    },
    {
     "data": {
      "text/plain": [
       "True"
      ]
     },
     "execution_count": 13,
     "metadata": {},
     "output_type": "execute_result"
    }
   ],
   "source": [
    "peano4_project.run( [], prefix = [\"mpirun\", \"-n\", \"1\"], pipefile = \"output.txt\", rebuild_if_required=False )"
   ]
  },
  {
   "cell_type": "markdown",
   "metadata": {},
   "source": [
    "We first grab and postprocess the data from the output file. This is ExaHyPE 2-specific (though application-generic), so we rely on ExaHyPE's postprocessing routines.\n",
    "\n"
   ]
  },
  {
   "cell_type": "code",
   "execution_count": 14,
   "metadata": {},
   "outputs": [
    {
     "name": "stdout",
     "output_type": "stream",
     "text": [
      "parse output.txt\n",
      "file output.txt is invalid as number of time steps equals zero\n"
     ]
    }
   ],
   "source": [
    "import exahype2.postprocessing\n",
    "\n",
    "performance_data = exahype2.postprocessing.PerformanceData( \"output.txt\", verbose=True )"
   ]
  },
  {
   "cell_type": "markdown",
   "metadata": {},
   "source": [
    "In this worksheet, I'd like to have interactive matplotlib plots: You might need the statement\n",
    "\n",
    "<pre>\n",
    "%matplotlib widget\n",
    "</pre>\n",
    "\n",
    "but on some of my local notebook servers, this causes a crash. So you have to test this yourself."
   ]
  },
  {
   "cell_type": "code",
   "execution_count": 15,
   "metadata": {},
   "outputs": [
    {
     "data": {
      "image/png": "[encoded data removed]",
      "text/plain": [
       "<Figure size 432x288 with 1 Axes>"
      ]
     },
     "metadata": {},
     "output_type": "display_data"
    }
   ],
   "source": [
    "exahype2.postprocessing.plot_pie_chart_over_simulation_phases(performance_data)"
   ]
  },
  {
   "cell_type": "code",
   "execution_count": 16,
   "metadata": {},
   "outputs": [
    {
     "data": {
      "image/png": "[encoded data removed]",
      "text/plain": [
       "<Figure size 432x288 with 1 Axes>"
      ]
     },
     "metadata": {
      "needs_background": "light"
     },
     "output_type": "display_data"
    }
   ],
   "source": [
    "exahype2.postprocessing.plot_time_per_time_step(performance_data)"
   ]
  },
  {
   "cell_type": "markdown",
   "metadata": {},
   "source": [
    "## Inspecting output files via Paraview\n",
    "\n",
    "We first do an ls on our directory and search for the root .peano-patch-file. I then convert this file manually into vtu which I can load into Paraview. This works if Peano is configured with vtk support. If you don't have vtk support in there, then you might want to load the data directly into Paraview through Peano's Paraview plug-in."
   ]
  },
  {
   "cell_type": "code",
   "execution_count": 17,
   "metadata": {},
   "outputs": [
    {
     "name": "stdout",
     "output_type": "stream",
     "text": [
      "AbstractCCZ4.cpp  CCZ4.ipynb\t EinsteinConstraints.f90  Metric.f90\r\n",
      "AbstractCCZ4.h\t  ccz4-main.cpp  EinsteinConstraints.o\t  Metric.o\r\n",
      "AbstractCCZ4.o\t  ccz4-main.h\t exahype.log-filter\t  observers\r\n",
      "C2P-FOCCZ4.f90\t  ccz4-main.o\t facedata\t\t  output.txt\r\n",
      "C2P-FOCCZ4.o\t  CCZ4.o\t MainVariables.f90\t  PDE.f90\r\n",
      "CCZ4.cpp\t  celldata\t MainVariables.o\t  PDE.h\r\n",
      "CCZ4.h\t\t  Constants.h\t Makefile\t\t  PDE.o\r\n"
     ]
    }
   ],
   "source": [
    "!ls"
   ]
  },
  {
   "cell_type": "markdown",
   "metadata": {},
   "source": [
    "Start up Paraview:\n",
    "\n",
    "<pre>\n",
    "export PYTHONPATH=../../../python\n",
    "paraview\n",
    "</pre>"
   ]
  },
  {
   "cell_type": "markdown",
   "metadata": {},
   "source": [
    "<pre>\n",
    "import peano4.visualisation\n",
    "\n",
    "output_files = \"solution-CCZ4.peano-patch-file\"\n",
    "visualiser = peano4.visualisation.Visualiser( output_files )\n",
    "visualiser.append_filter(peano4.visualisation.ExtractFineGridFilter())\n",
    "visualiser.display()\n",
    "</pre>"
   ]
  },
  {
   "cell_type": "code",
   "execution_count": 18,
   "metadata": {},
   "outputs": [
    {
     "name": "stdout",
     "output_type": "stream",
     "text": [
      "Error: Cannot import vtkPVServerManagerDefault\n",
      "Error: Cannot import vtkPVServerManagerRendering\n",
      "inspect file solution-CCZ4 ... \n",
      "invoke ['../../../src/visualisation/convert', 'inspect', 'solution-CCZ4.peano-patch-file']\n",
      "failed to inspect ([Errno 2] No such file or directory: '../../../src/visualisation/convert') with ['../../../src/visualisation/convert', 'inspect', 'solution-CCZ4.peano-patch-file']\n",
      "extract fine grid from solution-CCZ4 ... \n",
      "inspect file solution-CCZ4 ... \n",
      "invoke ['../../../src/visualisation/convert', 'inspect', 'solution-CCZ4.peano-patch-file']\n",
      "failed to inspect ([Errno 2] No such file or directory: '../../../src/visualisation/convert') with ['../../../src/visualisation/convert', 'inspect', 'solution-CCZ4.peano-patch-file']\n",
      "convert file solution-CCZ4 into vtk (vtu binary format) ... \n"
     ]
    }
   ],
   "source": [
    "import peano4.visualisation\n",
    "convert = peano4.visualisation.Convert( \"solution-CCZ4\", True )\n",
    "convert.set_visualisation_tools_path( \"../../../src/visualisation\" )\n",
    "convert.extract_fine_grid()\n",
    "convert.convert_to_vtk()"
   ]
  },
  {
   "cell_type": "code",
   "execution_count": 19,
   "metadata": {},
   "outputs": [
    {
     "name": "stdout",
     "output_type": "stream",
     "text": [
      "AbstractCCZ4.cpp  CCZ4.ipynb\t EinsteinConstraints.f90  Metric.f90\r\n",
      "AbstractCCZ4.h\t  ccz4-main.cpp  EinsteinConstraints.o\t  Metric.o\r\n",
      "AbstractCCZ4.o\t  ccz4-main.h\t exahype.log-filter\t  observers\r\n",
      "C2P-FOCCZ4.f90\t  ccz4-main.o\t facedata\t\t  output.txt\r\n",
      "C2P-FOCCZ4.o\t  CCZ4.o\t MainVariables.f90\t  PDE.f90\r\n",
      "CCZ4.cpp\t  celldata\t MainVariables.o\t  PDE.h\r\n",
      "CCZ4.h\t\t  Constants.h\t Makefile\t\t  PDE.o\r\n"
     ]
    }
   ],
   "source": [
    "!ls"
   ]
  },
  {
   "cell_type": "code",
   "execution_count": null,
   "metadata": {},
   "outputs": [],
   "source": []
  }
 ],
 "metadata": {
  "kernelspec": {
   "display_name": "Python 3",
   "language": "python",
   "name": "python3"
  },
  "language_info": {
   "codemirror_mode": {
    "name": "ipython",
    "version": 3
   },
   "file_extension": ".py",
   "mimetype": "text/x-python",
   "name": "python",
   "nbconvert_exporter": "python",
   "pygments_lexer": "ipython3",
   "version": "3.8.5"
  },
  "latex_envs": {
   "LaTeX_envs_menu_present": true,
   "autoclose": false,
   "autocomplete": true,
   "bibliofile": "biblio.bib",
   "cite_by": "apalike",
   "current_citInitial": 1,
   "eqLabelWithNumbers": true,
   "eqNumInitial": 1,
   "hotkeys": {
    "equation": "Ctrl-E",
    "itemize": "Ctrl-I"
   },
   "labels_anchors": false,
   "latex_user_defs": false,
   "report_style_numbering": false,
   "user_envs_cfg": false
  }
 },
 "nbformat": 4,
 "nbformat_minor": 4
}

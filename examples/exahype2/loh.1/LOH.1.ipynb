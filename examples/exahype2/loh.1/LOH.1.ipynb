{
 "cells": [
  {
   "cell_type": "markdown",
   "metadata": {},
   "source": [
    "# LOH.1 benchmark with ExaHyPE 2\n",
    "\n",
    "I assume that you've done the Euler example already, i.e. I can skip most of the basic stuff and go into medias res straightaway.\n",
    "\n",
    "Compare to the Euler example, this is a more sophisticated example which uses an FV solver with nonconservative product. The example simulates elastic wave equations plus a diffuse interface model that takes material  interfaces into account.\n",
    "\n",
    "Currently, we impose a Gaussian velocity pulse as initial solution but we will eventually simulate the LOH.1 benchmark.\n",
    "\n",
    "We solve the governing equations using (a very diffusive) first-order FV solver. The code relies on snippets from the first version of ExaHyPE and from ExaSeis.\n",
    "\n",
    "* Fore more details on the underlying mathematical modelling, see:\n",
    "  https://www.sciencedirect.com/science/article/pii/S0021999119300786 \n",
    "\n",
    "* For more details on the benchmark problem, see:\n",
    "  http://sismowine.org/model/WP2_LOH1.pdf\n",
    "\n",
    "* For more details on ExaSeis, see e.g.:\n",
    "  https://mediatum.ub.tum.de/doc/1483700/1483700.pdf \n"
   ]
  },
  {
   "cell_type": "code",
   "execution_count": 1,
   "metadata": {},
   "outputs": [
    {
     "name": "stdout",
     "output_type": "stream",
     "text": [
      "DaStGen 2 (C) www.peano-framework.org\n",
      "Peano 4 (C) www.peano-framework.org\n",
      "ExaHyPE 2 (C) www.peano-framework.org\n"
     ]
    }
   ],
   "source": [
    "import os\n",
    "import peano4\n",
    "import exahype2"
   ]
  },
  {
   "cell_type": "code",
   "execution_count": 2,
   "metadata": {},
   "outputs": [],
   "source": [
    "project = exahype2.Project( \n",
    "  namespace    = [\"examples\", \"exahype2\", \"loh1\"], \n",
    "  project_name = \"loh1\", \n",
    "  directory    = \".\" )"
   ]
  },
  {
   "cell_type": "markdown",
   "metadata": {},
   "source": [
    "Compared to the Euler equations, the big difference is that we use the ncp (non-conservative product). That is, we solve an equation with an additional term: \n",
    "\n",
    "\n",
    "$ \\partial Q + \\nabla ^T \\cdot F(Q) + B(Q) \\nabla Q = 0$\n",
    "\n",
    "It might come as a surprise that we omit any conservative term (flux) here, but I explain this below:"
   ]
  },
  {
   "cell_type": "code",
   "execution_count": 3,
   "metadata": {},
   "outputs": [],
   "source": [
    "mesh_size      = 10.0\n",
    "time_step_size = 0.001\n",
    "\n",
    "\n",
    "project.add_solver(  \n",
    "  exahype2.solvers.fv.GenericRusanovFixedTimeStepSizeWithEnclaves(\n",
    "    #exahype2.solvers.fv.GenericRusanovFixedTimeStepSize(\n",
    "    name           = \"LOH1\", \n",
    "    patch_size     = 5, \n",
    "    unknowns       = 3+6,      # vel(3) + stress(6)\n",
    "    auxiliary_variables = 4,   #material parameters(3) + diffuse interface(1)  \n",
    "    time_step_size = 0.01, \n",
    "    min_h          = mesh_size,\n",
    "    max_h          = mesh_size,\n",
    "    flux=exahype2.solvers.fv.PDETerms.None_Implementation,\n",
    "    ncp=exahype2.solvers.fv.PDETerms.User_Defined_Implementation) )"
   ]
  },
  {
   "cell_type": "markdown",
   "metadata": {},
   "source": [
    "While I personally always prefer to play around with Euler and 2d before I switch to Euler 3d, this time a 2d solve does not make any real sense. So we use 3d right from the start. The domain dimensions here are those from the standard benchmark."
   ]
  },
  {
   "cell_type": "code",
   "execution_count": 4,
   "metadata": {},
   "outputs": [],
   "source": [
    "dimensions=3 \n",
    "project.set_global_simulation_parameters(\n",
    "  dimensions            = dimensions,\n",
    "  offset                = [0.0]*dimensions, \n",
    "  size                  = [30.0]*dimensions,\n",
    "  #end_time              = 2.0,        \n",
    "  end_time              = 0.1,\n",
    "  first_plot_time_stamp = 0.0, \n",
    "  time_in_between_plots = time_step_size*10\n",
    ")\n"
   ]
  },
  {
   "cell_type": "markdown",
   "metadata": {},
   "source": [
    "The whole test is already relative compute-heavy, so we rely on parallelisation. The parameter clarifies that we want to work with an (MPI) domain decomposition that is 90% close to the optimum. The parameter allows us to balance between good domain decompositions and (very) long domain partitioning times."
   ]
  },
  {
   "cell_type": "code",
   "execution_count": 5,
   "metadata": {},
   "outputs": [],
   "source": [
    "project.set_load_balancing( \"toolbox::loadbalancing::RecursiveSubdivision\", \"(0.9)\" )"
   ]
  },
  {
   "cell_type": "markdown",
   "metadata": {},
   "source": [
    "Finally, we generate the code. The actual implementation of the terms\n",
    "\n",
    "$ \\frac{\\partial}{\\partial t} \\begin{pmatrix}\n",
    "\\sigma \\\\ \\rho \\ v\n",
    "\\end{pmatrix}\n",
    "+\n",
    "\\nabla\\cdot\\begin{pmatrix}\n",
    "{j}\\\\\n",
    "\\frac{1}{\\rho}j\\otimes j + p I \\\\\n",
    "\\frac{1}{\\rho}j\\,(E + p)\n",
    "\\end{pmatrix}\n",
    "= 0\n",
    " $ \n",
    "\n",
    "and others can be found in the cpp files in the current directory. (this LaTeX formulation is yet to be finalised)"
   ]
  },
  {
   "cell_type": "code",
   "execution_count": 6,
   "metadata": {},
   "outputs": [
    {
     "name": "stdout",
     "output_type": "stream",
     "text": [
      "parse configure outcome ../../../src/Makefile to extract compile settings\n",
      "used C++ compiler is mpicxx\n",
      "used Fortran compiler is gfortran\n",
      "generate all code ...\n",
      "some artefacts have already been added to repository ... assume this is intentional (by higher abstraction layer, e.g.)\n",
      "generated loh1-main.cpp\n",
      "write ./Makefile\n",
      "write ././AbstractLOH1.h (generated from template /home/tobias/git/Peano/python/exahype2/solvers/fv/GenericRusanovFixedTimeStepSizeWithEnclavesAbstract.template.h)\n",
      "write ././AbstractLOH1.cpp (generated from template /home/tobias/git/Peano/python/exahype2/solvers/fv/GenericRusanovFixedTimeStepSizeWithEnclavesAbstract.template.cpp)\n",
      "write ./repositories/SolverRepository.h (generated from template /home/tobias/git/Peano/python/exahype2/ProjectSolverRepository.template.h)\n",
      "write ./repositories/SolverRepository.cpp (generated from template /home/tobias/git/Peano/python/exahype2/ProjectSolverRepository.template.cpp)\n",
      "write ./celldata/LOH1Q.h (generated from template /home/tobias/git/Peano/python/peano4/datamodel/PatchToDoubleArray.template.h)\n",
      "write ./celldata/LOH1Q.cpp (generated from template /home/tobias/git/Peano/python/peano4/datamodel/PatchToDoubleArray.template.cpp)\n",
      "write ./facedata/LOH1Q.h (generated from template /home/tobias/git/Peano/python/peano4/datamodel/PatchToDoubleArray.template.h)\n",
      "write ./facedata/LOH1Q.cpp (generated from template /home/tobias/git/Peano/python/peano4/datamodel/PatchToDoubleArray.template.cpp)\n",
      "write ./facedata/LOH1QNew.h (generated from template /home/tobias/git/Peano/python/peano4/datamodel/PatchToDoubleArray.template.h)\n",
      "write ./facedata/LOH1QNew.cpp (generated from template /home/tobias/git/Peano/python/peano4/datamodel/PatchToDoubleArray.template.cpp)\n",
      "write ./repositories/DataRepository.h\n",
      "write ./repositories/DataRepository.cpp\n",
      "write ././observers/CreateGrid2exahype2_solvers_fv_FV0.h\n",
      "write ././observers/CreateGrid2exahype2_solvers_fv_FV0.cpp\n",
      "write ././observers/CreateGrid2exahype2_solvers_fv_FV1.h\n",
      "write ././observers/CreateGrid2exahype2_solvers_fv_FV1.cpp\n",
      "write ././observers/CreateGrid2exahype2_grid_EnclaveLabels2.h\n",
      "write ././observers/CreateGrid2exahype2_grid_EnclaveLabels2.cpp\n",
      "write ././observers/CreateGrid2exahype2_grid_SetLabels3.h\n",
      "write ././observers/CreateGrid2exahype2_grid_SetLabels3.cpp\n",
      "write ././observers/CreateGrid.h\n",
      "write ././observers/CreateGrid.cpp\n",
      "write ././observers/InitGrid2exahype2_solvers_fv_FV0.h\n",
      "write ././observers/InitGrid2exahype2_solvers_fv_FV0.cpp\n",
      "write ././observers/InitGrid2peano4_toolbox_blockstructured_ProjectPatchOntoFaces1.h\n",
      "write ././observers/InitGrid2peano4_toolbox_blockstructured_ProjectPatchOntoFaces1.cpp\n",
      "write ././observers/InitGrid2peano4_toolbox_blockstructured_BackupPatchOverlap2.h\n",
      "write ././observers/InitGrid2peano4_toolbox_blockstructured_BackupPatchOverlap2.cpp\n",
      "write ././observers/InitGrid2exahype2_grid_EnclaveLabels3.h\n",
      "write ././observers/InitGrid2exahype2_grid_EnclaveLabels3.cpp\n",
      "write ././observers/InitGrid2exahype2_grid_SetLabels4.h\n",
      "write ././observers/InitGrid2exahype2_grid_SetLabels4.cpp\n",
      "write ././observers/InitGrid.h\n",
      "write ././observers/InitGrid.cpp\n",
      "write ././observers/CreateGridButPostponeRefinement2exahype2_solvers_fv_FV0.h\n",
      "write ././observers/CreateGridButPostponeRefinement2exahype2_solvers_fv_FV0.cpp\n",
      "write ././observers/CreateGridButPostponeRefinement2exahype2_grid_EnclaveLabels1.h\n",
      "write ././observers/CreateGridButPostponeRefinement2exahype2_grid_EnclaveLabels1.cpp\n",
      "write ././observers/CreateGridButPostponeRefinement2exahype2_grid_SetLabels2.h\n",
      "write ././observers/CreateGridButPostponeRefinement2exahype2_grid_SetLabels2.cpp\n",
      "write ././observers/CreateGridButPostponeRefinement.h\n",
      "write ././observers/CreateGridButPostponeRefinement.cpp\n",
      "write ././observers/PlotSolution2peano4_toolbox_blockstructured_PlotPatchesInPeanoBlockFormat0.h\n",
      "write ././observers/PlotSolution2peano4_toolbox_blockstructured_PlotPatchesInPeanoBlockFormat0.cpp\n",
      "write ././observers/PlotSolution2exahype2_grid_SetLabels1.h\n",
      "write ././observers/PlotSolution2exahype2_grid_SetLabels1.cpp\n",
      "write ././observers/PlotSolution.h\n",
      "write ././observers/PlotSolution.cpp\n",
      "write ././observers/TimeStep2exahype2_solvers_fv_FV0.h\n",
      "write ././observers/TimeStep2exahype2_solvers_fv_FV0.cpp\n",
      "write ././observers/TimeStep2exahype2_solvers_fv_FV1.h\n",
      "write ././observers/TimeStep2exahype2_solvers_fv_FV1.cpp\n",
      "write ././observers/TimeStep2peano4_toolbox_blockstructured_ReconstructPatchAndApplyFunctor2.h\n",
      "write ././observers/TimeStep2peano4_toolbox_blockstructured_ReconstructPatchAndApplyFunctor2.cpp\n",
      "write ././observers/TimeStep2peano4_toolbox_blockstructured_ProjectPatchOntoFaces3.h\n",
      "write ././observers/TimeStep2peano4_toolbox_blockstructured_ProjectPatchOntoFaces3.cpp\n",
      "write ././observers/TimeStep2exahype2_solvers_fv_FV4.h\n",
      "write ././observers/TimeStep2exahype2_solvers_fv_FV4.cpp\n",
      "write ././observers/TimeStep2peano4_toolbox_blockstructured_BackupPatchOverlap5.h\n",
      "write ././observers/TimeStep2peano4_toolbox_blockstructured_BackupPatchOverlap5.cpp\n",
      "write ././observers/TimeStep2exahype2_grid_EnclaveLabels6.h\n",
      "write ././observers/TimeStep2exahype2_grid_EnclaveLabels6.cpp\n",
      "write ././observers/TimeStep2exahype2_solvers_fv_FV7.h\n",
      "write ././observers/TimeStep2exahype2_solvers_fv_FV7.cpp\n",
      "write ././observers/TimeStep2exahype2_grid_SetLabels8.h\n",
      "write ././observers/TimeStep2exahype2_grid_SetLabels8.cpp\n",
      "write ././observers/TimeStep.h\n",
      "write ././observers/TimeStep.cpp\n",
      "write ./repositories/StepRepository.h\n",
      "write ./repositories/StepRepository.cpp\n",
      "write ././loh1-main.h\n",
      "write ././loh1-main.cpp\n",
      "write ./Constants.h\n",
      "generation complete\n"
     ]
    }
   ],
   "source": [
    "build_mode = peano4.output.CompileMode.Asserts\n",
    "#build_mode = peano4.output.CompileMode.Release\n",
    "#build_mode = peano4.output.CompileMode.Trace\n",
    "\n",
    "\n",
    "project.set_Peano4_installation(\"../../..\", build_mode)\n",
    "\n",
    "peano4_project = project.generate_Peano4_project()\n",
    "peano4_project.generate( throw_away_data_after_generation=False )"
   ]
  },
  {
   "cell_type": "code",
   "execution_count": 7,
   "metadata": {},
   "outputs": [
    {
     "name": "stdout",
     "output_type": "stream",
     "text": [
      "clean up project ...\n",
      "clean complete\n",
      "start to compile with concurrency level of 8 ...\n",
      "mpicxx -std=c++0x -g -O2 -DPeanoDebug=2  -g -O2 -fopenmp -DDimensions=3 -I. -I../../../src -c -o AbstractLOH1.o AbstractLOH1.cpp\n",
      "mpicxx -std=c++0x -g -O2 -DPeanoDebug=2  -g -O2 -fopenmp -DDimensions=3 -I. -I../../../src -c -o LOH1.o LOH1.cpp\n",
      "mpicxx -std=c++0x -g -O2 -DPeanoDebug=2  -g -O2 -fopenmp -DDimensions=3 -I. -I../../../src -c -o repositories/SolverRepository.o repositories/SolverRepository.cpp\n",
      "mpicxx -std=c++0x -g -O2 -DPeanoDebug=2  -g -O2 -fopenmp -DDimensions=3 -I. -I../../../src -c -o celldata/LOH1Q.o celldata/LOH1Q.cpp\n",
      "mpicxx -std=c++0x -g -O2 -DPeanoDebug=2  -g -O2 -fopenmp -DDimensions=3 -I. -I../../../src -c -o celldata/LOH1CellSemaphoreLabel.o celldata/LOH1CellSemaphoreLabel.cpp\n",
      "mpicxx -std=c++0x -g -O2 -DPeanoDebug=2  -g -O2 -fopenmp -DDimensions=3 -I. -I../../../src -c -o facedata/LOH1Q.o facedata/LOH1Q.cpp\n",
      "mpicxx -std=c++0x -g -O2 -DPeanoDebug=2  -g -O2 -fopenmp -DDimensions=3 -I. -I../../../src -c -o facedata/LOH1QNew.o facedata/LOH1QNew.cpp\n",
      "mpicxx -std=c++0x -g -O2 -DPeanoDebug=2  -g -O2 -fopenmp -DDimensions=3 -I. -I../../../src -c -o facedata/Label.o facedata/Label.cpp\n",
      "mpicxx -std=c++0x -g -O2 -DPeanoDebug=2  -g -O2 -fopenmp -DDimensions=3 -I. -I../../../src -c -o repositories/DataRepository.o repositories/DataRepository.cpp\n",
      "mpicxx -std=c++0x -g -O2 -DPeanoDebug=2  -g -O2 -fopenmp -DDimensions=3 -I. -I../../../src -c -o observers/CreateGrid2exahype2_solvers_fv_FV0.o observers/CreateGrid2exahype2_solvers_fv_FV0.cpp\n",
      "mpicxx -std=c++0x -g -O2 -DPeanoDebug=2  -g -O2 -fopenmp -DDimensions=3 -I. -I../../../src -c -o observers/CreateGrid2exahype2_solvers_fv_FV1.o observers/CreateGrid2exahype2_solvers_fv_FV1.cpp\n",
      "mpicxx -std=c++0x -g -O2 -DPeanoDebug=2  -g -O2 -fopenmp -DDimensions=3 -I. -I../../../src -c -o observers/CreateGrid2exahype2_grid_EnclaveLabels2.o observers/CreateGrid2exahype2_grid_EnclaveLabels2.cpp\n",
      "mpicxx -std=c++0x -g -O2 -DPeanoDebug=2  -g -O2 -fopenmp -DDimensions=3 -I. -I../../../src -c -o observers/CreateGrid2exahype2_grid_SetLabels3.o observers/CreateGrid2exahype2_grid_SetLabels3.cpp\n",
      "mpicxx -std=c++0x -g -O2 -DPeanoDebug=2  -g -O2 -fopenmp -DDimensions=3 -I. -I../../../src -c -o observers/CreateGrid.o observers/CreateGrid.cpp\n",
      "mpicxx -std=c++0x -g -O2 -DPeanoDebug=2  -g -O2 -fopenmp -DDimensions=3 -I. -I../../../src -c -o observers/InitGrid2exahype2_solvers_fv_FV0.o observers/InitGrid2exahype2_solvers_fv_FV0.cpp\n",
      "mpicxx -std=c++0x -g -O2 -DPeanoDebug=2  -g -O2 -fopenmp -DDimensions=3 -I. -I../../../src -c -o observers/InitGrid2peano4_toolbox_blockstructured_ProjectPatchOntoFaces1.o observers/InitGrid2peano4_toolbox_blockstructured_ProjectPatchOntoFaces1.cpp\n",
      "mpicxx -std=c++0x -g -O2 -DPeanoDebug=2  -g -O2 -fopenmp -DDimensions=3 -I. -I../../../src -c -o observers/InitGrid2peano4_toolbox_blockstructured_BackupPatchOverlap2.o observers/InitGrid2peano4_toolbox_blockstructured_BackupPatchOverlap2.cpp\n",
      "mpicxx -std=c++0x -g -O2 -DPeanoDebug=2  -g -O2 -fopenmp -DDimensions=3 -I. -I../../../src -c -o observers/InitGrid2exahype2_grid_EnclaveLabels3.o observers/InitGrid2exahype2_grid_EnclaveLabels3.cpp\n",
      "mpicxx -std=c++0x -g -O2 -DPeanoDebug=2  -g -O2 -fopenmp -DDimensions=3 -I. -I../../../src -c -o observers/InitGrid2exahype2_grid_SetLabels4.o observers/InitGrid2exahype2_grid_SetLabels4.cpp\n",
      "mpicxx -std=c++0x -g -O2 -DPeanoDebug=2  -g -O2 -fopenmp -DDimensions=3 -I. -I../../../src -c -o observers/InitGrid.o observers/InitGrid.cpp\n",
      "mpicxx -std=c++0x -g -O2 -DPeanoDebug=2  -g -O2 -fopenmp -DDimensions=3 -I. -I../../../src -c -o observers/CreateGridButPostponeRefinement2exahype2_solvers_fv_FV0.o observers/CreateGridButPostponeRefinement2exahype2_solvers_fv_FV0.cpp\n",
      "mpicxx -std=c++0x -g -O2 -DPeanoDebug=2  -g -O2 -fopenmp -DDimensions=3 -I. -I../../../src -c -o observers/CreateGridButPostponeRefinement2exahype2_grid_EnclaveLabels1.o observers/CreateGridButPostponeRefinement2exahype2_grid_EnclaveLabels1.cpp\n",
      "mpicxx -std=c++0x -g -O2 -DPeanoDebug=2  -g -O2 -fopenmp -DDimensions=3 -I. -I../../../src -c -o observers/CreateGridButPostponeRefinement2exahype2_grid_SetLabels2.o observers/CreateGridButPostponeRefinement2exahype2_grid_SetLabels2.cpp\n",
      "mpicxx -std=c++0x -g -O2 -DPeanoDebug=2  -g -O2 -fopenmp -DDimensions=3 -I. -I../../../src -c -o observers/CreateGridButPostponeRefinement.o observers/CreateGridButPostponeRefinement.cpp\n",
      "mpicxx -std=c++0x -g -O2 -DPeanoDebug=2  -g -O2 -fopenmp -DDimensions=3 -I. -I../../../src -c -o observers/PlotSolution2peano4_toolbox_blockstructured_PlotPatchesInPeanoBlockFormat0.o observers/PlotSolution2peano4_toolbox_blockstructured_PlotPatchesInPeanoBlockFormat0.cpp\n",
      "mpicxx -std=c++0x -g -O2 -DPeanoDebug=2  -g -O2 -fopenmp -DDimensions=3 -I. -I../../../src -c -o observers/PlotSolution2exahype2_grid_SetLabels1.o observers/PlotSolution2exahype2_grid_SetLabels1.cpp\n",
      "mpicxx -std=c++0x -g -O2 -DPeanoDebug=2  -g -O2 -fopenmp -DDimensions=3 -I. -I../../../src -c -o observers/PlotSolution.o observers/PlotSolution.cpp\n",
      "mpicxx -std=c++0x -g -O2 -DPeanoDebug=2  -g -O2 -fopenmp -DDimensions=3 -I. -I../../../src -c -o observers/TimeStep2exahype2_solvers_fv_FV0.o observers/TimeStep2exahype2_solvers_fv_FV0.cpp\n",
      "mpicxx -std=c++0x -g -O2 -DPeanoDebug=2  -g -O2 -fopenmp -DDimensions=3 -I. -I../../../src -c -o observers/TimeStep2exahype2_solvers_fv_FV1.o observers/TimeStep2exahype2_solvers_fv_FV1.cpp\n",
      "mpicxx -std=c++0x -g -O2 -DPeanoDebug=2  -g -O2 -fopenmp -DDimensions=3 -I. -I../../../src -c -o observers/TimeStep2peano4_toolbox_blockstructured_ReconstructPatchAndApplyFunctor2.o observers/TimeStep2peano4_toolbox_blockstructured_ReconstructPatchAndApplyFunctor2.cpp\n",
      "mpicxx -std=c++0x -g -O2 -DPeanoDebug=2  -g -O2 -fopenmp -DDimensions=3 -I. -I../../../src -c -o observers/TimeStep2peano4_toolbox_blockstructured_ProjectPatchOntoFaces3.o observers/TimeStep2peano4_toolbox_blockstructured_ProjectPatchOntoFaces3.cpp\n",
      "mpicxx -std=c++0x -g -O2 -DPeanoDebug=2  -g -O2 -fopenmp -DDimensions=3 -I. -I../../../src -c -o observers/TimeStep2exahype2_solvers_fv_FV4.o observers/TimeStep2exahype2_solvers_fv_FV4.cpp\n",
      "mpicxx -std=c++0x -g -O2 -DPeanoDebug=2  -g -O2 -fopenmp -DDimensions=3 -I. -I../../../src -c -o observers/TimeStep2peano4_toolbox_blockstructured_BackupPatchOverlap5.o observers/TimeStep2peano4_toolbox_blockstructured_BackupPatchOverlap5.cpp\n",
      "mpicxx -std=c++0x -g -O2 -DPeanoDebug=2  -g -O2 -fopenmp -DDimensions=3 -I. -I../../../src -c -o observers/TimeStep2exahype2_grid_EnclaveLabels6.o observers/TimeStep2exahype2_grid_EnclaveLabels6.cpp\n",
      "mpicxx -std=c++0x -g -O2 -DPeanoDebug=2  -g -O2 -fopenmp -DDimensions=3 -I. -I../../../src -c -o observers/TimeStep2exahype2_solvers_fv_FV7.o observers/TimeStep2exahype2_solvers_fv_FV7.cpp\n",
      "mpicxx -std=c++0x -g -O2 -DPeanoDebug=2  -g -O2 -fopenmp -DDimensions=3 -I. -I../../../src -c -o observers/TimeStep2exahype2_grid_SetLabels8.o observers/TimeStep2exahype2_grid_SetLabels8.cpp\n",
      "mpicxx -std=c++0x -g -O2 -DPeanoDebug=2  -g -O2 -fopenmp -DDimensions=3 -I. -I../../../src -c -o observers/TimeStep.o observers/TimeStep.cpp\n",
      "mpicxx -std=c++0x -g -O2 -DPeanoDebug=2  -g -O2 -fopenmp -DDimensions=3 -I. -I../../../src -c -o repositories/StepRepository.o repositories/StepRepository.cpp\n",
      "mpicxx -std=c++0x -g -O2 -DPeanoDebug=2  -g -O2 -fopenmp -DDimensions=3 -I. -I../../../src -c -o loh1-main.o loh1-main.cpp\n",
      "mpicxx   AbstractLOH1.o LOH1.o repositories/SolverRepository.o celldata/LOH1Q.o celldata/LOH1CellSemaphoreLabel.o facedata/LOH1Q.o facedata/LOH1QNew.o facedata/Label.o repositories/DataRepository.o ./observers/CreateGrid2exahype2_solvers_fv_FV0.o ./observers/CreateGrid2exahype2_solvers_fv_FV1.o ./observers/CreateGrid2exahype2_grid_EnclaveLabels2.o ./observers/CreateGrid2exahype2_grid_SetLabels3.o ./observers/CreateGrid.o ./observers/InitGrid2exahype2_solvers_fv_FV0.o ./observers/InitGrid2peano4_toolbox_blockstructured_ProjectPatchOntoFaces1.o ./observers/InitGrid2peano4_toolbox_blockstructured_BackupPatchOverlap2.o ./observers/InitGrid2exahype2_grid_EnclaveLabels3.o ./observers/InitGrid2exahype2_grid_SetLabels4.o ./observers/InitGrid.o ./observers/CreateGridButPostponeRefinement2exahype2_solvers_fv_FV0.o ./observers/CreateGridButPostponeRefinement2exahype2_grid_EnclaveLabels1.o ./observers/CreateGridButPostponeRefinement2exahype2_grid_SetLabels2.o ./observers/CreateGridButPostponeRefinement.o ./observers/PlotSolution2peano4_toolbox_blockstructured_PlotPatchesInPeanoBlockFormat0.o ./observers/PlotSolution2exahype2_grid_SetLabels1.o ./observers/PlotSolution.o ./observers/TimeStep2exahype2_solvers_fv_FV0.o ./observers/TimeStep2exahype2_solvers_fv_FV1.o ./observers/TimeStep2peano4_toolbox_blockstructured_ReconstructPatchAndApplyFunctor2.o ./observers/TimeStep2peano4_toolbox_blockstructured_ProjectPatchOntoFaces3.o ./observers/TimeStep2exahype2_solvers_fv_FV4.o ./observers/TimeStep2peano4_toolbox_blockstructured_BackupPatchOverlap5.o ./observers/TimeStep2exahype2_grid_EnclaveLabels6.o ./observers/TimeStep2exahype2_solvers_fv_FV7.o ./observers/TimeStep2exahype2_grid_SetLabels8.o ./observers/TimeStep.o repositories/StepRepository.o loh1-main.o   -fopenmp  -L../../../src -L../../../src/toolbox/loadbalancing -L../../../src/exahype2  -fopenmp  -lExaHyPE2Core3d_asserts  -lToolboxLoadBalancing3d_asserts  -lPeano4Core3d_asserts -lTarch_asserts  -o peano4 \n",
      "\n",
      "compile completed successfully\n"
     ]
    }
   ],
   "source": [
    "parallel_builds = 8   # I don't use a massively parallel build here as my laptop otherwise becomes too hot.\n",
    "                      # Without any arguments, the build process will grab all of your cores.\n",
    "peano4_project.build( make_clean_first = True, number_of_parallel_builds = parallel_builds )"
   ]
  },
  {
   "cell_type": "markdown",
   "metadata": {},
   "source": [
    "## Run benchmark"
   ]
  },
  {
   "cell_type": "code",
   "execution_count": 8,
   "metadata": {},
   "outputs": [
    {
     "name": "stdout",
     "output_type": "stream",
     "text": [
      "run application ...\n",
      " 183963294330 00:03:03     rank:0       core:1       warning      tarch::logging::Statistics::writeToCSV(string)          no statistics available. Recompile with -DTrackStatistics for runtime sampling (file:tarch/logging/Statistics.cpp,line:142)\n",
      "Fatal error in PMPI_Win_free: Invalid MPI_Win, error stack:\n",
      "PMPI_Win_free(134): MPI_Win_free(win=0x5760b0) failed\n",
      "PMPI_Win_free(68).: Invalid MPI_Win\n",
      "\n",
      "run failed\n"
     ]
    },
    {
     "data": {
      "text/plain": [
       "True"
      ]
     },
     "execution_count": 8,
     "metadata": {},
     "output_type": "execute_result"
    }
   ],
   "source": [
    "peano4_project.run( [], prefix = [\"mpirun\", \"-n\", \"1\"], pipefile = \"output.txt\", rebuild_if_required=False )"
   ]
  },
  {
   "cell_type": "markdown",
   "metadata": {},
   "source": [
    "## Postprocessing of global runtimes"
   ]
  },
  {
   "cell_type": "code",
   "execution_count": 9,
   "metadata": {},
   "outputs": [
    {
     "name": "stdout",
     "output_type": "stream",
     "text": [
      "parse output.txt\n",
      "h_min=10.0\n",
      "triggered plot at 13.485639570000002s\n",
      "started new time step at 16.322487289s\n",
      "started new time step at 21.683445945s\n",
      "triggered plot at 24.476372146000003s\n",
      "started new time step at 27.222503072s\n",
      "started new time step at 32.131499508s\n",
      "triggered plot at 34.664337180000004s\n",
      "started new time step at 37.407235486000005s\n",
      "started new time step at 42.28441879500001s\n",
      "triggered plot at 44.849454786s\n",
      "started new time step at 47.610187001s\n",
      "started new time step at 52.39913546s\n",
      "triggered plot at 55.09213538899999s\n",
      "started new time step at 57.852696380999994s\n",
      "started new time step at 62.781821582000006s\n",
      "triggered plot at 65.422295396s\n",
      "started new time step at 68.314005999s\n",
      "started new time step at 73.20986689300001s\n",
      "triggered plot at 75.875709434s\n",
      "started new time step at 78.86260346099999s\n",
      "started new time step at 83.68947619400001s\n",
      "triggered plot at 86.32324024500001s\n",
      "started new time step at 89.138867414s\n",
      "started new time step at 94.02743119099999s\n",
      "triggered plot at 96.70922949199999s\n",
      "started new time step at 99.741526212s\n",
      "started new time step at 104.78253929799999s\n",
      "triggered plot at 107.403274742s\n",
      "started new time step at 111.17732172499998s\n",
      "started new time step at 116.044270426s\n",
      "triggered plot at 118.657650668s\n",
      "started new time step at 122.50658483400001s\n",
      "started new time step at 151.715784045s\n",
      "triggered plot at 167.001929674s\n",
      "terminated simulation at 183.949134476s\n",
      "grid construction lasts 13.4845 over 5 steps\n",
      "plotting lasts 50.0693 over 12 steps\n",
      "time stepping lasts 120.315 over 22 steps\n"
     ]
    },
    {
     "data": {
      "image/png": "[encoded data removed]",
      "text/plain": [
       "<Figure size 432x288 with 1 Axes>"
      ]
     },
     "metadata": {},
     "output_type": "display_data"
    }
   ],
   "source": [
    "import exahype2.postprocessing\n",
    "\n",
    "performance_data = exahype2.postprocessing.PerformanceData( \"output.txt\", verbose=True )\n",
    "exahype2.postprocessing.plot_pie_chart_over_simulation_phases(performance_data)"
   ]
  },
  {
   "cell_type": "markdown",
   "metadata": {},
   "source": [
    "## Explicitly convert VTK files"
   ]
  },
  {
   "cell_type": "code",
   "execution_count": 10,
   "metadata": {},
   "outputs": [
    {
     "ename": "ModuleNotFoundError",
     "evalue": "No module named 'paraview.simple'",
     "output_type": "error",
     "traceback": [
      "\u001b[0;31m---------------------------------------------------------------------------\u001b[0m",
      "\u001b[0;31mModuleNotFoundError\u001b[0m                       Traceback (most recent call last)",
      "\u001b[0;32m<ipython-input-10-39584eca2ab7>\u001b[0m in \u001b[0;36m<module>\u001b[0;34m\u001b[0m\n\u001b[0;32m----> 1\u001b[0;31m \u001b[0;32mimport\u001b[0m \u001b[0mpeano4\u001b[0m\u001b[0;34m.\u001b[0m\u001b[0mvisualisation\u001b[0m\u001b[0;34m\u001b[0m\u001b[0;34m\u001b[0m\u001b[0m\n\u001b[0m\u001b[1;32m      2\u001b[0m \u001b[0;34m\u001b[0m\u001b[0m\n\u001b[1;32m      3\u001b[0m \u001b[0mpeano_output_files\u001b[0m \u001b[0;34m=\u001b[0m \u001b[0;34m\"solution-LOH1\"\u001b[0m\u001b[0;34m\u001b[0m\u001b[0;34m\u001b[0m\u001b[0m\n\u001b[1;32m      4\u001b[0m \u001b[0mconvert\u001b[0m \u001b[0;34m=\u001b[0m \u001b[0mpeano4\u001b[0m\u001b[0;34m.\u001b[0m\u001b[0mvisualisation\u001b[0m\u001b[0;34m.\u001b[0m\u001b[0mConvert\u001b[0m\u001b[0;34m(\u001b[0m \u001b[0mpeano_output_files\u001b[0m\u001b[0;34m,\u001b[0m \u001b[0;32mTrue\u001b[0m \u001b[0;34m)\u001b[0m\u001b[0;34m\u001b[0m\u001b[0;34m\u001b[0m\u001b[0m\n\u001b[1;32m      5\u001b[0m \u001b[0mconvert\u001b[0m\u001b[0;34m.\u001b[0m\u001b[0mset_visualisation_tools_path\u001b[0m\u001b[0;34m(\u001b[0m \u001b[0;34m\"../../../src/convert\"\u001b[0m \u001b[0;34m)\u001b[0m\u001b[0;34m\u001b[0m\u001b[0;34m\u001b[0m\u001b[0m\n",
      "\u001b[0;32m~/git/Peano/python/peano4/visualisation/__init__.py\u001b[0m in \u001b[0;36m<module>\u001b[0;34m\u001b[0m\n\u001b[1;32m      6\u001b[0m \u001b[0;32mfrom\u001b[0m \u001b[0;34m.\u001b[0m\u001b[0mOutputFileParser\u001b[0m       \u001b[0;32mimport\u001b[0m \u001b[0mOutputFileParser\u001b[0m\u001b[0;34m\u001b[0m\u001b[0;34m\u001b[0m\u001b[0m\n\u001b[1;32m      7\u001b[0m \u001b[0;32mfrom\u001b[0m \u001b[0;34m.\u001b[0m\u001b[0mPatch\u001b[0m                  \u001b[0;32mimport\u001b[0m \u001b[0mPatch\u001b[0m\u001b[0;34m\u001b[0m\u001b[0;34m\u001b[0m\u001b[0m\n\u001b[0;32m----> 8\u001b[0;31m \u001b[0;32mfrom\u001b[0m \u001b[0;34m.\u001b[0m\u001b[0mVisualiser\u001b[0m             \u001b[0;32mimport\u001b[0m \u001b[0mVisualiser\u001b[0m\u001b[0;34m\u001b[0m\u001b[0;34m\u001b[0m\u001b[0m\n\u001b[0m\u001b[1;32m      9\u001b[0m \u001b[0;32mfrom\u001b[0m \u001b[0;34m.\u001b[0m\u001b[0mVisualiser\u001b[0m             \u001b[0;32mimport\u001b[0m \u001b[0mrender_single_file\u001b[0m\u001b[0;34m\u001b[0m\u001b[0;34m\u001b[0m\u001b[0m\n\u001b[1;32m     10\u001b[0m \u001b[0;32mfrom\u001b[0m \u001b[0;34m.\u001b[0m\u001b[0mVisualiser\u001b[0m             \u001b[0;32mimport\u001b[0m \u001b[0mrender_dataset\u001b[0m\u001b[0;34m\u001b[0m\u001b[0;34m\u001b[0m\u001b[0m\n",
      "\u001b[0;32m~/git/Peano/python/peano4/visualisation/Visualiser.py\u001b[0m in \u001b[0;36m<module>\u001b[0;34m\u001b[0m\n\u001b[1;32m      2\u001b[0m \u001b[0;31m# use, please see the copyright notice at www.peano-framework.org\u001b[0m\u001b[0;34m\u001b[0m\u001b[0;34m\u001b[0m\u001b[0;34m\u001b[0m\u001b[0m\n\u001b[1;32m      3\u001b[0m \u001b[0;32mfrom\u001b[0m \u001b[0mpeano4\u001b[0m\u001b[0;34m.\u001b[0m\u001b[0mvisualisation\u001b[0m\u001b[0;34m.\u001b[0m\u001b[0mOutputFileParser\u001b[0m \u001b[0;32mimport\u001b[0m \u001b[0mOutputFileParser\u001b[0m\u001b[0;34m\u001b[0m\u001b[0;34m\u001b[0m\u001b[0m\n\u001b[0;32m----> 4\u001b[0;31m \u001b[0;32mfrom\u001b[0m \u001b[0mparaview\u001b[0m\u001b[0;34m.\u001b[0m\u001b[0msimple\u001b[0m \u001b[0;32mimport\u001b[0m \u001b[0;34m*\u001b[0m\u001b[0;34m\u001b[0m\u001b[0;34m\u001b[0m\u001b[0m\n\u001b[0m\u001b[1;32m      5\u001b[0m \u001b[0;32mimport\u001b[0m \u001b[0mvtk\u001b[0m\u001b[0;34m\u001b[0m\u001b[0;34m\u001b[0m\u001b[0m\n\u001b[1;32m      6\u001b[0m \u001b[0;34m\u001b[0m\u001b[0m\n",
      "\u001b[0;31mModuleNotFoundError\u001b[0m: No module named 'paraview.simple'"
     ]
    }
   ],
   "source": [
    "import peano4.visualisation\n",
    "\n",
    "peano_output_files = \"solution-LOH1\"\n",
    "convert = peano4.visualisation.Convert( peano_output_files, True )\n",
    "convert.set_visualisation_tools_path( \"../../../src/convert\" )\n",
    "convert.extract_fine_grid()\n",
    "convert.convert_to_vtk()"
   ]
  },
  {
   "cell_type": "markdown",
   "metadata": {},
   "source": [
    "The snippet above converts all data explicitly into VTU. This is likely not the most efficient way to study the outcome. See the guidebook how to open data directly within Paraview. In principle, you should be able to type in\n",
    "\n",
    "import peano4.visualisation\n",
    "visualiser = peano4.visualisation.Visualiser( \"solution-LOH1.peano-patch-file\" )\n",
    "visualiser.display()\n",
    "visualiser.append_filter(peano4.visualisation.ExtractFineGridFilter())\n",
    "visualiser.write_vtu_time_series()\n"
   ]
  },
  {
   "cell_type": "code",
   "execution_count": null,
   "metadata": {},
   "outputs": [],
   "source": []
  }
 ],
 "metadata": {
  "kernelspec": {
   "display_name": "Python 3",
   "language": "python",
   "name": "python3"
  },
  "language_info": {
   "codemirror_mode": {
    "name": "ipython",
    "version": 3
   },
   "file_extension": ".py",
   "mimetype": "text/x-python",
   "name": "python",
   "nbconvert_exporter": "python",
   "pygments_lexer": "ipython3",
   "version": "3.8.6"
  },
  "latex_envs": {
   "LaTeX_envs_menu_present": true,
   "autoclose": false,
   "autocomplete": true,
   "bibliofile": "biblio.bib",
   "cite_by": "apalike",
   "current_citInitial": 1,
   "eqLabelWithNumbers": true,
   "eqNumInitial": 1,
   "hotkeys": {
    "equation": "Ctrl-E",
    "itemize": "Ctrl-I"
   },
   "labels_anchors": false,
   "latex_user_defs": false,
   "report_style_numbering": false,
   "user_envs_cfg": false
  }
 },
 "nbformat": 4,
 "nbformat_minor": 4
}

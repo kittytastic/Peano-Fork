{
 "cells": [
  {
   "cell_type": "markdown",
   "metadata": {},
   "source": [
    "# GPRDR benchmark\n",
    "\n",
    "I've written this benchmark to reconstruct work done by Duo Li and Alice-Agnes Gabriel from LMU. Ensure you've set the Python path correct\n",
    "\n",
    "export PYTHONPATH=../../../python\n",
    "\n",
    "to Peano's Python directory before you invoke the notebook."
   ]
  },
  {
   "cell_type": "code",
   "execution_count": 1,
   "metadata": {},
   "outputs": [
    {
     "name": "stdout",
     "output_type": "stream",
     "text": [
      "DaStGen 2 (C) www.peano-framework.org\n",
      "Peano 4 (C) www.peano-framework.org\n",
      "ExaHyPE 2 (C) www.peano-framework.org\n"
     ]
    }
   ],
   "source": [
    "import os\n",
    "import peano4\n",
    "import exahype2"
   ]
  },
  {
   "cell_type": "markdown",
   "metadata": {},
   "source": [
    "The sympy submodule is not included by default. But we'll use the homogeneous BC implementation from this package, as I'm too lazy to implement it myself. Even though they are trivial."
   ]
  },
  {
   "cell_type": "code",
   "execution_count": 2,
   "metadata": {},
   "outputs": [],
   "source": [
    "import exahype2.sympy"
   ]
  },
  {
   "cell_type": "markdown",
   "metadata": {},
   "source": [
    "## Clean-up\n",
    "\n",
    "Lets ensure that no left-over files stay in there. Lets in particular delete the executable and the output files."
   ]
  },
  {
   "cell_type": "code",
   "execution_count": 3,
   "metadata": {},
   "outputs": [],
   "source": [
    "output_files = [ f for f in os.listdir(\".\") if f.endswith(\".peano-patch-file\") or f.endswith(\".vtu\") or f.startswith(\"output\")]\n",
    "for f in output_files:\n",
    "  os.remove(f)"
   ]
  },
  {
   "cell_type": "markdown",
   "metadata": {},
   "source": [
    "## Setup simulation\n",
    "\n",
    "We create a new simulation. At the moment I can't non-cubic domains. I mean: I haven't tested it. This is something I have to do."
   ]
  },
  {
   "cell_type": "code",
   "execution_count": 4,
   "metadata": {},
   "outputs": [],
   "source": [
    "project = exahype2.Project( \n",
    "  namespace    = [\"examples\", \"exahype2\", \"gprdr\"], \n",
    "  project_name = \"gprdr\", \n",
    "  directory    = \".\" )"
   ]
  },
  {
   "cell_type": "code",
   "execution_count": 5,
   "metadata": {},
   "outputs": [],
   "source": [
    "dimensions=2 \n",
    "project.set_global_simulation_parameters(\n",
    "  dimensions            = dimensions,\n",
    "  offset                = [-10000.0,-10000.0], \n",
    "  size                  = [20000.0,20000.0],\n",
    "  end_time              = 8.001,\n",
    "  first_plot_time_stamp = 0.0, \n",
    "  time_in_between_plots = 0.01\n",
    ")"
   ]
  },
  {
   "cell_type": "markdown",
   "metadata": {},
   "source": [
    "## Create the solver\n",
    "\n",
    "I have a whole set of different solvers and will definitely create a few more over the next months. This guy is the most basic/primitive one. Lets ensure it works first. I work with patch-based AMR with patches of the size 5x5 volumes. This is, so far, also a regular grid setup."
   ]
  },
  {
   "cell_type": "code",
   "execution_count": 6,
   "metadata": {},
   "outputs": [
    {
     "name": "stdout",
     "output_type": "stream",
     "text": [
      "no of unknowns:  27\n"
     ]
    }
   ],
   "source": [
    "mesh_size      = 300\n",
    "time_step_size = 0.001\n",
    "\n",
    "unknowns = {    # yeah, I like self-explaining names ;-)\n",
    "  \"rho\":1,\n",
    "  \"v\":  3,\n",
    "  \"s\":  1,\n",
    "  \"J\":  3,\n",
    "  \"A\":  9,\n",
    "  \"alpha\": 1,\n",
    "  \"lambda\": 1,\n",
    "  \"mu\": 1,\n",
    "  \"xi\": 1,\n",
    "  \"xi1\": 1,\n",
    "  \"sliding\": 1,\n",
    "  \"sliding_xi\": 1,\n",
    "  \"slip\": 3\n",
    "}\n",
    "\n",
    "number_of_unknowns = 0\n",
    "number_of_auxiliary_variables = 0\n",
    "for i in unknowns:\n",
    "  number_of_unknowns += unknowns[i]\n",
    "\n",
    "print( \"no of unknowns: \", number_of_unknowns)\n",
    "\n",
    "pde = exahype2.sympy.PDE(unknowns=number_of_unknowns,auxiliary_variables=number_of_auxiliary_variables,dimensions=dimensions)\n",
    "\n",
    "my_solver = exahype2.solvers.fv.GenericRiemannFixedTimeStepSize(\n",
    "    name                = \"GPRDR\", \n",
    "    patch_size          = 5, \n",
    "    unknowns            = number_of_unknowns,\n",
    "    auxiliary_variables = number_of_auxiliary_variables,\n",
    "    time_step_size      = time_step_size, \n",
    "    min_h               = mesh_size,\n",
    "    max_h               = mesh_size)\n",
    "    \n",
    "my_solver.set_implementation(\n",
    "  boundary_conditions=pde.implementation_of_homogeneous_Neumann_BC(),\n",
    ")   \n",
    "\n",
    "project.add_solver( my_solver )    "
   ]
  },
  {
   "cell_type": "code",
   "execution_count": null,
   "metadata": {},
   "outputs": [],
   "source": []
  },
  {
   "cell_type": "code",
   "execution_count": null,
   "metadata": {},
   "outputs": [],
   "source": []
  },
  {
   "cell_type": "markdown",
   "metadata": {},
   "source": [
    "## Parallelise\n",
    "\n",
    "Even this simple setup is quite compute-intensive, so it pays off to work with the parallel code base right from the start. If you have configured Peano with\n",
    "\n",
    "<pre>\n",
    "--with-multithreading=omp\n",
    "</pre>\n",
    "\n",
    "or even with \n",
    "\n",
    "<pre>\n",
    "--with-multithreading=omp --with-mpi=mpiicpc\n",
    "</pre>\n",
    "\n",
    "then the line below adds parallelisation:"
   ]
  },
  {
   "cell_type": "code",
   "execution_count": 7,
   "metadata": {},
   "outputs": [],
   "source": [
    "project.set_load_balancing( \"toolbox::loadbalancing::RecursiveSubdivision\" )"
   ]
  },
  {
   "cell_type": "markdown",
   "metadata": {},
   "source": [
    "## Configure the build\n",
    "\n",
    "The idea is that the ExaHyPE2 front-end generates a Peano Python project. We can then ask this Peano project to generate all C++ code that we need. As we don't want to type in all the different configuration parameters (which compiler is used, which environment variables are to be used on this machine, ...) we first tell the ExaHyPE project to parse the setups we've selected through the initial ./configure call. Ah, and we also commit to a build flavour. "
   ]
  },
  {
   "cell_type": "code",
   "execution_count": 8,
   "metadata": {},
   "outputs": [
    {
     "name": "stdout",
     "output_type": "stream",
     "text": [
      "parse configure outcome ../../../src/Makefile to extract compile settings\n",
      "used C++ compiler is icpc\n",
      "used Fortran compiler is ifort\n"
     ]
    }
   ],
   "source": [
    "build_mode = peano4.output.CompileMode.Asserts\n",
    "#build_mode = peano4.output.CompileMode.Release\n",
    "\n",
    "project.set_Peano4_installation(\"../../..\", build_mode)\n",
    "\n",
    "peano4_project = project.generate_Peano4_project()"
   ]
  },
  {
   "cell_type": "markdown",
   "metadata": {},
   "source": [
    "Next, we add all the Fortran routines that we need in our project. Peano 4/ExaHyPE 2 will automatically add it to the build environment later on."
   ]
  },
  {
   "cell_type": "code",
   "execution_count": 9,
   "metadata": {},
   "outputs": [],
   "source": [
    "peano4_project.output.makefile.add_Fortran_modules( [\n",
    "  \"MainVariables.f90\",    \"expintegrator_type.f90\",  \"expintegrator_linalg.f90\",\n",
    "  \"SpecificVarEqn99.f90\", \"GPRmaterials.f90\",        \"expintegrator_linalg_fast33.f90\",\n",
    "  \"ComplexGeometry.f90\",  \"expintegrator_ode.f90\",   \"expintegrator.f90\"\n",
    "])\n",
    "\n",
    "peano4_project.output.makefile.add_Fortran_files( \n",
    "  [ \"ODE.f90\", \"C2P-GPRDR.f90\", \"PDE.f90\", \"InitialData.f90\", \"Tools.f90\", \"CGinterface.f90\" ]\n",
    ")\n",
    "\n",
    "peano4_project.output.makefile.add_Fortran_flag( \"-r8 -cpp -auto -qopenmp-simd -O2 -xCORE-AVX2 -fma -DDim2 -DALIGNMENT=32 -DEQNTYPED99 -DODESOLVER -DOPT_KERNELS -I.\" )\n",
    "#     LINK_FORTRAN      += -lgfortran\n",
    "\n"
   ]
  },
  {
   "cell_type": "markdown",
   "metadata": {},
   "source": [
    "I don't want to program all the constants manually in my C++ code later on, so I simply export them from the Python script into the C++ stuff. They will be found in a generated file called Constants.h."
   ]
  },
  {
   "cell_type": "code",
   "execution_count": 10,
   "metadata": {},
   "outputs": [],
   "source": [
    "peano4_project.constants.export( \"NumberOfUnknowns\", number_of_unknowns )\n",
    "peano4_project.constants.export_string( \"Scenario\", \"TPV3\" ) # called reference in the ExaHyPE 1 project, but I find scenario better\n"
   ]
  },
  {
   "cell_type": "markdown",
   "metadata": {},
   "source": [
    "OK, time to generate the actual C++ stuff. After that, we can compile. We can either use the Python front-end to compile (there's a build() command) or directly call make. Once Peano 4 has written the makefile and the C++ code, the code is stand-alone, i.e. doesn't need Python anymore. So a plain make does the job."
   ]
  },
  {
   "cell_type": "code",
   "execution_count": 11,
   "metadata": {},
   "outputs": [
    {
     "name": "stdout",
     "output_type": "stream",
     "text": [
      "generate all code ...\n",
      "some artefacts have already been added to repository ... assume this is intentional (by higher abstraction layer, e.g.)\n",
      "generated gprdr-main.cpp\n",
      "write ./Makefile\n",
      "write ././AbstractGPRDR.h (generated from template /home/tobias/git/Peano/python/exahype2/solvers/fv/GenericRiemannFixedTimeStepSizeAbstract.template.h)\n",
      "write ././AbstractGPRDR.cpp (generated from template /home/tobias/git/Peano/python/exahype2/solvers/fv/GenericRiemannFixedTimeStepSizeAbstract.template.cpp)\n",
      "write ./observers/SolverRepository.h (generated from template /home/tobias/git/Peano/python/exahype2/ProjectSolverRepository.template.h)\n",
      "write ./observers/SolverRepository.cpp (generated from template /home/tobias/git/Peano/python/exahype2/ProjectSolverRepository.template.cpp)\n",
      "write ./celldata/GPRDRQ.h (generated from template /home/tobias/git/Peano/python/peano4/datamodel/PatchToDoubleArray.template.h)\n",
      "write ./celldata/GPRDRQ.cpp (generated from template /home/tobias/git/Peano/python/peano4/datamodel/PatchToDoubleArray.template.cpp)\n",
      "write ./facedata/GPRDRQ.h (generated from template /home/tobias/git/Peano/python/peano4/datamodel/PatchToDoubleArray.template.h)\n",
      "write ./facedata/GPRDRQ.cpp (generated from template /home/tobias/git/Peano/python/peano4/datamodel/PatchToDoubleArray.template.cpp)\n",
      "write ./facedata/GPRDRQNew.h (generated from template /home/tobias/git/Peano/python/peano4/datamodel/PatchToDoubleArray.template.h)\n",
      "write ./facedata/GPRDRQNew.cpp (generated from template /home/tobias/git/Peano/python/peano4/datamodel/PatchToDoubleArray.template.cpp)\n",
      "write ./observers/DataRepository.h\n",
      "write ./observers/DataRepository.cpp\n",
      "write ././observers/CreateGrid2peano4_toolbox_blockstructured_ApplyFunctorOnPatch0.h\n",
      "write ././observers/CreateGrid2peano4_toolbox_blockstructured_ApplyFunctorOnPatch0.cpp\n",
      "write ././observers/CreateGrid2exahype2_grid_AMROnPatch1.h\n",
      "write ././observers/CreateGrid2exahype2_grid_AMROnPatch1.cpp\n",
      "write ././observers/CreateGrid2exahype2_grid_SetLabels2.h\n",
      "write ././observers/CreateGrid2exahype2_grid_SetLabels2.cpp\n",
      "write ././observers/CreateGrid.h\n",
      "write ././observers/CreateGrid.cpp\n",
      "write ././observers/InitGrid2peano4_toolbox_blockstructured_ApplyFunctorOnPatch0.h\n",
      "write ././observers/InitGrid2peano4_toolbox_blockstructured_ApplyFunctorOnPatch0.cpp\n",
      "write ././observers/InitGrid2peano4_toolbox_blockstructured_ProjectPatchOntoFaces1.h\n",
      "write ././observers/InitGrid2peano4_toolbox_blockstructured_ProjectPatchOntoFaces1.cpp\n",
      "write ././observers/InitGrid2peano4_toolbox_blockstructured_BackupPatchOverlap2.h\n",
      "write ././observers/InitGrid2peano4_toolbox_blockstructured_BackupPatchOverlap2.cpp\n",
      "write ././observers/InitGrid2exahype2_grid_SetLabels3.h\n",
      "write ././observers/InitGrid2exahype2_grid_SetLabels3.cpp\n",
      "write ././observers/InitGrid.h\n",
      "write ././observers/InitGrid.cpp\n",
      "write ././observers/CreateGridButPostponeRefinement2peano4_toolbox_blockstructured_ApplyFunctorOnPatch0.h\n",
      "write ././observers/CreateGridButPostponeRefinement2peano4_toolbox_blockstructured_ApplyFunctorOnPatch0.cpp\n",
      "write ././observers/CreateGridButPostponeRefinement2exahype2_grid_SetLabels1.h\n",
      "write ././observers/CreateGridButPostponeRefinement2exahype2_grid_SetLabels1.cpp\n",
      "write ././observers/CreateGridButPostponeRefinement.h\n",
      "write ././observers/CreateGridButPostponeRefinement.cpp\n",
      "write ././observers/PlotSolution2peano4_toolbox_blockstructured_PlotPatchesInPeanoBlockFormat0.h\n",
      "write ././observers/PlotSolution2peano4_toolbox_blockstructured_PlotPatchesInPeanoBlockFormat0.cpp\n",
      "write ././observers/PlotSolution2exahype2_grid_SetLabels1.h\n",
      "write ././observers/PlotSolution2exahype2_grid_SetLabels1.cpp\n",
      "write ././observers/PlotSolution.h\n",
      "write ././observers/PlotSolution.cpp\n",
      "write ././observers/TimeStep2peano4_toolbox_blockstructured_ReconstructPatchAndApplyFunctor0.h\n",
      "write ././observers/TimeStep2peano4_toolbox_blockstructured_ReconstructPatchAndApplyFunctor0.cpp\n",
      "write ././observers/TimeStep2peano4_toolbox_blockstructured_ProjectPatchOntoFaces1.h\n",
      "write ././observers/TimeStep2peano4_toolbox_blockstructured_ProjectPatchOntoFaces1.cpp\n",
      "write ././observers/TimeStep2peano4_toolbox_blockstructured_ApplyFunctorOnPatch2.h\n",
      "write ././observers/TimeStep2peano4_toolbox_blockstructured_ApplyFunctorOnPatch2.cpp\n",
      "write ././observers/TimeStep2exahype2_grid_AMROnPatch3.h\n",
      "write ././observers/TimeStep2exahype2_grid_AMROnPatch3.cpp\n",
      "write ././observers/TimeStep2peano4_toolbox_blockstructured_BackupPatchOverlap4.h\n",
      "write ././observers/TimeStep2peano4_toolbox_blockstructured_BackupPatchOverlap4.cpp\n",
      "write ././observers/TimeStep2exahype2_grid_SetLabels5.h\n",
      "write ././observers/TimeStep2exahype2_grid_SetLabels5.cpp\n",
      "write ././observers/TimeStep.h\n",
      "write ././observers/TimeStep.cpp\n",
      "write ./observers/StepRepository.h\n",
      "write ./observers/StepRepository.cpp\n",
      "write ././gprdr-main.h\n",
      "write ././gprdr-main.cpp\n",
      "write ./Constants.h\n",
      "generation complete\n"
     ]
    }
   ],
   "source": [
    "peano4_project.generate()"
   ]
  },
  {
   "cell_type": "code",
   "execution_count": 12,
   "metadata": {},
   "outputs": [
    {
     "name": "stdout",
     "output_type": "stream",
     "text": [
      "ifort -g  -r8 -cpp -auto -qopenmp-simd -O2 -xCORE-AVX2 -fma -DDim2 -DALIGNMENT=32 -DEQNTYPED99 -DODESOLVER -DOPT_KERNELS -I. -c -o MainVariables.o MainVariables.f90\n",
      "ifort -g  -r8 -cpp -auto -qopenmp-simd -O2 -xCORE-AVX2 -fma -DDim2 -DALIGNMENT=32 -DEQNTYPED99 -DODESOLVER -DOPT_KERNELS -I. -c -o expintegrator_type.o expintegrator_type.f90\n",
      "ifort -g  -r8 -cpp -auto -qopenmp-simd -O2 -xCORE-AVX2 -fma -DDim2 -DALIGNMENT=32 -DEQNTYPED99 -DODESOLVER -DOPT_KERNELS -I. -c -o expintegrator_linalg.o expintegrator_linalg.f90\n",
      "ifort -g  -r8 -cpp -auto -qopenmp-simd -O2 -xCORE-AVX2 -fma -DDim2 -DALIGNMENT=32 -DEQNTYPED99 -DODESOLVER -DOPT_KERNELS -I. -c -o SpecificVarEqn99.o SpecificVarEqn99.f90\n",
      "ifort -g  -r8 -cpp -auto -qopenmp-simd -O2 -xCORE-AVX2 -fma -DDim2 -DALIGNMENT=32 -DEQNTYPED99 -DODESOLVER -DOPT_KERNELS -I. -c -o GPRmaterials.o GPRmaterials.f90\n",
      "ifort -g  -r8 -cpp -auto -qopenmp-simd -O2 -xCORE-AVX2 -fma -DDim2 -DALIGNMENT=32 -DEQNTYPED99 -DODESOLVER -DOPT_KERNELS -I. -c -o expintegrator_linalg_fast33.o expintegrator_linalg_fast33.f90\n",
      "ifort -g  -r8 -cpp -auto -qopenmp-simd -O2 -xCORE-AVX2 -fma -DDim2 -DALIGNMENT=32 -DEQNTYPED99 -DODESOLVER -DOPT_KERNELS -I. -c -o ComplexGeometry.o ComplexGeometry.f90\n",
      "ifort -g  -r8 -cpp -auto -qopenmp-simd -O2 -xCORE-AVX2 -fma -DDim2 -DALIGNMENT=32 -DEQNTYPED99 -DODESOLVER -DOPT_KERNELS -I. -c -o expintegrator_ode.o expintegrator_ode.f90\n",
      "ifort -g  -r8 -cpp -auto -qopenmp-simd -O2 -xCORE-AVX2 -fma -DDim2 -DALIGNMENT=32 -DEQNTYPED99 -DODESOLVER -DOPT_KERNELS -I. -c -o expintegrator.o expintegrator.f90\n",
      "icpc -std=c++0x -g -O2 -DPeanoDebug=2 -g -O2 -fopenmp  -DDimensions=2 -I. -I../../../src -c -o AbstractGPRDR.o AbstractGPRDR.cpp\n",
      "icpc -std=c++0x -g -O2 -DPeanoDebug=2 -g -O2 -fopenmp  -DDimensions=2 -I. -I../../../src -c -o GPRDR.o GPRDR.cpp\n",
      "icpc -std=c++0x -g -O2 -DPeanoDebug=2 -g -O2 -fopenmp  -DDimensions=2 -I. -I../../../src -c -o observers/SolverRepository.o observers/SolverRepository.cpp\n",
      "icpc -std=c++0x -g -O2 -DPeanoDebug=2 -g -O2 -fopenmp  -DDimensions=2 -I. -I../../../src -c -o celldata/GPRDRQ.o celldata/GPRDRQ.cpp\n",
      "icpc -std=c++0x -g -O2 -DPeanoDebug=2 -g -O2 -fopenmp  -DDimensions=2 -I. -I../../../src -c -o facedata/GPRDRQ.o facedata/GPRDRQ.cpp\n",
      "icpc -std=c++0x -g -O2 -DPeanoDebug=2 -g -O2 -fopenmp  -DDimensions=2 -I. -I../../../src -c -o facedata/GPRDRQNew.o facedata/GPRDRQNew.cpp\n",
      "icpc -std=c++0x -g -O2 -DPeanoDebug=2 -g -O2 -fopenmp  -DDimensions=2 -I. -I../../../src -c -o facedata/Label.o facedata/Label.cpp\n",
      "icpc -std=c++0x -g -O2 -DPeanoDebug=2 -g -O2 -fopenmp  -DDimensions=2 -I. -I../../../src -c -o observers/DataRepository.o observers/DataRepository.cpp\n",
      "icpc -std=c++0x -g -O2 -DPeanoDebug=2 -g -O2 -fopenmp  -DDimensions=2 -I. -I../../../src -c -o observers/CreateGrid2peano4_toolbox_blockstructured_ApplyFunctorOnPatch0.o observers/CreateGrid2peano4_toolbox_blockstructured_ApplyFunctorOnPatch0.cpp\n",
      "icpc -std=c++0x -g -O2 -DPeanoDebug=2 -g -O2 -fopenmp  -DDimensions=2 -I. -I../../../src -c -o observers/CreateGrid2exahype2_grid_AMROnPatch1.o observers/CreateGrid2exahype2_grid_AMROnPatch1.cpp\n",
      "icpc -std=c++0x -g -O2 -DPeanoDebug=2 -g -O2 -fopenmp  -DDimensions=2 -I. -I../../../src -c -o observers/CreateGrid2exahype2_grid_SetLabels2.o observers/CreateGrid2exahype2_grid_SetLabels2.cpp\n",
      "icpc -std=c++0x -g -O2 -DPeanoDebug=2 -g -O2 -fopenmp  -DDimensions=2 -I. -I../../../src -c -o observers/CreateGrid.o observers/CreateGrid.cpp\n",
      "icpc -std=c++0x -g -O2 -DPeanoDebug=2 -g -O2 -fopenmp  -DDimensions=2 -I. -I../../../src -c -o observers/InitGrid2peano4_toolbox_blockstructured_ApplyFunctorOnPatch0.o observers/InitGrid2peano4_toolbox_blockstructured_ApplyFunctorOnPatch0.cpp\n",
      "icpc -std=c++0x -g -O2 -DPeanoDebug=2 -g -O2 -fopenmp  -DDimensions=2 -I. -I../../../src -c -o observers/InitGrid2peano4_toolbox_blockstructured_ProjectPatchOntoFaces1.o observers/InitGrid2peano4_toolbox_blockstructured_ProjectPatchOntoFaces1.cpp\n",
      "icpc -std=c++0x -g -O2 -DPeanoDebug=2 -g -O2 -fopenmp  -DDimensions=2 -I. -I../../../src -c -o observers/InitGrid2peano4_toolbox_blockstructured_BackupPatchOverlap2.o observers/InitGrid2peano4_toolbox_blockstructured_BackupPatchOverlap2.cpp\n",
      "icpc -std=c++0x -g -O2 -DPeanoDebug=2 -g -O2 -fopenmp  -DDimensions=2 -I. -I../../../src -c -o observers/InitGrid2exahype2_grid_SetLabels3.o observers/InitGrid2exahype2_grid_SetLabels3.cpp\n",
      "icpc -std=c++0x -g -O2 -DPeanoDebug=2 -g -O2 -fopenmp  -DDimensions=2 -I. -I../../../src -c -o observers/InitGrid.o observers/InitGrid.cpp\n",
      "icpc -std=c++0x -g -O2 -DPeanoDebug=2 -g -O2 -fopenmp  -DDimensions=2 -I. -I../../../src -c -o observers/CreateGridButPostponeRefinement2peano4_toolbox_blockstructured_ApplyFunctorOnPatch0.o observers/CreateGridButPostponeRefinement2peano4_toolbox_blockstructured_ApplyFunctorOnPatch0.cpp\n",
      "icpc -std=c++0x -g -O2 -DPeanoDebug=2 -g -O2 -fopenmp  -DDimensions=2 -I. -I../../../src -c -o observers/CreateGridButPostponeRefinement2exahype2_grid_SetLabels1.o observers/CreateGridButPostponeRefinement2exahype2_grid_SetLabels1.cpp\n",
      "icpc -std=c++0x -g -O2 -DPeanoDebug=2 -g -O2 -fopenmp  -DDimensions=2 -I. -I../../../src -c -o observers/CreateGridButPostponeRefinement.o observers/CreateGridButPostponeRefinement.cpp\n",
      "icpc -std=c++0x -g -O2 -DPeanoDebug=2 -g -O2 -fopenmp  -DDimensions=2 -I. -I../../../src -c -o observers/PlotSolution2peano4_toolbox_blockstructured_PlotPatchesInPeanoBlockFormat0.o observers/PlotSolution2peano4_toolbox_blockstructured_PlotPatchesInPeanoBlockFormat0.cpp\n",
      "icpc -std=c++0x -g -O2 -DPeanoDebug=2 -g -O2 -fopenmp  -DDimensions=2 -I. -I../../../src -c -o observers/PlotSolution2exahype2_grid_SetLabels1.o observers/PlotSolution2exahype2_grid_SetLabels1.cpp\n",
      "icpc -std=c++0x -g -O2 -DPeanoDebug=2 -g -O2 -fopenmp  -DDimensions=2 -I. -I../../../src -c -o observers/PlotSolution.o observers/PlotSolution.cpp\n",
      "icpc -std=c++0x -g -O2 -DPeanoDebug=2 -g -O2 -fopenmp  -DDimensions=2 -I. -I../../../src -c -o observers/TimeStep2peano4_toolbox_blockstructured_ReconstructPatchAndApplyFunctor0.o observers/TimeStep2peano4_toolbox_blockstructured_ReconstructPatchAndApplyFunctor0.cpp\n",
      "icpc -std=c++0x -g -O2 -DPeanoDebug=2 -g -O2 -fopenmp  -DDimensions=2 -I. -I../../../src -c -o observers/TimeStep2peano4_toolbox_blockstructured_ProjectPatchOntoFaces1.o observers/TimeStep2peano4_toolbox_blockstructured_ProjectPatchOntoFaces1.cpp\n",
      "icpc -std=c++0x -g -O2 -DPeanoDebug=2 -g -O2 -fopenmp  -DDimensions=2 -I. -I../../../src -c -o observers/TimeStep2peano4_toolbox_blockstructured_ApplyFunctorOnPatch2.o observers/TimeStep2peano4_toolbox_blockstructured_ApplyFunctorOnPatch2.cpp\n",
      "icpc -std=c++0x -g -O2 -DPeanoDebug=2 -g -O2 -fopenmp  -DDimensions=2 -I. -I../../../src -c -o observers/TimeStep2exahype2_grid_AMROnPatch3.o observers/TimeStep2exahype2_grid_AMROnPatch3.cpp\n",
      "icpc -std=c++0x -g -O2 -DPeanoDebug=2 -g -O2 -fopenmp  -DDimensions=2 -I. -I../../../src -c -o observers/TimeStep2peano4_toolbox_blockstructured_BackupPatchOverlap4.o observers/TimeStep2peano4_toolbox_blockstructured_BackupPatchOverlap4.cpp\n",
      "icpc -std=c++0x -g -O2 -DPeanoDebug=2 -g -O2 -fopenmp  -DDimensions=2 -I. -I../../../src -c -o observers/TimeStep2exahype2_grid_SetLabels5.o observers/TimeStep2exahype2_grid_SetLabels5.cpp\n",
      "icpc -std=c++0x -g -O2 -DPeanoDebug=2 -g -O2 -fopenmp  -DDimensions=2 -I. -I../../../src -c -o observers/TimeStep.o observers/TimeStep.cpp\n",
      "icpc -std=c++0x -g -O2 -DPeanoDebug=2 -g -O2 -fopenmp  -DDimensions=2 -I. -I../../../src -c -o observers/StepRepository.o observers/StepRepository.cpp\n",
      "icpc -std=c++0x -g -O2 -DPeanoDebug=2 -g -O2 -fopenmp  -DDimensions=2 -I. -I../../../src -c -o gprdr-main.o gprdr-main.cpp\n",
      "ifort -g  -r8 -cpp -auto -qopenmp-simd -O2 -xCORE-AVX2 -fma -DDim2 -DALIGNMENT=32 -DEQNTYPED99 -DODESOLVER -DOPT_KERNELS -I. -c -o ODE.o ODE.f90\n",
      "ifort -g  -r8 -cpp -auto -qopenmp-simd -O2 -xCORE-AVX2 -fma -DDim2 -DALIGNMENT=32 -DEQNTYPED99 -DODESOLVER -DOPT_KERNELS -I. -c -o C2P-GPRDR.o C2P-GPRDR.f90\n",
      "ifort -g  -r8 -cpp -auto -qopenmp-simd -O2 -xCORE-AVX2 -fma -DDim2 -DALIGNMENT=32 -DEQNTYPED99 -DODESOLVER -DOPT_KERNELS -I. -c -o PDE.o PDE.f90\n",
      "ifort -g  -r8 -cpp -auto -qopenmp-simd -O2 -xCORE-AVX2 -fma -DDim2 -DALIGNMENT=32 -DEQNTYPED99 -DODESOLVER -DOPT_KERNELS -I. -c -o InitialData.o InitialData.f90\n"
     ]
    },
    {
     "name": "stdout",
     "output_type": "stream",
     "text": [
      "ifort -g  -r8 -cpp -auto -qopenmp-simd -O2 -xCORE-AVX2 -fma -DDim2 -DALIGNMENT=32 -DEQNTYPED99 -DODESOLVER -DOPT_KERNELS -I. -c -o Tools.o Tools.f90\n",
      "ifort -g  -r8 -cpp -auto -qopenmp-simd -O2 -xCORE-AVX2 -fma -DDim2 -DALIGNMENT=32 -DEQNTYPED99 -DODESOLVER -DOPT_KERNELS -I. -c -o CGinterface.o CGinterface.f90\n",
      "icpc -fopenmp  MainVariables.o expintegrator_type.o expintegrator_linalg.o SpecificVarEqn99.o GPRmaterials.o expintegrator_linalg_fast33.o ComplexGeometry.o expintegrator_ode.o expintegrator.o ODE.o C2P-GPRDR.o PDE.o InitialData.o Tools.o CGinterface.o  AbstractGPRDR.o GPRDR.o observers/SolverRepository.o celldata/GPRDRQ.o facedata/GPRDRQ.o facedata/GPRDRQNew.o facedata/Label.o observers/DataRepository.o ./observers/CreateGrid2peano4_toolbox_blockstructured_ApplyFunctorOnPatch0.o ./observers/CreateGrid2exahype2_grid_AMROnPatch1.o ./observers/CreateGrid2exahype2_grid_SetLabels2.o ./observers/CreateGrid.o ./observers/InitGrid2peano4_toolbox_blockstructured_ApplyFunctorOnPatch0.o ./observers/InitGrid2peano4_toolbox_blockstructured_ProjectPatchOntoFaces1.o ./observers/InitGrid2peano4_toolbox_blockstructured_BackupPatchOverlap2.o ./observers/InitGrid2exahype2_grid_SetLabels3.o ./observers/InitGrid.o ./observers/CreateGridButPostponeRefinement2peano4_toolbox_blockstructured_ApplyFunctorOnPatch0.o ./observers/CreateGridButPostponeRefinement2exahype2_grid_SetLabels1.o ./observers/CreateGridButPostponeRefinement.o ./observers/PlotSolution2peano4_toolbox_blockstructured_PlotPatchesInPeanoBlockFormat0.o ./observers/PlotSolution2exahype2_grid_SetLabels1.o ./observers/PlotSolution.o ./observers/TimeStep2peano4_toolbox_blockstructured_ReconstructPatchAndApplyFunctor0.o ./observers/TimeStep2peano4_toolbox_blockstructured_ProjectPatchOntoFaces1.o ./observers/TimeStep2peano4_toolbox_blockstructured_ApplyFunctorOnPatch2.o ./observers/TimeStep2exahype2_grid_AMROnPatch3.o ./observers/TimeStep2peano4_toolbox_blockstructured_BackupPatchOverlap4.o ./observers/TimeStep2exahype2_grid_SetLabels5.o ./observers/TimeStep.o observers/StepRepository.o gprdr-main.o   -L../../../src -L../../../src/toolbox/loadbalancing -L../../../src/exahype2   -lExaHyPE2Core2d_asserts  -lToolboxLoadBalancing2d_asserts  -lPeano4Core2d_asserts -lTarch_asserts  -o peano4 \n",
      "ld: expintegrator_linalg.o: in function `expintegrator_linalg_mp_solve_large_':\n",
      "/home/tobias/git/Peano/examples/exahype2/gprdr/expintegrator_linalg.f90:217: undefined reference to `for_check_mult_overflow64'\n",
      "ld: /home/tobias/git/Peano/examples/exahype2/gprdr/expintegrator_linalg.f90:217: undefined reference to `for_alloc_allocatable'\n",
      "ld: /home/tobias/git/Peano/examples/exahype2/gprdr/expintegrator_linalg.f90:217: undefined reference to `for_check_mult_overflow64'\n",
      "ld: /home/tobias/git/Peano/examples/exahype2/gprdr/expintegrator_linalg.f90:217: undefined reference to `for_alloc_allocatable'\n",
      "ld: /home/tobias/git/Peano/examples/exahype2/gprdr/expintegrator_linalg.f90:217: undefined reference to `for_check_mult_overflow64'\n",
      "ld: /home/tobias/git/Peano/examples/exahype2/gprdr/expintegrator_linalg.f90:217: undefined reference to `for_alloc_allocatable'\n",
      "ld: /home/tobias/git/Peano/examples/exahype2/gprdr/expintegrator_linalg.f90:218: undefined reference to `for_realloc_lhs'\n",
      "ld: /home/tobias/git/Peano/examples/exahype2/gprdr/expintegrator_linalg.f90:222: undefined reference to `for_dealloc_allocatable'\n",
      "ld: /home/tobias/git/Peano/examples/exahype2/gprdr/expintegrator_linalg.f90:222: undefined reference to `for_dealloc_allocatable'\n",
      "ld: /home/tobias/git/Peano/examples/exahype2/gprdr/expintegrator_linalg.f90:222: undefined reference to `for_dealloc_allocatable'\n",
      "ld: expintegrator_linalg.o: in function `expintegrator_linalg_mp_compute_matrix_inverse_large_':\n",
      "/home/tobias/git/Peano/examples/exahype2/gprdr/expintegrator_linalg.f90:244: undefined reference to `for_check_mult_overflow64'\n",
      "ld: /home/tobias/git/Peano/examples/exahype2/gprdr/expintegrator_linalg.f90:244: undefined reference to `for_alloc_allocatable'\n",
      "ld: /home/tobias/git/Peano/examples/exahype2/gprdr/expintegrator_linalg.f90:244: undefined reference to `for_check_mult_overflow64'\n",
      "ld: /home/tobias/git/Peano/examples/exahype2/gprdr/expintegrator_linalg.f90:244: undefined reference to `for_alloc_allocatable'\n",
      "ld: /home/tobias/git/Peano/examples/exahype2/gprdr/expintegrator_linalg.f90:245: undefined reference to `for_realloc_lhs'\n",
      "ld: /home/tobias/git/Peano/examples/exahype2/gprdr/expintegrator_linalg.f90:252: undefined reference to `for_dealloc_allocatable'\n",
      "ld: /home/tobias/git/Peano/examples/exahype2/gprdr/expintegrator_linalg.f90:252: undefined reference to `for_dealloc_allocatable'\n",
      "ld: SpecificVarEqn99.o: in function `specificvareqn99_mp_gprsigma2asgeos_':\n",
      "/home/tobias/git/Peano/examples/exahype2/gprdr/SpecificVarEqn99.f90:121: undefined reference to `for_write_seq_lis'\n",
      "ld: /home/tobias/git/Peano/examples/exahype2/gprdr/SpecificVarEqn99.f90:122: undefined reference to `for_write_seq_lis'\n",
      "ld: /home/tobias/git/Peano/examples/exahype2/gprdr/SpecificVarEqn99.f90:123: undefined reference to `for_write_seq_lis'\n",
      "ld: /home/tobias/git/Peano/examples/exahype2/gprdr/SpecificVarEqn99.f90:123: undefined reference to `for_write_seq_lis_xmit'\n",
      "ld: /home/tobias/git/Peano/examples/exahype2/gprdr/SpecificVarEqn99.f90:123: undefined reference to `for_write_seq_lis_xmit'\n",
      "ld: /home/tobias/git/Peano/examples/exahype2/gprdr/SpecificVarEqn99.f90:123: undefined reference to `for_write_seq_lis_xmit'\n",
      "ld: /home/tobias/git/Peano/examples/exahype2/gprdr/SpecificVarEqn99.f90:124: undefined reference to `for_write_seq_lis'\n",
      "ld: /home/tobias/git/Peano/examples/exahype2/gprdr/SpecificVarEqn99.f90:124: undefined reference to `for_write_seq_lis_xmit'\n",
      "ld: /home/tobias/git/Peano/examples/exahype2/gprdr/SpecificVarEqn99.f90:124: undefined reference to `for_write_seq_lis_xmit'\n",
      "ld: /home/tobias/git/Peano/examples/exahype2/gprdr/SpecificVarEqn99.f90:124: undefined reference to `for_write_seq_lis_xmit'\n",
      "ld: /home/tobias/git/Peano/examples/exahype2/gprdr/SpecificVarEqn99.f90:124: undefined reference to `for_write_seq_lis_xmit'\n",
      "ld: /home/tobias/git/Peano/examples/exahype2/gprdr/SpecificVarEqn99.f90:124: undefined reference to `for_write_seq_lis_xmit'\n",
      "ld: SpecificVarEqn99.o:/home/tobias/git/Peano/examples/exahype2/gprdr/SpecificVarEqn99.f90:124: more undefined references to `for_write_seq_lis_xmit' follow\n",
      "ld: SpecificVarEqn99.o: in function `specificvareqn99_mp_a2sigmajacobiansgeos_':\n",
      "/home/tobias/git/Peano/examples/exahype2/gprdr/SpecificVarEqn99.f90:2080: undefined reference to `for_write_seq_lis'\n",
      "ld: /home/tobias/git/Peano/examples/exahype2/gprdr/SpecificVarEqn99.f90:2080: undefined reference to `for_write_seq_lis_xmit'\n",
      "ld: /home/tobias/git/Peano/examples/exahype2/gprdr/SpecificVarEqn99.f90:2080: undefined reference to `for_write_seq_lis_xmit'\n",
      "ld: SpecificVarEqn99.o: in function `specificvareqn99_mp_a2sigmacomputefsgeos_':\n",
      "/home/tobias/git/Peano/examples/exahype2/gprdr/SpecificVarEqn99.f90:2515: undefined reference to `for_write_seq_lis'\n",
      "ld: /home/tobias/git/Peano/examples/exahype2/gprdr/SpecificVarEqn99.f90:2515: undefined reference to `for_write_seq_lis_xmit'\n",
      "ld: SpecificVarEqn99.o: in function `specificvareqn99_mp_staticlimitereq99_':\n",
      "/home/tobias/git/Peano/examples/exahype2/gprdr/SpecificVarEqn99.f90:2707: undefined reference to `for_cpstr'\n",
      "ld: /home/tobias/git/Peano/examples/exahype2/gprdr/SpecificVarEqn99.f90:2711: undefined reference to `for_cpstr'\n",
      "ld: /home/tobias/git/Peano/examples/exahype2/gprdr/SpecificVarEqn99.f90:2719: undefined reference to `for_cpstr'\n",
      "ld: /home/tobias/git/Peano/examples/exahype2/gprdr/SpecificVarEqn99.f90:2719: undefined reference to `for_cpstr'\n",
      "ld: /home/tobias/git/Peano/examples/exahype2/gprdr/SpecificVarEqn99.f90:2726: undefined reference to `for_cpstr'\n",
      "ld: GPRmaterials.o:/home/tobias/git/Peano/examples/exahype2/gprdr/GPRmaterials.f90:266: more undefined references to `for_cpstr' follow\n",
      "ld: ComplexGeometry.o: in function `complexgeometry_mp_radiusfromcg_':\n",
      "/home/tobias/git/Peano/examples/exahype2/gprdr/ComplexGeometry.f90:266: undefined reference to `for_write_seq_lis'\n",
      "ld: ComplexGeometry.o: in function `lookatindex_cg_fast':\n",
      "/home/tobias/git/Peano/examples/exahype2/gprdr/ComplexGeometry.f90:266: undefined reference to `for_write_seq_lis_xmit'\n",
      "ld: /home/tobias/git/Peano/examples/exahype2/gprdr/ComplexGeometry.f90:266: undefined reference to `for_write_seq_lis_xmit'\n",
      "ld: /home/tobias/git/Peano/examples/exahype2/gprdr/ComplexGeometry.f90:266: undefined reference to `for_write_seq_lis_xmit'\n",
      "ld: /home/tobias/git/Peano/examples/exahype2/gprdr/ComplexGeometry.f90:266: undefined reference to `for_write_seq_lis_xmit'\n",
      "ld: /home/tobias/git/Peano/examples/exahype2/gprdr/ComplexGeometry.f90:267: undefined reference to `for_write_seq_lis'\n",
      "ld: /home/tobias/git/Peano/examples/exahype2/gprdr/ComplexGeometry.f90:267: undefined reference to `for_write_seq_lis_xmit'\n",
      "ld: /home/tobias/git/Peano/examples/exahype2/gprdr/ComplexGeometry.f90:267: undefined reference to `for_write_seq_lis_xmit'\n",
      "ld: /home/tobias/git/Peano/examples/exahype2/gprdr/ComplexGeometry.f90:267: undefined reference to `for_write_seq_lis_xmit'\n",
      "ld: /home/tobias/git/Peano/examples/exahype2/gprdr/ComplexGeometry.f90:267: undefined reference to `for_write_seq_lis_xmit'\n",
      "ld: /home/tobias/git/Peano/examples/exahype2/gprdr/ComplexGeometry.f90:267: undefined reference to `for_write_seq_lis_xmit'\n",
      "ld: ComplexGeometry.o:/home/tobias/git/Peano/examples/exahype2/gprdr/ComplexGeometry.f90:267: more undefined references to `for_write_seq_lis_xmit' follow\n",
      "ld: ComplexGeometry.o: in function `lookatindex_cg_fast':\n",
      "/home/tobias/git/Peano/examples/exahype2/gprdr/ComplexGeometry.f90:268: undefined reference to `for_stop_core'\n",
      "ld: ComplexGeometry.o: in function `complexgeometry_mp_lookatindex_cg_':\n",
      "/home/tobias/git/Peano/examples/exahype2/gprdr/ComplexGeometry.f90:249: undefined reference to `for_write_seq_lis'\n",
      "ld: /home/tobias/git/Peano/examples/exahype2/gprdr/ComplexGeometry.f90:249: undefined reference to `for_write_seq_lis_xmit'\n",
      "ld: /home/tobias/git/Peano/examples/exahype2/gprdr/ComplexGeometry.f90:249: undefined reference to `for_write_seq_lis_xmit'\n",
      "ld: /home/tobias/git/Peano/examples/exahype2/gprdr/ComplexGeometry.f90:249: undefined reference to `for_write_seq_lis_xmit'\n",
      "ld: /home/tobias/git/Peano/examples/exahype2/gprdr/ComplexGeometry.f90:249: undefined reference to `for_write_seq_lis_xmit'\n",
      "ld: /home/tobias/git/Peano/examples/exahype2/gprdr/ComplexGeometry.f90:250: undefined reference to `for_stop_core'\n",
      "ld: ComplexGeometry.o: in function `complexgeometry_mp_lookatindex_cg_fast_':\n",
      "/home/tobias/git/Peano/examples/exahype2/gprdr/ComplexGeometry.f90:266: undefined reference to `for_write_seq_lis'\n",
      "ld: /home/tobias/git/Peano/examples/exahype2/gprdr/ComplexGeometry.f90:266: undefined reference to `for_write_seq_lis_xmit'\n",
      "ld: /home/tobias/git/Peano/examples/exahype2/gprdr/ComplexGeometry.f90:266: undefined reference to `for_write_seq_lis_xmit'\n",
      "ld: /home/tobias/git/Peano/examples/exahype2/gprdr/ComplexGeometry.f90:266: undefined reference to `for_write_seq_lis_xmit'\n",
      "ld: /home/tobias/git/Peano/examples/exahype2/gprdr/ComplexGeometry.f90:266: undefined reference to `for_write_seq_lis_xmit'\n",
      "ld: /home/tobias/git/Peano/examples/exahype2/gprdr/ComplexGeometry.f90:267: undefined reference to `for_write_seq_lis'\n",
      "ld: /home/tobias/git/Peano/examples/exahype2/gprdr/ComplexGeometry.f90:267: undefined reference to `for_write_seq_lis_xmit'\n",
      "ld: /home/tobias/git/Peano/examples/exahype2/gprdr/ComplexGeometry.f90:267: undefined reference to `for_write_seq_lis_xmit'\n",
      "ld: /home/tobias/git/Peano/examples/exahype2/gprdr/ComplexGeometry.f90:267: undefined reference to `for_write_seq_lis_xmit'\n",
      "ld: /home/tobias/git/Peano/examples/exahype2/gprdr/ComplexGeometry.f90:267: undefined reference to `for_write_seq_lis_xmit'\n",
      "ld: /home/tobias/git/Peano/examples/exahype2/gprdr/ComplexGeometry.f90:267: undefined reference to `for_write_seq_lis_xmit'\n",
      "ld: ComplexGeometry.o:/home/tobias/git/Peano/examples/exahype2/gprdr/ComplexGeometry.f90:267: more undefined references to `for_write_seq_lis_xmit' follow\n",
      "ld: ComplexGeometry.o: in function `complexgeometry_mp_lookatindex_cg_fast_':\n",
      "/home/tobias/git/Peano/examples/exahype2/gprdr/ComplexGeometry.f90:268: undefined reference to `for_stop_core'\n",
      "ld: expintegrator.o: in function `expintegrator_mp_solve_nonlinear_system_':\n",
      "/home/tobias/git/Peano/examples/exahype2/gprdr/expintegrator.f90:85: undefined reference to `ieee_arithmetic_mp_for_ieee_is_nan_k8_'\n",
      "ld: /home/tobias/git/Peano/examples/exahype2/gprdr/expintegrator.f90:85: undefined reference to `ieee_arithmetic_mp_for_ieee_is_finite_k8_'\n",
      "ld: expintegrator.o: in function `expintegrator_mp_expintegrator_adaptive_full_':\n",
      "/home/tobias/git/Peano/examples/exahype2/gprdr/expintegrator.f90:245: undefined reference to `for_write_seq_fmt'\n",
      "ld: /home/tobias/git/Peano/examples/exahype2/gprdr/expintegrator.f90:247: undefined reference to `for_write_seq_fmt'\n",
      "ld: /home/tobias/git/Peano/examples/exahype2/gprdr/expintegrator.f90:247: undefined reference to `for_write_seq_fmt_xmit'\n",
      "ld: /home/tobias/git/Peano/examples/exahype2/gprdr/expintegrator.f90:247: undefined reference to `for_write_seq_fmt_xmit'\n",
      "ld: /home/tobias/git/Peano/examples/exahype2/gprdr/expintegrator.f90:247: undefined reference to `for_write_seq_fmt'\n",
      "ld: /home/tobias/git/Peano/examples/exahype2/gprdr/expintegrator.f90:247: undefined reference to `for_write_seq_fmt_xmit'\n",
      "ld: /home/tobias/git/Peano/examples/exahype2/gprdr/expintegrator.f90:247: undefined reference to `for_write_seq_fmt_xmit'\n",
      "ld: /home/tobias/git/Peano/examples/exahype2/gprdr/expintegrator.f90:247: undefined reference to `for_write_seq_fmt'\n",
      "ld: /home/tobias/git/Peano/examples/exahype2/gprdr/expintegrator.f90:247: undefined reference to `for_write_seq_fmt_xmit'\n",
      "ld: /home/tobias/git/Peano/examples/exahype2/gprdr/expintegrator.f90:247: undefined reference to `for_write_seq_fmt_xmit'\n",
      "ld: /home/tobias/git/Peano/examples/exahype2/gprdr/expintegrator.f90:247: undefined reference to `for_write_seq_fmt'\n",
      "ld: /home/tobias/git/Peano/examples/exahype2/gprdr/expintegrator.f90:247: undefined reference to `for_write_seq_fmt_xmit'\n",
      "ld: /home/tobias/git/Peano/examples/exahype2/gprdr/expintegrator.f90:247: undefined reference to `for_write_seq_fmt_xmit'\n",
      "ld: /home/tobias/git/Peano/examples/exahype2/gprdr/expintegrator.f90:247: undefined reference to `for_write_seq_fmt'\n",
      "ld: /home/tobias/git/Peano/examples/exahype2/gprdr/expintegrator.f90:247: undefined reference to `for_write_seq_fmt_xmit'\n",
      "ld: /home/tobias/git/Peano/examples/exahype2/gprdr/expintegrator.f90:247: undefined reference to `for_write_seq_fmt_xmit'\n",
      "ld: /home/tobias/git/Peano/examples/exahype2/gprdr/expintegrator.f90:247: undefined reference to `for_write_seq_fmt'\n",
      "ld: /home/tobias/git/Peano/examples/exahype2/gprdr/expintegrator.f90:247: undefined reference to `for_write_seq_fmt_xmit'\n",
      "ld: /home/tobias/git/Peano/examples/exahype2/gprdr/expintegrator.f90:247: undefined reference to `for_write_seq_fmt_xmit'\n",
      "ld: /home/tobias/git/Peano/examples/exahype2/gprdr/expintegrator.f90:247: undefined reference to `for_write_seq_fmt'\n",
      "ld: /home/tobias/git/Peano/examples/exahype2/gprdr/expintegrator.f90:247: undefined reference to `for_write_seq_fmt_xmit'\n",
      "ld: /home/tobias/git/Peano/examples/exahype2/gprdr/expintegrator.f90:247: undefined reference to `for_write_seq_fmt_xmit'\n",
      "ld: /home/tobias/git/Peano/examples/exahype2/gprdr/expintegrator.f90:247: undefined reference to `for_write_seq_fmt'\n",
      "ld: /home/tobias/git/Peano/examples/exahype2/gprdr/expintegrator.f90:247: undefined reference to `for_write_seq_fmt_xmit'\n",
      "ld: /home/tobias/git/Peano/examples/exahype2/gprdr/expintegrator.f90:247: undefined reference to `for_write_seq_fmt_xmit'\n",
      "ld: /home/tobias/git/Peano/examples/exahype2/gprdr/expintegrator.f90:247: undefined reference to `for_write_seq_fmt'\n",
      "ld: /home/tobias/git/Peano/examples/exahype2/gprdr/expintegrator.f90:247: undefined reference to `for_write_seq_fmt_xmit'\n",
      "ld: /home/tobias/git/Peano/examples/exahype2/gprdr/expintegrator.f90:247: undefined reference to `for_write_seq_fmt_xmit'\n",
      "ld: /home/tobias/git/Peano/examples/exahype2/gprdr/expintegrator.f90:247: undefined reference to `for_write_seq_fmt'\n",
      "ld: /home/tobias/git/Peano/examples/exahype2/gprdr/expintegrator.f90:247: undefined reference to `for_write_seq_fmt_xmit'\n",
      "ld: /home/tobias/git/Peano/examples/exahype2/gprdr/expintegrator.f90:247: undefined reference to `for_write_seq_fmt_xmit'\n",
      "ld: /home/tobias/git/Peano/examples/exahype2/gprdr/expintegrator.f90:273: undefined reference to `for_write_seq_fmt'\n",
      "ld: /home/tobias/git/Peano/examples/exahype2/gprdr/expintegrator.f90:273: undefined reference to `for_write_seq_fmt_xmit'\n",
      "ld: /home/tobias/git/Peano/examples/exahype2/gprdr/expintegrator.f90:273: undefined reference to `for_write_seq_fmt_xmit'\n",
      "ld: /home/tobias/git/Peano/examples/exahype2/gprdr/expintegrator.f90:273: undefined reference to `for_write_seq_fmt_xmit'\n",
      "ld: /home/tobias/git/Peano/examples/exahype2/gprdr/expintegrator.f90:264: undefined reference to `for_write_seq_fmt'\n",
      "ld: ODE.o: in function `updatesolutionode_':\n",
      "/home/tobias/git/Peano/examples/exahype2/gprdr/ODE.f90:70: undefined reference to `for_write_seq_lis'\n",
      "ld: /home/tobias/git/Peano/examples/exahype2/gprdr/ODE.f90:70: undefined reference to `for_write_seq_lis_xmit'\n",
      "ld: /home/tobias/git/Peano/examples/exahype2/gprdr/ODE.f90:70: undefined reference to `for_write_seq_lis_xmit'\n",
      "ld: /home/tobias/git/Peano/examples/exahype2/gprdr/ODE.f90:70: undefined reference to `for_write_seq_lis_xmit'\n",
      "ld: /home/tobias/git/Peano/examples/exahype2/gprdr/ODE.f90:71: undefined reference to `for_write_seq_lis'\n",
      "ld: /home/tobias/git/Peano/examples/exahype2/gprdr/ODE.f90:72: undefined reference to `for_write_seq_lis'\n",
      "ld: /home/tobias/git/Peano/examples/exahype2/gprdr/ODE.f90:72: undefined reference to `for_write_seq_lis_xmit'\n",
      "ld: /home/tobias/git/Peano/examples/exahype2/gprdr/ODE.f90:73: undefined reference to `for_write_seq_lis'\n",
      "ld: /home/tobias/git/Peano/examples/exahype2/gprdr/ODE.f90:73: undefined reference to `for_write_seq_lis_xmit'\n",
      "ld: /home/tobias/git/Peano/examples/exahype2/gprdr/ODE.f90:74: undefined reference to `for_write_seq_lis'\n",
      "ld: /home/tobias/git/Peano/examples/exahype2/gprdr/ODE.f90:74: undefined reference to `for_write_seq_lis_xmit'\n",
      "ld: /home/tobias/git/Peano/examples/exahype2/gprdr/ODE.f90:75: undefined reference to `for_write_seq_lis'\n",
      "ld: /home/tobias/git/Peano/examples/exahype2/gprdr/ODE.f90:75: undefined reference to `for_write_seq_lis_xmit'\n",
      "ld: /home/tobias/git/Peano/examples/exahype2/gprdr/ODE.f90:76: undefined reference to `for_write_seq_lis'\n",
      "ld: /home/tobias/git/Peano/examples/exahype2/gprdr/ODE.f90:76: undefined reference to `for_write_seq_lis_xmit'\n",
      "ld: /home/tobias/git/Peano/examples/exahype2/gprdr/ODE.f90:77: undefined reference to `for_write_seq_lis'\n",
      "ld: /home/tobias/git/Peano/examples/exahype2/gprdr/ODE.f90:77: undefined reference to `for_write_seq_lis_xmit'\n",
      "ld: /home/tobias/git/Peano/examples/exahype2/gprdr/ODE.f90:78: undefined reference to `for_write_seq_lis'\n",
      "ld: /home/tobias/git/Peano/examples/exahype2/gprdr/ODE.f90:78: undefined reference to `for_write_seq_lis_xmit'\n",
      "ld: /home/tobias/git/Peano/examples/exahype2/gprdr/ODE.f90:79: undefined reference to `for_write_seq_lis'\n",
      "ld: /home/tobias/git/Peano/examples/exahype2/gprdr/ODE.f90:79: undefined reference to `for_write_seq_lis_xmit'\n",
      "ld: /home/tobias/git/Peano/examples/exahype2/gprdr/ODE.f90:80: undefined reference to `for_write_seq_lis'\n",
      "ld: /home/tobias/git/Peano/examples/exahype2/gprdr/ODE.f90:80: undefined reference to `for_write_seq_lis_xmit'\n",
      "ld: /home/tobias/git/Peano/examples/exahype2/gprdr/ODE.f90:81: undefined reference to `for_write_seq_lis'\n",
      "ld: /home/tobias/git/Peano/examples/exahype2/gprdr/ODE.f90:81: undefined reference to `for_write_seq_lis_xmit'\n",
      "ld: /home/tobias/git/Peano/examples/exahype2/gprdr/ODE.f90:82: undefined reference to `for_write_seq_lis'\n",
      "ld: /home/tobias/git/Peano/examples/exahype2/gprdr/ODE.f90:82: undefined reference to `for_write_seq_lis_xmit'\n",
      "ld: /home/tobias/git/Peano/examples/exahype2/gprdr/ODE.f90:83: undefined reference to `for_write_seq_lis'\n",
      "ld: /home/tobias/git/Peano/examples/exahype2/gprdr/ODE.f90:83: undefined reference to `for_write_seq_lis_xmit'\n",
      "ld: /home/tobias/git/Peano/examples/exahype2/gprdr/ODE.f90:84: undefined reference to `for_write_seq_lis'\n",
      "ld: /home/tobias/git/Peano/examples/exahype2/gprdr/ODE.f90:84: undefined reference to `for_write_seq_lis_xmit'\n",
      "ld: /home/tobias/git/Peano/examples/exahype2/gprdr/ODE.f90:85: undefined reference to `for_write_seq_lis'\n",
      "ld: /home/tobias/git/Peano/examples/exahype2/gprdr/ODE.f90:85: undefined reference to `for_write_seq_lis_xmit'\n",
      "ld: /home/tobias/git/Peano/examples/exahype2/gprdr/ODE.f90:86: undefined reference to `for_write_seq_lis'\n",
      "ld: /home/tobias/git/Peano/examples/exahype2/gprdr/ODE.f90:86: undefined reference to `for_write_seq_lis_xmit'\n",
      "ld: /home/tobias/git/Peano/examples/exahype2/gprdr/ODE.f90:87: undefined reference to `for_write_seq_lis'\n",
      "ld: /home/tobias/git/Peano/examples/exahype2/gprdr/ODE.f90:87: undefined reference to `for_write_seq_lis_xmit'\n",
      "ld: /home/tobias/git/Peano/examples/exahype2/gprdr/ODE.f90:88: undefined reference to `for_write_seq_lis'\n",
      "ld: /home/tobias/git/Peano/examples/exahype2/gprdr/ODE.f90:88: undefined reference to `for_write_seq_lis_xmit'\n",
      "ld: /home/tobias/git/Peano/examples/exahype2/gprdr/ODE.f90:89: undefined reference to `for_write_seq_lis'\n",
      "ld: /home/tobias/git/Peano/examples/exahype2/gprdr/ODE.f90:89: undefined reference to `for_write_seq_lis_xmit'\n",
      "ld: /home/tobias/git/Peano/examples/exahype2/gprdr/ODE.f90:90: undefined reference to `for_write_seq_lis'\n",
      "ld: /home/tobias/git/Peano/examples/exahype2/gprdr/ODE.f90:90: undefined reference to `for_write_seq_lis_xmit'\n",
      "ld: /home/tobias/git/Peano/examples/exahype2/gprdr/ODE.f90:91: undefined reference to `for_write_seq_lis'\n",
      "ld: /home/tobias/git/Peano/examples/exahype2/gprdr/ODE.f90:91: undefined reference to `for_write_seq_lis_xmit'\n",
      "ld: /home/tobias/git/Peano/examples/exahype2/gprdr/ODE.f90:92: undefined reference to `for_write_seq_lis'\n",
      "ld: /home/tobias/git/Peano/examples/exahype2/gprdr/ODE.f90:92: undefined reference to `for_write_seq_lis_xmit'\n",
      "ld: /home/tobias/git/Peano/examples/exahype2/gprdr/ODE.f90:94: undefined reference to `for_stop_core'\n",
      "ld: PDE.o: in function `pdesource_':\n",
      "/home/tobias/git/Peano/examples/exahype2/gprdr/PDE.f90:372: undefined reference to `for_write_seq_lis'\n",
      "ld: PDE.o: in function `hllemfluxfv_':\n",
      "/home/tobias/git/Peano/examples/exahype2/gprdr/PDE.f90:1108: undefined reference to `for_is_nan_t_'\n",
      "ld: /home/tobias/git/Peano/examples/exahype2/gprdr/PDE.f90:1108: undefined reference to `for_is_nan_t_'\n",
      "ld: /home/tobias/git/Peano/examples/exahype2/gprdr/PDE.f90:1109: undefined reference to `for_write_seq_lis'\n",
      "ld: /home/tobias/git/Peano/examples/exahype2/gprdr/PDE.f90:1209: undefined reference to `for_is_nan_t_'\n",
      "ld: /home/tobias/git/Peano/examples/exahype2/gprdr/PDE.f90:1234: undefined reference to `for_pause'\n",
      "ld: PDE.o: in function `pdeeigenvalues_':\n",
      "/home/tobias/git/Peano/examples/exahype2/gprdr/PDE.f90:316: undefined reference to `for_write_seq_lis'\n",
      "ld: PDE.o: in function `pdeflux_':\n",
      "/home/tobias/git/Peano/examples/exahype2/gprdr/PDE.f90:115: undefined reference to `for_write_seq_lis'\n",
      "ld: PDE.o: in function `pdencp_':\n",
      "/home/tobias/git/Peano/examples/exahype2/gprdr/PDE.f90:218: undefined reference to `for_write_seq_lis'\n",
      "ld: InitialData.o: in function `initialdata_':\n",
      "/home/tobias/git/Peano/examples/exahype2/gprdr/InitialData.f90:102: undefined reference to `for_cpstr'\n",
      "ld: /home/tobias/git/Peano/examples/exahype2/gprdr/InitialData.f90:200: undefined reference to `for_cpstr'\n",
      "ld: /home/tobias/git/Peano/examples/exahype2/gprdr/InitialData.f90:307: undefined reference to `for_cpstr'\n",
      "ld: /home/tobias/git/Peano/examples/exahype2/gprdr/InitialData.f90:483: undefined reference to `for_cpstr'\n",
      "ld: /home/tobias/git/Peano/examples/exahype2/gprdr/InitialData.f90:603: undefined reference to `for_write_seq_lis'\n",
      "ld: /home/tobias/git/Peano/examples/exahype2/gprdr/InitialData.f90:604: undefined reference to `for_stop_core'\n",
      "ld: InitialData.o: in function `initparameters_':\n",
      "/home/tobias/git/Peano/examples/exahype2/gprdr/InitialData.f90:17: undefined reference to `for_trim'\n",
      "ld: /home/tobias/git/Peano/examples/exahype2/gprdr/InitialData.f90:17: undefined reference to `for_cpystr'\n",
      "ld: /home/tobias/git/Peano/examples/exahype2/gprdr/InitialData.f90:18: undefined reference to `for_write_seq_lis'\n",
      "ld: /home/tobias/git/Peano/examples/exahype2/gprdr/InitialData.f90:19: undefined reference to `for_write_seq_lis'\n",
      "ld: /home/tobias/git/Peano/examples/exahype2/gprdr/InitialData.f90:19: undefined reference to `for_write_seq_lis_xmit'\n",
      "ld: /home/tobias/git/Peano/examples/exahype2/gprdr/InitialData.f90:20: undefined reference to `for_write_seq_lis'\n",
      "ld: /home/tobias/git/Peano/examples/exahype2/gprdr/InitialData.f90:50: undefined reference to `for_cpstr'\n",
      "ld: /home/tobias/git/Peano/examples/exahype2/gprdr/InitialData.f90:55: undefined reference to `for_cpstr'\n",
      "ld: /home/tobias/git/Peano/examples/exahype2/gprdr/InitialData.f90:63: undefined reference to `for_cpstr'\n",
      "ld: /home/tobias/git/Peano/examples/exahype2/gprdr/InitialData.f90:70: undefined reference to `for_cpstr'\n",
      "ld: /home/tobias/git/Peano/examples/exahype2/gprdr/InitialData.f90:72: undefined reference to `for_check_mult_overflow64'\n",
      "ld: /home/tobias/git/Peano/examples/exahype2/gprdr/InitialData.f90:72: undefined reference to `for_alloc_allocatable'\n",
      "ld: /home/tobias/git/Peano/examples/exahype2/gprdr/InitialData.f90:75: undefined reference to `for_cpystr'\n",
      "ld: /home/tobias/git/Peano/examples/exahype2/gprdr/InitialData.f90:76: undefined reference to `for_cpystr'\n",
      "ld: /home/tobias/git/Peano/examples/exahype2/gprdr/InitialData.f90:65: undefined reference to `for_check_mult_overflow64'\n",
      "ld: /home/tobias/git/Peano/examples/exahype2/gprdr/InitialData.f90:65: undefined reference to `for_alloc_allocatable'\n",
      "ld: /home/tobias/git/Peano/examples/exahype2/gprdr/InitialData.f90:68: undefined reference to `for_cpystr'\n",
      "ld: /home/tobias/git/Peano/examples/exahype2/gprdr/InitialData.f90:69: undefined reference to `for_cpystr'\n",
      "ld: /home/tobias/git/Peano/examples/exahype2/gprdr/InitialData.f90:57: undefined reference to `for_check_mult_overflow64'\n",
      "ld: /home/tobias/git/Peano/examples/exahype2/gprdr/InitialData.f90:57: undefined reference to `for_alloc_allocatable'\n",
      "ld: /home/tobias/git/Peano/examples/exahype2/gprdr/InitialData.f90:60: undefined reference to `for_cpystr'\n",
      "ld: /home/tobias/git/Peano/examples/exahype2/gprdr/InitialData.f90:62: undefined reference to `for_cpystr'\n",
      "ld: /home/tobias/git/Peano/examples/exahype2/gprdr/InitialData.f90:52: undefined reference to `for_check_mult_overflow64'\n",
      "ld: /home/tobias/git/Peano/examples/exahype2/gprdr/InitialData.f90:52: undefined reference to `for_alloc_allocatable'\n",
      "ld: /home/tobias/git/Peano/examples/exahype2/gprdr/InitialData.f90:53: undefined reference to `for_cpystr'\n",
      "ld: /home/tobias/git/Peano/examples/exahype2/gprdr/InitialData.f90:54: undefined reference to `for_cpystr'\n",
      "ld: CGinterface.o: in function `loadcgfile_':\n",
      "/home/tobias/git/Peano/examples/exahype2/gprdr/CGinterface.f90:26: undefined reference to `for_write_seq_lis'\n",
      "ld: /home/tobias/git/Peano/examples/exahype2/gprdr/CGinterface.f90:27: undefined reference to `for_write_seq_lis'\n",
      "ld: /home/tobias/git/Peano/examples/exahype2/gprdr/CGinterface.f90:28: undefined reference to `for_write_seq_lis'\n",
      "ld: /home/tobias/git/Peano/examples/exahype2/gprdr/CGinterface.f90:29: undefined reference to `for_write_seq_lis'\n"
     ]
    },
    {
     "name": "stdout",
     "output_type": "stream",
     "text": [
      "make: *** [Makefile:49: solver] Error 1\r\n"
     ]
    }
   ],
   "source": [
    "# parallel_builds = 8\n",
    "# peano4_project.build( make_clean_first = True, number_of_parallel_builds = parallel_builds )\n",
    "!make -j4\n"
   ]
  },
  {
   "cell_type": "markdown",
   "metadata": {},
   "source": [
    "## Run the code\n",
    "\n",
    "As the code is a stand-alone executable (once I generated the stuff, there's no need for the Python front-end anywmore, you can take the code and run it on a supercomputer, e.g.), we can just type in run. There's also a Python wrap-around in Peano 4, but I usually prefer the command line version. The one below should work, but very "
   ]
  },
  {
   "cell_type": "code",
   "execution_count": 13,
   "metadata": {},
   "outputs": [
    {
     "name": "stdout",
     "output_type": "stream",
     "text": [
      "/usr/bin/sh: 1: ./peano4: not found\r\n"
     ]
    }
   ],
   "source": [
    "!./peano4"
   ]
  },
  {
   "cell_type": "markdown",
   "metadata": {},
   "source": [
    "## Visualisation\n",
    "\n",
    "The new version of Peano/ExaHyPE writes out so-called patch files. This is a bespoke file format. There multiple ways how to manipulate/read it. I prefer to do everything within Paraview via Paraview. For this, I ensure that the PYTHONPATH points to Peano's Python directory, start up Paraview and then open the Python terminal. From here:\n",
    "\n",
    "<pre>\n",
    "import peano4.visualisation\n",
    "data = peano4.visualisation.Visualiser( \"solution-GPRDR.peano-patch-file\" )\n",
    "data.append_filter(peano4.visualisation.ExtractFineGridFilter())\n",
    "data.display()\n",
    "</pre>\n",
    "\n",
    "From here, you can either use\n",
    "<pre>\n",
    "data.select_dataset(any number)\n",
    "</pre>\n",
    "\n",
    "to step through the time steps or you call\n",
    "\n",
    "<pre>\n",
    "data.write_vtu_time_series()\n",
    "</pre>\n",
    "\n",
    "which gives you a vtu file with all the snapshots which you can load in Paraview. The conversion itself can last for ages if you run it within Paraview. I do recommend that you use the Python environment \n",
    "\n",
    "<pre>\n",
    "pvpython\n",
    "</pre>\n",
    "\n",
    "to issue the conversion therein. With the pvpython environment, it is also possible to convert the data in the background while you open a separate Paraview instance to study the data already.\n"
   ]
  },
  {
   "cell_type": "code",
   "execution_count": null,
   "metadata": {},
   "outputs": [],
   "source": []
  },
  {
   "cell_type": "markdown",
   "metadata": {},
   "source": [
    "## How to modify the actual code\n",
    "\n",
    "This is ExaHyPE 2, but on the user side it is almost 1:1 the same interface as the original ExaHyPE. All the knowledge can be found in the files GPRDR.h and GPRDR.cpp. These files have been generated by the Python notebook, as you have named the solver GPRPR above."
   ]
  },
  {
   "cell_type": "code",
   "execution_count": null,
   "metadata": {},
   "outputs": [],
   "source": []
  }
 ],
 "metadata": {
  "kernelspec": {
   "display_name": "Python 3",
   "language": "python",
   "name": "python3"
  },
  "language_info": {
   "codemirror_mode": {
    "name": "ipython",
    "version": 3
   },
   "file_extension": ".py",
   "mimetype": "text/x-python",
   "name": "python",
   "nbconvert_exporter": "python",
   "pygments_lexer": "ipython3",
   "version": "3.8.5"
  }
 },
 "nbformat": 4,
 "nbformat_minor": 4
}

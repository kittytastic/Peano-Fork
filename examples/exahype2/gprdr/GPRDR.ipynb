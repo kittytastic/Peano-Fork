{
 "cells": [
  {
   "cell_type": "markdown",
   "metadata": {},
   "source": [
    "# GPRDR benchmark\n",
    "\n",
    "I've written this benchmark to reconstruct work done by Duo Li and Alice-Agnes Gabriel from LMU. Ensure you've set the Python path correct\n",
    "\n",
    "export PYTHONPATH=../../../python\n",
    "\n",
    "to Peano's Python directory before you invoke the notebook."
   ]
  },
  {
   "cell_type": "code",
   "execution_count": 1,
   "metadata": {},
   "outputs": [
    {
     "name": "stdout",
     "output_type": "stream",
     "text": [
      "DaStGen 2 (C) www.peano-framework.org\n",
      "Peano 4 (C) www.peano-framework.org\n",
      "ExaHyPE 2 (C) www.peano-framework.org\n"
     ]
    }
   ],
   "source": [
    "import os\n",
    "import peano4\n",
    "import exahype2"
   ]
  },
  {
   "cell_type": "markdown",
   "metadata": {},
   "source": [
    "## Clean-up\n",
    "\n",
    "Lets ensure that no left-over files stay in there. Lets in particular delete the executable and the output files."
   ]
  },
  {
   "cell_type": "code",
   "execution_count": 2,
   "metadata": {},
   "outputs": [],
   "source": [
    "output_files = [ f for f in os.listdir(\".\") if f.endswith(\".peano-patch-file\") or f.endswith(\".vtu\") or f.startswith(\"output\")]\n",
    "for f in output_files:\n",
    "  os.remove(f)"
   ]
  },
  {
   "cell_type": "markdown",
   "metadata": {},
   "source": [
    "## Setup simulation\n",
    "\n",
    "We create a new simulation. At the moment I can't non-cubic domains. I mean: I haven't tested it. This is something I have to do."
   ]
  },
  {
   "cell_type": "code",
   "execution_count": 3,
   "metadata": {},
   "outputs": [],
   "source": [
    "project = exahype2.Project( \n",
    "  namespace    = [\"examples\", \"exahype2\", \"gprdr\"], \n",
    "  project_name = \"gprdr\", \n",
    "  directory    = \".\" )"
   ]
  },
  {
   "cell_type": "code",
   "execution_count": 4,
   "metadata": {},
   "outputs": [],
   "source": [
    "dimensions=2 \n",
    "project.set_global_simulation_parameters(\n",
    "  dimensions            = dimensions,\n",
    "  offset                = [-10000.0,-10000.0], \n",
    "  size                  = [20000.0,20000.0],\n",
    "  end_time              = 8.001,\n",
    "  first_plot_time_stamp = 0.0, \n",
    "  time_in_between_plots = 0.1\n",
    ")"
   ]
  },
  {
   "cell_type": "markdown",
   "metadata": {},
   "source": [
    "## Create the solver\n",
    "\n",
    "I have a whole set of different solvers and will definitely create a few more over the next months. This guy is the most basic/primitive one. Lets ensure it works first. I work with patch-based AMR with patches of the size 5x5 volumes. This is, so far, also a regular grid setup."
   ]
  },
  {
   "cell_type": "code",
   "execution_count": 5,
   "metadata": {},
   "outputs": [],
   "source": [
    "mesh_size      = 300\n",
    "time_step_size = 0.01\n",
    "\n",
    "unknowns = {    # yeah, I like self-explaining names ;-)\n",
    "  \"rho\":1,\n",
    "  \"v\":  3,\n",
    "  \"s\":  1,\n",
    "  \"J\":  3,\n",
    "  \"A\":  9,\n",
    "  \"alpha\": 1,\n",
    "  \"lambda\": 1,\n",
    "  \"mu\": 1,\n",
    "  \"xi\": 1,\n",
    "  \"xi1\": 1,\n",
    "  \"sliding\": 1,\n",
    "  \"sliding_xi\": 1,\n",
    "  \"slip\": 3\n",
    "}\n",
    "parameters = {\n",
    "  \"TPV3\": 3\n",
    "}\n",
    "\n",
    "number_of_unknowns = 0\n",
    "number_of_auxiliary_variables = 0\n",
    "for i in unknowns:\n",
    "  number_of_unknowns += unknowns[i]\n",
    "for i in parameters:\n",
    "  number_of_auxiliary_variables += parameters[i]\n",
    "\n",
    "my_solver = exahype2.solvers.fv.GenericRusanovFixedTimeStepSize(\n",
    "    name           = \"GPRDR\", \n",
    "    patch_size     = 5, \n",
    "    unknowns       = number_of_unknowns,\n",
    "    auxiliary_variables = number_of_auxiliary_variables,\n",
    "    time_step_size = time_step_size, \n",
    "    min_h          = mesh_size,\n",
    "    max_h          = mesh_size,\n",
    "    flux=exahype2.solvers.fv.PDETerms.User_Defined_Implementation,\n",
    "    ncp=exahype2.solvers.fv.PDETerms.User_Defined_Implementation)\n",
    "    \n",
    "project.add_solver( my_solver )    "
   ]
  },
  {
   "cell_type": "code",
   "execution_count": null,
   "metadata": {},
   "outputs": [],
   "source": []
  },
  {
   "cell_type": "code",
   "execution_count": null,
   "metadata": {},
   "outputs": [],
   "source": []
  },
  {
   "cell_type": "markdown",
   "metadata": {},
   "source": [
    "## Configure the build\n",
    "\n",
    "The idea is that the ExaHyPE2 front-end generates a Peano Python project. We can then ask this Peano project to generate all C++ code that we need. As we don't want to type in all the different configuration parameters (which compiler is used, which environment variables are to be used on this machine, ...) we first tell the ExaHyPE project to parse the setups we've selected through the initial ./configure call. Ah, and we also commit to a build flavour. "
   ]
  },
  {
   "cell_type": "code",
   "execution_count": 6,
   "metadata": {},
   "outputs": [
    {
     "name": "stdout",
     "output_type": "stream",
     "text": [
      "parse configure outcome ../../../src/Makefile to extract compile settings\n",
      "used C++ compiler is g++\n",
      "used Fortran compiler is gfortran\n"
     ]
    }
   ],
   "source": [
    "build_mode = peano4.output.CompileMode.Asserts\n",
    "#build_mode = peano4.output.CompileMode.Release\n",
    "\n",
    "project.set_Peano4_installation(\"../../..\", build_mode)\n",
    "\n",
    "peano4_project = project.generate_Peano4_project()"
   ]
  },
  {
   "cell_type": "markdown",
   "metadata": {},
   "source": [
    "Next, we add all the Fortran routines that we need in our project. Peano 4/ExaHyPE 2 will automatically add it to the build environment later on."
   ]
  },
  {
   "cell_type": "code",
   "execution_count": null,
   "metadata": {},
   "outputs": [],
   "source": []
  },
  {
   "cell_type": "markdown",
   "metadata": {},
   "source": [
    "OK, time to generate the actual C++ stuff. After that, we can compile. We can either use the Python front-end to compile (there's a build() command) or directly call make. Once Peano 4 has written the makefile and the C++ code, the code is stand-alone, i.e. doesn't need Python anymore. So a plain make does the job."
   ]
  },
  {
   "cell_type": "code",
   "execution_count": 7,
   "metadata": {},
   "outputs": [
    {
     "name": "stdout",
     "output_type": "stream",
     "text": [
      "generate all code ...\n",
      "some artefacts have already been added to repository ... assume this is intentional (by higher abstraction layer, e.g.)\n",
      "generated gprdr-main.cpp\n",
      "write ./Makefile\n",
      "write ././AbstractGPRDR.h (generated from template /home/tobias/git/Peano/python/exahype2/solvers/fv/GenericRusanovFixedTimeStepSizeAbstract.template.h)\n",
      "write ././AbstractGPRDR.cpp (generated from template /home/tobias/git/Peano/python/exahype2/solvers/fv/GenericRusanovFixedTimeStepSizeAbstract.template.cpp)\n",
      "write ././GPRDR.h (generated from template /home/tobias/git/Peano/python/exahype2/solvers/fv/GenericRusanovFixedTimeStepSize.template.h)\n",
      "write ././GPRDR.cpp (generated from template /home/tobias/git/Peano/python/exahype2/solvers/fv/GenericRusanovFixedTimeStepSize.template.cpp)\n",
      "write ./observers/SolverRepository.h (generated from template /home/tobias/git/Peano/python/exahype2/ProjectSolverRepository.template.h)\n",
      "write ./observers/SolverRepository.cpp (generated from template /home/tobias/git/Peano/python/exahype2/ProjectSolverRepository.template.cpp)\n",
      "write ./celldata/GPRDRQ.h (generated from template /home/tobias/git/Peano/python/peano4/datamodel/PatchToDoubleArray.template.h)\n",
      "write ./celldata/GPRDRQ.cpp (generated from template /home/tobias/git/Peano/python/peano4/datamodel/PatchToDoubleArray.template.cpp)\n",
      "write ./facedata/GPRDRQ.h (generated from template /home/tobias/git/Peano/python/peano4/datamodel/PatchToDoubleArray.template.h)\n",
      "write ./facedata/GPRDRQ.cpp (generated from template /home/tobias/git/Peano/python/peano4/datamodel/PatchToDoubleArray.template.cpp)\n",
      "write ./facedata/GPRDRQNew.h (generated from template /home/tobias/git/Peano/python/peano4/datamodel/PatchToDoubleArray.template.h)\n",
      "write ./facedata/GPRDRQNew.cpp (generated from template /home/tobias/git/Peano/python/peano4/datamodel/PatchToDoubleArray.template.cpp)\n",
      "write ./observers/DataRepository.h\n",
      "write ./observers/DataRepository.cpp\n",
      "write ././observers/CreateGrid2peano4_toolbox_blockstructured_ApplyFunctorOnPatch0.h\n",
      "write ././observers/CreateGrid2peano4_toolbox_blockstructured_ApplyFunctorOnPatch0.cpp\n",
      "write ././observers/CreateGrid2exahype2_grid_AMROnPatch1.h\n",
      "write ././observers/CreateGrid2exahype2_grid_AMROnPatch1.cpp\n",
      "write ././observers/CreateGrid2exahype2_grid_SetLabels2.h\n",
      "write ././observers/CreateGrid2exahype2_grid_SetLabels2.cpp\n",
      "write ././observers/CreateGrid.h\n",
      "write ././observers/CreateGrid.cpp\n",
      "write ././observers/InitGrid2peano4_toolbox_blockstructured_ApplyFunctorOnPatch0.h\n",
      "write ././observers/InitGrid2peano4_toolbox_blockstructured_ApplyFunctorOnPatch0.cpp\n",
      "write ././observers/InitGrid2peano4_toolbox_blockstructured_ProjectPatchOntoFaces1.h\n",
      "write ././observers/InitGrid2peano4_toolbox_blockstructured_ProjectPatchOntoFaces1.cpp\n",
      "write ././observers/InitGrid2peano4_toolbox_blockstructured_BackupPatchOverlap2.h\n",
      "write ././observers/InitGrid2peano4_toolbox_blockstructured_BackupPatchOverlap2.cpp\n",
      "write ././observers/InitGrid2exahype2_grid_SetLabels3.h\n",
      "write ././observers/InitGrid2exahype2_grid_SetLabels3.cpp\n",
      "write ././observers/InitGrid.h\n",
      "write ././observers/InitGrid.cpp\n",
      "write ././observers/CreateGridButPostponeRefinement2peano4_toolbox_blockstructured_ApplyFunctorOnPatch0.h\n",
      "write ././observers/CreateGridButPostponeRefinement2peano4_toolbox_blockstructured_ApplyFunctorOnPatch0.cpp\n",
      "write ././observers/CreateGridButPostponeRefinement2exahype2_grid_SetLabels1.h\n",
      "write ././observers/CreateGridButPostponeRefinement2exahype2_grid_SetLabels1.cpp\n",
      "write ././observers/CreateGridButPostponeRefinement.h\n",
      "write ././observers/CreateGridButPostponeRefinement.cpp\n",
      "write ././observers/PlotSolution2peano4_toolbox_blockstructured_PlotPatchesInPeanoBlockFormat0.h\n",
      "write ././observers/PlotSolution2peano4_toolbox_blockstructured_PlotPatchesInPeanoBlockFormat0.cpp\n",
      "write ././observers/PlotSolution2exahype2_grid_SetLabels1.h\n",
      "write ././observers/PlotSolution2exahype2_grid_SetLabels1.cpp\n",
      "write ././observers/PlotSolution.h\n",
      "write ././observers/PlotSolution.cpp\n",
      "write ././observers/TimeStep2peano4_toolbox_blockstructured_ReconstructPatchAndApplyFunctor0.h\n",
      "write ././observers/TimeStep2peano4_toolbox_blockstructured_ReconstructPatchAndApplyFunctor0.cpp\n",
      "write ././observers/TimeStep2peano4_toolbox_blockstructured_ProjectPatchOntoFaces1.h\n",
      "write ././observers/TimeStep2peano4_toolbox_blockstructured_ProjectPatchOntoFaces1.cpp\n",
      "write ././observers/TimeStep2peano4_toolbox_blockstructured_ApplyFunctorOnPatch2.h\n",
      "write ././observers/TimeStep2peano4_toolbox_blockstructured_ApplyFunctorOnPatch2.cpp\n",
      "write ././observers/TimeStep2exahype2_grid_AMROnPatch3.h\n",
      "write ././observers/TimeStep2exahype2_grid_AMROnPatch3.cpp\n",
      "write ././observers/TimeStep2peano4_toolbox_blockstructured_BackupPatchOverlap4.h\n",
      "write ././observers/TimeStep2peano4_toolbox_blockstructured_BackupPatchOverlap4.cpp\n",
      "write ././observers/TimeStep2exahype2_grid_SetLabels5.h\n",
      "write ././observers/TimeStep2exahype2_grid_SetLabels5.cpp\n",
      "write ././observers/TimeStep.h\n",
      "write ././observers/TimeStep.cpp\n",
      "write ./observers/StepRepository.h\n",
      "write ./observers/StepRepository.cpp\n",
      "write ./Constants.h\n",
      "generation complete\n"
     ]
    }
   ],
   "source": [
    "peano4_project.generate()"
   ]
  },
  {
   "cell_type": "code",
   "execution_count": 8,
   "metadata": {},
   "outputs": [
    {
     "name": "stdout",
     "output_type": "stream",
     "text": [
      "g++ -std=c++0x -g -O2 -DPeanoDebug=2 -I/opt/intel/tbb/include -DTBB_USE_ASSERT -DTBB_USE_THREADING_TOOLS -I/opt/intel/itac/2020.0.015/intel64/include -fopenmp  -DDimensions=2 -I. -I../../../src -c -o AbstractGPRDR.o AbstractGPRDR.cpp\n",
      "g++ -std=c++0x -g -O2 -DPeanoDebug=2 -I/opt/intel/tbb/include -DTBB_USE_ASSERT -DTBB_USE_THREADING_TOOLS -I/opt/intel/itac/2020.0.015/intel64/include -fopenmp  -DDimensions=2 -I. -I../../../src -c -o GPRDR.o GPRDR.cpp\n",
      "\u001b[01m\u001b[KGPRDR.cpp:\u001b[m\u001b[K In member function ‘\u001b[01m\u001b[Kvirtual double examples::exahype2::gprdr::GPRDR::maxEigenvalue(double*, const tarch::la::Vector<2, double>&, const tarch::la::Vector<2, double>&, double, int)\u001b[m\u001b[K’:\n",
      "\u001b[01m\u001b[KGPRDR.cpp:42:1:\u001b[m\u001b[K \u001b[01;35m\u001b[Kwarning: \u001b[m\u001b[Kno return statement in function returning non-void [\u001b[01;35m\u001b[K-Wreturn-type\u001b[m\u001b[K]\n",
      "   42 | \u001b[01;35m\u001b[K}\u001b[m\u001b[K\n",
      "      | \u001b[01;35m\u001b[K^\u001b[m\u001b[K\n",
      "g++ -std=c++0x -g -O2 -DPeanoDebug=2 -I/opt/intel/tbb/include -DTBB_USE_ASSERT -DTBB_USE_THREADING_TOOLS -I/opt/intel/itac/2020.0.015/intel64/include -fopenmp  -DDimensions=2 -I. -I../../../src -c -o observers/SolverRepository.o observers/SolverRepository.cpp\n",
      "g++ -std=c++0x -g -O2 -DPeanoDebug=2 -I/opt/intel/tbb/include -DTBB_USE_ASSERT -DTBB_USE_THREADING_TOOLS -I/opt/intel/itac/2020.0.015/intel64/include -fopenmp  -DDimensions=2 -I. -I../../../src -c -o celldata/GPRDRQ.o celldata/GPRDRQ.cpp\n",
      "g++ -std=c++0x -g -O2 -DPeanoDebug=2 -I/opt/intel/tbb/include -DTBB_USE_ASSERT -DTBB_USE_THREADING_TOOLS -I/opt/intel/itac/2020.0.015/intel64/include -fopenmp  -DDimensions=2 -I. -I../../../src -c -o facedata/GPRDRQ.o facedata/GPRDRQ.cpp\n",
      "g++ -std=c++0x -g -O2 -DPeanoDebug=2 -I/opt/intel/tbb/include -DTBB_USE_ASSERT -DTBB_USE_THREADING_TOOLS -I/opt/intel/itac/2020.0.015/intel64/include -fopenmp  -DDimensions=2 -I. -I../../../src -c -o facedata/GPRDRQNew.o facedata/GPRDRQNew.cpp\n",
      "g++ -std=c++0x -g -O2 -DPeanoDebug=2 -I/opt/intel/tbb/include -DTBB_USE_ASSERT -DTBB_USE_THREADING_TOOLS -I/opt/intel/itac/2020.0.015/intel64/include -fopenmp  -DDimensions=2 -I. -I../../../src -c -o facedata/Label.o facedata/Label.cpp\n",
      "g++ -std=c++0x -g -O2 -DPeanoDebug=2 -I/opt/intel/tbb/include -DTBB_USE_ASSERT -DTBB_USE_THREADING_TOOLS -I/opt/intel/itac/2020.0.015/intel64/include -fopenmp  -DDimensions=2 -I. -I../../../src -c -o observers/DataRepository.o observers/DataRepository.cpp\n",
      "g++ -std=c++0x -g -O2 -DPeanoDebug=2 -I/opt/intel/tbb/include -DTBB_USE_ASSERT -DTBB_USE_THREADING_TOOLS -I/opt/intel/itac/2020.0.015/intel64/include -fopenmp  -DDimensions=2 -I. -I../../../src -c -o observers/CreateGrid2peano4_toolbox_blockstructured_ApplyFunctorOnPatch0.o observers/CreateGrid2peano4_toolbox_blockstructured_ApplyFunctorOnPatch0.cpp\n",
      "g++ -std=c++0x -g -O2 -DPeanoDebug=2 -I/opt/intel/tbb/include -DTBB_USE_ASSERT -DTBB_USE_THREADING_TOOLS -I/opt/intel/itac/2020.0.015/intel64/include -fopenmp  -DDimensions=2 -I. -I../../../src -c -o observers/CreateGrid2exahype2_grid_AMROnPatch1.o observers/CreateGrid2exahype2_grid_AMROnPatch1.cpp\n",
      "g++ -std=c++0x -g -O2 -DPeanoDebug=2 -I/opt/intel/tbb/include -DTBB_USE_ASSERT -DTBB_USE_THREADING_TOOLS -I/opt/intel/itac/2020.0.015/intel64/include -fopenmp  -DDimensions=2 -I. -I../../../src -c -o observers/CreateGrid2exahype2_grid_SetLabels2.o observers/CreateGrid2exahype2_grid_SetLabels2.cpp\n",
      "g++ -std=c++0x -g -O2 -DPeanoDebug=2 -I/opt/intel/tbb/include -DTBB_USE_ASSERT -DTBB_USE_THREADING_TOOLS -I/opt/intel/itac/2020.0.015/intel64/include -fopenmp  -DDimensions=2 -I. -I../../../src -c -o observers/CreateGrid.o observers/CreateGrid.cpp\n",
      "g++ -std=c++0x -g -O2 -DPeanoDebug=2 -I/opt/intel/tbb/include -DTBB_USE_ASSERT -DTBB_USE_THREADING_TOOLS -I/opt/intel/itac/2020.0.015/intel64/include -fopenmp  -DDimensions=2 -I. -I../../../src -c -o observers/InitGrid2peano4_toolbox_blockstructured_ApplyFunctorOnPatch0.o observers/InitGrid2peano4_toolbox_blockstructured_ApplyFunctorOnPatch0.cpp\n",
      "g++ -std=c++0x -g -O2 -DPeanoDebug=2 -I/opt/intel/tbb/include -DTBB_USE_ASSERT -DTBB_USE_THREADING_TOOLS -I/opt/intel/itac/2020.0.015/intel64/include -fopenmp  -DDimensions=2 -I. -I../../../src -c -o observers/InitGrid2peano4_toolbox_blockstructured_ProjectPatchOntoFaces1.o observers/InitGrid2peano4_toolbox_blockstructured_ProjectPatchOntoFaces1.cpp\n",
      "g++ -std=c++0x -g -O2 -DPeanoDebug=2 -I/opt/intel/tbb/include -DTBB_USE_ASSERT -DTBB_USE_THREADING_TOOLS -I/opt/intel/itac/2020.0.015/intel64/include -fopenmp  -DDimensions=2 -I. -I../../../src -c -o observers/InitGrid2peano4_toolbox_blockstructured_BackupPatchOverlap2.o observers/InitGrid2peano4_toolbox_blockstructured_BackupPatchOverlap2.cpp\n",
      "g++ -std=c++0x -g -O2 -DPeanoDebug=2 -I/opt/intel/tbb/include -DTBB_USE_ASSERT -DTBB_USE_THREADING_TOOLS -I/opt/intel/itac/2020.0.015/intel64/include -fopenmp  -DDimensions=2 -I. -I../../../src -c -o observers/InitGrid2exahype2_grid_SetLabels3.o observers/InitGrid2exahype2_grid_SetLabels3.cpp\n",
      "g++ -std=c++0x -g -O2 -DPeanoDebug=2 -I/opt/intel/tbb/include -DTBB_USE_ASSERT -DTBB_USE_THREADING_TOOLS -I/opt/intel/itac/2020.0.015/intel64/include -fopenmp  -DDimensions=2 -I. -I../../../src -c -o observers/InitGrid.o observers/InitGrid.cpp\n",
      "g++ -std=c++0x -g -O2 -DPeanoDebug=2 -I/opt/intel/tbb/include -DTBB_USE_ASSERT -DTBB_USE_THREADING_TOOLS -I/opt/intel/itac/2020.0.015/intel64/include -fopenmp  -DDimensions=2 -I. -I../../../src -c -o observers/CreateGridButPostponeRefinement2peano4_toolbox_blockstructured_ApplyFunctorOnPatch0.o observers/CreateGridButPostponeRefinement2peano4_toolbox_blockstructured_ApplyFunctorOnPatch0.cpp\n",
      "g++ -std=c++0x -g -O2 -DPeanoDebug=2 -I/opt/intel/tbb/include -DTBB_USE_ASSERT -DTBB_USE_THREADING_TOOLS -I/opt/intel/itac/2020.0.015/intel64/include -fopenmp  -DDimensions=2 -I. -I../../../src -c -o observers/CreateGridButPostponeRefinement2exahype2_grid_SetLabels1.o observers/CreateGridButPostponeRefinement2exahype2_grid_SetLabels1.cpp\n",
      "g++ -std=c++0x -g -O2 -DPeanoDebug=2 -I/opt/intel/tbb/include -DTBB_USE_ASSERT -DTBB_USE_THREADING_TOOLS -I/opt/intel/itac/2020.0.015/intel64/include -fopenmp  -DDimensions=2 -I. -I../../../src -c -o observers/CreateGridButPostponeRefinement.o observers/CreateGridButPostponeRefinement.cpp\n",
      "g++ -std=c++0x -g -O2 -DPeanoDebug=2 -I/opt/intel/tbb/include -DTBB_USE_ASSERT -DTBB_USE_THREADING_TOOLS -I/opt/intel/itac/2020.0.015/intel64/include -fopenmp  -DDimensions=2 -I. -I../../../src -c -o observers/PlotSolution2peano4_toolbox_blockstructured_PlotPatchesInPeanoBlockFormat0.o observers/PlotSolution2peano4_toolbox_blockstructured_PlotPatchesInPeanoBlockFormat0.cpp\n",
      "g++ -std=c++0x -g -O2 -DPeanoDebug=2 -I/opt/intel/tbb/include -DTBB_USE_ASSERT -DTBB_USE_THREADING_TOOLS -I/opt/intel/itac/2020.0.015/intel64/include -fopenmp  -DDimensions=2 -I. -I../../../src -c -o observers/PlotSolution2exahype2_grid_SetLabels1.o observers/PlotSolution2exahype2_grid_SetLabels1.cpp\n",
      "g++ -std=c++0x -g -O2 -DPeanoDebug=2 -I/opt/intel/tbb/include -DTBB_USE_ASSERT -DTBB_USE_THREADING_TOOLS -I/opt/intel/itac/2020.0.015/intel64/include -fopenmp  -DDimensions=2 -I. -I../../../src -c -o observers/PlotSolution.o observers/PlotSolution.cpp\n",
      "g++ -std=c++0x -g -O2 -DPeanoDebug=2 -I/opt/intel/tbb/include -DTBB_USE_ASSERT -DTBB_USE_THREADING_TOOLS -I/opt/intel/itac/2020.0.015/intel64/include -fopenmp  -DDimensions=2 -I. -I../../../src -c -o observers/TimeStep2peano4_toolbox_blockstructured_ReconstructPatchAndApplyFunctor0.o observers/TimeStep2peano4_toolbox_blockstructured_ReconstructPatchAndApplyFunctor0.cpp\n",
      "g++ -std=c++0x -g -O2 -DPeanoDebug=2 -I/opt/intel/tbb/include -DTBB_USE_ASSERT -DTBB_USE_THREADING_TOOLS -I/opt/intel/itac/2020.0.015/intel64/include -fopenmp  -DDimensions=2 -I. -I../../../src -c -o observers/TimeStep2peano4_toolbox_blockstructured_ProjectPatchOntoFaces1.o observers/TimeStep2peano4_toolbox_blockstructured_ProjectPatchOntoFaces1.cpp\n",
      "g++ -std=c++0x -g -O2 -DPeanoDebug=2 -I/opt/intel/tbb/include -DTBB_USE_ASSERT -DTBB_USE_THREADING_TOOLS -I/opt/intel/itac/2020.0.015/intel64/include -fopenmp  -DDimensions=2 -I. -I../../../src -c -o observers/TimeStep2peano4_toolbox_blockstructured_ApplyFunctorOnPatch2.o observers/TimeStep2peano4_toolbox_blockstructured_ApplyFunctorOnPatch2.cpp\n",
      "g++ -std=c++0x -g -O2 -DPeanoDebug=2 -I/opt/intel/tbb/include -DTBB_USE_ASSERT -DTBB_USE_THREADING_TOOLS -I/opt/intel/itac/2020.0.015/intel64/include -fopenmp  -DDimensions=2 -I. -I../../../src -c -o observers/TimeStep2exahype2_grid_AMROnPatch3.o observers/TimeStep2exahype2_grid_AMROnPatch3.cpp\n"
     ]
    },
    {
     "name": "stdout",
     "output_type": "stream",
     "text": [
      "g++ -std=c++0x -g -O2 -DPeanoDebug=2 -I/opt/intel/tbb/include -DTBB_USE_ASSERT -DTBB_USE_THREADING_TOOLS -I/opt/intel/itac/2020.0.015/intel64/include -fopenmp  -DDimensions=2 -I. -I../../../src -c -o observers/TimeStep2peano4_toolbox_blockstructured_BackupPatchOverlap4.o observers/TimeStep2peano4_toolbox_blockstructured_BackupPatchOverlap4.cpp\n",
      "g++ -std=c++0x -g -O2 -DPeanoDebug=2 -I/opt/intel/tbb/include -DTBB_USE_ASSERT -DTBB_USE_THREADING_TOOLS -I/opt/intel/itac/2020.0.015/intel64/include -fopenmp  -DDimensions=2 -I. -I../../../src -c -o observers/TimeStep2exahype2_grid_SetLabels5.o observers/TimeStep2exahype2_grid_SetLabels5.cpp\n",
      "g++ -std=c++0x -g -O2 -DPeanoDebug=2 -I/opt/intel/tbb/include -DTBB_USE_ASSERT -DTBB_USE_THREADING_TOOLS -I/opt/intel/itac/2020.0.015/intel64/include -fopenmp  -DDimensions=2 -I. -I../../../src -c -o observers/TimeStep.o observers/TimeStep.cpp\n",
      "g++ -std=c++0x -g -O2 -DPeanoDebug=2 -I/opt/intel/tbb/include -DTBB_USE_ASSERT -DTBB_USE_THREADING_TOOLS -I/opt/intel/itac/2020.0.015/intel64/include -fopenmp  -DDimensions=2 -I. -I../../../src -c -o observers/StepRepository.o observers/StepRepository.cpp\n",
      "g++ -L/opt/vtk/lib64 -L/opt/intel/tbb/lib/intel64/gcc4.8 -ltbb_debug -lpthread -lifcore -fopenmp   AbstractGPRDR.o GPRDR.o observers/SolverRepository.o celldata/GPRDRQ.o facedata/GPRDRQ.o facedata/GPRDRQNew.o facedata/Label.o observers/DataRepository.o ./observers/CreateGrid2peano4_toolbox_blockstructured_ApplyFunctorOnPatch0.o ./observers/CreateGrid2exahype2_grid_AMROnPatch1.o ./observers/CreateGrid2exahype2_grid_SetLabels2.o ./observers/CreateGrid.o ./observers/InitGrid2peano4_toolbox_blockstructured_ApplyFunctorOnPatch0.o ./observers/InitGrid2peano4_toolbox_blockstructured_ProjectPatchOntoFaces1.o ./observers/InitGrid2peano4_toolbox_blockstructured_BackupPatchOverlap2.o ./observers/InitGrid2exahype2_grid_SetLabels3.o ./observers/InitGrid.o ./observers/CreateGridButPostponeRefinement2peano4_toolbox_blockstructured_ApplyFunctorOnPatch0.o ./observers/CreateGridButPostponeRefinement2exahype2_grid_SetLabels1.o ./observers/CreateGridButPostponeRefinement.o ./observers/PlotSolution2peano4_toolbox_blockstructured_PlotPatchesInPeanoBlockFormat0.o ./observers/PlotSolution2exahype2_grid_SetLabels1.o ./observers/PlotSolution.o ./observers/TimeStep2peano4_toolbox_blockstructured_ReconstructPatchAndApplyFunctor0.o ./observers/TimeStep2peano4_toolbox_blockstructured_ProjectPatchOntoFaces1.o ./observers/TimeStep2peano4_toolbox_blockstructured_ApplyFunctorOnPatch2.o ./observers/TimeStep2exahype2_grid_AMROnPatch3.o ./observers/TimeStep2peano4_toolbox_blockstructured_BackupPatchOverlap4.o ./observers/TimeStep2exahype2_grid_SetLabels5.o ./observers/TimeStep.o observers/StepRepository.o gprdr-main.o   -L../../../src -L../../../src/toolbox/loadbalancing -L../../../src/exahype2   -lExaHyPE2Core2d_asserts  -lToolboxLoadBalancing2d_asserts  -lPeano4Core2d_asserts -lTarch_asserts  -o peano4 \n"
     ]
    }
   ],
   "source": [
    "# parallel_builds = 8\n",
    "# peano4_project.build( make_clean_first = True, number_of_parallel_builds = parallel_builds )\n",
    "!make\n"
   ]
  },
  {
   "cell_type": "code",
   "execution_count": null,
   "metadata": {},
   "outputs": [],
   "source": []
  },
  {
   "cell_type": "code",
   "execution_count": null,
   "metadata": {},
   "outputs": [],
   "source": []
  },
  {
   "cell_type": "code",
   "execution_count": null,
   "metadata": {},
   "outputs": [],
   "source": []
  },
  {
   "cell_type": "code",
   "execution_count": null,
   "metadata": {},
   "outputs": [],
   "source": []
  },
  {
   "cell_type": "markdown",
   "metadata": {},
   "source": [
    "## How to modify the actual code\n",
    "\n",
    "This is ExaHyPE 2, but on the user side it is almost 1:1 the same interface as the original ExaHyPE. All the knowledge can be found in the files GPRDR.h and GPRDR.cpp. These files have been generated by the Python notebook, as you have named the solver GPRPR above."
   ]
  },
  {
   "cell_type": "code",
   "execution_count": null,
   "metadata": {},
   "outputs": [],
   "source": []
  }
 ],
 "metadata": {
  "kernelspec": {
   "display_name": "Python 3",
   "language": "python",
   "name": "python3"
  },
  "language_info": {
   "codemirror_mode": {
    "name": "ipython",
    "version": 3
   },
   "file_extension": ".py",
   "mimetype": "text/x-python",
   "name": "python",
   "nbconvert_exporter": "python",
   "pygments_lexer": "ipython3",
   "version": "3.8.5"
  }
 },
 "nbformat": 4,
 "nbformat_minor": 4
}

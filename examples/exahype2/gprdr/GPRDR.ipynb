{
 "cells": [
  {
   "cell_type": "markdown",
   "metadata": {},
   "source": [
    "# GPRDR benchmark\n",
    "\n",
    "I've written this benchmark to reconstruct work done by Duo Li and Alice-Agnes Gabriel from LMU. Ensure you've set the Python path correct\n",
    "\n",
    "export PYTHONPATH=../../../python\n",
    "\n",
    "to Peano's Python directory before you invoke the notebook."
   ]
  },
  {
   "cell_type": "code",
   "execution_count": 1,
   "metadata": {},
   "outputs": [
    {
     "name": "stdout",
     "output_type": "stream",
     "text": [
      "DaStGen 2 (C) www.peano-framework.org\n",
      "Peano 4 (C) www.peano-framework.org\n",
      "ExaHyPE 2 (C) www.peano-framework.org\n"
     ]
    }
   ],
   "source": [
    "import os\n",
    "import peano4\n",
    "import exahype2"
   ]
  },
  {
   "cell_type": "markdown",
   "metadata": {},
   "source": [
    "The sympy submodule is not included by default. But we'll use the homogeneous BC implementation from this package, as I'm too lazy to implement it myself. Even though they are trivial."
   ]
  },
  {
   "cell_type": "code",
   "execution_count": 2,
   "metadata": {},
   "outputs": [],
   "source": [
    "import exahype2.sympy"
   ]
  },
  {
   "cell_type": "markdown",
   "metadata": {},
   "source": [
    "## Clean-up\n",
    "\n",
    "Lets ensure that no left-over files stay in there. Lets in particular delete the executable and the output files."
   ]
  },
  {
   "cell_type": "code",
   "execution_count": 3,
   "metadata": {},
   "outputs": [],
   "source": [
    "output_files = [ f for f in os.listdir(\".\") if f.endswith(\".peano-patch-file\") or f.endswith(\".vtu\") or f.startswith(\"output\")]\n",
    "for f in output_files:\n",
    "  os.remove(f)"
   ]
  },
  {
   "cell_type": "markdown",
   "metadata": {},
   "source": [
    "## Setup simulation\n",
    "\n",
    "We create a new simulation. At the moment I can't non-cubic domains. I mean: I haven't tested it. This is something I have to do."
   ]
  },
  {
   "cell_type": "code",
   "execution_count": 4,
   "metadata": {},
   "outputs": [],
   "source": [
    "project = exahype2.Project( \n",
    "  namespace    = [\"examples\", \"exahype2\", \"gprdr\"], \n",
    "  project_name = \"gprdr\", \n",
    "  directory    = \".\" )"
   ]
  },
  {
   "cell_type": "code",
   "execution_count": 5,
   "metadata": {},
   "outputs": [],
   "source": [
    "dimensions=2 \n",
    "project.set_global_simulation_parameters(\n",
    "  dimensions            = dimensions,\n",
    "  offset                = [-10000.0,-10000.0], \n",
    "  size                  = [20000.0,20000.0],\n",
    "  end_time              = 8.001,\n",
    "  first_plot_time_stamp = 0.0, \n",
    "  time_in_between_plots = 0.01\n",
    ")"
   ]
  },
  {
   "cell_type": "markdown",
   "metadata": {},
   "source": [
    "## Create the solver\n",
    "\n",
    "I have a whole set of different solvers and will definitely create a few more over the next months. This guy is the most basic/primitive one. Lets ensure it works first. I work with patch-based AMR with patches of the size 5x5 volumes. This is, so far, also a regular grid setup."
   ]
  },
  {
   "cell_type": "code",
   "execution_count": 6,
   "metadata": {},
   "outputs": [
    {
     "name": "stdout",
     "output_type": "stream",
     "text": [
      "no of unknowns:  27\n"
     ]
    }
   ],
   "source": [
    "mesh_size      = 300\n",
    "time_step_size = 0.001\n",
    "\n",
    "unknowns = {    # yeah, I like self-explaining names ;-)\n",
    "  \"rho\":1,\n",
    "  \"v\":  3,\n",
    "  \"s\":  1,\n",
    "  \"J\":  3,\n",
    "  \"A\":  9,\n",
    "  \"alpha\": 1,\n",
    "  \"lambda\": 1,\n",
    "  \"mu\": 1,\n",
    "  \"xi\": 1,\n",
    "  \"xi1\": 1,\n",
    "  \"sliding\": 1,\n",
    "  \"sliding_xi\": 1,\n",
    "  \"slip\": 3\n",
    "}\n",
    "\n",
    "number_of_unknowns = 0\n",
    "number_of_auxiliary_variables = 0\n",
    "for i in unknowns:\n",
    "  number_of_unknowns += unknowns[i]\n",
    "\n",
    "print( \"no of unknowns: \", number_of_unknowns)\n",
    "\n",
    "pde = exahype2.sympy.PDE(unknowns=number_of_unknowns,auxiliary_variables=number_of_auxiliary_variables,dimensions=dimensions)\n",
    "\n",
    "my_solver = exahype2.solvers.fv.GenericRiemannFixedTimeStepSize(\n",
    "    name                = \"GPRDR\", \n",
    "    patch_size          = 5, \n",
    "    unknowns            = number_of_unknowns,\n",
    "    auxiliary_variables = number_of_auxiliary_variables,\n",
    "    time_step_size      = time_step_size, \n",
    "    min_h               = mesh_size,\n",
    "    max_h               = mesh_size)\n",
    "    \n",
    "my_solver.set_implementation(\n",
    "  boundary_conditions=pde.implementation_of_homogeneous_Neumann_BC(),\n",
    ")   \n",
    "\n",
    "project.add_solver( my_solver )    "
   ]
  },
  {
   "cell_type": "code",
   "execution_count": null,
   "metadata": {},
   "outputs": [],
   "source": []
  },
  {
   "cell_type": "code",
   "execution_count": null,
   "metadata": {},
   "outputs": [],
   "source": []
  },
  {
   "cell_type": "markdown",
   "metadata": {},
   "source": [
    "## Parallelise\n",
    "\n",
    "Even this simple setup is quite compute-intensive, so it pays off to work with the parallel code base right from the start. If you have configured Peano with\n",
    "\n",
    "<pre>\n",
    "--with-multithreading=omp\n",
    "</pre>\n",
    "\n",
    "or even with \n",
    "\n",
    "<pre>\n",
    "--with-multithreading=omp --with-mpi=mpiicpc\n",
    "</pre>\n",
    "\n",
    "then the line below adds parallelisation:"
   ]
  },
  {
   "cell_type": "code",
   "execution_count": 7,
   "metadata": {},
   "outputs": [],
   "source": [
    "project.set_load_balancing( \"toolbox::loadbalancing::RecursiveSubdivision\" )"
   ]
  },
  {
   "cell_type": "markdown",
   "metadata": {},
   "source": [
    "## Configure the build\n",
    "\n",
    "The idea is that the ExaHyPE2 front-end generates a Peano Python project. We can then ask this Peano project to generate all C++ code that we need. As we don't want to type in all the different configuration parameters (which compiler is used, which environment variables are to be used on this machine, ...) we first tell the ExaHyPE project to parse the setups we've selected through the initial ./configure call. Ah, and we also commit to a build flavour. "
   ]
  },
  {
   "cell_type": "code",
   "execution_count": 8,
   "metadata": {},
   "outputs": [
    {
     "name": "stdout",
     "output_type": "stream",
     "text": [
      "parse configure outcome ../../../src/Makefile to extract compile settings\n",
      "used C++ compiler is icpc\n",
      "used Fortran compiler is ifort\n"
     ]
    }
   ],
   "source": [
    "build_mode = peano4.output.CompileMode.Asserts\n",
    "#build_mode = peano4.output.CompileMode.Release\n",
    "\n",
    "project.set_Peano4_installation(\"../../..\", build_mode)\n",
    "\n",
    "peano4_project = project.generate_Peano4_project()"
   ]
  },
  {
   "cell_type": "markdown",
   "metadata": {},
   "source": [
    "Next, we add all the Fortran routines that we need in our project. Peano 4/ExaHyPE 2 will automatically add it to the build environment later on."
   ]
  },
  {
   "cell_type": "code",
   "execution_count": 9,
   "metadata": {},
   "outputs": [],
   "source": [
    "peano4_project.output.makefile.add_Fortran_modules( [\n",
    "  \"MainVariables.f90\",    \"expintegrator_type.f90\",  \"expintegrator_linalg.f90\",\n",
    "  \"SpecificVarEqn99.f90\", \"GPRmaterials.f90\",        \"expintegrator_linalg_fast33.f90\",\n",
    "  \"ComplexGeometry.f90\",  \"expintegrator_ode.f90\",   \"expintegrator.f90\"\n",
    "])\n",
    "\n",
    "peano4_project.output.makefile.add_Fortran_files( \n",
    "  [ \"ODE.f90\", \"C2P-GPRDR.f90\", \"PDE.f90\", \"InitialData.f90\", \"Tools.f90\", \"CGinterface.f90\" ]\n",
    ")\n",
    "\n",
    "peano4_project.output.makefile.add_Fortran_flag( \"-r8 -cpp -auto -qopenmp-simd -O2 -xCORE-AVX2 -fma -DDim2 -DALIGNMENT=32 -DEQNTYPED99 -DODESOLVER -DOPT_KERNELS -I.\" )\n",
    "#     LINK_FORTRAN      += -lgfortran\n",
    "\n"
   ]
  },
  {
   "cell_type": "markdown",
   "metadata": {},
   "source": [
    "I don't want to program all the constants manually in my C++ code later on, so I simply export them from the Python script into the C++ stuff. They will be found in a generated file called Constants.h."
   ]
  },
  {
   "cell_type": "code",
   "execution_count": 10,
   "metadata": {},
   "outputs": [],
   "source": [
    "peano4_project.constants.export( \"NumberOfUnknowns\", number_of_unknowns )\n",
    "peano4_project.constants.export_string( \"Scenario\", \"TPV3\" ) # called reference in the ExaHyPE 1 project, but I find scenario better\n"
   ]
  },
  {
   "cell_type": "markdown",
   "metadata": {},
   "source": [
    "OK, time to generate the actual C++ stuff. After that, we can compile. We can either use the Python front-end to compile (there's a build() command) or directly call make. Once Peano 4 has written the makefile and the C++ code, the code is stand-alone, i.e. doesn't need Python anymore. So a plain make does the job."
   ]
  },
  {
   "cell_type": "code",
   "execution_count": 11,
   "metadata": {},
   "outputs": [
    {
     "name": "stdout",
     "output_type": "stream",
     "text": [
      "generate all code ...\n",
      "some artefacts have already been added to repository ... assume this is intentional (by higher abstraction layer, e.g.)\n",
      "generated gprdr-main.cpp\n",
      "write ./Makefile\n",
      "write ././AbstractGPRDR.h (generated from template /home/tobias/git/Peano/python/exahype2/solvers/fv/GenericRiemannFixedTimeStepSizeAbstract.template.h)\n",
      "write ././AbstractGPRDR.cpp (generated from template /home/tobias/git/Peano/python/exahype2/solvers/fv/GenericRiemannFixedTimeStepSizeAbstract.template.cpp)\n",
      "write ./observers/SolverRepository.h (generated from template /home/tobias/git/Peano/python/exahype2/ProjectSolverRepository.template.h)\n",
      "write ./observers/SolverRepository.cpp (generated from template /home/tobias/git/Peano/python/exahype2/ProjectSolverRepository.template.cpp)\n",
      "write ./celldata/GPRDRQ.h (generated from template /home/tobias/git/Peano/python/peano4/datamodel/PatchToDoubleArray.template.h)\n",
      "write ./celldata/GPRDRQ.cpp (generated from template /home/tobias/git/Peano/python/peano4/datamodel/PatchToDoubleArray.template.cpp)\n",
      "write ./facedata/GPRDRQ.h (generated from template /home/tobias/git/Peano/python/peano4/datamodel/PatchToDoubleArray.template.h)\n",
      "write ./facedata/GPRDRQ.cpp (generated from template /home/tobias/git/Peano/python/peano4/datamodel/PatchToDoubleArray.template.cpp)\n",
      "write ./facedata/GPRDRQNew.h (generated from template /home/tobias/git/Peano/python/peano4/datamodel/PatchToDoubleArray.template.h)\n",
      "write ./facedata/GPRDRQNew.cpp (generated from template /home/tobias/git/Peano/python/peano4/datamodel/PatchToDoubleArray.template.cpp)\n",
      "write ./observers/DataRepository.h\n",
      "write ./observers/DataRepository.cpp\n",
      "write ././observers/CreateGrid2peano4_toolbox_blockstructured_ApplyFunctorOnPatch0.h\n",
      "write ././observers/CreateGrid2peano4_toolbox_blockstructured_ApplyFunctorOnPatch0.cpp\n",
      "write ././observers/CreateGrid2exahype2_grid_AMROnPatch1.h\n",
      "write ././observers/CreateGrid2exahype2_grid_AMROnPatch1.cpp\n",
      "write ././observers/CreateGrid2exahype2_grid_SetLabels2.h\n",
      "write ././observers/CreateGrid2exahype2_grid_SetLabels2.cpp\n",
      "write ././observers/CreateGrid.h\n",
      "write ././observers/CreateGrid.cpp\n",
      "write ././observers/InitGrid2peano4_toolbox_blockstructured_ApplyFunctorOnPatch0.h\n",
      "write ././observers/InitGrid2peano4_toolbox_blockstructured_ApplyFunctorOnPatch0.cpp\n",
      "write ././observers/InitGrid2peano4_toolbox_blockstructured_ProjectPatchOntoFaces1.h\n",
      "write ././observers/InitGrid2peano4_toolbox_blockstructured_ProjectPatchOntoFaces1.cpp\n",
      "write ././observers/InitGrid2peano4_toolbox_blockstructured_BackupPatchOverlap2.h\n",
      "write ././observers/InitGrid2peano4_toolbox_blockstructured_BackupPatchOverlap2.cpp\n",
      "write ././observers/InitGrid2exahype2_grid_SetLabels3.h\n",
      "write ././observers/InitGrid2exahype2_grid_SetLabels3.cpp\n",
      "write ././observers/InitGrid.h\n",
      "write ././observers/InitGrid.cpp\n",
      "write ././observers/CreateGridButPostponeRefinement2peano4_toolbox_blockstructured_ApplyFunctorOnPatch0.h\n",
      "write ././observers/CreateGridButPostponeRefinement2peano4_toolbox_blockstructured_ApplyFunctorOnPatch0.cpp\n",
      "write ././observers/CreateGridButPostponeRefinement2exahype2_grid_SetLabels1.h\n",
      "write ././observers/CreateGridButPostponeRefinement2exahype2_grid_SetLabels1.cpp\n",
      "write ././observers/CreateGridButPostponeRefinement.h\n",
      "write ././observers/CreateGridButPostponeRefinement.cpp\n",
      "write ././observers/PlotSolution2peano4_toolbox_blockstructured_PlotPatchesInPeanoBlockFormat0.h\n",
      "write ././observers/PlotSolution2peano4_toolbox_blockstructured_PlotPatchesInPeanoBlockFormat0.cpp\n",
      "write ././observers/PlotSolution2exahype2_grid_SetLabels1.h\n",
      "write ././observers/PlotSolution2exahype2_grid_SetLabels1.cpp\n",
      "write ././observers/PlotSolution.h\n",
      "write ././observers/PlotSolution.cpp\n",
      "write ././observers/TimeStep2peano4_toolbox_blockstructured_ReconstructPatchAndApplyFunctor0.h\n",
      "write ././observers/TimeStep2peano4_toolbox_blockstructured_ReconstructPatchAndApplyFunctor0.cpp\n",
      "write ././observers/TimeStep2peano4_toolbox_blockstructured_ProjectPatchOntoFaces1.h\n",
      "write ././observers/TimeStep2peano4_toolbox_blockstructured_ProjectPatchOntoFaces1.cpp\n",
      "write ././observers/TimeStep2peano4_toolbox_blockstructured_ApplyFunctorOnPatch2.h\n",
      "write ././observers/TimeStep2peano4_toolbox_blockstructured_ApplyFunctorOnPatch2.cpp\n",
      "write ././observers/TimeStep2exahype2_grid_AMROnPatch3.h\n",
      "write ././observers/TimeStep2exahype2_grid_AMROnPatch3.cpp\n",
      "write ././observers/TimeStep2peano4_toolbox_blockstructured_BackupPatchOverlap4.h\n",
      "write ././observers/TimeStep2peano4_toolbox_blockstructured_BackupPatchOverlap4.cpp\n",
      "write ././observers/TimeStep2exahype2_grid_SetLabels5.h\n",
      "write ././observers/TimeStep2exahype2_grid_SetLabels5.cpp\n",
      "write ././observers/TimeStep.h\n",
      "write ././observers/TimeStep.cpp\n",
      "write ./observers/StepRepository.h\n",
      "write ./observers/StepRepository.cpp\n",
      "write ././gprdr-main.h\n",
      "write ././gprdr-main.cpp\n",
      "write ./Constants.h\n",
      "generation complete\n"
     ]
    }
   ],
   "source": [
    "peano4_project.generate()"
   ]
  },
  {
   "cell_type": "code",
   "execution_count": 12,
   "metadata": {},
   "outputs": [
    {
     "name": "stdout",
     "output_type": "stream",
     "text": [
      "icpc -std=c++0x -O2 -DPeanoDebug=0 -I/opt/intel/tbb/include -DTBB_USE_ASSERT -DTBB_USE_THREADING_TOOLS -I/opt/intel/itac/2020.0.015/intel64/include -fopenmp  -DDimensions=2 -I. -I../../../src -c -o AbstractGPRDR.o AbstractGPRDR.cpp\n",
      "icpc -std=c++0x -O2 -DPeanoDebug=0 -I/opt/intel/tbb/include -DTBB_USE_ASSERT -DTBB_USE_THREADING_TOOLS -I/opt/intel/itac/2020.0.015/intel64/include -fopenmp  -DDimensions=2 -I. -I../../../src -c -o observers/SolverRepository.o observers/SolverRepository.cpp\n",
      "icpc -std=c++0x -O2 -DPeanoDebug=0 -I/opt/intel/tbb/include -DTBB_USE_ASSERT -DTBB_USE_THREADING_TOOLS -I/opt/intel/itac/2020.0.015/intel64/include -fopenmp  -DDimensions=2 -I. -I../../../src -c -o celldata/GPRDRQ.o celldata/GPRDRQ.cpp\n",
      "icpc -std=c++0x -O2 -DPeanoDebug=0 -I/opt/intel/tbb/include -DTBB_USE_ASSERT -DTBB_USE_THREADING_TOOLS -I/opt/intel/itac/2020.0.015/intel64/include -fopenmp  -DDimensions=2 -I. -I../../../src -c -o facedata/GPRDRQ.o facedata/GPRDRQ.cpp\n",
      "icpc -std=c++0x -O2 -DPeanoDebug=0 -I/opt/intel/tbb/include -DTBB_USE_ASSERT -DTBB_USE_THREADING_TOOLS -I/opt/intel/itac/2020.0.015/intel64/include -fopenmp  -DDimensions=2 -I. -I../../../src -c -o facedata/GPRDRQNew.o facedata/GPRDRQNew.cpp\n",
      "icpc -std=c++0x -O2 -DPeanoDebug=0 -I/opt/intel/tbb/include -DTBB_USE_ASSERT -DTBB_USE_THREADING_TOOLS -I/opt/intel/itac/2020.0.015/intel64/include -fopenmp  -DDimensions=2 -I. -I../../../src -c -o facedata/Label.o facedata/Label.cpp\n",
      "icpc -std=c++0x -O2 -DPeanoDebug=0 -I/opt/intel/tbb/include -DTBB_USE_ASSERT -DTBB_USE_THREADING_TOOLS -I/opt/intel/itac/2020.0.015/intel64/include -fopenmp  -DDimensions=2 -I. -I../../../src -c -o observers/DataRepository.o observers/DataRepository.cpp\n",
      "icpc -std=c++0x -O2 -DPeanoDebug=0 -I/opt/intel/tbb/include -DTBB_USE_ASSERT -DTBB_USE_THREADING_TOOLS -I/opt/intel/itac/2020.0.015/intel64/include -fopenmp  -DDimensions=2 -I. -I../../../src -c -o observers/CreateGrid2peano4_toolbox_blockstructured_ApplyFunctorOnPatch0.o observers/CreateGrid2peano4_toolbox_blockstructured_ApplyFunctorOnPatch0.cpp\n",
      "icpc -std=c++0x -O2 -DPeanoDebug=0 -I/opt/intel/tbb/include -DTBB_USE_ASSERT -DTBB_USE_THREADING_TOOLS -I/opt/intel/itac/2020.0.015/intel64/include -fopenmp  -DDimensions=2 -I. -I../../../src -c -o observers/CreateGrid2exahype2_grid_AMROnPatch1.o observers/CreateGrid2exahype2_grid_AMROnPatch1.cpp\n",
      "icpc -std=c++0x -O2 -DPeanoDebug=0 -I/opt/intel/tbb/include -DTBB_USE_ASSERT -DTBB_USE_THREADING_TOOLS -I/opt/intel/itac/2020.0.015/intel64/include -fopenmp  -DDimensions=2 -I. -I../../../src -c -o observers/CreateGrid2exahype2_grid_SetLabels2.o observers/CreateGrid2exahype2_grid_SetLabels2.cpp\n",
      "icpc -std=c++0x -O2 -DPeanoDebug=0 -I/opt/intel/tbb/include -DTBB_USE_ASSERT -DTBB_USE_THREADING_TOOLS -I/opt/intel/itac/2020.0.015/intel64/include -fopenmp  -DDimensions=2 -I. -I../../../src -c -o observers/CreateGrid.o observers/CreateGrid.cpp\n",
      "icpc -std=c++0x -O2 -DPeanoDebug=0 -I/opt/intel/tbb/include -DTBB_USE_ASSERT -DTBB_USE_THREADING_TOOLS -I/opt/intel/itac/2020.0.015/intel64/include -fopenmp  -DDimensions=2 -I. -I../../../src -c -o observers/InitGrid2peano4_toolbox_blockstructured_ApplyFunctorOnPatch0.o observers/InitGrid2peano4_toolbox_blockstructured_ApplyFunctorOnPatch0.cpp\n",
      "icpc -std=c++0x -O2 -DPeanoDebug=0 -I/opt/intel/tbb/include -DTBB_USE_ASSERT -DTBB_USE_THREADING_TOOLS -I/opt/intel/itac/2020.0.015/intel64/include -fopenmp  -DDimensions=2 -I. -I../../../src -c -o observers/InitGrid2peano4_toolbox_blockstructured_ProjectPatchOntoFaces1.o observers/InitGrid2peano4_toolbox_blockstructured_ProjectPatchOntoFaces1.cpp\n",
      "icpc -std=c++0x -O2 -DPeanoDebug=0 -I/opt/intel/tbb/include -DTBB_USE_ASSERT -DTBB_USE_THREADING_TOOLS -I/opt/intel/itac/2020.0.015/intel64/include -fopenmp  -DDimensions=2 -I. -I../../../src -c -o observers/InitGrid2peano4_toolbox_blockstructured_BackupPatchOverlap2.o observers/InitGrid2peano4_toolbox_blockstructured_BackupPatchOverlap2.cpp\n",
      "icpc -std=c++0x -O2 -DPeanoDebug=0 -I/opt/intel/tbb/include -DTBB_USE_ASSERT -DTBB_USE_THREADING_TOOLS -I/opt/intel/itac/2020.0.015/intel64/include -fopenmp  -DDimensions=2 -I. -I../../../src -c -o observers/InitGrid2exahype2_grid_SetLabels3.o observers/InitGrid2exahype2_grid_SetLabels3.cpp\n",
      "icpc -std=c++0x -O2 -DPeanoDebug=0 -I/opt/intel/tbb/include -DTBB_USE_ASSERT -DTBB_USE_THREADING_TOOLS -I/opt/intel/itac/2020.0.015/intel64/include -fopenmp  -DDimensions=2 -I. -I../../../src -c -o observers/InitGrid.o observers/InitGrid.cpp\n",
      "icpc -std=c++0x -O2 -DPeanoDebug=0 -I/opt/intel/tbb/include -DTBB_USE_ASSERT -DTBB_USE_THREADING_TOOLS -I/opt/intel/itac/2020.0.015/intel64/include -fopenmp  -DDimensions=2 -I. -I../../../src -c -o observers/CreateGridButPostponeRefinement2peano4_toolbox_blockstructured_ApplyFunctorOnPatch0.o observers/CreateGridButPostponeRefinement2peano4_toolbox_blockstructured_ApplyFunctorOnPatch0.cpp\n",
      "icpc -std=c++0x -O2 -DPeanoDebug=0 -I/opt/intel/tbb/include -DTBB_USE_ASSERT -DTBB_USE_THREADING_TOOLS -I/opt/intel/itac/2020.0.015/intel64/include -fopenmp  -DDimensions=2 -I. -I../../../src -c -o observers/CreateGridButPostponeRefinement2exahype2_grid_SetLabels1.o observers/CreateGridButPostponeRefinement2exahype2_grid_SetLabels1.cpp\n",
      "icpc -std=c++0x -O2 -DPeanoDebug=0 -I/opt/intel/tbb/include -DTBB_USE_ASSERT -DTBB_USE_THREADING_TOOLS -I/opt/intel/itac/2020.0.015/intel64/include -fopenmp  -DDimensions=2 -I. -I../../../src -c -o observers/CreateGridButPostponeRefinement.o observers/CreateGridButPostponeRefinement.cpp\n",
      "icpc -std=c++0x -O2 -DPeanoDebug=0 -I/opt/intel/tbb/include -DTBB_USE_ASSERT -DTBB_USE_THREADING_TOOLS -I/opt/intel/itac/2020.0.015/intel64/include -fopenmp  -DDimensions=2 -I. -I../../../src -c -o observers/PlotSolution2peano4_toolbox_blockstructured_PlotPatchesInPeanoBlockFormat0.o observers/PlotSolution2peano4_toolbox_blockstructured_PlotPatchesInPeanoBlockFormat0.cpp\n",
      "icpc -std=c++0x -O2 -DPeanoDebug=0 -I/opt/intel/tbb/include -DTBB_USE_ASSERT -DTBB_USE_THREADING_TOOLS -I/opt/intel/itac/2020.0.015/intel64/include -fopenmp  -DDimensions=2 -I. -I../../../src -c -o observers/PlotSolution2exahype2_grid_SetLabels1.o observers/PlotSolution2exahype2_grid_SetLabels1.cpp\n",
      "icpc -std=c++0x -O2 -DPeanoDebug=0 -I/opt/intel/tbb/include -DTBB_USE_ASSERT -DTBB_USE_THREADING_TOOLS -I/opt/intel/itac/2020.0.015/intel64/include -fopenmp  -DDimensions=2 -I. -I../../../src -c -o observers/PlotSolution.o observers/PlotSolution.cpp\n",
      "icpc -std=c++0x -O2 -DPeanoDebug=0 -I/opt/intel/tbb/include -DTBB_USE_ASSERT -DTBB_USE_THREADING_TOOLS -I/opt/intel/itac/2020.0.015/intel64/include -fopenmp  -DDimensions=2 -I. -I../../../src -c -o observers/TimeStep2peano4_toolbox_blockstructured_ReconstructPatchAndApplyFunctor0.o observers/TimeStep2peano4_toolbox_blockstructured_ReconstructPatchAndApplyFunctor0.cpp\n",
      "icpc -std=c++0x -O2 -DPeanoDebug=0 -I/opt/intel/tbb/include -DTBB_USE_ASSERT -DTBB_USE_THREADING_TOOLS -I/opt/intel/itac/2020.0.015/intel64/include -fopenmp  -DDimensions=2 -I. -I../../../src -c -o observers/TimeStep2peano4_toolbox_blockstructured_ProjectPatchOntoFaces1.o observers/TimeStep2peano4_toolbox_blockstructured_ProjectPatchOntoFaces1.cpp\n",
      "icpc -std=c++0x -O2 -DPeanoDebug=0 -I/opt/intel/tbb/include -DTBB_USE_ASSERT -DTBB_USE_THREADING_TOOLS -I/opt/intel/itac/2020.0.015/intel64/include -fopenmp  -DDimensions=2 -I. -I../../../src -c -o observers/TimeStep2peano4_toolbox_blockstructured_ApplyFunctorOnPatch2.o observers/TimeStep2peano4_toolbox_blockstructured_ApplyFunctorOnPatch2.cpp\n",
      "icpc -std=c++0x -O2 -DPeanoDebug=0 -I/opt/intel/tbb/include -DTBB_USE_ASSERT -DTBB_USE_THREADING_TOOLS -I/opt/intel/itac/2020.0.015/intel64/include -fopenmp  -DDimensions=2 -I. -I../../../src -c -o observers/TimeStep2exahype2_grid_AMROnPatch3.o observers/TimeStep2exahype2_grid_AMROnPatch3.cpp\n",
      "icpc -std=c++0x -O2 -DPeanoDebug=0 -I/opt/intel/tbb/include -DTBB_USE_ASSERT -DTBB_USE_THREADING_TOOLS -I/opt/intel/itac/2020.0.015/intel64/include -fopenmp  -DDimensions=2 -I. -I../../../src -c -o observers/TimeStep2peano4_toolbox_blockstructured_BackupPatchOverlap4.o observers/TimeStep2peano4_toolbox_blockstructured_BackupPatchOverlap4.cpp\n",
      "icpc -std=c++0x -O2 -DPeanoDebug=0 -I/opt/intel/tbb/include -DTBB_USE_ASSERT -DTBB_USE_THREADING_TOOLS -I/opt/intel/itac/2020.0.015/intel64/include -fopenmp  -DDimensions=2 -I. -I../../../src -c -o observers/TimeStep2exahype2_grid_SetLabels5.o observers/TimeStep2exahype2_grid_SetLabels5.cpp\n"
     ]
    },
    {
     "name": "stdout",
     "output_type": "stream",
     "text": [
      "icpc -std=c++0x -O2 -DPeanoDebug=0 -I/opt/intel/tbb/include -DTBB_USE_ASSERT -DTBB_USE_THREADING_TOOLS -I/opt/intel/itac/2020.0.015/intel64/include -fopenmp  -DDimensions=2 -I. -I../../../src -c -o observers/TimeStep.o observers/TimeStep.cpp\n",
      "icpc -std=c++0x -O2 -DPeanoDebug=0 -I/opt/intel/tbb/include -DTBB_USE_ASSERT -DTBB_USE_THREADING_TOOLS -I/opt/intel/itac/2020.0.015/intel64/include -fopenmp  -DDimensions=2 -I. -I../../../src -c -o observers/StepRepository.o observers/StepRepository.cpp\n",
      "icpc -std=c++0x -O2 -DPeanoDebug=0 -I/opt/intel/tbb/include -DTBB_USE_ASSERT -DTBB_USE_THREADING_TOOLS -I/opt/intel/itac/2020.0.015/intel64/include -fopenmp  -DDimensions=2 -I. -I../../../src -c -o gprdr-main.o gprdr-main.cpp\n",
      "icpc -L/opt/vtk/lib64 -L/opt/intel/tbb/lib/intel64/gcc4.8 -ltbb_debug -lpthread -lifcore -fopenmp  MainVariables.o expintegrator_type.o expintegrator_linalg.o SpecificVarEqn99.o GPRmaterials.o expintegrator_linalg_fast33.o ComplexGeometry.o expintegrator_ode.o expintegrator.o ODE.o C2P-GPRDR.o PDE.o InitialData.o Tools.o CGinterface.o  AbstractGPRDR.o GPRDR.o observers/SolverRepository.o celldata/GPRDRQ.o facedata/GPRDRQ.o facedata/GPRDRQNew.o facedata/Label.o observers/DataRepository.o ./observers/CreateGrid2peano4_toolbox_blockstructured_ApplyFunctorOnPatch0.o ./observers/CreateGrid2exahype2_grid_AMROnPatch1.o ./observers/CreateGrid2exahype2_grid_SetLabels2.o ./observers/CreateGrid.o ./observers/InitGrid2peano4_toolbox_blockstructured_ApplyFunctorOnPatch0.o ./observers/InitGrid2peano4_toolbox_blockstructured_ProjectPatchOntoFaces1.o ./observers/InitGrid2peano4_toolbox_blockstructured_BackupPatchOverlap2.o ./observers/InitGrid2exahype2_grid_SetLabels3.o ./observers/InitGrid.o ./observers/CreateGridButPostponeRefinement2peano4_toolbox_blockstructured_ApplyFunctorOnPatch0.o ./observers/CreateGridButPostponeRefinement2exahype2_grid_SetLabels1.o ./observers/CreateGridButPostponeRefinement.o ./observers/PlotSolution2peano4_toolbox_blockstructured_PlotPatchesInPeanoBlockFormat0.o ./observers/PlotSolution2exahype2_grid_SetLabels1.o ./observers/PlotSolution.o ./observers/TimeStep2peano4_toolbox_blockstructured_ReconstructPatchAndApplyFunctor0.o ./observers/TimeStep2peano4_toolbox_blockstructured_ProjectPatchOntoFaces1.o ./observers/TimeStep2peano4_toolbox_blockstructured_ApplyFunctorOnPatch2.o ./observers/TimeStep2exahype2_grid_AMROnPatch3.o ./observers/TimeStep2peano4_toolbox_blockstructured_BackupPatchOverlap4.o ./observers/TimeStep2exahype2_grid_SetLabels5.o ./observers/TimeStep.o observers/StepRepository.o gprdr-main.o   -L../../../src -L../../../src/toolbox/loadbalancing -L../../../src/exahype2   -lExaHyPE2Core2d  -lToolboxLoadBalancing2d  -lPeano4Core2d -lTarch  -o peano4 \n"
     ]
    }
   ],
   "source": [
    "# parallel_builds = 8\n",
    "# peano4_project.build( make_clean_first = True, number_of_parallel_builds = parallel_builds )\n",
    "!make -j4\n"
   ]
  },
  {
   "cell_type": "markdown",
   "metadata": {},
   "source": [
    "## Run the code\n",
    "\n",
    "As the code is a stand-alone executable (once I generated the stuff, there's no need for the Python front-end anywmore, you can take the code and run it on a supercomputer, e.g.), we can just type in run. There's also a Python wrap-around in Peano 4, but I usually prefer the command line version. The one below should work, but very "
   ]
  },
  {
   "cell_type": "code",
   "execution_count": 13,
   "metadata": {},
   "outputs": [
    {
     "name": "stdout",
     "output_type": "stream",
     "text": [
      " ****************************************************************\n",
      " Chosen setup: \tNLOPRUPTURE         \n",
      " ****************************************************************\n",
      "Peano 4 (C) www.peano-framework.org \n",
      "build: 2d, no mpi, omp (12 threads)\n",
      " 1236751      00:00:00     rank:0       core:11      info         ::::selectNextAlgorithmicStep()                         mesh rebalancing seems to be kind of stationary, so refine mesh further in next sweep\n",
      " 1654         00:00:00     rank:0       core:11      info         ::step()                                                run CreateGrid\n",
      " 3747558      00:00:00     rank:0       core:11      info         exahype2::RefinementControl::finishStep()               activate 9 refinement/coarsening instructions\n",
      " 3760649      00:00:00     rank:0       core:11      info         toolbox::loadbalancing::dumpStatistics()                1 tree(s): (#0:9/0) total=9/0 (local/remote)\n",
      " 2945070      00:00:00     rank:0       core:11      info         ::step()                                                run CreateGrid\n",
      " 3800022      00:00:00     rank:0       core:6       info         peano4::grid::Spacetree::traverse(...)                  got one grid control event: (refinementControl=Refine,offset=[-10333.3,-10333.3],width=[20666.7,20666.7],h=[2444.44,2444.44])\n",
      " 6559146      00:00:00     rank:0       core:11      info         exahype2::RefinementControl::finishStep()               activate 9 refinement/coarsening instructions\n",
      " 6575013      00:00:00     rank:0       core:11      info         toolbox::loadbalancing::dumpStatistics()                1 tree(s): (#0:9/0) total=9/0 (local/remote)\n",
      " 7015169      00:00:00     rank:0       core:11      info         ::::selectNextAlgorithmicStep()                         mesh rebalancing seems to be kind of stationary, so refine mesh further in next sweep\n",
      " 5770488      00:00:00     rank:0       core:11      info         ::step()                                                run CreateGridButPostponeRefinement\n",
      " 28590461     00:00:00     rank:0       core:11      info         toolbox::loadbalancing::RecursiveSubdivision::finishStep() split-heaviest-tree(multiple-times,use-local-rank,use-recursive-partitioning) in state (state=standard,global-cell-count=81,lightest-rank=0,has-spread-over-all-ranks=0,has-spread-over-all-cores=0,round-robin-token=0,target-balancing-ratio=0.8,max-tree-weight-at-last-split=2147483647,blacklist-weight=4,number-of-state-updated-without-any-split=1073741826,global-number-of-splits=0,local-number-of-splits=0,local-number-of-unsuccessful-splits-as-load-balancing-had-been-turned-off=0,global-number-of-unsuccessful-splits-as-load-balancing-had-been-turned-off=0,tree 0:81,blacklist is empty,heaviest-local-tree=0 (analysed),heaviest-local-weight=81 (analysed))\n",
      " 28628138     00:00:00     rank:0       core:11      info         toolbox::loadbalancing::RecursiveSubdivision::getNumberOfSplitsOnLocalRank(...) not sure if additional trees fit on node. Optimal number of splits is 11, With current mem footprint of 7695 MByte and free memory of 22012 we manually reduce split count to 4\n",
      " 28642578     00:00:00     rank:0       core:11      info         toolbox::loadbalancing::RecursiveSubdivision::getNumberOfSplitsOnLocalRank() insufficient number of cores occupied on this rank, so split 6 cells 4 times from tree 0 on local rank (hosts 81 unrefined cells)\n",
      " 28659101     00:00:00     rank:0       core:11      info         peano4::parallel::SpacetreeSet::split(int,int)          trigger split of tree 0 into tree 1 with 6 fine grid cells\n",
      " 28680361     00:00:00     rank:0       core:11      info         peano4::parallel::SpacetreeSet::split(int,int)          trigger split of tree 0 into tree 2 with 6 fine grid cells\n",
      " 28700606     00:00:00     rank:0       core:11      info         peano4::parallel::SpacetreeSet::split(int,int)          trigger split of tree 0 into tree 3 with 6 fine grid cells\n",
      " 28720856     00:00:00     rank:0       core:11      info         peano4::parallel::SpacetreeSet::split(int,int)          trigger split of tree 0 into tree 4 with 6 fine grid cells\n",
      " 28738559     00:00:00     rank:0       core:11      info         toolbox::loadbalancing::dumpStatistics()                1 tree(s): (#0:81/0) total=81/0 (local/remote)\n",
      " 27921841     00:00:00     rank:0       core:11      info         ::step()                                                run CreateGrid\n",
      " 50720463     00:00:00     rank:0       core:11      info         peano4::grid::Spacetree::Spacetree(...)                 created spacetree 1 with master tree 0\n",
      " 50744370     00:00:00     rank:0       core:11      info         peano4::grid::Spacetree::Spacetree(...)                 created spacetree 2 with master tree 0\n",
      " 50756695     00:00:00     rank:0       core:11      info         peano4::grid::Spacetree::Spacetree(...)                 created spacetree 3 with master tree 0\n",
      " 50767657     00:00:00     rank:0       core:11      info         peano4::grid::Spacetree::Spacetree(...)                 created spacetree 4 with master tree 0\n",
      " 50799050     00:00:00     rank:0       core:11      info         exahype2::RefinementControl::finishStep()               activate 81 refinement/coarsening instructions\n",
      " 50844879     00:00:00     rank:0       core:11      info         toolbox::loadbalancing::RecursiveSubdivision::getStrategyStep() rank is well-balanced, but does not yet use all local cores; split up rank's trees further\n",
      " 50865462     00:00:00     rank:0       core:11      info         toolbox::loadbalancing::RecursiveSubdivision::finishStep() split-heaviest-tree(once,use-local-rank,use-recursive-partitioning) in state (state=standard,global-cell-count=81,lightest-rank=0,has-spread-over-all-ranks=0,has-spread-over-all-cores=1,round-robin-token=0,target-balancing-ratio=0.8,max-tree-weight-at-last-split=2147483647,blacklist-weight=4,number-of-state-updated-without-any-split=0,global-number-of-splits=4,local-number-of-splits=0,local-number-of-unsuccessful-splits-as-load-balancing-had-been-turned-off=0,global-number-of-unsuccessful-splits-as-load-balancing-had-been-turned-off=0,tree 0:81 (on blacklist with weight=3),tree 1:0,tree 2:0,tree 3:0,tree 4:0,heaviest-local-tree=1 (analysed),heaviest-local-weight=0 (analysed))\n",
      " 50880120     00:00:00     rank:0       core:11      info         toolbox::loadbalancing::RecursiveSubdivision::finishStep() split local rank and assign it 1 cell(s)\n",
      " 50889569     00:00:00     rank:0       core:11      info         toolbox::loadbalancing::RecursiveSubdivision::triggerSplit() wanted to split local rank 1 but failed\n",
      " 50901405     00:00:00     rank:0       core:11      info         toolbox::loadbalancing::dumpStatistics()                5 tree(s): (#0:81/0)(#1:0/0)(#2:0/0)(#3:0/0)(#4:0/0) total=81/0 (local/remote)\n",
      " 51341017     00:00:00     rank:0       core:11      info         ::::selectNextAlgorithmicStep()                         mesh has rebalanced recently, so postpone further refinement\n",
      " 50097190     00:00:00     rank:0       core:11      info         ::step()                                                run CreateGridButPostponeRefinement\n",
      " 75534615     00:00:00     rank:0       core:11      info         toolbox::loadbalancing::RecursiveSubdivision::getStrategyStep() rank is well-balanced, but does not yet use all local cores; split up rank's trees further\n",
      " 75571778     00:00:00     rank:0       core:11      info         toolbox::loadbalancing::RecursiveSubdivision::finishStep() split-heaviest-tree(once,use-local-rank,use-recursive-partitioning) in state (state=standard,global-cell-count=105,lightest-rank=0,has-spread-over-all-ranks=0,has-spread-over-all-cores=1,round-robin-token=0,target-balancing-ratio=0.8,max-tree-weight-at-last-split=2147483647,blacklist-weight=4,number-of-state-updated-without-any-split=1,global-number-of-splits=0,local-number-of-splits=0,local-number-of-unsuccessful-splits-as-load-balancing-had-been-turned-off=0,global-number-of-unsuccessful-splits-as-load-balancing-had-been-turned-off=0,tree 0:81 (on blacklist with weight=2),tree 1:6 (on blacklist with weight=3),tree 2:6,tree 3:6,tree 4:6,heaviest-local-tree=2 (analysed),heaviest-local-weight=6 (analysed))\n",
      " 75589491     00:00:00     rank:0       core:11      info         toolbox::loadbalancing::RecursiveSubdivision::finishStep() split local rank and assign it 3 cell(s)\n",
      " 75608866     00:00:00     rank:0       core:11      info         peano4::parallel::SpacetreeSet::split(int,int)          trigger split of tree 2 into tree 5 with 3 fine grid cells\n",
      " 75629979     00:00:00     rank:0       core:11      info         toolbox::loadbalancing::dumpStatistics()                5 tree(s): (#0:81/0)(#1:6/75)(#2:6/75)(#3:6/75)(#4:6/75) total=105/300 (local/remote)\n",
      " 76070021     00:00:00     rank:0       core:11      info         ::::selectNextAlgorithmicStep()                         mesh has rebalanced recently, so postpone further refinement\n",
      " 74825071     00:00:00     rank:0       core:11      info         ::step()                                                run CreateGridButPostponeRefinement\n",
      " 78225915     00:00:00     rank:0       core:0       info         peano4::grid::Spacetree::traverse(TraversalObserver)    have not been able to assign enough cells from 2 to new tree 5 (should have deployed 3 more cells)\n",
      " 91613314     00:00:00     rank:0       core:11      info         peano4::grid::Spacetree::Spacetree(...)                 created spacetree 5 with master tree 2\n",
      " 91702262     00:00:00     rank:0       core:11      info         toolbox::loadbalancing::RecursiveSubdivision::getStrategyStep() rank is well-balanced, but does not yet use all local cores; split up rank's trees further\n",
      " 91810037     00:00:00     rank:0       core:11      info         toolbox::loadbalancing::RecursiveSubdivision::finishStep() split-heaviest-tree(once,use-local-rank,use-recursive-partitioning) in state (state=standard,global-cell-count=81,lightest-rank=0,has-spread-over-all-ranks=0,has-spread-over-all-cores=1,round-robin-token=0,target-balancing-ratio=0.8,max-tree-weight-at-last-split=6,blacklist-weight=6,number-of-state-updated-without-any-split=0,global-number-of-splits=1,local-number-of-splits=0,local-number-of-unsuccessful-splits-as-load-balancing-had-been-turned-off=0,global-number-of-unsuccessful-splits-as-load-balancing-had-been-turned-off=0,tree 0:57 (on blacklist with weight=1),tree 1:6 (on blacklist with weight=2),tree 2:6 (on blacklist with weight=3),tree 3:6,tree 4:6,tree 5:0,heaviest-local-tree=3 (analysed),heaviest-local-weight=6 (analysed))\n",
      " 91831906     00:00:00     rank:0       core:11      info         toolbox::loadbalancing::RecursiveSubdivision::finishStep() split local rank and assign it 3 cell(s)\n",
      " 91854988     00:00:00     rank:0       core:11      info         peano4::parallel::SpacetreeSet::split(int,int)          trigger split of tree 3 into tree 6 with 3 fine grid cells\n",
      " 91878951     00:00:00     rank:0       core:11      info         toolbox::loadbalancing::dumpStatistics()                6 tree(s): (#0:57/24)(#1:6/75)(#2:6/75)(#3:6/75)(#4:6/75)(#5:0/0) total=81/324 (local/remote)\n",
      " 92320777     00:00:00     rank:0       core:11      info         ::::selectNextAlgorithmicStep()                         mesh has rebalanced recently, so postpone further refinement\n",
      " 91078026     00:00:00     rank:0       core:11      info         ::step()                                                run CreateGridButPostponeRefinement\n",
      " 94492034     00:00:00     rank:0       core:2       info         peano4::grid::Spacetree::traverse(TraversalObserver)    have not been able to assign enough cells from 3 to new tree 6 (should have deployed 3 more cells)\n"
     ]
    },
    {
     "name": "stdout",
     "output_type": "stream",
     "text": [
      " 115076718    00:00:00     rank:0       core:11      info         peano4::grid::Spacetree::Spacetree(...)                 created spacetree 6 with master tree 3\n",
      " 115175185    00:00:00     rank:0       core:11      info         toolbox::loadbalancing::RecursiveSubdivision::getStrategyStep() rank is well-balanced, but does not yet use all local cores; split up rank's trees further\n",
      " 115199512    00:00:00     rank:0       core:11      info         toolbox::loadbalancing::RecursiveSubdivision::finishStep() split-heaviest-tree(once,use-local-rank,use-recursive-partitioning) in state (state=standard,global-cell-count=81,lightest-rank=0,has-spread-over-all-ranks=0,has-spread-over-all-cores=1,round-robin-token=0,target-balancing-ratio=0.8,max-tree-weight-at-last-split=6,blacklist-weight=8,number-of-state-updated-without-any-split=0,global-number-of-splits=1,local-number-of-splits=0,local-number-of-unsuccessful-splits-as-load-balancing-had-been-turned-off=0,global-number-of-unsuccessful-splits-as-load-balancing-had-been-turned-off=0,tree 0:57 (on blacklist with weight=0),tree 1:6 (on blacklist with weight=1),tree 2:6 (on blacklist with weight=2),tree 3:6 (on blacklist with weight=5),tree 4:6,tree 5:0,tree 6:0,heaviest-local-tree=4 (analysed),heaviest-local-weight=6 (analysed))\n",
      " 115216545    00:00:00     rank:0       core:11      info         toolbox::loadbalancing::RecursiveSubdivision::finishStep() split local rank and assign it 3 cell(s)\n",
      " 115233356    00:00:00     rank:0       core:11      info         peano4::parallel::SpacetreeSet::split(int,int)          trigger split of tree 4 into tree 7 with 3 fine grid cells\n",
      " 115255142    00:00:00     rank:0       core:11      info         toolbox::loadbalancing::dumpStatistics()                7 tree(s): (#0:57/24)(#1:6/75)(#2:6/75)(#3:6/75)(#4:6/75)(#5:0/57)(#6:0/0) total=81/381 (local/remote)\n",
      " 115695694    00:00:00     rank:0       core:11      info         ::::selectNextAlgorithmicStep()                         mesh has rebalanced recently, so postpone further refinement\n",
      " 114450749    00:00:00     rank:0       core:11      info         ::step()                                                run CreateGridButPostponeRefinement\n",
      " 117605675    00:00:00     rank:0       core:4       info         peano4::grid::Spacetree::traverse(TraversalObserver)    have not been able to assign enough cells from 4 to new tree 7 (should have deployed 3 more cells)\n",
      " 135946504    00:00:00     rank:0       core:11      info         peano4::grid::Spacetree::Spacetree(...)                 created spacetree 7 with master tree 4\n",
      " 136049499    00:00:00     rank:0       core:11      info         toolbox::loadbalancing::RecursiveSubdivision::getStrategyStep() rank is well-balanced, but does not yet use all local cores; split up rank's trees further\n",
      " 136074637    00:00:00     rank:0       core:11      info         toolbox::loadbalancing::RecursiveSubdivision::finishStep() split-heaviest-tree(once,use-local-rank,use-recursive-partitioning) in state (state=standard,global-cell-count=81,lightest-rank=0,has-spread-over-all-ranks=0,has-spread-over-all-cores=1,round-robin-token=0,target-balancing-ratio=0.8,max-tree-weight-at-last-split=6,blacklist-weight=7,number-of-state-updated-without-any-split=0,global-number-of-splits=1,local-number-of-splits=0,local-number-of-unsuccessful-splits-as-load-balancing-had-been-turned-off=0,global-number-of-unsuccessful-splits-as-load-balancing-had-been-turned-off=0,tree 0:57,tree 1:6 (on blacklist with weight=0),tree 2:6 (on blacklist with weight=1),tree 3:6 (on blacklist with weight=4),tree 4:6 (on blacklist with weight=7),tree 5:0,tree 6:0,tree 7:0,heaviest-local-tree=0 (analysed),heaviest-local-weight=57 (analysed))\n",
      " 136092343    00:00:00     rank:0       core:11      info         toolbox::loadbalancing::RecursiveSubdivision::finishStep() split local rank and assign it 28 cell(s)\n",
      " 136109313    00:00:00     rank:0       core:11      info         peano4::parallel::SpacetreeSet::split(int,int)          trigger split of tree 0 into tree 8 with 28 fine grid cells\n",
      " 136132326    00:00:00     rank:0       core:11      info         toolbox::loadbalancing::dumpStatistics()                8 tree(s): (#0:57/24)(#1:6/51)(#2:6/51)(#3:6/51)(#4:6/51)(#5:0/57)(#6:0/57)(#7:0/0) total=81/342 (local/remote)\n",
      " 136573648    00:00:00     rank:0       core:11      info         ::::selectNextAlgorithmicStep()                         mesh has rebalanced recently, so postpone further refinement\n",
      " 135329179    00:00:00     rank:0       core:11      info         ::step()                                                run CreateGridButPostponeRefinement\n",
      " 156009094    00:00:00     rank:0       core:11      info         peano4::grid::Spacetree::Spacetree(...)                 created spacetree 8 with master tree 0\n",
      " 156097424    00:00:00     rank:0       core:11      info         toolbox::loadbalancing::RecursiveSubdivision::getStrategyStep() rank is well-balanced, but does not yet use all local cores; split up rank's trees further\n",
      " 156123768    00:00:00     rank:0       core:11      info         toolbox::loadbalancing::RecursiveSubdivision::finishStep() split-heaviest-tree(once,use-local-rank,use-recursive-partitioning) in state (state=standard,global-cell-count=81,lightest-rank=0,has-spread-over-all-ranks=0,has-spread-over-all-cores=1,round-robin-token=0,target-balancing-ratio=0.8,max-tree-weight-at-last-split=6,blacklist-weight=9,number-of-state-updated-without-any-split=0,global-number-of-splits=1,local-number-of-splits=0,local-number-of-unsuccessful-splits-as-load-balancing-had-been-turned-off=0,global-number-of-unsuccessful-splits-as-load-balancing-had-been-turned-off=0,tree 0:57 (on blacklist with weight=6),tree 1:6,tree 2:6 (on blacklist with weight=0),tree 3:6 (on blacklist with weight=3),tree 4:6 (on blacklist with weight=6),tree 5:0,tree 6:0,tree 7:0,tree 8:0,heaviest-local-tree=1 (analysed),heaviest-local-weight=6 (analysed))\n",
      " 156141344    00:00:00     rank:0       core:11      info         toolbox::loadbalancing::RecursiveSubdivision::finishStep() split local rank and assign it 3 cell(s)\n",
      " 156158408    00:00:00     rank:0       core:11      info         peano4::parallel::SpacetreeSet::split(int,int)          trigger split of tree 1 into tree 9 with 3 fine grid cells\n",
      " 156181570    00:00:00     rank:0       core:11      info         toolbox::loadbalancing::dumpStatistics()                9 tree(s): (#0:57/24)(#1:6/35)(#2:6/51)(#3:6/51)(#4:6/35)(#5:0/57)(#6:0/57)(#7:0/41)(#8:0/0) total=81/351 (local/remote)\n",
      " 156622808    00:00:00     rank:0       core:11      info         ::::selectNextAlgorithmicStep()                         mesh has rebalanced recently, so postpone further refinement\n",
      " 155377919    00:00:00     rank:0       core:11      info         ::step()                                                run CreateGridButPostponeRefinement\n",
      " 159414002    00:00:00     rank:0       core:2       info         peano4::grid::Spacetree::traverse(TraversalObserver)    have not been able to assign enough cells from 1 to new tree 9 (should have deployed 3 more cells)\n",
      " 177040114    00:00:00     rank:0       core:11      info         peano4::grid::Spacetree::Spacetree(...)                 created spacetree 9 with master tree 1\n",
      " 177139600    00:00:00     rank:0       core:11      info         toolbox::loadbalancing::RecursiveSubdivision::getStrategyStep() rank is well-balanced, but does not yet use all local cores; split up rank's trees further\n",
      " 177166002    00:00:00     rank:0       core:11      info         toolbox::loadbalancing::RecursiveSubdivision::finishStep() split-heaviest-tree(once,use-local-rank,use-recursive-partitioning) in state (state=standard,global-cell-count=109,lightest-rank=0,has-spread-over-all-ranks=0,has-spread-over-all-cores=1,round-robin-token=0,target-balancing-ratio=0.8,max-tree-weight-at-last-split=6,blacklist-weight=8,number-of-state-updated-without-any-split=0,global-number-of-splits=1,local-number-of-splits=0,local-number-of-unsuccessful-splits-as-load-balancing-had-been-turned-off=0,global-number-of-unsuccessful-splits-as-load-balancing-had-been-turned-off=0,tree 0:57 (on blacklist with weight=5),tree 1:6 (on blacklist with weight=8),tree 2:6,tree 3:6 (on blacklist with weight=2),tree 4:6 (on blacklist with weight=5),tree 5:0,tree 6:0,tree 7:0,tree 8:28,tree 9:0,heaviest-local-tree=8 (analysed),heaviest-local-weight=28 (analysed))\n",
      " 177183971    00:00:00     rank:0       core:11      info         toolbox::loadbalancing::RecursiveSubdivision::finishStep() split local rank and assign it 14 cell(s)\n",
      " 177201269    00:00:00     rank:0       core:11      info         peano4::parallel::SpacetreeSet::split(int,int)          trigger split of tree 8 into tree 10 with 14 fine grid cells\n",
      " 177225033    00:00:00     rank:0       core:11      info         toolbox::loadbalancing::dumpStatistics()                10 tree(s): (#0:57/24)(#1:6/35)(#2:6/51)(#3:6/51)(#4:6/35)(#5:0/57)(#6:0/57)(#7:0/41)(#8:28/53)(#9:0/0) total=109/404 (local/remote)\n",
      " 177666612    00:00:00     rank:0       core:11      info         ::::selectNextAlgorithmicStep()                         mesh has rebalanced recently, so postpone further refinement\n",
      " 176421738    00:00:00     rank:0       core:11      info         ::step()                                                run CreateGridButPostponeRefinement\n",
      " 189477374    00:00:00     rank:0       core:11      info         peano4::grid::Spacetree::Spacetree(...)                 created spacetree 10 with master tree 8\n",
      " 189573922    00:00:00     rank:0       core:11      info         toolbox::loadbalancing::RecursiveSubdivision::getStrategyStep() rank is well-balanced, but does not yet use all local cores; split up rank's trees further\n",
      " 189601027    00:00:00     rank:0       core:11      info         toolbox::loadbalancing::RecursiveSubdivision::finishStep() split-heaviest-tree(once,use-local-rank,use-recursive-partitioning) in state (state=standard,global-cell-count=81,lightest-rank=0,has-spread-over-all-ranks=0,has-spread-over-all-cores=1,round-robin-token=0,target-balancing-ratio=0.8,max-tree-weight-at-last-split=6,blacklist-weight=10,number-of-state-updated-without-any-split=0,global-number-of-splits=1,local-number-of-splits=0,local-number-of-unsuccessful-splits-as-load-balancing-had-been-turned-off=0,global-number-of-unsuccessful-splits-as-load-balancing-had-been-turned-off=0,tree 0:29 (on blacklist with weight=4),tree 1:6 (on blacklist with weight=7),tree 2:6,tree 3:6 (on blacklist with weight=1),tree 4:6 (on blacklist with weight=4),tree 5:0,tree 6:0,tree 7:0,tree 8:28 (on blacklist with weight=7),tree 9:0,tree 10:0,heaviest-local-tree=2 (analysed),heaviest-local-weight=6 (analysed))\n",
      " 189621585    00:00:00     rank:0       core:11      info         toolbox::loadbalancing::RecursiveSubdivision::finishStep() split local rank and assign it 3 cell(s)\n",
      " 189638674    00:00:00     rank:0       core:11      info         peano4::parallel::SpacetreeSet::split(int,int)          trigger split of tree 2 into tree 11 with 3 fine grid cells\n",
      " 189662584    00:00:00     rank:0       core:11      info         toolbox::loadbalancing::dumpStatistics()                11 tree(s): (#0:29/52)(#1:6/35)(#2:6/51)(#3:6/51)(#4:6/35)(#5:0/9)(#6:0/57)(#7:0/41)(#8:28/53)(#9:0/41)(#10:0/0) total=81/425 (local/remote)\n",
      " 190104562    00:00:00     rank:0       core:11      info         ::::selectNextAlgorithmicStep()                         mesh has rebalanced recently, so postpone further refinement\n",
      " 188860095    00:00:00     rank:0       core:11      info         ::step()                                                run CreateGridButPostponeRefinement\n",
      " 192014230    00:00:00     rank:0       core:2       info         peano4::grid::Spacetree::traverse(TraversalObserver)    have not been able to assign enough cells from 2 to new tree 11 (should have deployed 3 more cells)\n"
     ]
    },
    {
     "name": "stdout",
     "output_type": "stream",
     "text": [
      " 206169158    00:00:00     rank:0       core:11      info         peano4::grid::Spacetree::Spacetree(...)                 created spacetree 11 with master tree 2\r\n",
      " 206261397    00:00:00     rank:0       core:11      info         toolbox::loadbalancing::dumpStatistics()                12 tree(s): (#0:29/52)(#1:6/35)(#2:6/51)(#3:6/51)(#4:6/35)(#5:0/9)(#6:0/9)(#7:0/41)(#8:28/53)(#9:0/41)(#10:14/67)(#11:0/0) total=95/444 (local/remote)\r\n",
      " 206708028    00:00:00     rank:0       core:11      info         ::::selectNextAlgorithmicStep()                         mesh has rebalanced recently but I've done so many iterations without refinement that I insert one refinement next\r\n",
      " 205464343    00:00:00     rank:0       core:11      info         ::step()                                                run CreateGridButPostponeRefinement\r\n",
      " 220056529    00:00:00     rank:0       core:11      info         peano4::parallel::SpacetreeSet::traverse(Observer)      remove empty tree 5 with master 2\r\n",
      " 220140050    00:00:00     rank:0       core:11      info         toolbox::loadbalancing::RecursiveSubdivision::getStrategyStep() rank is well-balanced, but does not yet use all local cores; split up rank's trees further\r\n",
      " 220166761    00:00:00     rank:0       core:11      info         toolbox::loadbalancing::RecursiveSubdivision::finishStep() split-heaviest-tree(once,use-local-rank,use-recursive-partitioning) in state (state=standard,global-cell-count=81,lightest-rank=0,has-spread-over-all-ranks=0,has-spread-over-all-cores=1,round-robin-token=0,target-balancing-ratio=0.8,max-tree-weight-at-last-split=6,blacklist-weight=8,number-of-state-updated-without-any-split=1,global-number-of-splits=0,local-number-of-splits=0,local-number-of-unsuccessful-splits-as-load-balancing-had-been-turned-off=0,global-number-of-unsuccessful-splits-as-load-balancing-had-been-turned-off=0,tree 0:29 (on blacklist with weight=2),tree 1:6 (on blacklist with weight=5),tree 2:6 (on blacklist with weight=8),tree 3:6,tree 4:6 (on blacklist with weight=2),tree 6:0,tree 7:0,tree 8:14 (on blacklist with weight=5),tree 9:0,tree 10:14,tree 11:0,heaviest-local-tree=10 (analysed),heaviest-local-weight=14 (analysed))\r\n",
      " 220185452    00:00:00     rank:0       core:11      info         toolbox::loadbalancing::RecursiveSubdivision::finishStep() split local rank and assign it 7 cell(s)\r\n",
      " 220202046    00:00:00     rank:0       core:11      info         peano4::parallel::SpacetreeSet::split(int,int)          trigger split of tree 10 into tree 5 with 7 fine grid cells\r\n",
      " 220226734    00:00:00     rank:0       core:11      info         toolbox::loadbalancing::dumpStatistics()                11 tree(s): (#0:29/52)(#1:6/35)(#2:6/51)(#3:6/51)(#4:6/35)(#6:0/9)(#7:0/9)(#8:14/67)(#9:0/41)(#10:14/67)(#11:0/57) total=81/474 (local/remote)\r\n",
      " 220668065    00:00:00     rank:0       core:11      info         ::::selectNextAlgorithmicStep()                         mesh has rebalanced recently, so postpone further refinement\r\n",
      " 219423199    00:00:00     rank:0       core:11      info         ::step()                                                run CreateGrid\r\n",
      " 225993507    00:00:00     rank:0       core:9       info         peano4::grid::Spacetree::traverse(TraversalObserver)    have not been able to assign enough cells from 10 to new tree 5 (should have deployed 7 more cells)\r\n",
      " 232949037    00:00:00     rank:0       core:11      info         peano4::parallel::SpacetreeSet::traverse(Observer)      remove empty tree 6 with master 3\r\n",
      " 232974615    00:00:00     rank:0       core:11      info         peano4::grid::Spacetree::Spacetree(...)                 created spacetree 5 with master tree 10\r\n",
      " 233011586    00:00:00     rank:0       core:11      info         exahype2::RefinementControl::finishStep()               activate 81 refinement/coarsening instructions\r\n",
      " 233069718    00:00:00     rank:0       core:11      info         toolbox::loadbalancing::RecursiveSubdivision::getStrategyStep() rank is well-balanced, but does not yet use all local cores; split up rank's trees further\r\n",
      " 233095478    00:00:00     rank:0       core:11      info         toolbox::loadbalancing::RecursiveSubdivision::finishStep() split-heaviest-tree(once,use-local-rank,use-recursive-partitioning) in state (state=standard,global-cell-count=81,lightest-rank=0,has-spread-over-all-ranks=0,has-spread-over-all-cores=1,round-robin-token=0,target-balancing-ratio=0.8,max-tree-weight-at-last-split=6,blacklist-weight=10,number-of-state-updated-without-any-split=0,global-number-of-splits=1,local-number-of-splits=0,local-number-of-unsuccessful-splits-as-load-balancing-had-been-turned-off=0,global-number-of-unsuccessful-splits-as-load-balancing-had-been-turned-off=0,tree 0:29 (on blacklist with weight=1),tree 1:6 (on blacklist with weight=4),tree 2:6 (on blacklist with weight=7),tree 3:6,tree 4:6 (on blacklist with weight=1),tree 5:0,tree 7:0,tree 8:14 (on blacklist with weight=4),tree 9:0,tree 10:14 (on blacklist with weight=7),tree 11:0,heaviest-local-tree=3 (analysed),heaviest-local-weight=6 (analysed))\r\n",
      " 233114527    00:00:00     rank:0       core:11      info         toolbox::loadbalancing::RecursiveSubdivision::finishStep() split local rank and assign it 3 cell(s)\r\n",
      " 233130366    00:00:00     rank:0       core:11      info         peano4::parallel::SpacetreeSet::split(int,int)          trigger split of tree 3 into tree 6 with 3 fine grid cells\r\n",
      " 233153940    00:00:00     rank:0       core:11      info         toolbox::loadbalancing::dumpStatistics()                11 tree(s): (#0:29/52)(#1:6/35)(#2:6/51)(#3:6/51)(#4:6/35)(#5:0/0)(#7:0/9)(#8:14/59)(#9:0/41)(#10:14/59)(#11:0/57) total=81/449 (local/remote)\r\n",
      " 233596642    00:00:00     rank:0       core:11      info         ::::selectNextAlgorithmicStep()                         mesh has rebalanced recently, so postpone further refinement\r\n",
      " 232353665    00:00:00     rank:0       core:11      info         ::step()                                                run CreateGridButPostponeRefinement\r\n",
      " 235983894    00:00:00     rank:0       core:6       info         peano4::grid::Spacetree::traverse(TraversalObserver)    have not been able to assign enough cells from 3 to new tree 6 (should have deployed 3 more cells)\r\n",
      " 247354518    00:00:00     rank:0       core:11      info         peano4::parallel::SpacetreeSet::traverse(Observer)      remove empty tree 7 with master 4\r\n",
      " 247375129    00:00:00     rank:0       core:11      info         peano4::grid::Spacetree::Spacetree(...)                 created spacetree 6 with master tree 3\r\n",
      " 247439956    00:00:00     rank:0       core:11      info         toolbox::loadbalancing::RecursiveSubdivision::getStrategyStep() rank is well-balanced, but does not yet use all local cores; split up rank's trees further\r\n",
      " 247464843    00:00:00     rank:0       core:11      info         toolbox::loadbalancing::RecursiveSubdivision::finishStep() split-heaviest-tree(once,use-local-rank,use-recursive-partitioning) in state (state=standard,global-cell-count=81,lightest-rank=0,has-spread-over-all-ranks=0,has-spread-over-all-cores=1,round-robin-token=0,target-balancing-ratio=0.8,max-tree-weight-at-last-split=6,blacklist-weight=9,number-of-state-updated-without-any-split=0,global-number-of-splits=1,local-number-of-splits=0,local-number-of-unsuccessful-splits-as-load-balancing-had-been-turned-off=0,global-number-of-unsuccessful-splits-as-load-balancing-had-been-turned-off=0,tree 0:29 (on blacklist with weight=0),tree 1:6 (on blacklist with weight=3),tree 2:6 (on blacklist with weight=6),tree 3:6 (on blacklist with weight=9),tree 4:6 (on blacklist with weight=0),tree 5:0,tree 6:0,tree 8:14 (on blacklist with weight=3),tree 9:0,tree 10:14 (on blacklist with weight=6),tree 11:0,heaviest-local-tree=5 (analysed),heaviest-local-weight=0 (analysed))\r\n",
      " 247487239    00:00:00     rank:0       core:11      info         toolbox::loadbalancing::RecursiveSubdivision::finishStep() split local rank and assign it 1 cell(s)\r\n",
      " 247497114    00:00:00     rank:0       core:11      info         toolbox::loadbalancing::RecursiveSubdivision::triggerSplit() wanted to split local rank 5 but failed\r\n",
      " 247512783    00:00:00     rank:0       core:11      info         toolbox::loadbalancing::dumpStatistics()                11 tree(s): (#0:29/52)(#1:6/35)(#2:6/51)(#3:6/51)(#4:6/35)(#5:0/57)(#6:0/0)(#8:14/59)(#9:0/9)(#10:14/59)(#11:0/57) total=81/465 (local/remote)\r\n",
      " 247953406    00:00:00     rank:0       core:11      info         ::::selectNextAlgorithmicStep()                         mesh has rebalanced recently, so postpone further refinement\r\n",
      " 246708474    00:00:00     rank:0       core:11      info         ::step()                                                run CreateGridButPostponeRefinement\r\n"
     ]
    },
    {
     "name": "stdout",
     "output_type": "stream",
     "text": [
      " 266757805    00:00:00     rank:0       core:11      info         toolbox::loadbalancing::RecursiveSubdivision::getStrategyStep() rank is well-balanced, but does not yet use all local cores; split up rank's trees further\n",
      " 266796849    00:00:00     rank:0       core:11      info         toolbox::loadbalancing::RecursiveSubdivision::finishStep() split-heaviest-tree(once,use-local-rank,use-recursive-partitioning) in state (state=standard,global-cell-count=81,lightest-rank=0,has-spread-over-all-ranks=0,has-spread-over-all-cores=1,round-robin-token=0,target-balancing-ratio=0.8,max-tree-weight-at-last-split=6,blacklist-weight=8,number-of-state-updated-without-any-split=1,global-number-of-splits=0,local-number-of-splits=0,local-number-of-unsuccessful-splits-as-load-balancing-had-been-turned-off=0,global-number-of-unsuccessful-splits-as-load-balancing-had-been-turned-off=0,tree 0:29,tree 1:6 (on blacklist with weight=2),tree 2:6 (on blacklist with weight=5),tree 3:6 (on blacklist with weight=8),tree 4:6,tree 5:0 (on blacklist with weight=8),tree 6:0,tree 8:14 (on blacklist with weight=2),tree 9:0,tree 10:14 (on blacklist with weight=5),tree 11:0,heaviest-local-tree=0 (analysed),heaviest-local-weight=29 (analysed))\n",
      " 267125323    00:00:00     rank:0       core:11      info         toolbox::loadbalancing::RecursiveSubdivision::finishStep() split local rank and assign it 14 cell(s)\n",
      " 267151214    00:00:00     rank:0       core:11      info         peano4::parallel::SpacetreeSet::split(int,int)          trigger split of tree 0 into tree 7 with 14 fine grid cells\n",
      " 267177106    00:00:00     rank:0       core:11      info         toolbox::loadbalancing::dumpStatistics()                11 tree(s): (#0:29/52)(#1:6/35)(#2:6/51)(#3:6/51)(#4:6/35)(#5:0/57)(#6:0/57)(#8:14/59)(#9:0/9)(#10:14/43)(#11:0/57) total=81/506 (local/remote)\n",
      " 267618857    00:00:00     rank:0       core:11      info         ::::selectNextAlgorithmicStep()                         mesh has rebalanced recently, so postpone further refinement\n",
      " 266374254    00:00:00     rank:0       core:11      info         ::step()                                                run CreateGridButPostponeRefinement\n",
      " 279986765    00:00:00     rank:0       core:11      info         peano4::parallel::SpacetreeSet::traverse(Observer)      remove empty tree 9 with master 1\n",
      " 280053901    00:00:00     rank:0       core:11      info         peano4::grid::Spacetree::Spacetree(...)                 created spacetree 7 with master tree 0\n",
      " 280130042    00:00:00     rank:0       core:11      info         toolbox::loadbalancing::RecursiveSubdivision::getStrategyStep() rank is well-balanced, but does not yet use all local cores; split up rank's trees further\n",
      " 280156019    00:00:00     rank:0       core:11      info         toolbox::loadbalancing::RecursiveSubdivision::finishStep() split-heaviest-tree(once,use-local-rank,use-recursive-partitioning) in state (state=standard,global-cell-count=81,lightest-rank=0,has-spread-over-all-ranks=0,has-spread-over-all-cores=1,round-robin-token=0,target-balancing-ratio=0.8,max-tree-weight-at-last-split=6,blacklist-weight=10,number-of-state-updated-without-any-split=0,global-number-of-splits=1,local-number-of-splits=0,local-number-of-unsuccessful-splits-as-load-balancing-had-been-turned-off=0,global-number-of-unsuccessful-splits-as-load-balancing-had-been-turned-off=0,tree 0:29 (on blacklist with weight=7),tree 1:6 (on blacklist with weight=1),tree 2:6 (on blacklist with weight=4),tree 3:6 (on blacklist with weight=7),tree 4:6,tree 5:0 (on blacklist with weight=7),tree 6:0,tree 7:0,tree 8:14 (on blacklist with weight=1),tree 10:14 (on blacklist with weight=4),tree 11:0,heaviest-local-tree=4 (analysed),heaviest-local-weight=6 (analysed))\n",
      " 280178073    00:00:00     rank:0       core:11      info         toolbox::loadbalancing::RecursiveSubdivision::finishStep() split local rank and assign it 3 cell(s)\n",
      " 280195480    00:00:00     rank:0       core:11      info         peano4::parallel::SpacetreeSet::split(int,int)          trigger split of tree 4 into tree 9 with 3 fine grid cells\n",
      " 280221958    00:00:00     rank:0       core:11      info         toolbox::loadbalancing::dumpStatistics()                11 tree(s): (#0:29/52)(#1:6/35)(#2:6/51)(#3:6/51)(#4:6/35)(#5:0/57)(#6:0/57)(#7:0/0)(#8:14/59)(#10:14/43)(#11:0/9) total=81/449 (local/remote)\n",
      " 280665945    00:00:00     rank:0       core:11      info         ::::selectNextAlgorithmicStep()                         mesh has rebalanced recently, so postpone further refinement\n",
      " 279423420    00:00:00     rank:0       core:11      info         ::step()                                                run CreateGridButPostponeRefinement\n",
      " 282856958    00:00:00     rank:0       core:8       info         peano4::grid::Spacetree::traverse(TraversalObserver)    have not been able to assign enough cells from 4 to new tree 9 (should have deployed 3 more cells)\n",
      " 294990177    00:00:00     rank:0       core:11      info         peano4::grid::Spacetree::Spacetree(...)                 created spacetree 9 with master tree 4\n",
      " 295069499    00:00:00     rank:0       core:11      info         toolbox::loadbalancing::dumpStatistics()                12 tree(s): (#0:29/52)(#1:6/35)(#2:6/51)(#3:6/51)(#4:6/35)(#5:0/57)(#6:0/57)(#7:14/67)(#8:14/59)(#9:0/0)(#10:14/43)(#11:0/9) total=95/516 (local/remote)\n",
      " 295515175    00:00:00     rank:0       core:11      info         ::::selectNextAlgorithmicStep()                         mesh has rebalanced recently, so postpone further refinement\n",
      " 294271118    00:00:00     rank:0       core:11      info         ::step()                                                run CreateGridButPostponeRefinement\n",
      " 305484030    00:00:00     rank:0       core:11      info         peano4::parallel::SpacetreeSet::traverse(Observer)      remove empty tree 11 with master 2\n",
      " 305576764    00:00:00     rank:0       core:11      info         toolbox::loadbalancing::RecursiveSubdivision::getStrategyStep() rank is well-balanced, but does not yet use all local cores; split up rank's trees further\n",
      " 305605455    00:00:00     rank:0       core:11      info         toolbox::loadbalancing::RecursiveSubdivision::finishStep() split-heaviest-tree(once,use-local-rank,use-recursive-partitioning) in state (state=standard,global-cell-count=81,lightest-rank=0,has-spread-over-all-ranks=0,has-spread-over-all-cores=1,round-robin-token=0,target-balancing-ratio=0.8,max-tree-weight-at-last-split=6,blacklist-weight=8,number-of-state-updated-without-any-split=1,global-number-of-splits=0,local-number-of-splits=0,local-number-of-unsuccessful-splits-as-load-balancing-had-been-turned-off=0,global-number-of-unsuccessful-splits-as-load-balancing-had-been-turned-off=0,tree 0:15 (on blacklist with weight=5),tree 1:6,tree 2:6 (on blacklist with weight=2),tree 3:6 (on blacklist with weight=5),tree 4:6 (on blacklist with weight=8),tree 5:0 (on blacklist with weight=5),tree 6:0,tree 7:14,tree 8:14,tree 9:0,tree 10:14 (on blacklist with weight=2),heaviest-local-tree=7 (analysed),heaviest-local-weight=14 (analysed))\n",
      " 305623317    00:00:00     rank:0       core:11      info         toolbox::loadbalancing::RecursiveSubdivision::finishStep() split local rank and assign it 7 cell(s)\n",
      " 305640278    00:00:00     rank:0       core:11      info         peano4::parallel::SpacetreeSet::split(int,int)          trigger split of tree 7 into tree 11 with 7 fine grid cells\n",
      " 305664753    00:00:00     rank:0       core:11      info         toolbox::loadbalancing::dumpStatistics()                11 tree(s): (#0:15/66)(#1:6/35)(#2:6/51)(#3:6/51)(#4:6/35)(#5:0/9)(#6:0/57)(#7:14/67)(#8:14/59)(#9:0/41)(#10:14/43) total=81/514 (local/remote)\n",
      " 306106040    00:00:00     rank:0       core:11      info         ::::selectNextAlgorithmicStep()                         mesh has rebalanced recently, so postpone further refinement\n",
      " 304862720    00:00:00     rank:0       core:11      info         ::step()                                                run CreateGridButPostponeRefinement\n",
      " 310755243    00:00:00     rank:0       core:5       info         peano4::grid::Spacetree::traverse(TraversalObserver)    have not been able to assign enough cells from 7 to new tree 11 (should have deployed 7 more cells)\n",
      " 314419438    00:00:00     rank:0       core:11      info         peano4::grid::Spacetree::Spacetree(...)                 created spacetree 11 with master tree 7\n",
      " 314491753    00:00:00     rank:0       core:11      info         toolbox::loadbalancing::dumpStatistics()                12 tree(s): (#0:15/66)(#1:6/35)(#2:6/51)(#3:6/51)(#4:6/35)(#5:0/9)(#6:0/9)(#7:14/67)(#8:14/59)(#9:0/41)(#10:14/43)(#11:0/0) total=81/466 (local/remote)\n",
      " 314936874    00:00:00     rank:0       core:11      info         ::::selectNextAlgorithmicStep()                         mesh has rebalanced recently, so postpone further refinement\n",
      " 313692482    00:00:00     rank:0       core:11      info         ::step()                                                run CreateGridButPostponeRefinement\n",
      " 325711755    00:00:00     rank:0       core:11      info         peano4::parallel::SpacetreeSet::traverse(Observer)      remove empty tree 5 with master 10\n",
      " 325788035    00:00:00     rank:0       core:11      info         toolbox::loadbalancing::RecursiveSubdivision::getStrategyStep() rank is well-balanced, but does not yet use all local cores; split up rank's trees further\n",
      " 325814325    00:00:00     rank:0       core:11      info         toolbox::loadbalancing::RecursiveSubdivision::finishStep() split-heaviest-tree(once,use-local-rank,use-recursive-partitioning) in state (state=standard,global-cell-count=81,lightest-rank=0,has-spread-over-all-ranks=0,has-spread-over-all-cores=1,round-robin-token=0,target-balancing-ratio=0.8,max-tree-weight-at-last-split=14,blacklist-weight=12,number-of-state-updated-without-any-split=1,global-number-of-splits=0,local-number-of-splits=0,local-number-of-unsuccessful-splits-as-load-balancing-had-been-turned-off=0,global-number-of-unsuccessful-splits-as-load-balancing-had-been-turned-off=0,tree 0:15 (on blacklist with weight=3),tree 1:6,tree 2:6 (on blacklist with weight=0),tree 3:6 (on blacklist with weight=3),tree 4:6 (on blacklist with weight=6),tree 6:0,tree 7:14 (on blacklist with weight=6),tree 8:14,tree 9:0,tree 10:14 (on blacklist with weight=0),tree 11:0,heaviest-local-tree=8 (analysed),heaviest-local-weight=14 (analysed))\n",
      " 325832006    00:00:00     rank:0       core:11      info         toolbox::loadbalancing::RecursiveSubdivision::finishStep() split local rank and assign it 7 cell(s)\n",
      " 325848638    00:00:00     rank:0       core:11      info         peano4::parallel::SpacetreeSet::split(int,int)          trigger split of tree 8 into tree 5 with 7 fine grid cells\n",
      " 325872636    00:00:00     rank:0       core:11      info         toolbox::loadbalancing::dumpStatistics()                11 tree(s): (#0:15/66)(#1:6/35)(#2:6/51)(#3:6/51)(#4:6/35)(#6:0/9)(#7:14/67)(#8:14/59)(#9:0/41)(#10:14/43)(#11:0/81) total=81/538 (local/remote)\n",
      " 326313437    00:00:00     rank:0       core:11      info         ::::selectNextAlgorithmicStep()                         mesh has rebalanced recently, so postpone further refinement\n",
      " 325068468    00:00:00     rank:0       core:11      info         ::step()                                                run CreateGridButPostponeRefinement\n",
      " 335393081    00:00:00     rank:0       core:11      info         peano4::parallel::SpacetreeSet::traverse(Observer)      remove empty tree 6 with master 3\n",
      " 335417092    00:00:00     rank:0       core:11      info         peano4::grid::Spacetree::Spacetree(...)                 created spacetree 5 with master tree 8\n",
      " 335483925    00:00:00     rank:0       core:11      info         toolbox::loadbalancing::RecursiveSubdivision::getStrategyStep() rank is well-balanced, but does not yet use all local cores; split up rank's trees further\n",
      " 335508559    00:00:00     rank:0       core:11      info         toolbox::loadbalancing::RecursiveSubdivision::finishStep() split-heaviest-tree(once,use-local-rank,use-recursive-partitioning) in state (state=standard,global-cell-count=81,lightest-rank=0,has-spread-over-all-ranks=0,has-spread-over-all-cores=1,round-robin-token=0,target-balancing-ratio=0.8,max-tree-weight-at-last-split=6,blacklist-weight=11,number-of-state-updated-without-any-split=0,global-number-of-splits=1,local-number-of-splits=0,local-number-of-unsuccessful-splits-as-load-balancing-had-been-turned-off=0,global-number-of-unsuccessful-splits-as-load-balancing-had-been-turned-off=0,tree 0:15 (on blacklist with weight=2),tree 1:6,tree 2:6,tree 3:6 (on blacklist with weight=2),tree 4:6 (on blacklist with weight=5),tree 5:0 (on blacklist with weight=2),tree 7:14 (on blacklist with weight=5),tree 8:14 (on blacklist with weight=11),tree 9:0,tree 10:14,tree 11:0,heaviest-local-tree=10 (analysed),heaviest-local-weight=14 (analysed))\n",
      " 335526017    00:00:00     rank:0       core:11      info         toolbox::loadbalancing::RecursiveSubdivision::finishStep() split local rank and assign it 7 cell(s)\n",
      " 335541761    00:00:00     rank:0       core:11      info         peano4::parallel::SpacetreeSet::split(int,int)          trigger split of tree 10 into tree 6 with 7 fine grid cells\n",
      " 335566031    00:00:00     rank:0       core:11      info         toolbox::loadbalancing::dumpStatistics()                11 tree(s): (#0:15/66)(#1:6/35)(#2:6/51)(#3:6/51)(#4:6/35)(#5:0/0)(#7:14/67)(#8:14/59)(#9:0/41)(#10:14/43)(#11:0/81) total=81/529 (local/remote)\n",
      " 336006764    00:00:00     rank:0       core:11      info         ::::selectNextAlgorithmicStep()                         mesh has rebalanced recently but I've done so many iterations without refinement that I insert one refinement next\n",
      " 334764362    00:00:00     rank:0       core:11      info         ::step()                                                run CreateGridButPostponeRefinement\n",
      " 340003677    00:00:00     rank:0       core:1       info         peano4::grid::Spacetree::traverse(TraversalObserver)    have not been able to assign enough cells from 10 to new tree 6 (should have deployed 7 more cells)\n",
      " 346962813    00:00:00     rank:0       core:11      info         peano4::grid::Spacetree::Spacetree(...)                 created spacetree 6 with master tree 10\n",
      " 347034642    00:00:00     rank:0       core:11      info         toolbox::loadbalancing::dumpStatistics()                12 tree(s): (#0:15/66)(#1:6/35)(#2:6/51)(#3:6/51)(#4:6/35)(#5:7/66)(#6:0/0)(#7:14/67)(#8:14/59)(#9:0/9)(#10:14/43)(#11:0/81) total=88/563 (local/remote)\n",
      " 347479374    00:00:00     rank:0       core:11      info         ::::selectNextAlgorithmicStep()                         mesh has rebalanced recently, so postpone further refinement\n",
      " 346234922    00:00:00     rank:0       core:11      info         ::step()                                                run CreateGrid\n"
     ]
    },
    {
     "name": "stdout",
     "output_type": "stream",
     "text": [
      " 358986531    00:00:00     rank:0       core:11      info         exahype2::RefinementControl::finishStep()               activate 81 refinement/coarsening instructions\n",
      " 359060243    00:00:00     rank:0       core:11      info         toolbox::loadbalancing::dumpStatistics()                12 tree(s): (#0:15/66)(#1:6/35)(#2:6/51)(#3:6/51)(#4:6/35)(#5:7/66)(#6:0/57)(#7:14/67)(#8:7/66)(#9:0/9)(#10:14/43)(#11:0/81) total=81/627 (local/remote)\n",
      " 359507086    00:00:00     rank:0       core:11      info         ::::selectNextAlgorithmicStep()                         mesh has rebalanced recently, so postpone further refinement\n",
      " 358263189    00:00:00     rank:0       core:11      info         ::step()                                                run CreateGridButPostponeRefinement\n",
      " 369346083    00:00:00     rank:0       core:11      info         peano4::parallel::SpacetreeSet::traverse(Observer)      remove empty tree 9 with master 4\n",
      " 369423994    00:00:00     rank:0       core:11      info         toolbox::loadbalancing::RecursiveSubdivision::getStrategyStep() rank is well-balanced, but does not yet use all local cores; split up rank's trees further\n",
      " 369451073    00:00:00     rank:0       core:11      info         toolbox::loadbalancing::RecursiveSubdivision::finishStep() split-heaviest-tree(once,use-local-rank,use-recursive-partitioning) in state (state=standard,global-cell-count=81,lightest-rank=0,has-spread-over-all-ranks=0,has-spread-over-all-cores=1,round-robin-token=0,target-balancing-ratio=0.8,max-tree-weight-at-last-split=6,blacklist-weight=14,number-of-state-updated-without-any-split=2,global-number-of-splits=0,local-number-of-splits=0,local-number-of-unsuccessful-splits-as-load-balancing-had-been-turned-off=0,global-number-of-unsuccessful-splits-as-load-balancing-had-been-turned-off=0,tree 0:15,tree 1:6,tree 2:6,tree 3:6,tree 4:6 (on blacklist with weight=2),tree 5:7,tree 6:0,tree 7:14 (on blacklist with weight=2),tree 8:7 (on blacklist with weight=8),tree 10:14 (on blacklist with weight=8),tree 11:0,heaviest-local-tree=0 (analysed),heaviest-local-weight=15 (analysed))\n",
      " 369469068    00:00:00     rank:0       core:11      info         toolbox::loadbalancing::RecursiveSubdivision::finishStep() split local rank and assign it 7 cell(s)\n",
      " 369485629    00:00:00     rank:0       core:11      info         peano4::parallel::SpacetreeSet::split(int,int)          trigger split of tree 0 into tree 9 with 7 fine grid cells\n",
      " 369510079    00:00:00     rank:0       core:11      info         toolbox::loadbalancing::dumpStatistics()                11 tree(s): (#0:15/66)(#1:6/35)(#2:6/51)(#3:6/51)(#4:6/35)(#5:7/66)(#6:0/57)(#7:14/67)(#8:7/66)(#10:14/43)(#11:0/9) total=81/546 (local/remote)\n",
      " 369951008    00:00:00     rank:0       core:11      info         ::::selectNextAlgorithmicStep()                         mesh has rebalanced recently, so postpone further refinement\n",
      " 368706368    00:00:00     rank:0       core:11      info         ::step()                                                run CreateGridButPostponeRefinement\n",
      " 380351560    00:00:00     rank:0       core:11      info         peano4::grid::Spacetree::Spacetree(...)                 created spacetree 9 with master tree 0\n",
      " 380425064    00:00:00     rank:0       core:11      info         toolbox::loadbalancing::dumpStatistics()                12 tree(s): (#0:15/66)(#1:6/35)(#2:6/51)(#3:6/51)(#4:6/35)(#5:7/66)(#6:0/57)(#7:14/67)(#8:7/66)(#9:0/0)(#10:14/43)(#11:0/9) total=81/546 (local/remote)\n",
      " 380870096    00:00:00     rank:0       core:11      info         ::::selectNextAlgorithmicStep()                         mesh has rebalanced recently, so postpone further refinement\n",
      " 379625824    00:00:00     rank:0       core:11      info         ::step()                                                run CreateGridButPostponeRefinement\n",
      " 392844866    00:00:00     rank:0       core:11      info         peano4::parallel::SpacetreeSet::traverse(Observer)      remove empty tree 11 with master 7\n",
      " 392919522    00:00:00     rank:0       core:11      info         toolbox::loadbalancing::RecursiveSubdivision::getStrategyStep() rank is well-balanced, but does not yet use all local cores; split up rank's trees further\n",
      " 392945946    00:00:00     rank:0       core:11      info         toolbox::loadbalancing::RecursiveSubdivision::finishStep() split-heaviest-tree(once,use-local-rank,use-recursive-partitioning) in state (state=standard,global-cell-count=88,lightest-rank=0,has-spread-over-all-ranks=0,has-spread-over-all-cores=1,round-robin-token=0,target-balancing-ratio=0.8,max-tree-weight-at-last-split=7,blacklist-weight=18,number-of-state-updated-without-any-split=1,global-number-of-splits=0,local-number-of-splits=0,local-number-of-unsuccessful-splits-as-load-balancing-had-been-turned-off=0,global-number-of-unsuccessful-splits-as-load-balancing-had-been-turned-off=0,tree 0:15 (on blacklist with weight=12),tree 1:6,tree 2:6,tree 3:6,tree 4:6 (on blacklist with weight=0),tree 5:7,tree 6:0,tree 7:14 (on blacklist with weight=0),tree 8:7 (on blacklist with weight=6),tree 9:7,tree 10:14 (on blacklist with weight=6),heaviest-local-tree=5 (analysed),heaviest-local-weight=7 (analysed))\n",
      " 392966809    00:00:00     rank:0       core:11      info         toolbox::loadbalancing::RecursiveSubdivision::finishStep() split local rank and assign it 3 cell(s)\n",
      " 392982679    00:00:00     rank:0       core:11      info         peano4::parallel::SpacetreeSet::split(int,int)          trigger split of tree 5 into tree 11 with 3 fine grid cells\n",
      " 393007071    00:00:00     rank:0       core:11      info         toolbox::loadbalancing::dumpStatistics()                11 tree(s): (#0:15/66)(#1:6/35)(#2:6/51)(#3:6/51)(#4:6/35)(#5:7/34)(#6:0/57)(#7:14/67)(#8:7/66)(#9:7/74)(#10:14/43) total=88/579 (local/remote)\n",
      " 393448022    00:00:00     rank:0       core:11      info         ::::selectNextAlgorithmicStep()                         mesh has rebalanced recently, so postpone further refinement\n",
      " 392203017    00:00:00     rank:0       core:11      info         ::step()                                                run CreateGridButPostponeRefinement\n",
      " 395931006    00:00:00     rank:0       core:1       info         peano4::grid::Spacetree::traverse(TraversalObserver)    have not been able to assign enough cells from 5 to new tree 11 (should have deployed 3 more cells)\n",
      " 402172188    00:00:00     rank:0       core:11      info         peano4::grid::Spacetree::Spacetree(...)                 created spacetree 11 with master tree 5\n",
      " 402244409    00:00:00     rank:0       core:11      info         toolbox::loadbalancing::dumpStatistics()                12 tree(s): (#0:8/73)(#1:6/35)(#2:6/51)(#3:6/51)(#4:6/35)(#5:7/34)(#6:0/9)(#7:14/67)(#8:7/66)(#9:7/74)(#10:14/43)(#11:0/0) total=81/538 (local/remote)\n",
      " 402689765    00:00:00     rank:0       core:11      info         ::::selectNextAlgorithmicStep()                         mesh has rebalanced recently, so postpone further refinement\n",
      " 401445620    00:00:00     rank:0       core:11      info         ::step()                                                run CreateGridButPostponeRefinement\n",
      " 413208143    00:00:00     rank:0       core:11      info         toolbox::loadbalancing::dumpStatistics()                12 tree(s): (#0:8/73)(#1:6/35)(#2:6/51)(#3:6/51)(#4:6/35)(#5:7/34)(#6:0/9)(#7:14/67)(#8:7/66)(#9:7/74)(#10:14/43)(#11:0/41) total=81/579 (local/remote)\n",
      " 413660240    00:00:00     rank:0       core:11      info         ::::selectNextAlgorithmicStep()                         mesh has rebalanced recently, so postpone further refinement\n",
      " 412419378    00:00:00     rank:0       core:11      info         ::step()                                                run CreateGridButPostponeRefinement\n",
      " 423542724    00:00:00     rank:0       core:11      info         peano4::parallel::SpacetreeSet::traverse(Observer)      remove empty tree 6 with master 10\n",
      " 423623663    00:00:00     rank:0       core:11      info         toolbox::loadbalancing::RecursiveSubdivision::getStrategyStep() rank is well-balanced, but does not yet use all local cores; split up rank's trees further\n",
      " 423650399    00:00:00     rank:0       core:11      info         toolbox::loadbalancing::RecursiveSubdivision::finishStep() split-heaviest-tree(once,use-local-rank,use-recursive-partitioning) in state (state=standard,global-cell-count=81,lightest-rank=0,has-spread-over-all-ranks=0,has-spread-over-all-cores=1,round-robin-token=0,target-balancing-ratio=0.8,max-tree-weight-at-last-split=7,blacklist-weight=15,number-of-state-updated-without-any-split=2,global-number-of-splits=0,local-number-of-splits=0,local-number-of-unsuccessful-splits-as-load-balancing-had-been-turned-off=0,global-number-of-unsuccessful-splits-as-load-balancing-had-been-turned-off=0,tree 0:8 (on blacklist with weight=9),tree 1:6,tree 2:6,tree 3:6,tree 4:6,tree 5:7 (on blacklist with weight=15),tree 7:14,tree 8:7 (on blacklist with weight=3),tree 9:7,tree 10:14 (on blacklist with weight=3),tree 11:0,heaviest-local-tree=7 (analysed),heaviest-local-weight=14 (analysed))\n",
      " 423670410    00:00:00     rank:0       core:11      info         toolbox::loadbalancing::RecursiveSubdivision::finishStep() split local rank and assign it 7 cell(s)\n",
      " 423687418    00:00:00     rank:0       core:11      info         peano4::parallel::SpacetreeSet::split(int,int)          trigger split of tree 7 into tree 6 with 7 fine grid cells\n",
      " 423711948    00:00:00     rank:0       core:11      info         toolbox::loadbalancing::dumpStatistics()                11 tree(s): (#0:8/73)(#1:6/35)(#2:6/51)(#3:6/51)(#4:6/35)(#5:7/34)(#7:14/67)(#8:7/66)(#9:7/74)(#10:14/43)(#11:0/41) total=81/570 (local/remote)\n",
      " 424153366    00:00:00     rank:0       core:11      info         ::::selectNextAlgorithmicStep()                         mesh has rebalanced recently, so postpone further refinement\n",
      " 422909556    00:00:00     rank:0       core:11      info         ::step()                                                run CreateGridButPostponeRefinement\n",
      " 428925521    00:00:00     rank:0       core:6       info         peano4::grid::Spacetree::traverse(TraversalObserver)    have not been able to assign enough cells from 7 to new tree 6 (should have deployed 7 more cells)\n",
      " 433240047    00:00:00     rank:0       core:11      info         peano4::grid::Spacetree::Spacetree(...)                 created spacetree 6 with master tree 7\n",
      " 433310298    00:00:00     rank:0       core:11      info         toolbox::loadbalancing::dumpStatistics()                12 tree(s): (#0:8/73)(#1:6/35)(#2:6/51)(#3:6/51)(#4:6/35)(#5:7/34)(#6:0/0)(#7:14/67)(#8:7/66)(#9:7/50)(#10:14/43)(#11:0/41) total=81/546 (local/remote)\n",
      " 433755133    00:00:00     rank:0       core:11      info         ::::selectNextAlgorithmicStep()                         mesh has rebalanced recently, so postpone further refinement\n",
      " 432510909    00:00:00     rank:0       core:11      info         ::step()                                                run CreateGridButPostponeRefinement\n",
      " 446271811    00:00:00     rank:0       core:11      info         toolbox::loadbalancing::dumpStatistics()                12 tree(s): (#0:8/73)(#1:6/35)(#2:6/51)(#3:6/51)(#4:6/35)(#5:7/34)(#6:0/81)(#7:14/67)(#8:7/66)(#9:7/50)(#10:14/43)(#11:0/41) total=81/627 (local/remote)\n",
      " 446726726    00:00:00     rank:0       core:11      info         ::::selectNextAlgorithmicStep()                         mesh has rebalanced recently but I've done so many iterations without refinement that I insert one refinement next\n",
      " 445498901    00:00:00     rank:0       core:11      info         ::step()                                                run CreateGridButPostponeRefinement\n"
     ]
    },
    {
     "name": "stdout",
     "output_type": "stream",
     "text": [
      " 456320342    00:00:00     rank:0       core:11      info         toolbox::loadbalancing::dumpStatistics()                12 tree(s): (#0:8/73)(#1:6/35)(#2:6/51)(#3:6/51)(#4:6/35)(#5:7/34)(#6:0/81)(#7:14/67)(#8:7/66)(#9:7/50)(#10:14/43)(#11:0/9) total=81/595 (local/remote)\r\n",
      " 456774445    00:00:00     rank:0       core:11      info         ::::selectNextAlgorithmicStep()                         mesh has rebalanced recently, so postpone further refinement\r\n",
      " 455532371    00:00:00     rank:0       core:11      info         ::step()                                                run CreateGrid\r\n",
      " 466194252    00:00:00     rank:0       core:11      info         exahype2::RefinementControl::finishStep()               activate 81 refinement/coarsening instructions\r\n",
      " 466251903    00:00:00     rank:0       core:11      info         toolbox::loadbalancing::dumpStatistics()                12 tree(s): (#0:8/73)(#1:6/35)(#2:6/51)(#3:6/51)(#4:6/35)(#5:7/34)(#6:0/81)(#7:14/67)(#8:7/66)(#9:7/50)(#10:14/43)(#11:0/9) total=81/595 (local/remote)\r\n",
      " 466696935    00:00:00     rank:0       core:11      info         ::::selectNextAlgorithmicStep()                         mesh rebalancing seems to be kind of stationary, so refine mesh further in next sweep\r\n",
      " 465452581    00:00:00     rank:0       core:11      info         ::step()                                                run CreateGridButPostponeRefinement\r\n",
      " 476060653    00:00:00     rank:0       core:11      info         peano4::parallel::SpacetreeSet::traverse(Observer)      remove empty tree 11 with master 5\r\n",
      " 476140496    00:00:00     rank:0       core:11      info         toolbox::loadbalancing::RecursiveSubdivision::getStrategyStep() rank is well-balanced, but does not yet use all local cores; split up rank's trees further\r\n",
      " 476167391    00:00:00     rank:0       core:11      info         toolbox::loadbalancing::RecursiveSubdivision::finishStep() split-heaviest-tree(once,use-local-rank,use-recursive-partitioning) in state (state=standard,global-cell-count=81,lightest-rank=0,has-spread-over-all-ranks=0,has-spread-over-all-cores=1,round-robin-token=0,target-balancing-ratio=0.8,max-tree-weight-at-last-split=7,blacklist-weight=19,number-of-state-updated-without-any-split=4,global-number-of-splits=0,local-number-of-splits=0,local-number-of-unsuccessful-splits-as-load-balancing-had-been-turned-off=0,global-number-of-unsuccessful-splits-as-load-balancing-had-been-turned-off=0,tree 0:8 (on blacklist with weight=4),tree 1:6,tree 2:6,tree 3:6,tree 4:6,tree 5:7 (on blacklist with weight=10),tree 6:0,tree 7:14 (on blacklist with weight=10),tree 8:7,tree 9:7,tree 10:14,heaviest-local-tree=10 (analysed),heaviest-local-weight=14 (analysed))\r\n",
      " 476188358    00:00:00     rank:0       core:11      info         toolbox::loadbalancing::RecursiveSubdivision::finishStep() split local rank and assign it 7 cell(s)\r\n",
      " 476205713    00:00:00     rank:0       core:11      info         peano4::parallel::SpacetreeSet::split(int,int)          trigger split of tree 10 into tree 11 with 7 fine grid cells\r\n",
      " 476229871    00:00:00     rank:0       core:11      info         toolbox::loadbalancing::dumpStatistics()                11 tree(s): (#0:8/73)(#1:6/35)(#2:6/51)(#3:6/51)(#4:6/35)(#5:7/34)(#6:0/81)(#7:14/67)(#8:7/66)(#9:7/50)(#10:14/43) total=81/586 (local/remote)\r\n",
      " 476671136    00:00:00     rank:0       core:11      info         ::::selectNextAlgorithmicStep()                         mesh rebalancing seems to be kind of stationary, so refine mesh further in next sweep\r\n",
      " 475426326    00:00:00     rank:0       core:11      info         ::step()                                                run CreateGrid\r\n",
      " 481622432    00:00:00     rank:0       core:10      info         peano4::grid::Spacetree::traverse(TraversalObserver)    have not been able to assign enough cells from 10 to new tree 11 (should have deployed 7 more cells)\r\n",
      " 486421047    00:00:00     rank:0       core:11      info         peano4::grid::Spacetree::Spacetree(...)                 created spacetree 11 with master tree 10\r\n",
      " 486465628    00:00:00     rank:0       core:11      info         exahype2::RefinementControl::finishStep()               activate 81 refinement/coarsening instructions\r\n",
      " 486510629    00:00:00     rank:0       core:11      info         toolbox::loadbalancing::dumpStatistics()                12 tree(s): (#0:8/73)(#1:6/35)(#2:6/51)(#3:6/51)(#4:6/35)(#5:7/34)(#6:0/9)(#7:14/67)(#8:7/66)(#9:7/50)(#10:14/43)(#11:0/0) total=81/514 (local/remote)\r\n",
      " 486954278    00:00:00     rank:0       core:11      info         ::::selectNextAlgorithmicStep()                         mesh has rebalanced recently, so postpone further refinement\r\n",
      " 485709470    00:00:00     rank:0       core:11      info         ::step()                                                run CreateGrid\r\n",
      " 486585661    00:00:00     rank:0       core:2       info         peano4::grid::Spacetree::traverse(...)                  got one grid control event: (refinementControl=Refine,offset=[-10111.1,-10111.1],width=[20222.2,20222.2],h=[814.815,814.815])\r\n",
      " 486588281    00:00:00     rank:0       core:8       info         peano4::grid::Spacetree::traverse(...)                  got one grid control event: (refinementControl=Refine,offset=[-10111.1,-10111.1],width=[20222.2,20222.2],h=[814.815,814.815])\r\n",
      " 486588233    00:00:00     rank:0       core:6       info         peano4::grid::Spacetree::traverse(...)                  got one grid control event: (refinementControl=Refine,offset=[-10111.1,-10111.1],width=[20222.2,20222.2],h=[814.815,814.815])\r\n",
      " 486588232    00:00:00     rank:0       core:0       info         peano4::grid::Spacetree::traverse(...)                  got one grid control event: (refinementControl=Refine,offset=[-10111.1,-10111.1],width=[20222.2,20222.2],h=[814.815,814.815])\r\n",
      " 486588733    00:00:00     rank:0       core:9       info         peano4::grid::Spacetree::traverse(...)                  got one grid control event: (refinementControl=Refine,offset=[-10111.1,-10111.1],width=[20222.2,20222.2],h=[814.815,814.815])\r\n",
      " 486590331    00:00:00     rank:0       core:11      info         peano4::grid::Spacetree::traverse(...)                  got one grid control event: (refinementControl=Refine,offset=[-10111.1,-10111.1],width=[20222.2,20222.2],h=[814.815,814.815])\r\n",
      " 486590093    00:00:00     rank:0       core:5       info         peano4::grid::Spacetree::traverse(...)                  got one grid control event: (refinementControl=Refine,offset=[-10111.1,-10111.1],width=[20222.2,20222.2],h=[814.815,814.815])\r\n",
      " 486589689    00:00:00     rank:0       core:7       info         peano4::grid::Spacetree::traverse(...)                  got one grid control event: (refinementControl=Refine,offset=[-10111.1,-10111.1],width=[20222.2,20222.2],h=[814.815,814.815])\r\n",
      " 486589687    00:00:00     rank:0       core:1       info         peano4::grid::Spacetree::traverse(...)                  got one grid control event: (refinementControl=Refine,offset=[-10111.1,-10111.1],width=[20222.2,20222.2],h=[814.815,814.815])\r\n",
      " 486590435    00:00:00     rank:0       core:10      info         peano4::grid::Spacetree::traverse(...)                  got one grid control event: (refinementControl=Refine,offset=[-10111.1,-10111.1],width=[20222.2,20222.2],h=[814.815,814.815])\r\n",
      " 486590437    00:00:00     rank:0       core:4       info         peano4::grid::Spacetree::traverse(...)                  got one grid control event: (refinementControl=Refine,offset=[-10111.1,-10111.1],width=[20222.2,20222.2],h=[814.815,814.815])\r\n",
      " 499056055    00:00:00     rank:0       core:11      info         exahype2::RefinementControl::finishStep()               activate 81 refinement/coarsening instructions\r\n",
      " 499113698    00:00:00     rank:0       core:11      info         toolbox::loadbalancing::dumpStatistics()                12 tree(s): (#0:8/73)(#1:6/35)(#2:6/51)(#3:6/51)(#4:6/35)(#5:7/34)(#6:0/9)(#7:14/67)(#8:7/66)(#9:7/50)(#10:14/43)(#11:0/57) total=81/571 (local/remote)\r\n",
      " 499559618    00:00:00     rank:0       core:11      info         ::::selectNextAlgorithmicStep()                         mesh has rebalanced recently, so postpone further refinement\r\n",
      " 498315350    00:00:00     rank:0       core:11      info         ::step()                                                run CreateGridButPostponeRefinement\r\n"
     ]
    },
    {
     "name": "stdout",
     "output_type": "stream",
     "text": [
      " 547351395    00:00:00     rank:0       core:11      info         peano4::parallel::SpacetreeSet::traverse(Observer)      remove empty tree 6 with master 7\n",
      " 547451971    00:00:00     rank:0       core:11      info         toolbox::loadbalancing::RecursiveSubdivision::getStrategyStep() rank is well-balanced, but does not yet use all local cores; split up rank's trees further\n",
      " 547479612    00:00:00     rank:0       core:11      info         toolbox::loadbalancing::RecursiveSubdivision::finishStep() split-heaviest-tree(once,use-local-rank,use-recursive-partitioning) in state (state=standard,global-cell-count=729,lightest-rank=0,has-spread-over-all-ranks=0,has-spread-over-all-cores=1,round-robin-token=0,target-balancing-ratio=0.8,max-tree-weight-at-last-split=7,blacklist-weight=22,number-of-state-updated-without-any-split=2,global-number-of-splits=0,local-number-of-splits=0,local-number-of-unsuccessful-splits-as-load-balancing-had-been-turned-off=0,global-number-of-unsuccessful-splits-as-load-balancing-had-been-turned-off=0,tree 0:72 (on blacklist with weight=1),tree 1:54,tree 2:54,tree 3:54,tree 4:54,tree 5:63 (on blacklist with weight=7),tree 7:126 (on blacklist with weight=7),tree 8:63,tree 9:63,tree 10:126 (on blacklist with weight=16),tree 11:0,heaviest-local-tree=8 (analysed),heaviest-local-weight=63 (analysed))\n",
      " 547498294    00:00:00     rank:0       core:11      info         toolbox::loadbalancing::RecursiveSubdivision::finishStep() split local rank and assign it 31 cell(s)\n",
      " 547514389    00:00:00     rank:0       core:11      info         peano4::parallel::SpacetreeSet::split(int,int)          trigger split of tree 8 into tree 6 with 31 fine grid cells\n",
      " 547539776    00:00:00     rank:0       core:11      info         toolbox::loadbalancing::dumpStatistics()                11 tree(s): (#0:72/201)(#1:54/83)(#2:54/171)(#3:54/123)(#4:54/83)(#5:63/106)(#7:126/211)(#8:63/194)(#9:63/146)(#10:126/155)(#11:0/57) total=729/1530 (local/remote)\n",
      " 546728049    00:00:00     rank:0       core:11      info         ::step()                                                run CreateGridButPostponeRefinement\n",
      " 593649275    00:00:00     rank:0       core:11      info         peano4::grid::Spacetree::Spacetree(...)                 created spacetree 6 with master tree 8\n",
      " 593748073    00:00:00     rank:0       core:11      info         toolbox::loadbalancing::dumpStatistics()                12 tree(s): (#0:72/201)(#1:54/83)(#2:54/171)(#3:54/123)(#4:54/83)(#5:63/106)(#6:0/0)(#7:126/211)(#8:63/194)(#9:63/146)(#10:126/155)(#11:0/57) total=729/1530 (local/remote)\n",
      " 594195119    00:00:00     rank:0       core:11      info         ::::selectNextAlgorithmicStep()                         mesh has rebalanced recently, so postpone further refinement\n",
      " 592950859    00:00:00     rank:0       core:11      info         ::step()                                                run CreateGridButPostponeRefinement\n",
      " 649760569    00:00:00     rank:0       core:11      info         toolbox::loadbalancing::dumpStatistics()                12 tree(s): (#0:72/201)(#1:54/83)(#2:54/171)(#3:54/123)(#4:54/83)(#5:63/106)(#6:31/226)(#7:126/211)(#8:63/194)(#9:63/146)(#10:126/155)(#11:0/57) total=760/1756 (local/remote)\n",
      " 650218934    00:00:00     rank:0       core:11      info         ::::selectNextAlgorithmicStep()                         mesh has rebalanced recently, so postpone further refinement\n",
      " 648976269    00:00:00     rank:0       core:11      info         ::step()                                                run CreateGridButPostponeRefinement\n",
      " 696782270    00:00:00     rank:0       core:11      info         toolbox::loadbalancing::dumpStatistics()                12 tree(s): (#0:72/201)(#1:54/83)(#2:54/171)(#3:54/123)(#4:54/83)(#5:63/106)(#6:31/226)(#7:126/211)(#8:32/225)(#9:63/146)(#10:126/155)(#11:0/9) total=729/1739 (local/remote)\n",
      " 697240066    00:00:00     rank:0       core:11      info         ::::selectNextAlgorithmicStep()                         mesh has rebalanced recently, so postpone further refinement\n",
      " 695997270    00:00:00     rank:0       core:11      info         ::step()                                                run CreateGridButPostponeRefinement\n",
      " 742311706    00:00:00     rank:0       core:11      info         toolbox::loadbalancing::dumpStatistics()                12 tree(s): (#0:72/201)(#1:54/83)(#2:54/171)(#3:54/123)(#4:54/83)(#5:63/106)(#6:31/226)(#7:126/211)(#8:32/225)(#9:63/146)(#10:126/155)(#11:0/9) total=729/1739 (local/remote)\n",
      " 742771525    00:00:00     rank:0       core:11      info         ::::selectNextAlgorithmicStep()                         mesh rebalancing seems to be kind of stationary, so refine mesh further in next sweep\n",
      " 741529759    00:00:00     rank:0       core:11      info         ::step()                                                run CreateGridButPostponeRefinement\n",
      " 789286172    00:00:00     rank:0       core:11      info         peano4::parallel::SpacetreeSet::traverse(Observer)      remove empty tree 11 with master 10\n",
      " 789389870    00:00:00     rank:0       core:11      info         toolbox::loadbalancing::RecursiveSubdivision::getStrategyStep() rank is well-balanced, but does not yet use all local cores; split up rank's trees further\n",
      " 789418218    00:00:00     rank:0       core:11      info         toolbox::loadbalancing::RecursiveSubdivision::finishStep() split-heaviest-tree(once,use-local-rank,use-recursive-partitioning) in state (state=standard,global-cell-count=729,lightest-rank=0,has-spread-over-all-ranks=0,has-spread-over-all-cores=1,round-robin-token=0,target-balancing-ratio=0.8,max-tree-weight-at-last-split=63,blacklist-weight=20,number-of-state-updated-without-any-split=4,global-number-of-splits=0,local-number-of-splits=0,local-number-of-unsuccessful-splits-as-load-balancing-had-been-turned-off=0,global-number-of-unsuccessful-splits-as-load-balancing-had-been-turned-off=0,tree 0:72,tree 1:54,tree 2:54,tree 3:54,tree 4:54,tree 5:63 (on blacklist with weight=2),tree 6:31,tree 7:126 (on blacklist with weight=2),tree 8:32 (on blacklist with weight=17),tree 9:63,tree 10:126 (on blacklist with weight=11),heaviest-local-tree=0 (analysed),heaviest-local-weight=72 (analysed))\n",
      " 789438049    00:00:00     rank:0       core:11      info         toolbox::loadbalancing::RecursiveSubdivision::finishStep() split local rank and assign it 36 cell(s)\n",
      " 789455550    00:00:00     rank:0       core:11      info         peano4::parallel::SpacetreeSet::split(int,int)          trigger split of tree 0 into tree 11 with 36 fine grid cells\n",
      " 789482011    00:00:00     rank:0       core:11      info         toolbox::loadbalancing::dumpStatistics()                11 tree(s): (#0:72/201)(#1:54/83)(#2:54/171)(#3:54/123)(#4:54/83)(#5:63/106)(#6:31/146)(#7:126/211)(#8:32/169)(#9:63/146)(#10:126/155) total=729/1594 (local/remote)\n",
      " 789924397    00:00:00     rank:0       core:11      info         ::::selectNextAlgorithmicStep()                         mesh rebalancing seems to be kind of stationary, so refine mesh further in next sweep\n",
      " 788681452    00:00:00     rank:0       core:11      info         ::step()                                                run CreateGrid\n",
      " 836489338    00:00:00     rank:0       core:11      info         peano4::grid::Spacetree::Spacetree(...)                 created spacetree 11 with master tree 0\n",
      " 836564439    00:00:00     rank:0       core:11      info         exahype2::RefinementControl::finishStep()               activate 729 refinement/coarsening instructions\n",
      " 836654591    00:00:00     rank:0       core:11      info         toolbox::loadbalancing::dumpStatistics()                12 tree(s): (#0:72/201)(#1:54/83)(#2:54/171)(#3:54/123)(#4:54/83)(#5:63/106)(#6:31/146)(#7:126/211)(#8:32/169)(#9:63/146)(#10:126/155)(#11:0/0) total=729/1594 (local/remote)\n",
      " 837099863    00:00:00     rank:0       core:11      info         ::::selectNextAlgorithmicStep()                         mesh has rebalanced recently, so postpone further refinement\n",
      " 835855711    00:00:00     rank:0       core:11      info         ::step()                                                run CreateGrid\n",
      " 838130513    00:00:00     rank:0       core:1       info         peano4::grid::Spacetree::traverse(...)                  got one grid control event: (refinementControl=Refine,offset=[-10037,-10037],width=[20074.1,20074.1],h=[271.605,271.605])\n",
      " 838130644    00:00:00     rank:0       core:7       info         peano4::grid::Spacetree::traverse(...)                  got one grid control event: (refinementControl=Refine,offset=[-10037,-10037],width=[20074.1,20074.1],h=[271.605,271.605])\n",
      " 838130654    00:00:00     rank:0       core:11      info         peano4::grid::Spacetree::traverse(...)                  got one grid control event: (refinementControl=Refine,offset=[-10037,-10037],width=[20074.1,20074.1],h=[271.605,271.605])\n",
      " 838131452    00:00:00     rank:0       core:0       info         peano4::grid::Spacetree::traverse(...)                  got one grid control event: (refinementControl=Refine,offset=[-10037,-10037],width=[20074.1,20074.1],h=[271.605,271.605])\n",
      " 838131453    00:00:00     rank:0       core:6       info         peano4::grid::Spacetree::traverse(...)                  got one grid control event: (refinementControl=Refine,offset=[-10037,-10037],width=[20074.1,20074.1],h=[271.605,271.605])\n",
      " 838138613    00:00:00     rank:0       core:2       info         peano4::grid::Spacetree::traverse(...)                  got one grid control event: (refinementControl=Refine,offset=[-10037,-10037],width=[20074.1,20074.1],h=[271.605,271.605])\n",
      " 838141942    00:00:00     rank:0       core:3       info         peano4::grid::Spacetree::traverse(...)                  got one grid control event: (refinementControl=Refine,offset=[-10037,-10037],width=[20074.1,20074.1],h=[271.605,271.605])\n",
      " 838154607    00:00:00     rank:0       core:9       info         peano4::grid::Spacetree::traverse(...)                  got one grid control event: (refinementControl=Refine,offset=[-10037,-10037],width=[20074.1,20074.1],h=[271.605,271.605])\n",
      " 838174094    00:00:00     rank:0       core:8       info         peano4::grid::Spacetree::traverse(...)                  got one grid control event: (refinementControl=Refine,offset=[-10037,-10037],width=[20074.1,20074.1],h=[271.605,271.605])\n",
      " 838203015    00:00:00     rank:0       core:10      info         peano4::grid::Spacetree::traverse(...)                  got one grid control event: (refinementControl=Refine,offset=[-10037,-10037],width=[20074.1,20074.1],h=[271.605,271.605])\n",
      " 838232951    00:00:00     rank:0       core:5       info         peano4::grid::Spacetree::traverse(...)                  got one grid control event: (refinementControl=Refine,offset=[-10037,-10037],width=[20074.1,20074.1],h=[271.605,271.605])\n"
     ]
    },
    {
     "name": "stdout",
     "output_type": "stream",
     "text": [
      " 893948142    00:00:00     rank:0       core:11      info         exahype2::RefinementControl::finishStep()               activate 729 refinement/coarsening instructions\n",
      " 894050692    00:00:00     rank:0       core:11      info         toolbox::loadbalancing::dumpStatistics()                12 tree(s): (#0:72/201)(#1:54/83)(#2:54/171)(#3:54/123)(#4:54/83)(#5:63/106)(#6:31/130)(#7:126/211)(#8:32/169)(#9:63/146)(#10:126/155)(#11:36/237) total=765/1815 (local/remote)\n",
      " 894497120    00:00:00     rank:0       core:11      info         ::::selectNextAlgorithmicStep()                         mesh has rebalanced recently, so postpone further refinement\n",
      " 893253281    00:00:00     rank:0       core:11      info         ::step()                                                run CreateGridButPostponeRefinement\n",
      " 1284760367   00:00:01     rank:0       core:5       info         toolbox::loadbalancing::dumpStatistics()                12 tree(s): (#0:324/509)(#1:486/211)(#2:486/499)(#3:486/307)(#4:486/211)(#5:567/306)(#6:279/354)(#7:1134/611)(#8:288/401)(#9:567/402)(#10:1134/499)(#11:164/397) total=6401/4707 (local/remote)\n",
      " 1285242001   00:00:01     rank:0       core:5       info         ::::selectNextAlgorithmicStep()                         finest mesh resolution of 300 reached with h_min=[246.914,246.914]\n",
      " 1284000631   00:00:01     rank:0       core:5       info         ::step()                                                run CreateGrid\n",
      " 1689694336   00:00:01     rank:0       core:5       info         exahype2::RefinementControl::finishStep()               activate 20 refinement/coarsening instructions\n",
      " 1689777494   00:00:01     rank:0       core:5       info         toolbox::loadbalancing::dumpStatistics()                12 tree(s): (#0:324/509)(#1:486/211)(#2:486/499)(#3:486/307)(#4:486/211)(#5:567/306)(#6:279/354)(#7:1134/611)(#8:288/401)(#9:567/402)(#10:1134/499)(#11:164/397) total=6401/4707 (local/remote)\n",
      " 1688969613   00:00:01     rank:0       core:5       info         ::step()                                                run CreateGrid\n",
      " 1689833795   00:00:01     rank:0       core:11      info         peano4::grid::Spacetree::traverse(...)                  got one grid control event: (refinementControl=Refine,offset=[-10037,-2629.63],width=[3777.78,3037.04],h=[271.605,271.605])\n",
      " 1689833934   00:00:01     rank:0       core:8       info         peano4::grid::Spacetree::traverse(...)                  got one grid control event: (refinementControl=Refine,offset=[-10037,-2629.63],width=[3777.78,3037.04],h=[271.605,271.605])\n",
      " 1689833950   00:00:01     rank:0       core:9       info         peano4::grid::Spacetree::traverse(...)                  got one grid control event: (refinementControl=Refine,offset=[-10037,-2629.63],width=[3777.78,3037.04],h=[271.605,271.605])\n",
      " 1689833932   00:00:01     rank:0       core:2       info         peano4::grid::Spacetree::traverse(...)                  got one grid control event: (refinementControl=Refine,offset=[-10037,-2629.63],width=[3777.78,3037.04],h=[271.605,271.605])\n",
      " 1689833948   00:00:01     rank:0       core:3       info         peano4::grid::Spacetree::traverse(...)                  got one grid control event: (refinementControl=Refine,offset=[-10037,-2629.63],width=[3777.78,3037.04],h=[271.605,271.605])\n",
      " 1689833938   00:00:01     rank:0       core:4       info         peano4::grid::Spacetree::traverse(...)                  got one grid control event: (refinementControl=Refine,offset=[-10037,-2629.63],width=[3777.78,3037.04],h=[271.605,271.605])\n",
      " 1689833936   00:00:01     rank:0       core:10      info         peano4::grid::Spacetree::traverse(...)                  got one grid control event: (refinementControl=Refine,offset=[-10037,-2629.63],width=[3777.78,3037.04],h=[271.605,271.605])\n",
      " 1689837732   00:00:01     rank:0       core:5       info         peano4::grid::Spacetree::traverse(...)                  got one grid control event: (refinementControl=Refine,offset=[-10037,-2629.63],width=[3777.78,3037.04],h=[271.605,271.605])\n",
      " 1689835654   00:00:01     rank:0       core:0       info         peano4::grid::Spacetree::traverse(...)                  got one grid control event: (refinementControl=Refine,offset=[-10037,-2629.63],width=[3777.78,3037.04],h=[271.605,271.605])\n",
      " 1689835655   00:00:01     rank:0       core:6       info         peano4::grid::Spacetree::traverse(...)                  got one grid control event: (refinementControl=Refine,offset=[-10037,-2629.63],width=[3777.78,3037.04],h=[271.605,271.605])\n",
      " 1689839252   00:00:01     rank:0       core:1       info         peano4::grid::Spacetree::traverse(...)                  got one grid control event: (refinementControl=Refine,offset=[-10037,-2629.63],width=[3777.78,3037.04],h=[271.605,271.605])\n",
      " 1689839251   00:00:01     rank:0       core:7       info         peano4::grid::Spacetree::traverse(...)                  got one grid control event: (refinementControl=Refine,offset=[-10037,-2629.63],width=[3777.78,3037.04],h=[271.605,271.605])\n",
      "^C\n"
     ]
    }
   ],
   "source": [
    "!./peano4"
   ]
  },
  {
   "cell_type": "markdown",
   "metadata": {},
   "source": [
    "## Visualisation\n",
    "\n",
    "The new version of Peano/ExaHyPE writes out so-called patch files. This is a bespoke file format. There multiple ways how to manipulate/read it. I prefer to do everything within Paraview via Paraview. For this, I ensure that the PYTHONPATH points to Peano's Python directory, start up Paraview and then open the Python terminal. From here:\n",
    "\n",
    "<pre>\n",
    "import peano4.visualisation\n",
    "data = peano4.visualisation.Visualiser( \"solution-GPRDR.peano-patch-file\" )\n",
    "data.append_filter(peano4.visualisation.ExtractFineGridFilter())\n",
    "data.display()\n",
    "</pre>\n",
    "\n",
    "From here, you can either use\n",
    "<pre>\n",
    "data.select_dataset(any number)\n",
    "</pre>\n",
    "\n",
    "to step through the time steps or you call\n",
    "\n",
    "<pre>\n",
    "data.write_vtu_time_series()\n",
    "</pre>\n",
    "\n",
    "which gives you a vtu file with all the snapshots which you can load in Paraview.\n"
   ]
  },
  {
   "cell_type": "code",
   "execution_count": null,
   "metadata": {},
   "outputs": [],
   "source": []
  },
  {
   "cell_type": "markdown",
   "metadata": {},
   "source": [
    "## How to modify the actual code\n",
    "\n",
    "This is ExaHyPE 2, but on the user side it is almost 1:1 the same interface as the original ExaHyPE. All the knowledge can be found in the files GPRDR.h and GPRDR.cpp. These files have been generated by the Python notebook, as you have named the solver GPRPR above."
   ]
  },
  {
   "cell_type": "code",
   "execution_count": null,
   "metadata": {},
   "outputs": [],
   "source": []
  }
 ],
 "metadata": {
  "kernelspec": {
   "display_name": "Python 3",
   "language": "python",
   "name": "python3"
  },
  "language_info": {
   "codemirror_mode": {
    "name": "ipython",
    "version": 3
   },
   "file_extension": ".py",
   "mimetype": "text/x-python",
   "name": "python",
   "nbconvert_exporter": "python",
   "pygments_lexer": "ipython3",
   "version": "3.8.5"
  }
 },
 "nbformat": 4,
 "nbformat_minor": 4
}

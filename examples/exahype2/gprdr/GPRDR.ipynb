{
 "cells": [
  {
   "cell_type": "markdown",
   "metadata": {},
   "source": [
    "# GPRDR benchmark\n",
    "\n",
    "I've written this benchmark to reconstruct work done by Duo Li and Alice-Agnes Gabriel from LMU. Ensure you've set the Python path correct\n",
    "\n",
    "export PYTHONPATH=../../../python\n",
    "\n",
    "to Peano's Python directory before you invoke the notebook."
   ]
  },
  {
   "cell_type": "code",
   "execution_count": 1,
   "metadata": {},
   "outputs": [
    {
     "name": "stdout",
     "output_type": "stream",
     "text": [
      "DaStGen 2 (C) www.peano-framework.org\n",
      "Peano 4 (C) www.peano-framework.org\n",
      "ExaHyPE 2 (C) www.peano-framework.org\n"
     ]
    }
   ],
   "source": [
    "import os\n",
    "import peano4\n",
    "import exahype2"
   ]
  },
  {
   "cell_type": "markdown",
   "metadata": {},
   "source": [
    "The sympy submodule is not included by default. But we'll use the homogeneous BC implementation from this package, as I'm too lazy to implement it myself. Even though they are trivial."
   ]
  },
  {
   "cell_type": "code",
   "execution_count": 2,
   "metadata": {},
   "outputs": [],
   "source": [
    "import exahype2.sympy"
   ]
  },
  {
   "cell_type": "markdown",
   "metadata": {},
   "source": [
    "## Clean-up\n",
    "\n",
    "Lets ensure that no left-over files stay in there. Lets in particular delete the executable and the output files."
   ]
  },
  {
   "cell_type": "code",
   "execution_count": 3,
   "metadata": {},
   "outputs": [],
   "source": [
    "output_files = [ f for f in os.listdir(\".\") if f.endswith(\".peano-patch-file\") or f.endswith(\".vtu\") or f.startswith(\"output\")]\n",
    "for f in output_files:\n",
    "  os.remove(f)"
   ]
  },
  {
   "cell_type": "markdown",
   "metadata": {},
   "source": [
    "## Setup simulation\n",
    "\n",
    "We create a new simulation. At the moment I can't non-cubic domains. I mean: I haven't tested it. This is something I have to do."
   ]
  },
  {
   "cell_type": "code",
   "execution_count": 4,
   "metadata": {},
   "outputs": [],
   "source": [
    "project = exahype2.Project( \n",
    "  namespace    = [\"examples\", \"exahype2\", \"gprdr\"], \n",
    "  project_name = \"gprdr\", \n",
    "  directory    = \".\" )"
   ]
  },
  {
   "cell_type": "code",
   "execution_count": 5,
   "metadata": {},
   "outputs": [],
   "source": [
    "dimensions=2 \n",
    "project.set_global_simulation_parameters(\n",
    "  dimensions            = dimensions,\n",
    "  offset                = [-10000.0,-10000.0], \n",
    "  size                  = [20000.0,20000.0],\n",
    "  end_time              = 8.001,\n",
    "  first_plot_time_stamp = 0.0, \n",
    "  time_in_between_plots = 0.01\n",
    ")"
   ]
  },
  {
   "cell_type": "markdown",
   "metadata": {},
   "source": [
    "## Create the solver\n",
    "\n",
    "I have a whole set of different solvers and will definitely create a few more over the next months. This guy is the most basic/primitive one. Lets ensure it works first. I work with patch-based AMR with patches of the size 5x5 volumes. This is, so far, also a regular grid setup."
   ]
  },
  {
   "cell_type": "code",
   "execution_count": 6,
   "metadata": {},
   "outputs": [
    {
     "name": "stdout",
     "output_type": "stream",
     "text": [
      "no of unknowns:  27\n"
     ]
    }
   ],
   "source": [
    "mesh_size      = 300\n",
    "time_step_size = 0.001\n",
    "\n",
    "unknowns = {    # yeah, I like self-explaining names ;-)\n",
    "  \"rho\":1,\n",
    "  \"v\":  3,\n",
    "  \"s\":  1,\n",
    "  \"J\":  3,\n",
    "  \"A\":  9,\n",
    "  \"alpha\": 1,\n",
    "  \"lambda\": 1,\n",
    "  \"mu\": 1,\n",
    "  \"xi\": 1,\n",
    "  \"xi1\": 1,\n",
    "  \"sliding\": 1,\n",
    "  \"sliding_xi\": 1,\n",
    "  \"slip\": 3\n",
    "}\n",
    "\n",
    "number_of_unknowns = 0\n",
    "number_of_auxiliary_variables = 0\n",
    "for i in unknowns:\n",
    "  number_of_unknowns += unknowns[i]\n",
    "\n",
    "print( \"no of unknowns: \", number_of_unknowns)\n",
    "\n",
    "pde = exahype2.sympy.PDE(unknowns=number_of_unknowns,auxiliary_variables=number_of_auxiliary_variables,dimensions=dimensions)\n",
    "\n",
    "my_solver = exahype2.solvers.fv.GenericRiemannFixedTimeStepSize(\n",
    "    name                = \"GPRDR\", \n",
    "    patch_size          = 5, \n",
    "    unknowns            = number_of_unknowns,\n",
    "    auxiliary_variables = number_of_auxiliary_variables,\n",
    "    time_step_size      = time_step_size, \n",
    "    min_h               = mesh_size,\n",
    "    max_h               = mesh_size)\n",
    "    \n",
    "my_solver.set_implementation(\n",
    "  boundary_conditions=pde.implementation_of_homogeneous_Neumann_BC(),\n",
    ")   \n",
    "\n",
    "project.add_solver( my_solver )    "
   ]
  },
  {
   "cell_type": "code",
   "execution_count": null,
   "metadata": {},
   "outputs": [],
   "source": []
  },
  {
   "cell_type": "code",
   "execution_count": null,
   "metadata": {},
   "outputs": [],
   "source": []
  },
  {
   "cell_type": "markdown",
   "metadata": {},
   "source": [
    "## Parallelise\n",
    "\n",
    "Even this simple setup is quite compute-intensive, so it pays off to work with the parallel code base right from the start. If you have configured Peano with\n",
    "\n",
    "<pre>\n",
    "--with-multithreading=omp\n",
    "</pre>\n",
    "\n",
    "or even with \n",
    "\n",
    "<pre>\n",
    "--with-multithreading=omp --with-mpi=mpiicpc\n",
    "</pre>\n",
    "\n",
    "then the line below adds parallelisation:"
   ]
  },
  {
   "cell_type": "code",
   "execution_count": 7,
   "metadata": {},
   "outputs": [],
   "source": [
    "project.set_load_balancing( \"toolbox::loadbalancing::RecursiveSubdivision\" )"
   ]
  },
  {
   "cell_type": "markdown",
   "metadata": {},
   "source": [
    "## Configure the build\n",
    "\n",
    "The idea is that the ExaHyPE2 front-end generates a Peano Python project. We can then ask this Peano project to generate all C++ code that we need. As we don't want to type in all the different configuration parameters (which compiler is used, which environment variables are to be used on this machine, ...) we first tell the ExaHyPE project to parse the setups we've selected through the initial ./configure call. Ah, and we also commit to a build flavour. "
   ]
  },
  {
   "cell_type": "code",
   "execution_count": 8,
   "metadata": {},
   "outputs": [
    {
     "name": "stdout",
     "output_type": "stream",
     "text": [
      "parse configure outcome ../../../src/Makefile to extract compile settings\n",
      "used C++ compiler is icpc\n",
      "used Fortran compiler is ifort\n"
     ]
    }
   ],
   "source": [
    "build_mode = peano4.output.CompileMode.Asserts\n",
    "#build_mode = peano4.output.CompileMode.Release\n",
    "\n",
    "project.set_Peano4_installation(\"../../..\", build_mode)\n",
    "\n",
    "peano4_project = project.generate_Peano4_project()"
   ]
  },
  {
   "cell_type": "markdown",
   "metadata": {},
   "source": [
    "Next, we add all the Fortran routines that we need in our project. Peano 4/ExaHyPE 2 will automatically add it to the build environment later on."
   ]
  },
  {
   "cell_type": "code",
   "execution_count": 9,
   "metadata": {},
   "outputs": [],
   "source": [
    "peano4_project.output.makefile.add_Fortran_modules( [\n",
    "  \"MainVariables.f90\",    \"expintegrator_type.f90\",  \"expintegrator_linalg.f90\",\n",
    "  \"SpecificVarEqn99.f90\", \"GPRmaterials.f90\",        \"expintegrator_linalg_fast33.f90\",\n",
    "  \"ComplexGeometry.f90\",  \"expintegrator_ode.f90\",   \"expintegrator.f90\"\n",
    "])\n",
    "\n",
    "peano4_project.output.makefile.add_Fortran_files( \n",
    "  [ \"ODE.f90\", \"C2P-GPRDR.f90\", \"PDE.f90\", \"InitialData.f90\", \"Tools.f90\", \"CGinterface.f90\" ]\n",
    ")\n",
    "\n",
    "peano4_project.output.makefile.add_Fortran_flag( \"-r8 -cpp -auto -qopenmp-simd -O2 -xCORE-AVX2 -fma -DDim2 -DALIGNMENT=32 -DEQNTYPED99 -DODESOLVER -DOPT_KERNELS -I.\" )\n",
    "#     LINK_FORTRAN      += -lgfortran\n",
    "\n"
   ]
  },
  {
   "cell_type": "markdown",
   "metadata": {},
   "source": [
    "I don't want to program all the constants manually in my C++ code later on, so I simply export them from the Python script into the C++ stuff. They will be found in a generated file called Constants.h."
   ]
  },
  {
   "cell_type": "code",
   "execution_count": 10,
   "metadata": {},
   "outputs": [],
   "source": [
    "peano4_project.constants.export( \"NumberOfUnknowns\", number_of_unknowns )\n",
    "peano4_project.constants.export_string( \"Scenario\", \"TPV3\" ) # called reference in the ExaHyPE 1 project, but I find scenario better\n"
   ]
  },
  {
   "cell_type": "markdown",
   "metadata": {},
   "source": [
    "OK, time to generate the actual C++ stuff. After that, we can compile. We can either use the Python front-end to compile (there's a build() command) or directly call make. Once Peano 4 has written the makefile and the C++ code, the code is stand-alone, i.e. doesn't need Python anymore. So a plain make does the job."
   ]
  },
  {
   "cell_type": "code",
   "execution_count": 11,
   "metadata": {},
   "outputs": [
    {
     "name": "stdout",
     "output_type": "stream",
     "text": [
      "generate all code ...\n",
      "some artefacts have already been added to repository ... assume this is intentional (by higher abstraction layer, e.g.)\n",
      "generated gprdr-main.cpp\n",
      "write ./Makefile\n",
      "write ././AbstractGPRDR.h (generated from template /home/tobias/git/Peano/python/exahype2/solvers/fv/GenericRiemannFixedTimeStepSizeAbstract.template.h)\n",
      "write ././AbstractGPRDR.cpp (generated from template /home/tobias/git/Peano/python/exahype2/solvers/fv/GenericRiemannFixedTimeStepSizeAbstract.template.cpp)\n",
      "write ./observers/SolverRepository.h (generated from template /home/tobias/git/Peano/python/exahype2/ProjectSolverRepository.template.h)\n",
      "write ./observers/SolverRepository.cpp (generated from template /home/tobias/git/Peano/python/exahype2/ProjectSolverRepository.template.cpp)\n",
      "write ./celldata/GPRDRQ.h (generated from template /home/tobias/git/Peano/python/peano4/datamodel/PatchToDoubleArray.template.h)\n",
      "write ./celldata/GPRDRQ.cpp (generated from template /home/tobias/git/Peano/python/peano4/datamodel/PatchToDoubleArray.template.cpp)\n",
      "write ./facedata/GPRDRQ.h (generated from template /home/tobias/git/Peano/python/peano4/datamodel/PatchToDoubleArray.template.h)\n",
      "write ./facedata/GPRDRQ.cpp (generated from template /home/tobias/git/Peano/python/peano4/datamodel/PatchToDoubleArray.template.cpp)\n",
      "write ./facedata/GPRDRQNew.h (generated from template /home/tobias/git/Peano/python/peano4/datamodel/PatchToDoubleArray.template.h)\n",
      "write ./facedata/GPRDRQNew.cpp (generated from template /home/tobias/git/Peano/python/peano4/datamodel/PatchToDoubleArray.template.cpp)\n",
      "write ./observers/DataRepository.h\n",
      "write ./observers/DataRepository.cpp\n",
      "write ././observers/CreateGrid2peano4_toolbox_blockstructured_ApplyFunctorOnPatch0.h\n",
      "write ././observers/CreateGrid2peano4_toolbox_blockstructured_ApplyFunctorOnPatch0.cpp\n",
      "write ././observers/CreateGrid2exahype2_grid_AMROnPatch1.h\n",
      "write ././observers/CreateGrid2exahype2_grid_AMROnPatch1.cpp\n",
      "write ././observers/CreateGrid2exahype2_grid_SetLabels2.h\n",
      "write ././observers/CreateGrid2exahype2_grid_SetLabels2.cpp\n",
      "write ././observers/CreateGrid.h\n",
      "write ././observers/CreateGrid.cpp\n",
      "write ././observers/InitGrid2peano4_toolbox_blockstructured_ApplyFunctorOnPatch0.h\n",
      "write ././observers/InitGrid2peano4_toolbox_blockstructured_ApplyFunctorOnPatch0.cpp\n",
      "write ././observers/InitGrid2peano4_toolbox_blockstructured_ProjectPatchOntoFaces1.h\n",
      "write ././observers/InitGrid2peano4_toolbox_blockstructured_ProjectPatchOntoFaces1.cpp\n",
      "write ././observers/InitGrid2peano4_toolbox_blockstructured_BackupPatchOverlap2.h\n",
      "write ././observers/InitGrid2peano4_toolbox_blockstructured_BackupPatchOverlap2.cpp\n",
      "write ././observers/InitGrid2exahype2_grid_SetLabels3.h\n",
      "write ././observers/InitGrid2exahype2_grid_SetLabels3.cpp\n",
      "write ././observers/InitGrid.h\n",
      "write ././observers/InitGrid.cpp\n",
      "write ././observers/CreateGridButPostponeRefinement2peano4_toolbox_blockstructured_ApplyFunctorOnPatch0.h\n",
      "write ././observers/CreateGridButPostponeRefinement2peano4_toolbox_blockstructured_ApplyFunctorOnPatch0.cpp\n",
      "write ././observers/CreateGridButPostponeRefinement2exahype2_grid_SetLabels1.h\n",
      "write ././observers/CreateGridButPostponeRefinement2exahype2_grid_SetLabels1.cpp\n",
      "write ././observers/CreateGridButPostponeRefinement.h\n",
      "write ././observers/CreateGridButPostponeRefinement.cpp\n",
      "write ././observers/PlotSolution2peano4_toolbox_blockstructured_PlotPatchesInPeanoBlockFormat0.h\n",
      "write ././observers/PlotSolution2peano4_toolbox_blockstructured_PlotPatchesInPeanoBlockFormat0.cpp\n",
      "write ././observers/PlotSolution2exahype2_grid_SetLabels1.h\n",
      "write ././observers/PlotSolution2exahype2_grid_SetLabels1.cpp\n",
      "write ././observers/PlotSolution.h\n",
      "write ././observers/PlotSolution.cpp\n",
      "write ././observers/TimeStep2peano4_toolbox_blockstructured_ReconstructPatchAndApplyFunctor0.h\n",
      "write ././observers/TimeStep2peano4_toolbox_blockstructured_ReconstructPatchAndApplyFunctor0.cpp\n",
      "write ././observers/TimeStep2peano4_toolbox_blockstructured_ProjectPatchOntoFaces1.h\n",
      "write ././observers/TimeStep2peano4_toolbox_blockstructured_ProjectPatchOntoFaces1.cpp\n",
      "write ././observers/TimeStep2peano4_toolbox_blockstructured_ApplyFunctorOnPatch2.h\n",
      "write ././observers/TimeStep2peano4_toolbox_blockstructured_ApplyFunctorOnPatch2.cpp\n",
      "write ././observers/TimeStep2exahype2_grid_AMROnPatch3.h\n",
      "write ././observers/TimeStep2exahype2_grid_AMROnPatch3.cpp\n",
      "write ././observers/TimeStep2peano4_toolbox_blockstructured_BackupPatchOverlap4.h\n",
      "write ././observers/TimeStep2peano4_toolbox_blockstructured_BackupPatchOverlap4.cpp\n",
      "write ././observers/TimeStep2exahype2_grid_SetLabels5.h\n",
      "write ././observers/TimeStep2exahype2_grid_SetLabels5.cpp\n",
      "write ././observers/TimeStep.h\n",
      "write ././observers/TimeStep.cpp\n",
      "write ./observers/StepRepository.h\n",
      "write ./observers/StepRepository.cpp\n",
      "write ././gprdr-main.h\n",
      "write ././gprdr-main.cpp\n",
      "write ./Constants.h\n",
      "generation complete\n"
     ]
    }
   ],
   "source": [
    "peano4_project.generate()"
   ]
  },
  {
   "cell_type": "code",
   "execution_count": 12,
   "metadata": {},
   "outputs": [
    {
     "name": "stdout",
     "output_type": "stream",
     "text": [
      "ifort -g  -r8 -cpp -auto -qopenmp-simd -O2 -xCORE-AVX2 -fma -DDim2 -DALIGNMENT=32 -DEQNTYPED99 -DODESOLVER -DOPT_KERNELS -I. -c -o MainVariables.o MainVariables.f90\n",
      "ifort -g  -r8 -cpp -auto -qopenmp-simd -O2 -xCORE-AVX2 -fma -DDim2 -DALIGNMENT=32 -DEQNTYPED99 -DODESOLVER -DOPT_KERNELS -I. -c -o expintegrator_type.o expintegrator_type.f90\n",
      "ifort -g  -r8 -cpp -auto -qopenmp-simd -O2 -xCORE-AVX2 -fma -DDim2 -DALIGNMENT=32 -DEQNTYPED99 -DODESOLVER -DOPT_KERNELS -I. -c -o expintegrator_linalg.o expintegrator_linalg.f90\n",
      "ifort -g  -r8 -cpp -auto -qopenmp-simd -O2 -xCORE-AVX2 -fma -DDim2 -DALIGNMENT=32 -DEQNTYPED99 -DODESOLVER -DOPT_KERNELS -I. -c -o SpecificVarEqn99.o SpecificVarEqn99.f90\n",
      "ifort -g  -r8 -cpp -auto -qopenmp-simd -O2 -xCORE-AVX2 -fma -DDim2 -DALIGNMENT=32 -DEQNTYPED99 -DODESOLVER -DOPT_KERNELS -I. -c -o GPRmaterials.o GPRmaterials.f90\n",
      "ifort -g  -r8 -cpp -auto -qopenmp-simd -O2 -xCORE-AVX2 -fma -DDim2 -DALIGNMENT=32 -DEQNTYPED99 -DODESOLVER -DOPT_KERNELS -I. -c -o expintegrator_linalg_fast33.o expintegrator_linalg_fast33.f90\n",
      "ifort -g  -r8 -cpp -auto -qopenmp-simd -O2 -xCORE-AVX2 -fma -DDim2 -DALIGNMENT=32 -DEQNTYPED99 -DODESOLVER -DOPT_KERNELS -I. -c -o ComplexGeometry.o ComplexGeometry.f90\n",
      "ifort -g  -r8 -cpp -auto -qopenmp-simd -O2 -xCORE-AVX2 -fma -DDim2 -DALIGNMENT=32 -DEQNTYPED99 -DODESOLVER -DOPT_KERNELS -I. -c -o expintegrator_ode.o expintegrator_ode.f90\n",
      "ifort -g  -r8 -cpp -auto -qopenmp-simd -O2 -xCORE-AVX2 -fma -DDim2 -DALIGNMENT=32 -DEQNTYPED99 -DODESOLVER -DOPT_KERNELS -I. -c -o expintegrator.o expintegrator.f90\n",
      "icpc -std=c++0x -g -O2 -DPeanoDebug=2 -I/opt/intel/tbb/include -DTBB_USE_ASSERT -DTBB_USE_THREADING_TOOLS -I/opt/intel/itac/2020.0.015/intel64/include -fopenmp  -DDimensions=2 -I. -I../../../src -c -o AbstractGPRDR.o AbstractGPRDR.cpp\n",
      "icpc -std=c++0x -g -O2 -DPeanoDebug=2 -I/opt/intel/tbb/include -DTBB_USE_ASSERT -DTBB_USE_THREADING_TOOLS -I/opt/intel/itac/2020.0.015/intel64/include -fopenmp  -DDimensions=2 -I. -I../../../src -c -o GPRDR.o GPRDR.cpp\n",
      "icpc -std=c++0x -g -O2 -DPeanoDebug=2 -I/opt/intel/tbb/include -DTBB_USE_ASSERT -DTBB_USE_THREADING_TOOLS -I/opt/intel/itac/2020.0.015/intel64/include -fopenmp  -DDimensions=2 -I. -I../../../src -c -o observers/SolverRepository.o observers/SolverRepository.cpp\n",
      "icpc -std=c++0x -g -O2 -DPeanoDebug=2 -I/opt/intel/tbb/include -DTBB_USE_ASSERT -DTBB_USE_THREADING_TOOLS -I/opt/intel/itac/2020.0.015/intel64/include -fopenmp  -DDimensions=2 -I. -I../../../src -c -o celldata/GPRDRQ.o celldata/GPRDRQ.cpp\n",
      "icpc -std=c++0x -g -O2 -DPeanoDebug=2 -I/opt/intel/tbb/include -DTBB_USE_ASSERT -DTBB_USE_THREADING_TOOLS -I/opt/intel/itac/2020.0.015/intel64/include -fopenmp  -DDimensions=2 -I. -I../../../src -c -o facedata/GPRDRQ.o facedata/GPRDRQ.cpp\n",
      "icpc -std=c++0x -g -O2 -DPeanoDebug=2 -I/opt/intel/tbb/include -DTBB_USE_ASSERT -DTBB_USE_THREADING_TOOLS -I/opt/intel/itac/2020.0.015/intel64/include -fopenmp  -DDimensions=2 -I. -I../../../src -c -o facedata/GPRDRQNew.o facedata/GPRDRQNew.cpp\n",
      "icpc -std=c++0x -g -O2 -DPeanoDebug=2 -I/opt/intel/tbb/include -DTBB_USE_ASSERT -DTBB_USE_THREADING_TOOLS -I/opt/intel/itac/2020.0.015/intel64/include -fopenmp  -DDimensions=2 -I. -I../../../src -c -o facedata/Label.o facedata/Label.cpp\n",
      "icpc -std=c++0x -g -O2 -DPeanoDebug=2 -I/opt/intel/tbb/include -DTBB_USE_ASSERT -DTBB_USE_THREADING_TOOLS -I/opt/intel/itac/2020.0.015/intel64/include -fopenmp  -DDimensions=2 -I. -I../../../src -c -o observers/DataRepository.o observers/DataRepository.cpp\n",
      "icpc -std=c++0x -g -O2 -DPeanoDebug=2 -I/opt/intel/tbb/include -DTBB_USE_ASSERT -DTBB_USE_THREADING_TOOLS -I/opt/intel/itac/2020.0.015/intel64/include -fopenmp  -DDimensions=2 -I. -I../../../src -c -o observers/CreateGrid2peano4_toolbox_blockstructured_ApplyFunctorOnPatch0.o observers/CreateGrid2peano4_toolbox_blockstructured_ApplyFunctorOnPatch0.cpp\n",
      "icpc -std=c++0x -g -O2 -DPeanoDebug=2 -I/opt/intel/tbb/include -DTBB_USE_ASSERT -DTBB_USE_THREADING_TOOLS -I/opt/intel/itac/2020.0.015/intel64/include -fopenmp  -DDimensions=2 -I. -I../../../src -c -o observers/CreateGrid2exahype2_grid_AMROnPatch1.o observers/CreateGrid2exahype2_grid_AMROnPatch1.cpp\n",
      "icpc -std=c++0x -g -O2 -DPeanoDebug=2 -I/opt/intel/tbb/include -DTBB_USE_ASSERT -DTBB_USE_THREADING_TOOLS -I/opt/intel/itac/2020.0.015/intel64/include -fopenmp  -DDimensions=2 -I. -I../../../src -c -o observers/CreateGrid2exahype2_grid_SetLabels2.o observers/CreateGrid2exahype2_grid_SetLabels2.cpp\n",
      "icpc -std=c++0x -g -O2 -DPeanoDebug=2 -I/opt/intel/tbb/include -DTBB_USE_ASSERT -DTBB_USE_THREADING_TOOLS -I/opt/intel/itac/2020.0.015/intel64/include -fopenmp  -DDimensions=2 -I. -I../../../src -c -o observers/CreateGrid.o observers/CreateGrid.cpp\n",
      "icpc -std=c++0x -g -O2 -DPeanoDebug=2 -I/opt/intel/tbb/include -DTBB_USE_ASSERT -DTBB_USE_THREADING_TOOLS -I/opt/intel/itac/2020.0.015/intel64/include -fopenmp  -DDimensions=2 -I. -I../../../src -c -o observers/InitGrid2peano4_toolbox_blockstructured_ApplyFunctorOnPatch0.o observers/InitGrid2peano4_toolbox_blockstructured_ApplyFunctorOnPatch0.cpp\n",
      "icpc -std=c++0x -g -O2 -DPeanoDebug=2 -I/opt/intel/tbb/include -DTBB_USE_ASSERT -DTBB_USE_THREADING_TOOLS -I/opt/intel/itac/2020.0.015/intel64/include -fopenmp  -DDimensions=2 -I. -I../../../src -c -o observers/InitGrid2peano4_toolbox_blockstructured_ProjectPatchOntoFaces1.o observers/InitGrid2peano4_toolbox_blockstructured_ProjectPatchOntoFaces1.cpp\n",
      "icpc -std=c++0x -g -O2 -DPeanoDebug=2 -I/opt/intel/tbb/include -DTBB_USE_ASSERT -DTBB_USE_THREADING_TOOLS -I/opt/intel/itac/2020.0.015/intel64/include -fopenmp  -DDimensions=2 -I. -I../../../src -c -o observers/InitGrid2peano4_toolbox_blockstructured_BackupPatchOverlap2.o observers/InitGrid2peano4_toolbox_blockstructured_BackupPatchOverlap2.cpp\n",
      "icpc -std=c++0x -g -O2 -DPeanoDebug=2 -I/opt/intel/tbb/include -DTBB_USE_ASSERT -DTBB_USE_THREADING_TOOLS -I/opt/intel/itac/2020.0.015/intel64/include -fopenmp  -DDimensions=2 -I. -I../../../src -c -o observers/InitGrid2exahype2_grid_SetLabels3.o observers/InitGrid2exahype2_grid_SetLabels3.cpp\n",
      "icpc -std=c++0x -g -O2 -DPeanoDebug=2 -I/opt/intel/tbb/include -DTBB_USE_ASSERT -DTBB_USE_THREADING_TOOLS -I/opt/intel/itac/2020.0.015/intel64/include -fopenmp  -DDimensions=2 -I. -I../../../src -c -o observers/InitGrid.o observers/InitGrid.cpp\n",
      "icpc -std=c++0x -g -O2 -DPeanoDebug=2 -I/opt/intel/tbb/include -DTBB_USE_ASSERT -DTBB_USE_THREADING_TOOLS -I/opt/intel/itac/2020.0.015/intel64/include -fopenmp  -DDimensions=2 -I. -I../../../src -c -o observers/CreateGridButPostponeRefinement2peano4_toolbox_blockstructured_ApplyFunctorOnPatch0.o observers/CreateGridButPostponeRefinement2peano4_toolbox_blockstructured_ApplyFunctorOnPatch0.cpp\n",
      "icpc -std=c++0x -g -O2 -DPeanoDebug=2 -I/opt/intel/tbb/include -DTBB_USE_ASSERT -DTBB_USE_THREADING_TOOLS -I/opt/intel/itac/2020.0.015/intel64/include -fopenmp  -DDimensions=2 -I. -I../../../src -c -o observers/CreateGridButPostponeRefinement2exahype2_grid_SetLabels1.o observers/CreateGridButPostponeRefinement2exahype2_grid_SetLabels1.cpp\n",
      "icpc -std=c++0x -g -O2 -DPeanoDebug=2 -I/opt/intel/tbb/include -DTBB_USE_ASSERT -DTBB_USE_THREADING_TOOLS -I/opt/intel/itac/2020.0.015/intel64/include -fopenmp  -DDimensions=2 -I. -I../../../src -c -o observers/CreateGridButPostponeRefinement.o observers/CreateGridButPostponeRefinement.cpp\n",
      "icpc -std=c++0x -g -O2 -DPeanoDebug=2 -I/opt/intel/tbb/include -DTBB_USE_ASSERT -DTBB_USE_THREADING_TOOLS -I/opt/intel/itac/2020.0.015/intel64/include -fopenmp  -DDimensions=2 -I. -I../../../src -c -o observers/PlotSolution2peano4_toolbox_blockstructured_PlotPatchesInPeanoBlockFormat0.o observers/PlotSolution2peano4_toolbox_blockstructured_PlotPatchesInPeanoBlockFormat0.cpp\n",
      "icpc -std=c++0x -g -O2 -DPeanoDebug=2 -I/opt/intel/tbb/include -DTBB_USE_ASSERT -DTBB_USE_THREADING_TOOLS -I/opt/intel/itac/2020.0.015/intel64/include -fopenmp  -DDimensions=2 -I. -I../../../src -c -o observers/PlotSolution2exahype2_grid_SetLabels1.o observers/PlotSolution2exahype2_grid_SetLabels1.cpp\n",
      "icpc -std=c++0x -g -O2 -DPeanoDebug=2 -I/opt/intel/tbb/include -DTBB_USE_ASSERT -DTBB_USE_THREADING_TOOLS -I/opt/intel/itac/2020.0.015/intel64/include -fopenmp  -DDimensions=2 -I. -I../../../src -c -o observers/PlotSolution.o observers/PlotSolution.cpp\n"
     ]
    },
    {
     "name": "stdout",
     "output_type": "stream",
     "text": [
      "icpc -std=c++0x -g -O2 -DPeanoDebug=2 -I/opt/intel/tbb/include -DTBB_USE_ASSERT -DTBB_USE_THREADING_TOOLS -I/opt/intel/itac/2020.0.015/intel64/include -fopenmp  -DDimensions=2 -I. -I../../../src -c -o observers/TimeStep2peano4_toolbox_blockstructured_ReconstructPatchAndApplyFunctor0.o observers/TimeStep2peano4_toolbox_blockstructured_ReconstructPatchAndApplyFunctor0.cpp\n",
      "icpc -std=c++0x -g -O2 -DPeanoDebug=2 -I/opt/intel/tbb/include -DTBB_USE_ASSERT -DTBB_USE_THREADING_TOOLS -I/opt/intel/itac/2020.0.015/intel64/include -fopenmp  -DDimensions=2 -I. -I../../../src -c -o observers/TimeStep2peano4_toolbox_blockstructured_ProjectPatchOntoFaces1.o observers/TimeStep2peano4_toolbox_blockstructured_ProjectPatchOntoFaces1.cpp\n",
      "icpc -std=c++0x -g -O2 -DPeanoDebug=2 -I/opt/intel/tbb/include -DTBB_USE_ASSERT -DTBB_USE_THREADING_TOOLS -I/opt/intel/itac/2020.0.015/intel64/include -fopenmp  -DDimensions=2 -I. -I../../../src -c -o observers/TimeStep2peano4_toolbox_blockstructured_ApplyFunctorOnPatch2.o observers/TimeStep2peano4_toolbox_blockstructured_ApplyFunctorOnPatch2.cpp\n",
      "icpc -std=c++0x -g -O2 -DPeanoDebug=2 -I/opt/intel/tbb/include -DTBB_USE_ASSERT -DTBB_USE_THREADING_TOOLS -I/opt/intel/itac/2020.0.015/intel64/include -fopenmp  -DDimensions=2 -I. -I../../../src -c -o observers/TimeStep2exahype2_grid_AMROnPatch3.o observers/TimeStep2exahype2_grid_AMROnPatch3.cpp\n",
      "icpc -std=c++0x -g -O2 -DPeanoDebug=2 -I/opt/intel/tbb/include -DTBB_USE_ASSERT -DTBB_USE_THREADING_TOOLS -I/opt/intel/itac/2020.0.015/intel64/include -fopenmp  -DDimensions=2 -I. -I../../../src -c -o observers/TimeStep2peano4_toolbox_blockstructured_BackupPatchOverlap4.o observers/TimeStep2peano4_toolbox_blockstructured_BackupPatchOverlap4.cpp\n",
      "icpc -std=c++0x -g -O2 -DPeanoDebug=2 -I/opt/intel/tbb/include -DTBB_USE_ASSERT -DTBB_USE_THREADING_TOOLS -I/opt/intel/itac/2020.0.015/intel64/include -fopenmp  -DDimensions=2 -I. -I../../../src -c -o observers/TimeStep2exahype2_grid_SetLabels5.o observers/TimeStep2exahype2_grid_SetLabels5.cpp\n",
      "icpc -std=c++0x -g -O2 -DPeanoDebug=2 -I/opt/intel/tbb/include -DTBB_USE_ASSERT -DTBB_USE_THREADING_TOOLS -I/opt/intel/itac/2020.0.015/intel64/include -fopenmp  -DDimensions=2 -I. -I../../../src -c -o observers/TimeStep.o observers/TimeStep.cpp\n",
      "icpc -std=c++0x -g -O2 -DPeanoDebug=2 -I/opt/intel/tbb/include -DTBB_USE_ASSERT -DTBB_USE_THREADING_TOOLS -I/opt/intel/itac/2020.0.015/intel64/include -fopenmp  -DDimensions=2 -I. -I../../../src -c -o observers/StepRepository.o observers/StepRepository.cpp\n",
      "icpc -std=c++0x -g -O2 -DPeanoDebug=2 -I/opt/intel/tbb/include -DTBB_USE_ASSERT -DTBB_USE_THREADING_TOOLS -I/opt/intel/itac/2020.0.015/intel64/include -fopenmp  -DDimensions=2 -I. -I../../../src -c -o gprdr-main.o gprdr-main.cpp\n",
      "ifort -g  -r8 -cpp -auto -qopenmp-simd -O2 -xCORE-AVX2 -fma -DDim2 -DALIGNMENT=32 -DEQNTYPED99 -DODESOLVER -DOPT_KERNELS -I. -c -o ODE.o ODE.f90\n",
      "ifort -g  -r8 -cpp -auto -qopenmp-simd -O2 -xCORE-AVX2 -fma -DDim2 -DALIGNMENT=32 -DEQNTYPED99 -DODESOLVER -DOPT_KERNELS -I. -c -o C2P-GPRDR.o C2P-GPRDR.f90\n",
      "ifort -g  -r8 -cpp -auto -qopenmp-simd -O2 -xCORE-AVX2 -fma -DDim2 -DALIGNMENT=32 -DEQNTYPED99 -DODESOLVER -DOPT_KERNELS -I. -c -o PDE.o PDE.f90\n",
      "ifort -g  -r8 -cpp -auto -qopenmp-simd -O2 -xCORE-AVX2 -fma -DDim2 -DALIGNMENT=32 -DEQNTYPED99 -DODESOLVER -DOPT_KERNELS -I. -c -o InitialData.o InitialData.f90\n",
      "ifort -g  -r8 -cpp -auto -qopenmp-simd -O2 -xCORE-AVX2 -fma -DDim2 -DALIGNMENT=32 -DEQNTYPED99 -DODESOLVER -DOPT_KERNELS -I. -c -o Tools.o Tools.f90\n",
      "ifort -g  -r8 -cpp -auto -qopenmp-simd -O2 -xCORE-AVX2 -fma -DDim2 -DALIGNMENT=32 -DEQNTYPED99 -DODESOLVER -DOPT_KERNELS -I. -c -o CGinterface.o CGinterface.f90\n",
      "icpc MainVariables.o expintegrator_type.o expintegrator_linalg.o SpecificVarEqn99.o GPRmaterials.o expintegrator_linalg_fast33.o ComplexGeometry.o expintegrator_ode.o expintegrator.o ODE.o C2P-GPRDR.o PDE.o InitialData.o Tools.o CGinterface.o  AbstractGPRDR.o GPRDR.o observers/SolverRepository.o celldata/GPRDRQ.o facedata/GPRDRQ.o facedata/GPRDRQNew.o facedata/Label.o observers/DataRepository.o ./observers/CreateGrid2peano4_toolbox_blockstructured_ApplyFunctorOnPatch0.o ./observers/CreateGrid2exahype2_grid_AMROnPatch1.o ./observers/CreateGrid2exahype2_grid_SetLabels2.o ./observers/CreateGrid.o ./observers/InitGrid2peano4_toolbox_blockstructured_ApplyFunctorOnPatch0.o ./observers/InitGrid2peano4_toolbox_blockstructured_ProjectPatchOntoFaces1.o ./observers/InitGrid2peano4_toolbox_blockstructured_BackupPatchOverlap2.o ./observers/InitGrid2exahype2_grid_SetLabels3.o ./observers/InitGrid.o ./observers/CreateGridButPostponeRefinement2peano4_toolbox_blockstructured_ApplyFunctorOnPatch0.o ./observers/CreateGridButPostponeRefinement2exahype2_grid_SetLabels1.o ./observers/CreateGridButPostponeRefinement.o ./observers/PlotSolution2peano4_toolbox_blockstructured_PlotPatchesInPeanoBlockFormat0.o ./observers/PlotSolution2exahype2_grid_SetLabels1.o ./observers/PlotSolution.o ./observers/TimeStep2peano4_toolbox_blockstructured_ReconstructPatchAndApplyFunctor0.o ./observers/TimeStep2peano4_toolbox_blockstructured_ProjectPatchOntoFaces1.o ./observers/TimeStep2peano4_toolbox_blockstructured_ApplyFunctorOnPatch2.o ./observers/TimeStep2exahype2_grid_AMROnPatch3.o ./observers/TimeStep2peano4_toolbox_blockstructured_BackupPatchOverlap4.o ./observers/TimeStep2exahype2_grid_SetLabels5.o ./observers/TimeStep.o observers/StepRepository.o gprdr-main.o   -L/opt/vtk/lib64 -L/opt/intel/tbb/lib/intel64/gcc4.8 -ltbb_debug -lpthread -lifcore -fopenmp  -L../../../src -L../../../src/toolbox/loadbalancing -L../../../src/exahype2   -lExaHyPE2Core2d_asserts  -lToolboxLoadBalancing2d_asserts  -lPeano4Core2d_asserts -lTarch_asserts  -o peano4 \n"
     ]
    }
   ],
   "source": [
    "# parallel_builds = 8\n",
    "# peano4_project.build( make_clean_first = True, number_of_parallel_builds = parallel_builds )\n",
    "!make -j4\n"
   ]
  },
  {
   "cell_type": "markdown",
   "metadata": {},
   "source": [
    "## Run the code\n",
    "\n",
    "As the code is a stand-alone executable (once I generated the stuff, there's no need for the Python front-end anywmore, you can take the code and run it on a supercomputer, e.g.), we can just type in run. There's also a Python wrap-around in Peano 4, but I usually prefer the command line version. The one below should work, but very "
   ]
  },
  {
   "cell_type": "code",
   "execution_count": null,
   "metadata": {},
   "outputs": [
    {
     "name": "stdout",
     "output_type": "stream",
     "text": [
      "rank 0: assigned message SolverRepository - statistics exchange tag the free tag 0 (1 consecutive tags reserved)\n",
      " ****************************************************************\n",
      " Chosen setup: \tTPV3                \n",
      " ****************************************************************\n",
      "Peano 4 (C) www.peano-framework.org \n",
      "build: 2d, no mpi, omp (12 threads), debug level=2\n",
      "rank 0: assigned message global semaphores the free tag 1 (1 consecutive tags reserved)\n",
      "rank 0: assigned message peano4::parallel::Node - rank orchestration the free tag 2 (1 consecutive tags reserved)\n",
      "rank 0: assigned message peano4::parallel::Node - data management the free tag 3 (16384 consecutive tags reserved)\n",
      " 767933       00:00:00     rank:0       core:11      trace        peano4::parallel::Node::registerId(int,int)             in:id:0,masterId:-1 (file:peano4/parallel/Node.cpp,line:157)\n",
      " 795847       00:00:00     rank:0       core:11      trace        peano4::parallel::Node::registerId(int,int)             out (file:peano4/parallel/Node.cpp,line:164)\n",
      "rank 0: assigned message peano4::parallel::SpacetreeSet - request message the free tag 16387 (1 consecutive tags reserved)\n",
      "rank 0: assigned message peano4::parallel::SpacetreeSet - answer message the free tag 16388 (64 consecutive tags reserved)\n",
      " 1425415      00:00:00     rank:0       core:11      info         tarch::tests::TreeTestCaseCollection::run()             running test case collection \"peano4.grid.tests\" ....... ok\n",
      " 1438326      00:00:00     rank:0       core:11      info         tarch::tests::TreeTestCaseCollection::run()             running test case collection \"peano4.grid\" ... ok\n",
      " 1483494      00:00:00     rank:0       core:11      info         tarch::tests::TreeTestCaseCollection::run()             running test case collection \"peano4.parallel.tests\" ....... ok\n",
      " 1493712      00:00:00     rank:0       core:11      info         tarch::tests::TreeTestCaseCollection::run()             running test case collection \"peano4.parallel\" ... ok\n",
      " 1499951      00:00:00     rank:0       core:11      info         tarch::tests::TreeTestCaseCollection::run()             running test case collection \"peano4\" ... ok\n",
      " 1505945      00:00:00     rank:0       core:11      info         tarch::tests::TreeTestCaseCollection::run()             running test case collection ... ok\n",
      " 1558754      00:00:00     rank:0       core:11      info         tarch::tests::TreeTestCaseCollection::run()             running test case collection \"tarch.la.tests\" ..... ok\n",
      " 1607192      00:00:00     rank:0       core:11      info         tarch::tests::TreeTestCaseCollection::run()             running test case collection \"tarch.la\" ............. ok\n",
      " 1616498      00:00:00     rank:0       core:11      info         tarch::tests::TreeTestCaseCollection::run()             running test case collection \"tarch.mpi.tests\" ..... ok\n",
      " 1622692      00:00:00     rank:0       core:11      info         tarch::tests::TreeTestCaseCollection::run()             running test case collection \"tarch.mpi\" ... ok\n",
      " 1628493      00:00:00     rank:0       core:11      info         tarch::tests::TreeTestCaseCollection::run()             running test case collection \"tarch\" ... ok\n",
      " 1635814      00:00:00     rank:0       core:11      info         tarch::tests::TreeTestCaseCollection::run()             running test case collection ... ok\n",
      " 2492606      00:00:00     rank:0       core:11      info         ::::selectNextAlgorithmicStep()                         mesh rebalancing seems to be kind of stationary, so refine mesh further in next sweep\n",
      " 3521         00:00:00     rank:0       core:11      info         ::step()                                                run CreateGrid\n",
      " 17921243     00:00:00     rank:0       core:11      info         exahype2::RefinementControl::finishStep()               activate 9 refinement/coarsening instructions\n",
      " 17970194     00:00:00     rank:0       core:11      info         toolbox::loadbalancing::RecursiveSubdivision::finishStep() wait in state (state=postponed-due-to-lack-of-cells,global-cell-count=9,lightest-rank=0,has-spread-over-all-ranks=0,has-spread-over-all-cores=0,round-robin-token=0,target-balancing-ratio=0.8,max-tree-weight-at-last-split=2147483647,blacklist-weight=4,number-of-state-updated-without-any-split=1073741824,global-number-of-splits=0,local-number-of-splits=0,local-number-of-unsuccessful-splits-as-load-balancing-had-been-turned-off=0,global-number-of-unsuccessful-splits-as-load-balancing-had-been-turned-off=0,tree 0:9,blacklist is empty,heaviest-local-tree=0 (analysed),heaviest-local-weight=9 (analysed))\n",
      " 17991056     00:00:00     rank:0       core:11      info         toolbox::loadbalancing::dumpStatistics()                1 tree(s): (#0:9/0) total=9/0 (local/remote)\n",
      " 16013072     00:00:00     rank:0       core:11      info         ::step()                                                run CreateGrid\n",
      " 18093752     00:00:00     rank:0       core:5       info         peano4::grid::Spacetree::traverse(...)                        got one grid control event: (refinementControl=Refine,offset=[-10333.3,-10333.3],width=[20666.7,20666.7],h=[2444.44,2444.44])\n",
      " 36527719     00:00:00     rank:0       core:11      info         exahype2::RefinementControl::finishStep()               activate 9 refinement/coarsening instructions\n",
      " 36568835     00:00:00     rank:0       core:11      info         toolbox::loadbalancing::RecursiveSubdivision::finishStep() wait in state (state=postponed-due-to-lack-of-cells,global-cell-count=9,lightest-rank=0,has-spread-over-all-ranks=0,has-spread-over-all-cores=0,round-robin-token=0,target-balancing-ratio=0.8,max-tree-weight-at-last-split=2147483647,blacklist-weight=4,number-of-state-updated-without-any-split=1073741825,global-number-of-splits=0,local-number-of-splits=0,local-number-of-unsuccessful-splits-as-load-balancing-had-been-turned-off=0,global-number-of-unsuccessful-splits-as-load-balancing-had-been-turned-off=0,tree 0:9,blacklist is empty,heaviest-local-tree=0 (analysed),heaviest-local-weight=9 (analysed))\n",
      " 36585722     00:00:00     rank:0       core:11      info         toolbox::loadbalancing::dumpStatistics()                1 tree(s): (#0:9/0) total=9/0 (local/remote)\n",
      " 37099736     00:00:00     rank:0       core:11      info         ::::selectNextAlgorithmicStep()                         mesh rebalancing seems to be kind of stationary, so refine mesh further in next sweep\n",
      " 34610550     00:00:00     rank:0       core:11      info         ::step()                                                run CreateGridButPostponeRefinement\n",
      " 180651768    00:00:00     rank:0       core:11      info         toolbox::loadbalancing::RecursiveSubdivision::finishStep() split-heaviest-tree(multiple-times,use-local-rank,use-recursive-partitioning) in state (state=standard,global-cell-count=81,lightest-rank=0,has-spread-over-all-ranks=0,has-spread-over-all-cores=0,round-robin-token=0,target-balancing-ratio=0.8,max-tree-weight-at-last-split=2147483647,blacklist-weight=4,number-of-state-updated-without-any-split=1073741826,global-number-of-splits=0,local-number-of-splits=0,local-number-of-unsuccessful-splits-as-load-balancing-had-been-turned-off=0,global-number-of-unsuccessful-splits-as-load-balancing-had-been-turned-off=0,tree 0:81,blacklist is empty,heaviest-local-tree=0 (analysed),heaviest-local-weight=81 (analysed))\n",
      " 180699879    00:00:00     rank:0       core:11      info         toolbox::loadbalancing::RecursiveSubdivision::getNumberOfSplitsOnLocalRank(...) not sure if additional trees fit on node. Optimal number of splits is 11, With current mem footprint of 7722 MByte and free memory of 24507 we manually reduce split count to 6\n",
      " 180717284    00:00:00     rank:0       core:11      info         toolbox::loadbalancing::RecursiveSubdivision::getNumberOfSplitsOnLocalRank() insufficient number of cores occupied on this rank, so split 6 cells 6 times from tree 0 on local rank (hosts 81 unrefined cells)\n",
      " 180728967    00:00:00     rank:0       core:11      info         peano4::parallel::SpacetreeSet::split(int,int)            trigger split of tree 0 into tree 1 with 6 fine grid cells\n",
      " 180775858    00:00:00     rank:0       core:11      info         peano4::parallel::SpacetreeSet::split(int,int)            trigger split of tree 0 into tree 2 with 6 fine grid cells\n",
      " 180821931    00:00:00     rank:0       core:11      info         peano4::parallel::SpacetreeSet::split(int,int)            trigger split of tree 0 into tree 3 with 6 fine grid cells\n",
      " 180868216    00:00:00     rank:0       core:11      info         peano4::parallel::SpacetreeSet::split(int,int)            trigger split of tree 0 into tree 4 with 6 fine grid cells\n",
      " 180914944    00:00:00     rank:0       core:11      info         peano4::parallel::SpacetreeSet::split(int,int)            trigger split of tree 0 into tree 5 with 6 fine grid cells\n",
      " 180961386    00:00:00     rank:0       core:11      info         peano4::parallel::SpacetreeSet::split(int,int)            trigger split of tree 0 into tree 6 with 6 fine grid cells\n",
      " 181013147    00:00:00     rank:0       core:11      info         toolbox::loadbalancing::dumpStatistics()                1 tree(s): (#0:81/0) total=81/0 (local/remote)\n",
      " 179034904    00:00:00     rank:0       core:11      info         ::step()                                                run CreateGrid\n"
     ]
    },
    {
     "name": "stdout",
     "output_type": "stream",
     "text": [
      " 342793252    00:00:00     rank:0       core:11      info         peano4::grid::Spacetree::Spacetree(...)                     created spacetree 1 with master tree 0\n",
      " 342859474    00:00:00     rank:0       core:11      info         peano4::grid::Spacetree::Spacetree(...)                     created spacetree 2 with master tree 0\n",
      " 342884348    00:00:00     rank:0       core:11      info         peano4::grid::Spacetree::Spacetree(...)                     created spacetree 3 with master tree 0\n",
      " 342906556    00:00:00     rank:0       core:11      info         peano4::grid::Spacetree::Spacetree(...)                     created spacetree 4 with master tree 0\n",
      " 342928483    00:00:00     rank:0       core:11      info         peano4::grid::Spacetree::Spacetree(...)                     created spacetree 5 with master tree 0\n",
      " 342950648    00:00:00     rank:0       core:11      info         peano4::grid::Spacetree::Spacetree(...)                     created spacetree 6 with master tree 0\n",
      " 343043471    00:00:00     rank:0       core:11      info         exahype2::RefinementControl::finishStep()               activate 81 refinement/coarsening instructions\n",
      " 343183676    00:00:00     rank:0       core:11      info         toolbox::loadbalancing::RecursiveSubdivision::getStrategyStep() rank is well-balanced, but does not yet use all local cores; split up rank's trees further\n",
      " 343258119    00:00:00     rank:0       core:11      info         toolbox::loadbalancing::RecursiveSubdivision::finishStep() split-heaviest-tree(once,use-local-rank,use-recursive-partitioning) in state (state=standard,global-cell-count=81,lightest-rank=0,has-spread-over-all-ranks=0,has-spread-over-all-cores=1,round-robin-token=0,target-balancing-ratio=0.8,max-tree-weight-at-last-split=2147483647,blacklist-weight=4,number-of-state-updated-without-any-split=0,global-number-of-splits=6,local-number-of-splits=0,local-number-of-unsuccessful-splits-as-load-balancing-had-been-turned-off=0,global-number-of-unsuccessful-splits-as-load-balancing-had-been-turned-off=0,tree 0:81 (on blacklist with weight=3),tree 1:0,tree 2:0,tree 3:0,tree 4:0,tree 5:0,tree 6:0,heaviest-local-tree=1 (analysed),heaviest-local-weight=0 (analysed))\n",
      " 343290844    00:00:00     rank:0       core:11      info         toolbox::loadbalancing::RecursiveSubdivision::finishStep() split local rank and assign it 1 cell(s)\n",
      " 343313769    00:00:00     rank:0       core:11      info         toolbox::loadbalancing::RecursiveSubdivision::triggerSplit() wanted to split local rank 1 but failed\n",
      " 343343742    00:00:00     rank:0       core:11      info         toolbox::loadbalancing::dumpStatistics()                7 tree(s): (#0:81/0)(#1:0/0)(#2:0/0)(#3:0/0)(#4:0/0)(#5:0/0)(#6:0/0) total=81/0 (local/remote)\n",
      " 343898975    00:00:00     rank:0       core:11      info         ::::selectNextAlgorithmicStep()                         mesh has rebalanced recently, so postpone further refinement\n",
      " 341411793    00:00:00     rank:0       core:11      info         ::step()                                                run CreateGridButPostponeRefinement\n",
      " 803979226    00:00:00     rank:0       core:11      info         toolbox::loadbalancing::RecursiveSubdivision::getStrategyStep() rank is well-balanced, but does not yet use all local cores; split up rank's trees further\n",
      " 804056170    00:00:00     rank:0       core:11      info         toolbox::loadbalancing::RecursiveSubdivision::finishStep() split-heaviest-tree(once,use-local-rank,use-recursive-partitioning) in state (state=standard,global-cell-count=117,lightest-rank=0,has-spread-over-all-ranks=0,has-spread-over-all-cores=1,round-robin-token=0,target-balancing-ratio=0.8,max-tree-weight-at-last-split=2147483647,blacklist-weight=4,number-of-state-updated-without-any-split=1,global-number-of-splits=0,local-number-of-splits=0,local-number-of-unsuccessful-splits-as-load-balancing-had-been-turned-off=0,global-number-of-unsuccessful-splits-as-load-balancing-had-been-turned-off=0,tree 0:81 (on blacklist with weight=2),tree 1:6 (on blacklist with weight=3),tree 2:6,tree 3:6,tree 4:6,tree 5:6,tree 6:6,heaviest-local-tree=2 (analysed),heaviest-local-weight=6 (analysed))\n",
      " 804089256    00:00:00     rank:0       core:11      info         toolbox::loadbalancing::RecursiveSubdivision::finishStep() split local rank and assign it 3 cell(s)\n",
      " 804104939    00:00:00     rank:0       core:11      info         peano4::parallel::SpacetreeSet::split(int,int)            trigger split of tree 2 into tree 7 with 3 fine grid cells\n",
      " 804220136    00:00:00     rank:0       core:11      info         toolbox::loadbalancing::dumpStatistics()                7 tree(s): (#0:81/0)(#1:6/75)(#2:6/75)(#3:6/75)(#4:6/75)(#5:6/75)(#6:6/75) total=117/450 (local/remote)\n",
      " 804746620    00:00:00     rank:0       core:11      info         ::::selectNextAlgorithmicStep()                         mesh has rebalanced recently, so postpone further refinement\n",
      " 802258225    00:00:00     rank:0       core:11      info         ::step()                                                run CreateGridButPostponeRefinement\n",
      " 936145990    00:00:00     rank:0       core:3       info         peano4::grid::Spacetree::traverse(TraversalObserver)                                                    have not been able to assign enough cells from 2 to new tree 7 (should have deployed 3 more cells)\n",
      " 992042002    00:00:00     rank:0       core:11      info         peano4::grid::Spacetree::Spacetree(...)                     created spacetree 7 with master tree 2\n",
      " 992283583    00:00:00     rank:0       core:11      info         toolbox::loadbalancing::RecursiveSubdivision::getStrategyStep() rank is well-balanced, but does not yet use all local cores; split up rank's trees further\n",
      " 992388133    00:00:00     rank:0       core:11      info         toolbox::loadbalancing::RecursiveSubdivision::finishStep() split-heaviest-tree(once,use-local-rank,use-recursive-partitioning) in state (state=standard,global-cell-count=81,lightest-rank=0,has-spread-over-all-ranks=0,has-spread-over-all-cores=1,round-robin-token=0,target-balancing-ratio=0.8,max-tree-weight-at-last-split=6,blacklist-weight=6,number-of-state-updated-without-any-split=0,global-number-of-splits=1,local-number-of-splits=0,local-number-of-unsuccessful-splits-as-load-balancing-had-been-turned-off=0,global-number-of-unsuccessful-splits-as-load-balancing-had-been-turned-off=0,tree 0:45 (on blacklist with weight=1),tree 1:6 (on blacklist with weight=2),tree 2:6 (on blacklist with weight=3),tree 3:6,tree 4:6,tree 5:6,tree 6:6,tree 7:0,heaviest-local-tree=3 (analysed),heaviest-local-weight=6 (analysed))\n",
      " 992425189    00:00:00     rank:0       core:11      info         toolbox::loadbalancing::RecursiveSubdivision::finishStep() split local rank and assign it 3 cell(s)\n",
      " 992440902    00:00:00     rank:0       core:11      info         peano4::parallel::SpacetreeSet::split(int,int)            trigger split of tree 3 into tree 8 with 3 fine grid cells\n",
      " 992561311    00:00:00     rank:0       core:11      info         toolbox::loadbalancing::dumpStatistics()                8 tree(s): (#0:45/36)(#1:6/75)(#2:6/75)(#3:6/75)(#4:6/75)(#5:6/75)(#6:6/75)(#7:0/0) total=81/486 (local/remote)\n",
      " 993090407    00:00:00     rank:0       core:11      info         ::::selectNextAlgorithmicStep()                         mesh has rebalanced recently, so postpone further refinement\n",
      " 990601739    00:00:00     rank:0       core:11      info         ::step()                                                run CreateGridButPostponeRefinement\n",
      " 1149199445   00:00:01     rank:0       core:8       info         peano4::grid::Spacetree::traverse(TraversalObserver)                    have not been able to assign enough cells from 3 to new tree 8 (should have deployed 3 more cells)\n",
      " 1366990923   00:00:01     rank:0       core:11      info         peano4::grid::Spacetree::Spacetree(...)                     created spacetree 8 with master tree 3\n",
      " 1367233388   00:00:01     rank:0       core:11      info         toolbox::loadbalancing::RecursiveSubdivision::getStrategyStep() rank is well-balanced, but does not yet use all local cores; split up rank's trees further\n",
      " 1367336074   00:00:01     rank:0       core:11      info         toolbox::loadbalancing::RecursiveSubdivision::finishStep() split-heaviest-tree(once,use-local-rank,use-recursive-partitioning) in state (state=standard,global-cell-count=81,lightest-rank=0,has-spread-over-all-ranks=0,has-spread-over-all-cores=1,round-robin-token=0,target-balancing-ratio=0.8,max-tree-weight-at-last-split=6,blacklist-weight=8,number-of-state-updated-without-any-split=0,global-number-of-splits=1,local-number-of-splits=0,local-number-of-unsuccessful-splits-as-load-balancing-had-been-turned-off=0,global-number-of-unsuccessful-splits-as-load-balancing-had-been-turned-off=0,tree 0:45 (on blacklist with weight=0),tree 1:6 (on blacklist with weight=1),tree 2:6 (on blacklist with weight=2),tree 3:6 (on blacklist with weight=5),tree 4:6,tree 5:6,tree 6:6,tree 7:0,tree 8:0,heaviest-local-tree=4 (analysed),heaviest-local-weight=6 (analysed))\n",
      " 1367375472   00:00:01     rank:0       core:11      info         toolbox::loadbalancing::RecursiveSubdivision::finishStep() split local rank and assign it 3 cell(s)\n",
      " 1367391993   00:00:01     rank:0       core:11      info         peano4::parallel::SpacetreeSet::split(int,int)            trigger split of tree 4 into tree 9 with 3 fine grid cells\n",
      " 1367534609   00:00:01     rank:0       core:11      info         toolbox::loadbalancing::dumpStatistics()                9 tree(s): (#0:45/36)(#1:6/75)(#2:6/75)(#3:6/75)(#4:6/75)(#5:6/75)(#6:6/75)(#7:0/73)(#8:0/0) total=81/559 (local/remote)\n",
      " 1368064399   00:00:01     rank:0       core:11      info         ::::selectNextAlgorithmicStep()                         mesh has rebalanced recently, so postpone further refinement\n",
      " 1365575711   00:00:01     rank:0       core:11      info         ::step()                                                run CreateGridButPostponeRefinement\n"
     ]
    },
    {
     "name": "stdout",
     "output_type": "stream",
     "text": [
      " 1493854972   00:00:01     rank:0       core:9       info         peano4::grid::Spacetree::traverse(TraversalObserver)                                                                          have not been able to assign enough cells from 4 to new tree 9 (should have deployed 3 more cells)\n",
      " 1664941562   00:00:01     rank:0       core:11      info         peano4::grid::Spacetree::Spacetree(...)                     created spacetree 9 with master tree 4\n",
      " 1665181045   00:00:01     rank:0       core:11      info         toolbox::loadbalancing::RecursiveSubdivision::getStrategyStep() rank is well-balanced, but does not yet use all local cores; split up rank's trees further\n",
      " 1665277023   00:00:01     rank:0       core:11      info         toolbox::loadbalancing::RecursiveSubdivision::finishStep() split-heaviest-tree(once,use-local-rank,use-recursive-partitioning) in state (state=standard,global-cell-count=81,lightest-rank=0,has-spread-over-all-ranks=0,has-spread-over-all-cores=1,round-robin-token=0,target-balancing-ratio=0.8,max-tree-weight-at-last-split=6,blacklist-weight=7,number-of-state-updated-without-any-split=0,global-number-of-splits=1,local-number-of-splits=0,local-number-of-unsuccessful-splits-as-load-balancing-had-been-turned-off=0,global-number-of-unsuccessful-splits-as-load-balancing-had-been-turned-off=0,tree 0:45,tree 1:6 (on blacklist with weight=0),tree 2:6 (on blacklist with weight=1),tree 3:6 (on blacklist with weight=4),tree 4:6 (on blacklist with weight=7),tree 5:6,tree 6:6,tree 7:0,tree 8:0,tree 9:0,heaviest-local-tree=0 (analysed),heaviest-local-weight=45 (analysed))\n",
      " 1665315828   00:00:01     rank:0       core:11      info         toolbox::loadbalancing::RecursiveSubdivision::finishStep() split local rank and assign it 22 cell(s)\n",
      " 1665332370   00:00:01     rank:0       core:11      info         peano4::parallel::SpacetreeSet::split(int,int)            trigger split of tree 0 into tree 10 with 22 fine grid cells\n",
      " 1665461105   00:00:01     rank:0       core:11      info         toolbox::loadbalancing::dumpStatistics()                10 tree(s): (#0:45/36)(#1:6/67)(#2:6/67)(#3:6/67)(#4:6/67)(#5:6/67)(#6:6/67)(#7:0/73)(#8:0/57)(#9:0/0) total=81/568 (local/remote)\n",
      " 1665989844   00:00:01     rank:0       core:11      info         ::::selectNextAlgorithmicStep()                         mesh has rebalanced recently, so postpone further refinement\n",
      " 1663500927   00:00:01     rank:0       core:11      info         ::step()                                                run CreateGridButPostponeRefinement\n",
      " 1936584147   00:00:01     rank:0       core:11      info         peano4::grid::Spacetree::Spacetree(...)                     created spacetree 10 with master tree 0\n",
      " 1936849209   00:00:01     rank:0       core:11      info         toolbox::loadbalancing::RecursiveSubdivision::getStrategyStep() rank is well-balanced, but does not yet use all local cores; split up rank's trees further\n",
      " 1936970097   00:00:01     rank:0       core:11      info         toolbox::loadbalancing::RecursiveSubdivision::finishStep() split-heaviest-tree(once,use-local-rank,use-recursive-partitioning) in state (state=standard,global-cell-count=81,lightest-rank=0,has-spread-over-all-ranks=0,has-spread-over-all-cores=1,round-robin-token=0,target-balancing-ratio=0.8,max-tree-weight-at-last-split=6,blacklist-weight=9,number-of-state-updated-without-any-split=0,global-number-of-splits=1,local-number-of-splits=0,local-number-of-unsuccessful-splits-as-load-balancing-had-been-turned-off=0,global-number-of-unsuccessful-splits-as-load-balancing-had-been-turned-off=0,tree 0:45 (on blacklist with weight=6),tree 1:6,tree 2:6 (on blacklist with weight=0),tree 3:6 (on blacklist with weight=3),tree 4:6 (on blacklist with weight=6),tree 5:6,tree 6:6,tree 7:0,tree 8:0,tree 9:0,tree 10:0,heaviest-local-tree=1 (analysed),heaviest-local-weight=6 (analysed))\n",
      " 1937010116   00:00:01     rank:0       core:11      info         toolbox::loadbalancing::RecursiveSubdivision::finishStep() split local rank and assign it 3 cell(s)\n",
      " 1937059163   00:00:01     rank:0       core:11      info         peano4::parallel::SpacetreeSet::split(int,int)            trigger split of tree 1 into tree 11 with 3 fine grid cells\n",
      " 1937157804   00:00:01     rank:0       core:11      info         toolbox::loadbalancing::dumpStatistics()                11 tree(s): (#0:45/36)(#1:6/35)(#2:6/51)(#3:6/51)(#4:6/35)(#5:6/51)(#6:6/51)(#7:0/57)(#8:0/57)(#9:0/41)(#10:0/0) total=81/465 (local/remote)\n",
      " 1937686028   00:00:01     rank:0       core:11      info         ::::selectNextAlgorithmicStep()                         mesh has rebalanced recently, so postpone further refinement\n",
      " 1935228176   00:00:01     rank:0       core:11      info         ::step()                                                run CreateGridButPostponeRefinement\n",
      " 2018018511   00:00:02     rank:0       core:9       info         peano4::grid::Spacetree::traverse(TraversalObserver)                                                                        have not been able to assign enough cells from 1 to new tree 11 (should have deployed 3 more cells)\n",
      " 2323114555   00:00:02     rank:0       core:11      info         peano4::grid::Spacetree::Spacetree(...)                     created spacetree 11 with master tree 1\n",
      " 2323462218   00:00:02     rank:0       core:11      info         toolbox::loadbalancing::RecursiveSubdivision::finishStep() wait in state (state=standard,global-cell-count=103,lightest-rank=0,has-spread-over-all-ranks=0,has-spread-over-all-cores=1,round-robin-token=0,target-balancing-ratio=0.8,max-tree-weight-at-last-split=6,blacklist-weight=8,number-of-state-updated-without-any-split=0,global-number-of-splits=1,local-number-of-splits=0,local-number-of-unsuccessful-splits-as-load-balancing-had-been-turned-off=0,global-number-of-unsuccessful-splits-as-load-balancing-had-been-turned-off=0,tree 0:45 (on blacklist with weight=5),tree 1:6 (on blacklist with weight=8),tree 2:6,tree 3:6 (on blacklist with weight=2),tree 4:6 (on blacklist with weight=5),tree 5:6,tree 6:6,tree 7:0,tree 8:0,tree 9:0,tree 10:22,tree 11:0,heaviest-local-tree=10 (analysed),heaviest-local-weight=22 (analysed))\n",
      " 2323512350   00:00:02     rank:0       core:11      info         toolbox::loadbalancing::dumpStatistics()                12 tree(s): (#0:45/36)(#1:6/35)(#2:6/51)(#3:6/51)(#4:6/35)(#5:6/51)(#6:6/51)(#7:0/57)(#8:0/57)(#9:0/41)(#10:22/59)(#11:0/0) total=103/524 (local/remote)\n",
      " 2324075914   00:00:02     rank:0       core:11      info         ::::selectNextAlgorithmicStep()                         mesh has rebalanced recently, so postpone further refinement\n",
      " 2321588727   00:00:02     rank:0       core:11      info         ::step()                                                run CreateGridButPostponeRefinement\n",
      " 2597426946   00:00:02     rank:0       core:11      info         toolbox::loadbalancing::RecursiveSubdivision::finishStep() wait in state (state=standard,global-cell-count=81,lightest-rank=0,has-spread-over-all-ranks=0,has-spread-over-all-cores=1,round-robin-token=0,target-balancing-ratio=0.8,max-tree-weight-at-last-split=6,blacklist-weight=7,number-of-state-updated-without-any-split=1,global-number-of-splits=0,local-number-of-splits=0,local-number-of-unsuccessful-splits-as-load-balancing-had-been-turned-off=0,global-number-of-unsuccessful-splits-as-load-balancing-had-been-turned-off=0,tree 0:23 (on blacklist with weight=4),tree 1:6 (on blacklist with weight=7),tree 2:6,tree 3:6 (on blacklist with weight=1),tree 4:6 (on blacklist with weight=4),tree 5:6,tree 6:6,tree 7:0,tree 8:0,tree 9:0,tree 10:22,tree 11:0,heaviest-local-tree=10 (analysed),heaviest-local-weight=22 (analysed))\n",
      " 2597514348   00:00:02     rank:0       core:11      info         toolbox::loadbalancing::dumpStatistics()                12 tree(s): (#0:23/58)(#1:6/35)(#2:6/51)(#3:6/51)(#4:6/35)(#5:6/51)(#6:6/51)(#7:0/9)(#8:0/57)(#9:0/41)(#10:22/59)(#11:0/41) total=81/539 (local/remote)\n",
      " 2598044736   00:00:02     rank:0       core:11      info         ::::selectNextAlgorithmicStep()                         mesh has rebalanced recently, so postpone further refinement\n",
      " 2595556003   00:00:02     rank:0       core:11      info         ::step()                                                run CreateGridButPostponeRefinement\n"
     ]
    },
    {
     "name": "stdout",
     "output_type": "stream",
     "text": [
      " 2761459235   00:00:02     rank:0       core:11      info         toolbox::loadbalancing::RecursiveSubdivision::finishStep() wait in state (state=standard,global-cell-count=81,lightest-rank=0,has-spread-over-all-ranks=0,has-spread-over-all-cores=1,round-robin-token=0,target-balancing-ratio=0.8,max-tree-weight-at-last-split=6,blacklist-weight=6,number-of-state-updated-without-any-split=2,global-number-of-splits=0,local-number-of-splits=0,local-number-of-unsuccessful-splits-as-load-balancing-had-been-turned-off=0,global-number-of-unsuccessful-splits-as-load-balancing-had-been-turned-off=0,tree 0:23 (on blacklist with weight=3),tree 1:6 (on blacklist with weight=6),tree 2:6,tree 3:6 (on blacklist with weight=0),tree 4:6 (on blacklist with weight=3),tree 5:6,tree 6:6,tree 7:0,tree 8:0,tree 9:0,tree 10:22,tree 11:0,heaviest-local-tree=10 (analysed),heaviest-local-weight=22 (analysed))\n",
      " 2761556034   00:00:02     rank:0       core:11      info         toolbox::loadbalancing::dumpStatistics()                12 tree(s): (#0:23/58)(#1:6/35)(#2:6/51)(#3:6/51)(#4:6/35)(#5:6/51)(#6:6/51)(#7:0/9)(#8:0/9)(#9:0/41)(#10:22/59)(#11:0/41) total=81/491 (local/remote)\n",
      " 2762086428   00:00:02     rank:0       core:11      info         ::::selectNextAlgorithmicStep()                         mesh has rebalanced recently but I've done so many iterations without refinement that I insert one refinement next\n",
      " 2759598096   00:00:02     rank:0       core:11      info         ::step()                                                run CreateGridButPostponeRefinement\n",
      " 2924886752   00:00:02     rank:0       core:11      info         peano4::parallel::SpacetreeSet::traverse(Observer)          remove empty tree 7 with master 2\n",
      " 2925191653   00:00:02     rank:0       core:11      info         toolbox::loadbalancing::RecursiveSubdivision::getStrategyStep() rank is well-balanced, but does not yet use all local cores; split up rank's trees further\n",
      " 2925253356   00:00:02     rank:0       core:11      info         toolbox::loadbalancing::RecursiveSubdivision::finishStep() split-heaviest-tree(once,use-local-rank,use-recursive-partitioning) in state (state=standard,global-cell-count=81,lightest-rank=0,has-spread-over-all-ranks=0,has-spread-over-all-cores=1,round-robin-token=0,target-balancing-ratio=0.8,max-tree-weight-at-last-split=6,blacklist-weight=5,number-of-state-updated-without-any-split=3,global-number-of-splits=0,local-number-of-splits=0,local-number-of-unsuccessful-splits-as-load-balancing-had-been-turned-off=0,global-number-of-unsuccessful-splits-as-load-balancing-had-been-turned-off=0,tree 0:23 (on blacklist with weight=2),tree 1:6 (on blacklist with weight=5),tree 2:6,tree 3:6,tree 4:6 (on blacklist with weight=2),tree 5:6,tree 6:6,tree 8:0,tree 9:0,tree 10:22,tree 11:0,heaviest-local-tree=10 (analysed),heaviest-local-weight=22 (analysed))\n",
      " 2925295999   00:00:02     rank:0       core:11      info         toolbox::loadbalancing::RecursiveSubdivision::finishStep() split local rank and assign it 11 cell(s)\n",
      " 2925343146   00:00:02     rank:0       core:11      info         peano4::parallel::SpacetreeSet::split(int,int)            trigger split of tree 10 into tree 7 with 11 fine grid cells\n",
      " 2925489283   00:00:02     rank:0       core:11      info         toolbox::loadbalancing::dumpStatistics()                11 tree(s): (#0:23/58)(#1:6/35)(#2:6/51)(#3:6/51)(#4:6/35)(#5:6/51)(#6:6/51)(#8:0/9)(#9:0/9)(#10:22/59)(#11:0/41) total=81/450 (local/remote)\n",
      " 2926021622   00:00:02     rank:0       core:11      info         ::::selectNextAlgorithmicStep()                         mesh rebalancing seems to be kind of stationary, so refine mesh further in next sweep\n",
      " 2923532882   00:00:02     rank:0       core:11      info         ::step()                                                run CreateGrid\n",
      " 3092162351   00:00:03     rank:0       core:11      info         peano4::parallel::SpacetreeSet::traverse(Observer)          remove empty tree 8 with master 3\n",
      " 3092229488   00:00:03     rank:0       core:11      info         peano4::grid::Spacetree::Spacetree(...)                     created spacetree 7 with master tree 10\n",
      " 3092328982   00:00:03     rank:0       core:11      info         exahype2::RefinementControl::finishStep()               activate 81 refinement/coarsening instructions\n",
      " 3092500754   00:00:03     rank:0       core:11      info         toolbox::loadbalancing::RecursiveSubdivision::getStrategyStep() rank is well-balanced, but does not yet use all local cores; split up rank's trees further\n",
      " 3092560896   00:00:03     rank:0       core:11      info         toolbox::loadbalancing::RecursiveSubdivision::finishStep() split-heaviest-tree(once,use-local-rank,use-recursive-partitioning) in state (state=standard,global-cell-count=81,lightest-rank=0,has-spread-over-all-ranks=0,has-spread-over-all-cores=1,round-robin-token=0,target-balancing-ratio=0.8,max-tree-weight-at-last-split=6,blacklist-weight=7,number-of-state-updated-without-any-split=0,global-number-of-splits=1,local-number-of-splits=0,local-number-of-unsuccessful-splits-as-load-balancing-had-been-turned-off=0,global-number-of-unsuccessful-splits-as-load-balancing-had-been-turned-off=0,tree 0:23 (on blacklist with weight=1),tree 1:6 (on blacklist with weight=4),tree 2:6,tree 3:6,tree 4:6 (on blacklist with weight=1),tree 5:6,tree 6:6,tree 7:0,tree 9:0,tree 10:22 (on blacklist with weight=4),tree 11:0,heaviest-local-tree=2 (analysed),heaviest-local-weight=6 (analysed))\n",
      " 3092650619   00:00:03     rank:0       core:11      info         toolbox::loadbalancing::RecursiveSubdivision::finishStep() split local rank and assign it 3 cell(s)\n",
      " 3092668348   00:00:03     rank:0       core:11      info         peano4::parallel::SpacetreeSet::split(int,int)            trigger split of tree 2 into tree 8 with 3 fine grid cells\n",
      " 3092793429   00:00:03     rank:0       core:11      info         toolbox::loadbalancing::dumpStatistics()                11 tree(s): (#0:23/58)(#1:6/35)(#2:6/51)(#3:6/51)(#4:6/35)(#5:6/51)(#6:6/51)(#7:0/0)(#9:0/9)(#10:22/35)(#11:0/41) total=81/417 (local/remote)\n",
      " 3093324852   00:00:03     rank:0       core:11      info         ::::selectNextAlgorithmicStep()                         mesh has rebalanced recently, so postpone further refinement\n",
      " 3090836176   00:00:03     rank:0       core:11      info         ::step()                                                run CreateGrid\n",
      " 3093202588   00:00:03     rank:0       core:0       info         peano4::grid::Spacetree::traverse(...)                                                          got one grid control event: (refinementControl=Refine,offset=[-10111.1,-10111.1],width=[20222.2,20222.2],h=[814.815,814.815])\n",
      " 3093207537   00:00:03     rank:0       core:7       info         peano4::grid::Spacetree::traverse(...)                                              got one grid control event: (refinementControl=Refine,offset=[-10111.1,-10111.1],width=[20222.2,20222.2],h=[814.815,814.815])\n",
      " 3093273336   00:00:03     rank:0       core:9       info         peano4::grid::Spacetree::traverse(...)                                              got one grid control event: (refinementControl=Refine,offset=[-10111.1,-10111.1],width=[20222.2,20222.2],h=[814.815,814.815])\n",
      " 3093273334   00:00:03     rank:0       core:3       info         peano4::grid::Spacetree::traverse(...)                                              got one grid control event: (refinementControl=Refine,offset=[-10111.1,-10111.1],width=[20222.2,20222.2],h=[814.815,814.815])\n",
      " 3093273079   00:00:03     rank:0       core:10      info         peano4::grid::Spacetree::traverse(...)                                              got one grid control event: (refinementControl=Refine,offset=[-10111.1,-10111.1],width=[20222.2,20222.2],h=[814.815,814.815])\n",
      " 3093273259   00:00:03     rank:0       core:8       info         peano4::grid::Spacetree::traverse(...)                                              got one grid control event: (refinementControl=Refine,offset=[-10111.1,-10111.1],width=[20222.2,20222.2],h=[814.815,814.815])\n",
      " 3093273081   00:00:03     rank:0       core:4       info         peano4::grid::Spacetree::traverse(...)                                              got one grid control event: (refinementControl=Refine,offset=[-10111.1,-10111.1],width=[20222.2,20222.2],h=[814.815,814.815])\n",
      " 3093274070   00:00:03     rank:0       core:5       info         peano4::grid::Spacetree::traverse(...)                                              got one grid control event: (refinementControl=Refine,offset=[-10111.1,-10111.1],width=[20222.2,20222.2],h=[814.815,814.815])\n",
      " 3093273261   00:00:03     rank:0       core:2       info         peano4::grid::Spacetree::traverse(...)                                              got one grid control event: (refinementControl=Refine,offset=[-10111.1,-10111.1],width=[20222.2,20222.2],h=[814.815,814.815])\n",
      " 3093426157   00:00:03     rank:0       core:11      info         peano4::grid::Spacetree::traverse(...)                                                                                                got one grid control event: (refinementControl=Refine,offset=[-10111.1,-10111.1],width=[20222.2,20222.2],h=[814.815,814.815])\n"
     ]
    },
    {
     "name": "stdout",
     "output_type": "stream",
     "text": [
      " 3205705163   00:00:03     rank:0       core:8       info         peano4::grid::Spacetree::traverse(TraversalObserver)                          have not been able to assign enough cells from 2 to new tree 8 (should have deployed 3 more cells)\n",
      " 3414470721   00:00:03     rank:0       core:11      info         peano4::parallel::SpacetreeSet::traverse(Observer)          remove empty tree 9 with master 4\n",
      " 3414542475   00:00:03     rank:0       core:11      info         peano4::grid::Spacetree::Spacetree(...)                     created spacetree 8 with master tree 2\n",
      " 3414643845   00:00:03     rank:0       core:11      info         exahype2::RefinementControl::finishStep()               activate 81 refinement/coarsening instructions\n",
      " 3414820737   00:00:03     rank:0       core:11      info         toolbox::loadbalancing::RecursiveSubdivision::getStrategyStep() rank is well-balanced, but does not yet use all local cores; split up rank's trees further\n",
      " 3414915007   00:00:03     rank:0       core:11      info         toolbox::loadbalancing::RecursiveSubdivision::finishStep() split-heaviest-tree(once,use-local-rank,use-recursive-partitioning) in state (state=standard,global-cell-count=92,lightest-rank=0,has-spread-over-all-ranks=0,has-spread-over-all-cores=1,round-robin-token=0,target-balancing-ratio=0.8,max-tree-weight-at-last-split=6,blacklist-weight=6,number-of-state-updated-without-any-split=0,global-number-of-splits=1,local-number-of-splits=0,local-number-of-unsuccessful-splits-as-load-balancing-had-been-turned-off=0,global-number-of-unsuccessful-splits-as-load-balancing-had-been-turned-off=0,tree 0:23 (on blacklist with weight=0),tree 1:6 (on blacklist with weight=3),tree 2:6 (on blacklist with weight=6),tree 3:6,tree 4:6 (on blacklist with weight=0),tree 5:6,tree 6:6,tree 7:11,tree 8:0,tree 10:22 (on blacklist with weight=3),tree 11:0,heaviest-local-tree=7 (analysed),heaviest-local-weight=11 (analysed))\n",
      " 3414963305   00:00:03     rank:0       core:11      info         toolbox::loadbalancing::RecursiveSubdivision::finishStep() split local rank and assign it 5 cell(s)\n",
      " 3414980416   00:00:03     rank:0       core:11      info         peano4::parallel::SpacetreeSet::split(int,int)            trigger split of tree 7 into tree 9 with 5 fine grid cells\n",
      " 3415110531   00:00:03     rank:0       core:11      info         toolbox::loadbalancing::dumpStatistics()                11 tree(s): (#0:23/58)(#1:6/35)(#2:6/51)(#3:6/51)(#4:6/35)(#5:6/51)(#6:6/51)(#7:11/46)(#8:0/0)(#10:22/35)(#11:0/9) total=92/422 (local/remote)\n",
      " 3415640671   00:00:03     rank:0       core:11      info         ::::selectNextAlgorithmicStep()                         mesh has rebalanced recently, so postpone further refinement\n",
      " 3413151521   00:00:03     rank:0       core:11      info         ::step()                                                run CreateGridButPostponeRefinement\n",
      " 3822774873   00:00:03     rank:0       core:3       info         peano4::grid::Spacetree::traverse(TraversalObserver)                                              have not been able to assign enough cells from 7 to new tree 9 (should have deployed 1 more cells)\n",
      " 4764253874   00:00:04     rank:0       core:11      info         peano4::grid::Spacetree::Spacetree(...)                     created spacetree 9 with master tree 7\n",
      " 4764570615   00:00:04     rank:0       core:11      info         toolbox::loadbalancing::RecursiveSubdivision::finishStep() wait in state (state=standard,global-cell-count=713,lightest-rank=0,has-spread-over-all-ranks=0,has-spread-over-all-cores=1,round-robin-token=0,target-balancing-ratio=0.8,max-tree-weight-at-last-split=6,blacklist-weight=5,number-of-state-updated-without-any-split=0,global-number-of-splits=1,local-number-of-splits=0,local-number-of-unsuccessful-splits-as-load-balancing-had-been-turned-off=0,global-number-of-unsuccessful-splits-as-load-balancing-had-been-turned-off=0,tree 0:207,tree 1:54 (on blacklist with weight=2),tree 2:54 (on blacklist with weight=5),tree 3:54,tree 4:54,tree 5:54,tree 6:54,tree 7:83 (on blacklist with weight=5),tree 8:0,tree 9:0,tree 10:99 (on blacklist with weight=2),tree 11:0,heaviest-local-tree=0 (analysed),heaviest-local-weight=207 (analysed))\n",
      " 4764622961   00:00:04     rank:0       core:11      info         toolbox::loadbalancing::dumpStatistics()                12 tree(s): (#0:207/218)(#1:54/83)(#2:54/171)(#3:54/123)(#4:54/83)(#5:54/131)(#6:54/131)(#7:83/166)(#8:0/225)(#9:0/0)(#10:99/150)(#11:0/9) total=713/1490 (local/remote)\n",
      " 4762694405   00:00:04     rank:0       core:11      info         ::step()                                                run CreateGridButPostponeRefinement\n",
      " 6170402820   00:00:06     rank:0       core:11      info         peano4::parallel::SpacetreeSet::traverse(Observer)          remove empty tree 11 with master 1\n",
      " 6170714924   00:00:06     rank:0       core:11      info         toolbox::loadbalancing::RecursiveSubdivision::getStrategyStep() rank is well-balanced, but does not yet use all local cores; split up rank's trees further\n",
      " 6170776006   00:00:06     rank:0       core:11      info         toolbox::loadbalancing::RecursiveSubdivision::finishStep() split-heaviest-tree(once,use-local-rank,use-recursive-partitioning) in state (state=standard,global-cell-count=777,lightest-rank=0,has-spread-over-all-ranks=0,has-spread-over-all-cores=1,round-robin-token=0,target-balancing-ratio=0.8,max-tree-weight-at-last-split=6,blacklist-weight=4,number-of-state-updated-without-any-split=1,global-number-of-splits=0,local-number-of-splits=0,local-number-of-unsuccessful-splits-as-load-balancing-had-been-turned-off=0,global-number-of-unsuccessful-splits-as-load-balancing-had-been-turned-off=0,tree 0:207,tree 1:54 (on blacklist with weight=1),tree 2:54 (on blacklist with weight=4),tree 3:54,tree 4:54,tree 5:54,tree 6:54,tree 7:83 (on blacklist with weight=4),tree 8:0,tree 9:64,tree 10:99 (on blacklist with weight=1),heaviest-local-tree=0 (analysed),heaviest-local-weight=207 (analysed))\n",
      " 6170817342   00:00:06     rank:0       core:11      info         toolbox::loadbalancing::RecursiveSubdivision::finishStep() split local rank and assign it 103 cell(s)\n",
      " 6170866254   00:00:06     rank:0       core:11      info         peano4::parallel::SpacetreeSet::split(int,int)            trigger split of tree 0 into tree 11 with 103 fine grid cells\n",
      " 6170966253   00:00:06     rank:0       core:11      info         toolbox::loadbalancing::dumpStatistics()                11 tree(s): (#0:207/218)(#1:54/83)(#2:54/171)(#3:54/123)(#4:54/83)(#5:54/131)(#6:54/131)(#7:83/166)(#8:0/225)(#9:64/185)(#10:99/150) total=777/1666 (local/remote)\n",
      " 6171528865   00:00:06     rank:0       core:11      info         ::::selectNextAlgorithmicStep()                         mesh has rebalanced recently, so postpone further refinement\n",
      " 6169042129   00:00:06     rank:0       core:11      info         ::step()                                                run CreateGridButPostponeRefinement\n",
      " 6947060636   00:00:06     rank:0       core:11      info         peano4::grid::Spacetree::Spacetree(...)                     created spacetree 11 with master tree 0\n",
      " 6947395148   00:00:06     rank:0       core:11      info         toolbox::loadbalancing::RecursiveSubdivision::finishStep() wait in state (state=standard,global-cell-count=713,lightest-rank=0,has-spread-over-all-ranks=0,has-spread-over-all-cores=1,round-robin-token=0,target-balancing-ratio=0.8,max-tree-weight-at-last-split=64,blacklist-weight=6,number-of-state-updated-without-any-split=0,global-number-of-splits=1,local-number-of-splits=0,local-number-of-unsuccessful-splits-as-load-balancing-had-been-turned-off=0,global-number-of-unsuccessful-splits-as-load-balancing-had-been-turned-off=0,tree 0:207 (on blacklist with weight=3),tree 1:54 (on blacklist with weight=0),tree 2:54 (on blacklist with weight=3),tree 3:54,tree 4:54,tree 5:54,tree 6:54,tree 7:19 (on blacklist with weight=3),tree 8:0,tree 9:64,tree 10:99 (on blacklist with weight=0),tree 11:0,heaviest-local-tree=9 (analysed),heaviest-local-weight=64 (analysed))\n",
      " 6947445938   00:00:06     rank:0       core:11      info         toolbox::loadbalancing::dumpStatistics()                12 tree(s): (#0:207/218)(#1:54/83)(#2:54/171)(#3:54/123)(#4:54/83)(#5:54/131)(#6:54/131)(#7:19/230)(#8:0/225)(#9:64/185)(#10:99/150)(#11:0/0) total=713/1730 (local/remote)\n",
      " 6948008578   00:00:06     rank:0       core:11      info         ::::selectNextAlgorithmicStep()                         mesh has rebalanced recently, so postpone further refinement\n",
      " 6945521729   00:00:06     rank:0       core:11      info         ::step()                                                run CreateGridButPostponeRefinement\n"
     ]
    },
    {
     "name": "stdout",
     "output_type": "stream",
     "text": [
      " 8963377393   00:00:08     rank:0       core:11      info         toolbox::loadbalancing::RecursiveSubdivision::finishStep() wait in state (state=standard,global-cell-count=816,lightest-rank=0,has-spread-over-all-ranks=0,has-spread-over-all-cores=1,round-robin-token=0,target-balancing-ratio=0.8,max-tree-weight-at-last-split=64,blacklist-weight=5,number-of-state-updated-without-any-split=1,global-number-of-splits=0,local-number-of-splits=0,local-number-of-unsuccessful-splits-as-load-balancing-had-been-turned-off=0,global-number-of-unsuccessful-splits-as-load-balancing-had-been-turned-off=0,tree 0:207 (on blacklist with weight=2),tree 1:54,tree 2:54 (on blacklist with weight=2),tree 3:54,tree 4:54,tree 5:54,tree 6:54,tree 7:19 (on blacklist with weight=2),tree 8:0,tree 9:64,tree 10:99,tree 11:103,heaviest-local-tree=11 (analysed),heaviest-local-weight=103 (analysed))\n",
      " 8963429721   00:00:08     rank:0       core:11      info         toolbox::loadbalancing::dumpStatistics()                12 tree(s): (#0:207/218)(#1:54/83)(#2:54/171)(#3:54/123)(#4:54/83)(#5:54/131)(#6:54/131)(#7:19/230)(#8:0/57)(#9:64/185)(#10:99/150)(#11:103/322) total=816/1884 (local/remote)\n",
      " 8963955268   00:00:08     rank:0       core:11      info         ::::selectNextAlgorithmicStep()                         mesh has rebalanced recently, so postpone further refinement\n",
      " 8961462841   00:00:08     rank:0       core:11      info         ::step()                                                run CreateGridButPostponeRefinement\n",
      " 9812701269   00:00:09     rank:0       core:11      info         toolbox::loadbalancing::RecursiveSubdivision::finishStep() wait in state (state=standard,global-cell-count=713,lightest-rank=0,has-spread-over-all-ranks=0,has-spread-over-all-cores=1,round-robin-token=0,target-balancing-ratio=0.8,max-tree-weight-at-last-split=64,blacklist-weight=4,number-of-state-updated-without-any-split=2,global-number-of-splits=0,local-number-of-splits=0,local-number-of-unsuccessful-splits-as-load-balancing-had-been-turned-off=0,global-number-of-unsuccessful-splits-as-load-balancing-had-been-turned-off=0,tree 0:104 (on blacklist with weight=1),tree 1:54,tree 2:54 (on blacklist with weight=1),tree 3:54,tree 4:54,tree 5:54,tree 6:54,tree 7:19 (on blacklist with weight=1),tree 8:0,tree 9:64,tree 10:99,tree 11:103,heaviest-local-tree=11 (analysed),heaviest-local-weight=103 (analysed))\n",
      " 9812763635   00:00:09     rank:0       core:11      info         toolbox::loadbalancing::dumpStatistics()                12 tree(s): (#0:104/321)(#1:54/83)(#2:54/171)(#3:54/123)(#4:54/83)(#5:54/131)(#6:54/131)(#7:19/230)(#8:0/57)(#9:64/185)(#10:99/150)(#11:103/322) total=713/1987 (local/remote)\n",
      " 9813292487   00:00:09     rank:0       core:11      info         ::::selectNextAlgorithmicStep()                         mesh has rebalanced recently, so postpone further refinement\n",
      " 9810804419   00:00:09     rank:0       core:11      info         ::step()                                                run CreateGridButPostponeRefinement\n",
      " 10768878199  00:00:10     rank:0       core:11      info         toolbox::loadbalancing::RecursiveSubdivision::finishStep() wait in state (state=standard,global-cell-count=713,lightest-rank=0,has-spread-over-all-ranks=0,has-spread-over-all-cores=1,round-robin-token=0,target-balancing-ratio=0.8,max-tree-weight-at-last-split=64,blacklist-weight=4,number-of-state-updated-without-any-split=3,global-number-of-splits=0,local-number-of-splits=0,local-number-of-unsuccessful-splits-as-load-balancing-had-been-turned-off=0,global-number-of-unsuccessful-splits-as-load-balancing-had-been-turned-off=0,tree 0:104 (on blacklist with weight=0),tree 1:54,tree 2:54 (on blacklist with weight=0),tree 3:54,tree 4:54,tree 5:54,tree 6:54,tree 7:19 (on blacklist with weight=0),tree 8:0,tree 9:64,tree 10:99,tree 11:103,heaviest-local-tree=11 (analysed),heaviest-local-weight=103 (analysed))\n",
      " 10768940117  00:00:10     rank:0       core:11      info         toolbox::loadbalancing::dumpStatistics()                12 tree(s): (#0:104/321)(#1:54/83)(#2:54/171)(#3:54/123)(#4:54/83)(#5:54/131)(#6:54/131)(#7:19/230)(#8:0/9)(#9:64/185)(#10:99/150)(#11:103/322) total=713/1939 (local/remote)\n",
      " 10769474292  00:00:10     rank:0       core:11      info         ::::selectNextAlgorithmicStep()                         mesh rebalancing seems to be kind of stationary, so refine mesh further in next sweep\n",
      " 10766983593  00:00:10     rank:0       core:11      info         ::step()                                                run CreateGridButPostponeRefinement\n",
      " 11582592670  00:00:11     rank:0       core:11      info         toolbox::loadbalancing::RecursiveSubdivision::finishStep() wait in state (state=standard,global-cell-count=713,lightest-rank=0,has-spread-over-all-ranks=0,has-spread-over-all-cores=1,round-robin-token=0,target-balancing-ratio=0.8,max-tree-weight-at-last-split=64,blacklist-weight=4,number-of-state-updated-without-any-split=4,global-number-of-splits=0,local-number-of-splits=0,local-number-of-unsuccessful-splits-as-load-balancing-had-been-turned-off=0,global-number-of-unsuccessful-splits-as-load-balancing-had-been-turned-off=0,tree 0:104,tree 1:54,tree 2:54,tree 3:54,tree 4:54,tree 5:54,tree 6:54,tree 7:19,tree 8:0,tree 9:64,tree 10:99,tree 11:103,blacklist is empty,heaviest-local-tree=0 (analysed),heaviest-local-weight=104 (analysed))\n",
      " 11582686109  00:00:11     rank:0       core:11      info         toolbox::loadbalancing::dumpStatistics()                12 tree(s): (#0:104/185)(#1:54/83)(#2:54/171)(#3:54/123)(#4:54/83)(#5:54/131)(#6:54/131)(#7:19/230)(#8:0/9)(#9:64/185)(#10:99/150)(#11:103/226) total=713/1707 (local/remote)\n",
      " 11583223475  00:00:11     rank:0       core:11      info         ::::selectNextAlgorithmicStep()                         mesh rebalancing seems to be kind of stationary, so refine mesh further in next sweep\n",
      " 11580736287  00:00:11     rank:0       core:11      info         ::step()                                                run CreateGrid\n",
      " 12319747601  00:00:12     rank:0       core:11      info         peano4::parallel::SpacetreeSet::traverse(Observer)          remove empty tree 8 with master 2\n",
      " 12319944762  00:00:12     rank:0       core:11      info         exahype2::RefinementControl::finishStep()               activate 713 refinement/coarsening instructions\n",
      " 12320202809  00:00:12     rank:0       core:11      info         toolbox::loadbalancing::RecursiveSubdivision::getStrategyStep() rank is well-balanced, but does not yet use all local cores; split up rank's trees further\n",
      " 12320310165  00:00:12     rank:0       core:11      info         toolbox::loadbalancing::RecursiveSubdivision::finishStep() split-heaviest-tree(once,use-local-rank,use-recursive-partitioning) in state (state=standard,global-cell-count=713,lightest-rank=0,has-spread-over-all-ranks=0,has-spread-over-all-cores=1,round-robin-token=0,target-balancing-ratio=0.8,max-tree-weight-at-last-split=64,blacklist-weight=4,number-of-state-updated-without-any-split=5,global-number-of-splits=0,local-number-of-splits=0,local-number-of-unsuccessful-splits-as-load-balancing-had-been-turned-off=0,global-number-of-unsuccessful-splits-as-load-balancing-had-been-turned-off=0,tree 0:104,tree 1:54,tree 2:54,tree 3:54,tree 4:54,tree 5:54,tree 6:54,tree 7:19,tree 9:64,tree 10:99,tree 11:103,blacklist is empty,heaviest-local-tree=0 (analysed),heaviest-local-weight=104 (analysed))\n",
      " 12320377112  00:00:12     rank:0       core:11      info         toolbox::loadbalancing::RecursiveSubdivision::finishStep() split local rank and assign it 52 cell(s)\n",
      " 12320451799  00:00:12     rank:0       core:11      info         peano4::parallel::SpacetreeSet::split(int,int)            trigger split of tree 0 into tree 8 with 52 fine grid cells\n",
      " 12320559957  00:00:12     rank:0       core:11      info         toolbox::loadbalancing::dumpStatistics()                11 tree(s): (#0:104/185)(#1:54/83)(#2:54/171)(#3:54/123)(#4:54/83)(#5:54/131)(#6:54/131)(#7:19/230)(#9:64/185)(#10:99/150)(#11:103/226) total=713/1698 (local/remote)\n",
      " 12321130074  00:00:12     rank:0       core:11      info         ::::selectNextAlgorithmicStep()                         mesh rebalancing seems to be kind of stationary, so refine mesh further in next sweep\n",
      " 12318644288  00:00:12     rank:0       core:11      info         ::step()                                                run CreateGrid\n"
     ]
    },
    {
     "name": "stdout",
     "output_type": "stream",
     "text": [
      " 12337156860  00:00:12     rank:0       core:9       info         peano4::grid::Spacetree::traverse(...)                                                                got 2 grid control events\n",
      " 12339374298  00:00:12     rank:0       core:5       info         peano4::grid::Spacetree::traverse(...)                                                                    got 2 grid control events\n",
      " 12339506978  00:00:12     rank:0       core:7       info         peano4::grid::Spacetree::traverse(...)                                                                  got 2 grid control events\n",
      " 12339506980  00:00:12     rank:0       core:1       info         peano4::grid::Spacetree::traverse(...)                                                                  got 2 grid control events\n",
      " 12339507848  00:00:12     rank:0       core:4       info         peano4::grid::Spacetree::traverse(...)                                                                  got 2 grid control events\n",
      " 12339565653  00:00:12     rank:0       core:10      info         peano4::grid::Spacetree::traverse(...)                                                              got 2 grid control events\n",
      " 12339594195  00:00:12     rank:0       core:6       info         peano4::grid::Spacetree::traverse(...)                                                              got 2 grid control events\n",
      " 12339594197  00:00:12     rank:0       core:0       info         peano4::grid::Spacetree::traverse(...)                                                              got 2 grid control events\n",
      " 12340897797  00:00:12     rank:0       core:11      info         peano4::grid::Spacetree::traverse(...)                                                                                                            got 2 grid control events\n",
      " 12347330759  00:00:12     rank:0       core:8       info         peano4::grid::Spacetree::traverse(...)                                                                                                                            got 2 grid control events\n",
      " 12349128419  00:00:12     rank:0       core:3       info         peano4::grid::Spacetree::traverse(...)                                                                                                                                            got 2 grid control events\n",
      " 13914170266  00:00:13     rank:0       core:6       info         peano4::grid::Spacetree::Spacetree(...)                     created spacetree 8 with master tree 0\n",
      " 13914341433  00:00:13     rank:0       core:6       info         exahype2::RefinementControl::finishStep()               activate 713 refinement/coarsening instructions\n",
      " 13914661165  00:00:13     rank:0       core:6       info         toolbox::loadbalancing::RecursiveSubdivision::finishStep() wait in state (state=standard,global-cell-count=713,lightest-rank=0,has-spread-over-all-ranks=0,has-spread-over-all-cores=1,round-robin-token=0,target-balancing-ratio=0.8,max-tree-weight-at-last-split=103,blacklist-weight=6,number-of-state-updated-without-any-split=0,global-number-of-splits=1,local-number-of-splits=0,local-number-of-unsuccessful-splits-as-load-balancing-had-been-turned-off=0,global-number-of-unsuccessful-splits-as-load-balancing-had-been-turned-off=0,tree 0:104 (on blacklist with weight=3),tree 1:54,tree 2:54,tree 3:54,tree 4:54,tree 5:54,tree 6:54,tree 7:19,tree 8:0,tree 9:64,tree 10:99,tree 11:103,heaviest-local-tree=11 (analysed),heaviest-local-weight=103 (analysed))\n",
      " 13914740413  00:00:13     rank:0       core:6       info         toolbox::loadbalancing::dumpStatistics()                12 tree(s): (#0:104/185)(#1:54/83)(#2:54/171)(#3:54/123)(#4:54/83)(#5:54/131)(#6:54/131)(#7:19/230)(#8:0/0)(#9:64/185)(#10:99/150)(#11:103/226) total=713/1698 (local/remote)\n",
      " 13915280655  00:00:13     rank:0       core:6       info         ::::selectNextAlgorithmicStep()                         mesh has rebalanced recently, so postpone further refinement\n",
      " 13912793446  00:00:13     rank:0       core:6       info         ::step()                                                run CreateGrid\n",
      " 13931334416  00:00:13     rank:0       core:10      info         peano4::grid::Spacetree::traverse(...)                                                                got 6 grid control events\n",
      " 13933628023  00:00:13     rank:0       core:8       info         peano4::grid::Spacetree::traverse(...)                                                                  got 6 grid control events\n",
      " 13933685183  00:00:13     rank:0       core:5       info         peano4::grid::Spacetree::traverse(...)                                                                    got 6 grid control events\n",
      " 13933730946  00:00:13     rank:0       core:7       info         peano4::grid::Spacetree::traverse(...)                                                                got 6 grid control events\n",
      " 13933730948  00:00:13     rank:0       core:1       info         peano4::grid::Spacetree::traverse(...)                                                                got 6 grid control events\n",
      " 13933737938  00:00:13     rank:0       core:9       info         peano4::grid::Spacetree::traverse(...)                                                            got 6 grid control events\n",
      " 13933737941  00:00:13     rank:0       core:3       info         peano4::grid::Spacetree::traverse(...)                                                            got 6 grid control events\n",
      " 13933796049  00:00:13     rank:0       core:6       info         peano4::grid::Spacetree::traverse(...)                                                                    got 6 grid control events\n",
      " 13934607752  00:00:13     rank:0       core:11      info         peano4::grid::Spacetree::traverse(...)                                                                                                        got 6 grid control events\n",
      " 13935007238  00:00:13     rank:0       core:2       info         peano4::grid::Spacetree::traverse(...)                                                                                            got 6 grid control events\n",
      " 13935175398  00:00:13     rank:0       core:0       info         peano4::grid::Spacetree::traverse(...)                                                                                                                      got 6 grid control events\n",
      " 21876381936  00:00:21     rank:0       core:6       info         exahype2::RefinementControl::finishStep()               activate 18 refinement/coarsening instructions\n",
      " 21876703099  00:00:21     rank:0       core:6       info         toolbox::loadbalancing::RecursiveSubdivision::finishStep() wait in state (state=standard,global-cell-count=6885,lightest-rank=0,has-spread-over-all-ranks=0,has-spread-over-all-cores=1,round-robin-token=0,target-balancing-ratio=0.8,max-tree-weight-at-last-split=103,blacklist-weight=5,number-of-state-updated-without-any-split=1,global-number-of-splits=0,local-number-of-splits=0,local-number-of-unsuccessful-splits-as-load-balancing-had-been-turned-off=0,global-number-of-unsuccessful-splits-as-load-balancing-had-been-turned-off=0,tree 0:936 (on blacklist with weight=2),tree 1:486,tree 2:486,tree 3:486,tree 4:486,tree 5:486,tree 6:486,tree 7:171,tree 8:468,tree 9:576,tree 10:891,tree 11:927,heaviest-local-tree=11 (analysed),heaviest-local-weight=927 (analysed))\n",
      " 21876761207  00:00:21     rank:0       core:6       info         toolbox::loadbalancing::dumpStatistics()                12 tree(s): (#0:936/489)(#1:486/211)(#2:486/499)(#3:486/307)(#4:486/211)(#5:486/339)(#6:486/339)(#7:171/398)(#8:468/957)(#9:576/649)(#10:891/430)(#11:927/674) total=6885/5503 (local/remote)\n",
      " 21877326036  00:00:21     rank:0       core:6       info         ::::selectNextAlgorithmicStep()                         finest mesh resolution of 300 reached with h_min=[246.914,246.914]\n",
      " 21874868907  00:00:21     rank:0       core:6       info         ::step()                                                run CreateGrid\n",
      " 21877007484  00:00:21     rank:0       core:0       info         peano4::grid::Spacetree::traverse(...)                                                got one grid control event: (refinementControl=Refine,offset=[-1148.15,-10037],width=[2296.3,4518.52],h=[271.605,271.605])\n",
      " 21877010683  00:00:21     rank:0       core:7       info         peano4::grid::Spacetree::traverse(...)                                                got one grid control event: (refinementControl=Refine,offset=[-1148.15,-10037],width=[2296.3,4518.52],h=[271.605,271.605])\n",
      " 21877012886  00:00:21     rank:0       core:10      info         peano4::grid::Spacetree::traverse(...)                                                got one grid control event: (refinementControl=Refine,offset=[-1148.15,-10037],width=[2296.3,4518.52],h=[271.605,271.605])\n",
      " 21877013099  00:00:21     rank:0       core:5       info         peano4::grid::Spacetree::traverse(...)                                                got one grid control event: (refinementControl=Refine,offset=[-1148.15,-10037],width=[2296.3,4518.52],h=[271.605,271.605])\n",
      " 21877013101  00:00:21     rank:0       core:11      info         peano4::grid::Spacetree::traverse(...)                                                got one grid control event: (refinementControl=Refine,offset=[-1148.15,-10037],width=[2296.3,4518.52],h=[271.605,271.605])\n",
      " 21877017275  00:00:21     rank:0       core:4       info         peano4::grid::Spacetree::traverse(...)                                                got one grid control event: (refinementControl=Refine,offset=[-1148.15,-10037],width=[2296.3,4518.52],h=[271.605,271.605])\n",
      " 21877017582  00:00:21     rank:0       core:9       info         peano4::grid::Spacetree::traverse(...)                                                got one grid control event: (refinementControl=Refine,offset=[-1148.15,-10037],width=[2296.3,4518.52],h=[271.605,271.605])\n",
      " 21877021938  00:00:21     rank:0       core:1       info         peano4::grid::Spacetree::traverse(...)                                                got one grid control event: (refinementControl=Refine,offset=[-1148.15,-10037],width=[2296.3,4518.52],h=[271.605,271.605])\n",
      " 21877024442  00:00:21     rank:0       core:3       info         peano4::grid::Spacetree::traverse(...)                                                got one grid control event: (refinementControl=Refine,offset=[-1148.15,-10037],width=[2296.3,4518.52],h=[271.605,271.605])\n",
      " 21877025695  00:00:21     rank:0       core:2       info         peano4::grid::Spacetree::traverse(...)                                                got one grid control event: (refinementControl=Refine,offset=[-1148.15,-10037],width=[2296.3,4518.52],h=[271.605,271.605])\n",
      " 21877025689  00:00:21     rank:0       core:8       info         peano4::grid::Spacetree::traverse(...)                                                got one grid control event: (refinementControl=Refine,offset=[-1148.15,-10037],width=[2296.3,4518.52],h=[271.605,271.605])\n",
      " 21877230657  00:00:21     rank:0       core:6       info         peano4::grid::Spacetree::traverse(...)                                                                                                                                            got one grid control event: (refinementControl=Refine,offset=[-1148.15,-10037],width=[2296.3,4518.52],h=[271.605,271.605])\n"
     ]
    },
    {
     "name": "stdout",
     "output_type": "stream",
     "text": [
      " 25474261299  00:00:25     rank:0       core:6       info         exahype2::RefinementControl::finishStep()               activate 18 refinement/coarsening instructions\n",
      " 25474538522  00:00:25     rank:0       core:6       info         toolbox::loadbalancing::RecursiveSubdivision::finishStep() wait in state (state=standard,global-cell-count=6417,lightest-rank=0,has-spread-over-all-ranks=0,has-spread-over-all-cores=1,round-robin-token=0,target-balancing-ratio=0.8,max-tree-weight-at-last-split=103,blacklist-weight=4,number-of-state-updated-without-any-split=2,global-number-of-splits=0,local-number-of-splits=0,local-number-of-unsuccessful-splits-as-load-balancing-had-been-turned-off=0,global-number-of-unsuccessful-splits-as-load-balancing-had-been-turned-off=0,tree 0:468 (on blacklist with weight=1),tree 1:486,tree 2:486,tree 3:486,tree 4:486,tree 5:486,tree 6:486,tree 7:171,tree 8:468,tree 9:576,tree 10:891,tree 11:927,heaviest-local-tree=11 (analysed),heaviest-local-weight=927 (analysed))\n",
      " 25474595276  00:00:25     rank:0       core:6       info         toolbox::loadbalancing::dumpStatistics()                12 tree(s): (#0:468/957)(#1:486/211)(#2:486/499)(#3:486/307)(#4:486/211)(#5:486/339)(#6:486/339)(#7:171/398)(#8:468/957)(#9:576/649)(#10:891/430)(#11:927/674) total=6417/5971 (local/remote)\n",
      " 25472625230  00:00:25     rank:0       core:6       info         ::step()                                                run CreateGrid\n",
      " 25474760672  00:00:25     rank:0       core:0       info         peano4::grid::Spacetree::traverse(...)                                                got one grid control event: (refinementControl=Refine,offset=[-1148.15,-10037],width=[2296.3,4518.52],h=[271.605,271.605])\n",
      " 25474760404  00:00:25     rank:0       core:3       info         peano4::grid::Spacetree::traverse(...)                                                  got one grid control event: (refinementControl=Refine,offset=[-1148.15,-10037],width=[2296.3,4518.52],h=[271.605,271.605])\n",
      " 25474773623  00:00:25     rank:0       core:9       info         peano4::grid::Spacetree::traverse(...)                                              got one grid control event: (refinementControl=Refine,offset=[-1148.15,-10037],width=[2296.3,4518.52],h=[271.605,271.605])\n",
      " 25474771635  00:00:25     rank:0       core:11      info         peano4::grid::Spacetree::traverse(...)                                              got one grid control event: (refinementControl=Refine,offset=[-1148.15,-10037],width=[2296.3,4518.52],h=[271.605,271.605])\n",
      " 25474770587  00:00:25     rank:0       core:5       info         peano4::grid::Spacetree::traverse(...)                                              got one grid control event: (refinementControl=Refine,offset=[-1148.15,-10037],width=[2296.3,4518.52],h=[271.605,271.605])\n",
      " 25474771208  00:00:25     rank:0       core:7       info         peano4::grid::Spacetree::traverse(...)                                              got one grid control event: (refinementControl=Refine,offset=[-1148.15,-10037],width=[2296.3,4518.52],h=[271.605,271.605])\n",
      " 25474771209  00:00:25     rank:0       core:1       info         peano4::grid::Spacetree::traverse(...)                                              got one grid control event: (refinementControl=Refine,offset=[-1148.15,-10037],width=[2296.3,4518.52],h=[271.605,271.605])\n",
      " 25474776473  00:00:25     rank:0       core:8       info         peano4::grid::Spacetree::traverse(...)                                              got one grid control event: (refinementControl=Refine,offset=[-1148.15,-10037],width=[2296.3,4518.52],h=[271.605,271.605])\n",
      " 25474779428  00:00:25     rank:0       core:2       info         peano4::grid::Spacetree::traverse(...)                                              got one grid control event: (refinementControl=Refine,offset=[-1148.15,-10037],width=[2296.3,4518.52],h=[271.605,271.605])\n",
      " 25474780346  00:00:25     rank:0       core:4       info         peano4::grid::Spacetree::traverse(...)                                              got one grid control event: (refinementControl=Refine,offset=[-1148.15,-10037],width=[2296.3,4518.52],h=[271.605,271.605])\n",
      " 25474780343  00:00:25     rank:0       core:10      info         peano4::grid::Spacetree::traverse(...)                                              got one grid control event: (refinementControl=Refine,offset=[-1148.15,-10037],width=[2296.3,4518.52],h=[271.605,271.605])\n",
      " 25474814891  00:00:25     rank:0       core:6       info         peano4::grid::Spacetree::traverse(...)                                              got one grid control event: (refinementControl=Refine,offset=[-1148.15,-10037],width=[2296.3,4518.52],h=[271.605,271.605])\n",
      " 29381875200  00:00:29     rank:0       core:6       info         toolbox::loadbalancing::RecursiveSubdivision::finishStep() wait in state (state=standard,global-cell-count=6561,lightest-rank=0,has-spread-over-all-ranks=0,has-spread-over-all-cores=1,round-robin-token=0,target-balancing-ratio=0.8,max-tree-weight-at-last-split=103,blacklist-weight=4,number-of-state-updated-without-any-split=3,global-number-of-splits=0,local-number-of-splits=0,local-number-of-unsuccessful-splits-as-load-balancing-had-been-turned-off=0,global-number-of-unsuccessful-splits-as-load-balancing-had-been-turned-off=0,tree 0:468 (on blacklist with weight=0),tree 1:486,tree 2:486,tree 3:486,tree 4:486,tree 5:486,tree 6:486,tree 7:315,tree 8:468,tree 9:576,tree 10:891,tree 11:927,heaviest-local-tree=11 (analysed),heaviest-local-weight=927 (analysed))\n",
      " 29381965715  00:00:29     rank:0       core:6       info         toolbox::loadbalancing::dumpStatistics()                12 tree(s): (#0:468/957)(#1:486/211)(#2:486/499)(#3:486/307)(#4:486/211)(#5:486/339)(#6:486/339)(#7:315/398)(#8:468/957)(#9:576/649)(#10:891/430)(#11:927/674) total=6561/5971 (local/remote)\n",
      " 29379959194  00:00:29     rank:0       core:6       info         ::step()                                                run CreateGrid\n",
      " 32938492983  00:00:32     rank:0       core:6       info         toolbox::loadbalancing::RecursiveSubdivision::finishStep() wait in state (state=standard,global-cell-count=6561,lightest-rank=0,has-spread-over-all-ranks=0,has-spread-over-all-cores=1,round-robin-token=0,target-balancing-ratio=0.8,max-tree-weight-at-last-split=103,blacklist-weight=4,number-of-state-updated-without-any-split=4,global-number-of-splits=0,local-number-of-splits=0,local-number-of-unsuccessful-splits-as-load-balancing-had-been-turned-off=0,global-number-of-unsuccessful-splits-as-load-balancing-had-been-turned-off=0,tree 0:468,tree 1:486,tree 2:486,tree 3:486,tree 4:486,tree 5:486,tree 6:486,tree 7:315,tree 8:468,tree 9:576,tree 10:891,tree 11:927,blacklist is empty,heaviest-local-tree=11 (analysed),heaviest-local-weight=927 (analysed))\n",
      " 32938553790  00:00:32     rank:0       core:6       info         toolbox::loadbalancing::dumpStatistics()                12 tree(s): (#0:468/493)(#1:486/211)(#2:486/499)(#3:486/307)(#4:486/211)(#5:486/339)(#6:486/339)(#7:315/398)(#8:468/493)(#9:576/649)(#10:891/430)(#11:927/674) total=6561/5043 (local/remote)\n",
      " 32936543069  00:00:32     rank:0       core:6       info         ::step()                                                run InitGrid\n",
      " 36472555961  00:00:36     rank:0       core:6       info         ::step()                                                run PlotSolution\n",
      " 39720120750  00:00:39     rank:0       core:6       info         ::step()                                                run TimeStep\n",
      " 39720183633  00:00:39     rank:0       core:6       info         ::step()                                                t_{min}  = 0\n",
      " 39720200970  00:00:39     rank:0       core:6       info         ::step()                                                t_{max}  = 0\n",
      " 39720216713  00:00:39     rank:0       core:6       info         ::step()                                                dt_{min} = 0.001\n",
      " 39720232106  00:00:39     rank:0       core:6       info         ::step()                                                dt_{max} = 0.001\n"
     ]
    },
    {
     "name": "stdout",
     "output_type": "stream",
     "text": [
      " 44161220503  00:00:44     rank:0       core:6       info         toolbox::loadbalancing::RecursiveSubdivision::finishStep() wait in state (state=standard,global-cell-count=6561,lightest-rank=0,has-spread-over-all-ranks=0,has-spread-over-all-cores=1,round-robin-token=0,target-balancing-ratio=0.8,max-tree-weight-at-last-split=103,blacklist-weight=4,number-of-state-updated-without-any-split=5,global-number-of-splits=0,local-number-of-splits=0,local-number-of-unsuccessful-splits-as-load-balancing-had-been-turned-off=0,global-number-of-unsuccessful-splits-as-load-balancing-had-been-turned-off=0,tree 0:468,tree 1:486,tree 2:486,tree 3:486,tree 4:486,tree 5:486,tree 6:486,tree 7:315,tree 8:468,tree 9:576,tree 10:891,tree 11:927,blacklist is empty,heaviest-local-tree=11 (analysed),heaviest-local-weight=927 (analysed))\n",
      " 44161308280  00:00:44     rank:0       core:6       info         toolbox::loadbalancing::dumpStatistics()                12 tree(s): (#0:468/461)(#1:486/211)(#2:486/499)(#3:486/307)(#4:486/211)(#5:486/339)(#6:486/339)(#7:315/398)(#8:468/405)(#9:576/649)(#10:891/430)(#11:927/674) total=6561/4923 (local/remote)\n",
      " 44159283917  00:00:44     rank:0       core:6       info         ::step()                                                run TimeStep\n",
      " 44159302932  00:00:44     rank:0       core:6       info         ::step()                                                t_{min}  = 0.001\n",
      " 44159348871  00:00:44     rank:0       core:6       info         ::step()                                                t_{max}  = 0.001\n",
      " 44160058773  00:00:44     rank:0       core:6       info         ::step()                                                dt_{min} = 0.001\n",
      " 44160104232  00:00:44     rank:0       core:6       info         ::step()                                                dt_{max} = 0.001\n",
      " 48609342453  00:00:48     rank:0       core:6       info         toolbox::loadbalancing::RecursiveSubdivision::finishStep() wait in state (state=standard,global-cell-count=6561,lightest-rank=0,has-spread-over-all-ranks=0,has-spread-over-all-cores=1,round-robin-token=0,target-balancing-ratio=0.8,max-tree-weight-at-last-split=103,blacklist-weight=4,number-of-state-updated-without-any-split=6,global-number-of-splits=0,local-number-of-splits=0,local-number-of-unsuccessful-splits-as-load-balancing-had-been-turned-off=0,global-number-of-unsuccessful-splits-as-load-balancing-had-been-turned-off=0,tree 0:468,tree 1:486,tree 2:486,tree 3:486,tree 4:486,tree 5:486,tree 6:486,tree 7:315,tree 8:468,tree 9:576,tree 10:891,tree 11:927,blacklist is empty,heaviest-local-tree=11 (analysed),heaviest-local-weight=927 (analysed))\n",
      " 48609430793  00:00:48     rank:0       core:6       info         toolbox::loadbalancing::dumpStatistics()                12 tree(s): (#0:468/461)(#1:486/211)(#2:486/499)(#3:486/307)(#4:486/211)(#5:486/339)(#6:486/339)(#7:315/398)(#8:468/405)(#9:576/649)(#10:891/430)(#11:927/674) total=6561/4923 (local/remote)\n",
      " 48607412952  00:00:48     rank:0       core:6       info         ::step()                                                run TimeStep\n",
      " 48607432648  00:00:48     rank:0       core:6       info         ::step()                                                t_{min}  = 0.002\n",
      " 48607447917  00:00:48     rank:0       core:6       info         ::step()                                                t_{max}  = 0.002\n",
      " 48607462163  00:00:48     rank:0       core:6       info         ::step()                                                dt_{min} = 0.001\n",
      " 48607476804  00:00:48     rank:0       core:6       info         ::step()                                                dt_{max} = 0.001\n",
      " 53084539704  00:00:53     rank:0       core:6       info         toolbox::loadbalancing::RecursiveSubdivision::finishStep() wait in state (state=standard,global-cell-count=6561,lightest-rank=0,has-spread-over-all-ranks=0,has-spread-over-all-cores=1,round-robin-token=0,target-balancing-ratio=0.8,max-tree-weight-at-last-split=103,blacklist-weight=4,number-of-state-updated-without-any-split=7,global-number-of-splits=0,local-number-of-splits=0,local-number-of-unsuccessful-splits-as-load-balancing-had-been-turned-off=0,global-number-of-unsuccessful-splits-as-load-balancing-had-been-turned-off=0,tree 0:468,tree 1:486,tree 2:486,tree 3:486,tree 4:486,tree 5:486,tree 6:486,tree 7:315,tree 8:468,tree 9:576,tree 10:891,tree 11:927,blacklist is empty,heaviest-local-tree=11 (analysed),heaviest-local-weight=927 (analysed))\n",
      " 53084635120  00:00:53     rank:0       core:6       info         toolbox::loadbalancing::dumpStatistics()                12 tree(s): (#0:468/461)(#1:486/211)(#2:486/499)(#3:486/307)(#4:486/211)(#5:486/339)(#6:486/339)(#7:315/398)(#8:468/405)(#9:576/649)(#10:891/430)(#11:927/674) total=6561/4923 (local/remote)\n",
      " 53082610856  00:00:53     rank:0       core:6       info         ::step()                                                run TimeStep\n",
      " 53082629530  00:00:53     rank:0       core:6       info         ::step()                                                t_{min}  = 0.003\n",
      " 53082644603  00:00:53     rank:0       core:6       info         ::step()                                                t_{max}  = 0.003\n",
      " 53082659360  00:00:53     rank:0       core:6       info         ::step()                                                dt_{min} = 0.001\n",
      " 53082673778  00:00:53     rank:0       core:6       info         ::step()                                                dt_{max} = 0.001\n",
      " 57583016986  00:00:57     rank:0       core:6       info         toolbox::loadbalancing::RecursiveSubdivision::finishStep() wait in state (state=standard,global-cell-count=6561,lightest-rank=0,has-spread-over-all-ranks=0,has-spread-over-all-cores=1,round-robin-token=0,target-balancing-ratio=0.8,max-tree-weight-at-last-split=103,blacklist-weight=4,number-of-state-updated-without-any-split=8,global-number-of-splits=0,local-number-of-splits=0,local-number-of-unsuccessful-splits-as-load-balancing-had-been-turned-off=0,global-number-of-unsuccessful-splits-as-load-balancing-had-been-turned-off=0,tree 0:468,tree 1:486,tree 2:486,tree 3:486,tree 4:486,tree 5:486,tree 6:486,tree 7:315,tree 8:468,tree 9:576,tree 10:891,tree 11:927,blacklist is empty,heaviest-local-tree=11 (analysed),heaviest-local-weight=927 (analysed))\n",
      " 57583129108  00:00:57     rank:0       core:6       info         toolbox::loadbalancing::dumpStatistics()                12 tree(s): (#0:468/461)(#1:486/211)(#2:486/499)(#3:486/307)(#4:486/211)(#5:486/339)(#6:486/339)(#7:315/398)(#8:468/405)(#9:576/649)(#10:891/430)(#11:927/674) total=6561/4923 (local/remote)\n",
      " 57581105012  00:00:57     rank:0       core:6       info         ::step()                                                run TimeStep\n",
      " 57581123745  00:00:57     rank:0       core:6       info         ::step()                                                t_{min}  = 0.004\n",
      " 57581138992  00:00:57     rank:0       core:6       info         ::step()                                                t_{max}  = 0.004\n",
      " 57581153607  00:00:57     rank:0       core:6       info         ::step()                                                dt_{min} = 0.001\n",
      " 57581168445  00:00:57     rank:0       core:6       info         ::step()                                                dt_{max} = 0.001\n"
     ]
    }
   ],
   "source": [
    "!./peano4"
   ]
  },
  {
   "cell_type": "markdown",
   "metadata": {},
   "source": [
    "## Visualisation\n",
    "\n",
    "The new version of Peano/ExaHyPE writes out so-called patch files. This is a bespoke file format. There multiple ways how to manipulate/read it. I prefer to do everything within Paraview via Paraview. For this, I ensure that the PYTHONPATH points to Peano's Python directory, start up Paraview and then open the Python terminal. From here:\n",
    "\n",
    "<pre>\n",
    "import peano4.visualisation\n",
    "data = peano4.visualisation.Visualiser( \"solution-GPRDR.peano-patch-file\" )\n",
    "data.append_filter(peano4.visualisation.ExtractFineGridFilter())\n",
    "data.display()\n",
    "</pre>\n",
    "\n",
    "From here, you can either use\n",
    "<pre>\n",
    "data.select_dataset(any number)\n",
    "</pre>\n",
    "\n",
    "to step through the time steps or you call\n",
    "\n",
    "<pre>\n",
    "data.write_vtu_time_series()\n",
    "</pre>\n",
    "\n",
    "which gives you a vtu file with all the snapshots which you can load in Paraview. The conversion itself can last for ages if you run it within Paraview. I do recommend that you use the Python environment \n",
    "\n",
    "<pre>\n",
    "pvpython\n",
    "</pre>\n",
    "\n",
    "to issue the conversion therein. With the pvpython environment, it is also possible to convert the data in the background while you open a separate Paraview instance to study the data already.\n"
   ]
  },
  {
   "cell_type": "code",
   "execution_count": null,
   "metadata": {},
   "outputs": [],
   "source": []
  },
  {
   "cell_type": "markdown",
   "metadata": {},
   "source": [
    "## How to modify the actual code\n",
    "\n",
    "This is ExaHyPE 2, but on the user side it is almost 1:1 the same interface as the original ExaHyPE. All the knowledge can be found in the files GPRDR.h and GPRDR.cpp. These files have been generated by the Python notebook, as you have named the solver GPRPR above."
   ]
  },
  {
   "cell_type": "code",
   "execution_count": null,
   "metadata": {},
   "outputs": [],
   "source": []
  }
 ],
 "metadata": {
  "kernelspec": {
   "display_name": "Python 3",
   "language": "python",
   "name": "python3"
  },
  "language_info": {
   "codemirror_mode": {
    "name": "ipython",
    "version": 3
   },
   "file_extension": ".py",
   "mimetype": "text/x-python",
   "name": "python",
   "nbconvert_exporter": "python",
   "pygments_lexer": "ipython3",
   "version": "3.8.5"
  }
 },
 "nbformat": 4,
 "nbformat_minor": 4
}

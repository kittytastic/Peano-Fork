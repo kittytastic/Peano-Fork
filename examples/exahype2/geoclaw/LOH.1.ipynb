{
 "cells": [
  {
   "cell_type": "markdown",
   "metadata": {},
   "source": [
    "# LOH.1 benchmark with ExaHyPE 2\n",
    "\n",
    "I assume that you've done the Euler example already, i.e. I can skip most of the basic stuff and go into medias res straightaway.\n",
    "\n",
    "Compare to the Euler example, this is a more sophisticated example which uses an FV solver with nonconservative product. The example simulates elastic wave equations plus a diffuse interface model that takes material  interfaces into account.\n",
    "\n",
    "Currently, we impose a Gaussian velocity pulse as initial solution but we will eventually simulate the LOH.1 benchmark.\n",
    "\n",
    "We solve the governing equations using (a very diffusive) first-order FV solver. The code relies on snippets from the first version of ExaHyPE and from ExaSeis.\n",
    "\n",
    "* Fore more details on the underlying mathematical modelling, see:\n",
    "  https://www.sciencedirect.com/science/article/pii/S0021999119300786 \n",
    "\n",
    "* For more details on the benchmark problem, see:\n",
    "  http://sismowine.org/model/WP2_LOH1.pdf\n",
    "\n",
    "* For more details on ExaSeis, see e.g.:\n",
    "  https://mediatum.ub.tum.de/doc/1483700/1483700.pdf \n"
   ]
  },
  {
   "cell_type": "code",
   "execution_count": null,
   "metadata": {},
   "outputs": [],
   "source": [
    "import os\n",
    "import peano4\n",
    "import exahype2"
   ]
  },
  {
   "cell_type": "code",
   "execution_count": null,
   "metadata": {},
   "outputs": [],
   "source": [
    "project = exahype2.Project( \n",
    "  namespace    = [\"examples\", \"exahype2\", \"loh1\"], \n",
    "  project_name = \"loh1\", \n",
    "  directory    = \".\" )"
   ]
  },
  {
   "cell_type": "markdown",
   "metadata": {},
   "source": [
    "Compared to the Euler equations, the big difference is that we use the ncp (non-conservative product). That is, we solve an equation with an additional term: \n",
    "\n",
    "\n",
    "$ \\partial Q + \\nabla ^T \\cdot F(Q) + B(Q) \\nabla Q = 0$\n",
    "\n",
    "It might come as a surprise that we omit any conservative term (flux) here, but I explain this below:"
   ]
  },
  {
   "cell_type": "code",
   "execution_count": null,
   "metadata": {},
   "outputs": [],
   "source": [
    "mesh_size      = 2.0\n",
    "time_step_size = 0.001\n",
    "\n",
    "project.add_solver(  \n",
    "  exahype2.solvers.fv.GenericRusanovFixedTimeStepSizeWithEnclaves(\n",
    "    name           = \"LOH1\", \n",
    "    patch_size     = 5, \n",
    "    unknowns       = 3+6,      # vel(3) + stress(6)\n",
    "    auxiliary_variables = 4,   #material parameters(3) + diffuse interface(1)  \n",
    "    time_step_size = 0.01, \n",
    "    min_h          = mesh_size,\n",
    "    max_h          = mesh_size,\n",
    "    flux=exahype2.solvers.fv.PDETerms.None_Implementation,\n",
    "    ncp=exahype2.solvers.fv.PDETerms.User_Defined_Implementation) )"
   ]
  },
  {
   "cell_type": "markdown",
   "metadata": {},
   "source": [
    "While I personally always prefer to play around with Euler and 2d before I switch to Euler 3d, this time a 2d solve does not make any real sense. So we use 3d right from the start. The domain dimensions here are those from the standard benchmark."
   ]
  },
  {
   "cell_type": "code",
   "execution_count": null,
   "metadata": {},
   "outputs": [],
   "source": [
    "dimensions=3 \n",
    "project.set_global_simulation_parameters(\n",
    "  dimensions            = dimensions,\n",
    "  offset                = [0.0]*dimensions, \n",
    "  size                  = [30.0]*dimensions,\n",
    "  #end_time              = 2.0,        \n",
    "  end_time              = 0.1,\n",
    "  first_plot_time_stamp = 0.0, \n",
    "  time_in_between_plots = time_step_size*10\n",
    ")\n"
   ]
  },
  {
   "cell_type": "markdown",
   "metadata": {},
   "source": [
    "The whole test is already relative compute-heavy, so we rely on parallelisation. The parameter clarifies that we want to work with an (MPI) domain decomposition that is 90% close to the optimum. The parameter allows us to balance between good domain decompositions and (very) long domain partitioning times."
   ]
  },
  {
   "cell_type": "code",
   "execution_count": null,
   "metadata": {},
   "outputs": [],
   "source": [
    "project.set_load_balancing( \"toolbox::loadbalancing::RecursiveSubdivision\", \"(0.9)\" )"
   ]
  },
  {
   "cell_type": "markdown",
   "metadata": {},
   "source": [
    "Finally, we generate the code. The actual implementation of the terms\n",
    "\n",
    "$ \\frac{\\partial}{\\partial t} \\begin{pmatrix}\n",
    "\\sigma \\\\ \\rho \\ v\n",
    "\\end{pmatrix}\n",
    "+\n",
    "\\nabla\\cdot\\begin{pmatrix}\n",
    "{j}\\\\\n",
    "\\frac{1}{\\rho}j\\otimes j + p I \\\\\n",
    "\\frac{1}{\\rho}j\\,(E + p)\n",
    "\\end{pmatrix}\n",
    "= 0\n",
    " $ \n",
    "\n",
    "and others can be found in the cpp files in the current directory. (this LaTeX formulation is yet to be finalised)"
   ]
  },
  {
   "cell_type": "code",
   "execution_count": null,
   "metadata": {},
   "outputs": [],
   "source": [
    "build_mode = peano4.output.CompileMode.Asserts\n",
    "#build_mode = peano4.output.CompileMode.Release\n",
    "#build_mode = peano4.output.CompileMode.Trace\n",
    "\n",
    "\n",
    "project.set_Peano4_installation(\"../../..\", build_mode)\n",
    "\n",
    "peano4_project = project.generate_Peano4_project()\n",
    "peano4_project.generate( throw_away_data_after_generation=False )"
   ]
  },
  {
   "cell_type": "code",
   "execution_count": null,
   "metadata": {},
   "outputs": [],
   "source": [
    "parallel_builds = 8   # I don't use a massively parallel build here as my laptop otherwise becomes too hot.\n",
    "                      # Without any arguments, the build process will grab all of your cores.\n",
    "peano4_project.build( make_clean_first = True, number_of_parallel_builds = parallel_builds )"
   ]
  },
  {
   "cell_type": "markdown",
   "metadata": {},
   "source": [
    "## Run benchmark"
   ]
  },
  {
   "cell_type": "code",
   "execution_count": null,
   "metadata": {},
   "outputs": [],
   "source": [
    "peano4_project.run( [], prefix = [\"mpirun\", \"-n\", \"1\"], pipefile = \"output.txt\", rebuild_if_required=False )"
   ]
  },
  {
   "cell_type": "markdown",
   "metadata": {},
   "source": [
    "## Postprocessing of global runtimes"
   ]
  },
  {
   "cell_type": "code",
   "execution_count": null,
   "metadata": {},
   "outputs": [],
   "source": [
    "import exahype2.postprocessing\n",
    "\n",
    "performance_data = exahype2.postprocessing.PerformanceData( \"output.txt\", verbose=True )\n",
    "exahype2.postprocessing.plot_pie_chart_over_simulation_phases(performance_data)"
   ]
  },
  {
   "cell_type": "markdown",
   "metadata": {},
   "source": [
    "## Explicitly convert VTK files"
   ]
  },
  {
   "cell_type": "code",
   "execution_count": null,
   "metadata": {},
   "outputs": [],
   "source": [
    "import peano4.visualisation\n",
    "\n",
    "peano_output_files = \"solution-LOH1\"\n",
    "convert = peano4.visualisation.Convert( peano_output_files, True )\n",
    "convert.set_visualisation_tools_path( \"../../../src/convert\" )\n",
    "convert.extract_fine_grid()\n",
    "convert.convert_to_vtk()"
   ]
  },
  {
   "cell_type": "markdown",
   "metadata": {},
   "source": [
    "The snippet above converts all data explicitly into VTU. This is likely not the most efficient way to study the outcome. See the guidebook how to open data directly within Paraview."
   ]
  },
  {
   "cell_type": "code",
   "execution_count": null,
   "metadata": {},
   "outputs": [],
   "source": []
  }
 ],
 "metadata": {
  "kernelspec": {
   "display_name": "Python 3",
   "language": "python",
   "name": "python3"
  },
  "language_info": {
   "codemirror_mode": {
    "name": "ipython",
    "version": 3
   },
   "file_extension": ".py",
   "mimetype": "text/x-python",
   "name": "python",
   "nbconvert_exporter": "python",
   "pygments_lexer": "ipython3",
   "version": "3.8.5"
  },
  "latex_envs": {
   "LaTeX_envs_menu_present": true,
   "autoclose": false,
   "autocomplete": true,
   "bibliofile": "biblio.bib",
   "cite_by": "apalike",
   "current_citInitial": 1,
   "eqLabelWithNumbers": true,
   "eqNumInitial": 1,
   "hotkeys": {
    "equation": "Ctrl-E",
    "itemize": "Ctrl-I"
   },
   "labels_anchors": false,
   "latex_user_defs": false,
   "report_style_numbering": false,
   "user_envs_cfg": false
  }
 },
 "nbformat": 4,
 "nbformat_minor": 4
}
